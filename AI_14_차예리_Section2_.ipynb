{
  "nbformat": 4,
  "nbformat_minor": 0,
  "metadata": {
    "colab": {
      "name": "AI_14_차예리_Section2_.ipynb",
      "provenance": [],
      "collapsed_sections": [],
      "authorship_tag": "ABX9TyMJGZyq3UTQlHIL1wbv+hst",
      "include_colab_link": true
    },
    "kernelspec": {
      "name": "python3",
      "display_name": "Python 3"
    },
    "language_info": {
      "name": "python"
    }
  },
  "cells": [
    {
      "cell_type": "markdown",
      "metadata": {
        "id": "view-in-github",
        "colab_type": "text"
      },
      "source": [
        "<a href=\"https://colab.research.google.com/github/chayeri/codestates_project/blob/main/AI_14_%EC%B0%A8%EC%98%88%EB%A6%AC_Section2_.ipynb\" target=\"_parent\"><img src=\"https://colab.research.google.com/assets/colab-badge.svg\" alt=\"Open In Colab\"/></a>"
      ]
    },
    {
      "cell_type": "code",
      "execution_count": null,
      "metadata": {
        "id": "6QhZgspSBXbw",
        "colab": {
          "base_uri": "https://localhost:8080/",
          "height": 817
        },
        "outputId": "2d02d02d-0fda-45fa-b991-879f2b6c0187"
      },
      "outputs": [
        {
          "output_type": "execute_result",
          "data": {
            "text/plain": [
              "      Unnamed: 0    ID                                     Title  Year  Age  \\\n",
              "0              0     1                              The Irishman  2019  18+   \n",
              "1              1     2                                    Dangal  2016   7+   \n",
              "2              2     3  David Attenborough: A Life on Our Planet  2020   7+   \n",
              "3              3     4         Lagaan: Once Upon a Time in India  2001   7+   \n",
              "4              4     5                                      Roma  2018  18+   \n",
              "...          ...   ...                                       ...   ...  ...   \n",
              "9510        9510  9511                        Most Wanted Sharks  2020  NaN   \n",
              "9511        9511  9512             Doc McStuffins: The Doc Is In  2020  NaN   \n",
              "9512        9512  9513                     Ultimate Viking Sword  2019  NaN   \n",
              "9513        9513  9514           Hunt for the Abominable Snowman  2011  NaN   \n",
              "9514        9514  9515       Women of Impact: Changing the World  2019   7+   \n",
              "\n",
              "        IMDb Rotten Tomatoes  Netflix  Hulu  Prime Video  Disney+  Type  \\\n",
              "0     7.8/10          98/100        1     0            0        0     0   \n",
              "1     8.4/10          97/100        1     0            0        0     0   \n",
              "2     9.0/10          95/100        1     0            0        0     0   \n",
              "3     8.1/10          94/100        1     0            0        0     0   \n",
              "4     7.7/10          94/100        1     0            0        0     0   \n",
              "...      ...             ...      ...   ...          ...      ...   ...   \n",
              "9510     NaN          14/100        0     0            0        1     0   \n",
              "9511     NaN          13/100        0     0            0        1     0   \n",
              "9512     NaN          13/100        0     0            0        1     0   \n",
              "9513     NaN          10/100        0     0            0        1     0   \n",
              "9514     NaN          10/100        0     0            0        1     0   \n",
              "\n",
              "                                              Directors  \\\n",
              "0                                       Martin Scorsese   \n",
              "1                                         Nitesh Tiwari   \n",
              "2     Alastair Fothergill,Jonathan Hughes,Keith Scholey   \n",
              "3                                    Ashutosh Gowariker   \n",
              "4                                                   NaN   \n",
              "...                                                 ...   \n",
              "9510                                                NaN   \n",
              "9511                             Chris Anthony Hamilton   \n",
              "9512                                                NaN   \n",
              "9513                                         Dan Oliver   \n",
              "9514                                          Lisa Feit   \n",
              "\n",
              "                                Genres  \\\n",
              "0                Biography,Crime,Drama   \n",
              "1         Action,Biography,Drama,Sport   \n",
              "2                Documentary,Biography   \n",
              "3                  Drama,Musical,Sport   \n",
              "4     Action,Drama,History,Romance,War   \n",
              "...                                ...   \n",
              "9510                  Crime,Reality-TV   \n",
              "9511                         Animation   \n",
              "9512                               NaN   \n",
              "9513                     Drama,History   \n",
              "9514                       Documentary   \n",
              "\n",
              "                                                Country  \\\n",
              "0                                         United States   \n",
              "1     India,United States,United Kingdom,Australia,K...   \n",
              "2                                        United Kingdom   \n",
              "3                                  India,United Kingdom   \n",
              "4                          United Kingdom,United States   \n",
              "...                                                 ...   \n",
              "9510                                      United States   \n",
              "9511                                      United States   \n",
              "9512                                      United States   \n",
              "9513                                                NaN   \n",
              "9514                                      United States   \n",
              "\n",
              "                                  Language  Runtime  \n",
              "0     English,Italian,Latin,Spanish,German    209.0  \n",
              "1                            Hindi,English    161.0  \n",
              "2                                  English     83.0  \n",
              "3                            Hindi,English    224.0  \n",
              "4                                  English     52.0  \n",
              "...                                    ...      ...  \n",
              "9510                         Greek,English      NaN  \n",
              "9511                               English     23.0  \n",
              "9512                                   NaN      NaN  \n",
              "9513                                   NaN      NaN  \n",
              "9514                               English      NaN  \n",
              "\n",
              "[9515 rows x 17 columns]"
            ],
            "text/html": [
              "\n",
              "  <div id=\"df-529c5e91-84d3-41d8-9081-51524004e0ec\">\n",
              "    <div class=\"colab-df-container\">\n",
              "      <div>\n",
              "<style scoped>\n",
              "    .dataframe tbody tr th:only-of-type {\n",
              "        vertical-align: middle;\n",
              "    }\n",
              "\n",
              "    .dataframe tbody tr th {\n",
              "        vertical-align: top;\n",
              "    }\n",
              "\n",
              "    .dataframe thead th {\n",
              "        text-align: right;\n",
              "    }\n",
              "</style>\n",
              "<table border=\"1\" class=\"dataframe\">\n",
              "  <thead>\n",
              "    <tr style=\"text-align: right;\">\n",
              "      <th></th>\n",
              "      <th>Unnamed: 0</th>\n",
              "      <th>ID</th>\n",
              "      <th>Title</th>\n",
              "      <th>Year</th>\n",
              "      <th>Age</th>\n",
              "      <th>IMDb</th>\n",
              "      <th>Rotten Tomatoes</th>\n",
              "      <th>Netflix</th>\n",
              "      <th>Hulu</th>\n",
              "      <th>Prime Video</th>\n",
              "      <th>Disney+</th>\n",
              "      <th>Type</th>\n",
              "      <th>Directors</th>\n",
              "      <th>Genres</th>\n",
              "      <th>Country</th>\n",
              "      <th>Language</th>\n",
              "      <th>Runtime</th>\n",
              "    </tr>\n",
              "  </thead>\n",
              "  <tbody>\n",
              "    <tr>\n",
              "      <th>0</th>\n",
              "      <td>0</td>\n",
              "      <td>1</td>\n",
              "      <td>The Irishman</td>\n",
              "      <td>2019</td>\n",
              "      <td>18+</td>\n",
              "      <td>7.8/10</td>\n",
              "      <td>98/100</td>\n",
              "      <td>1</td>\n",
              "      <td>0</td>\n",
              "      <td>0</td>\n",
              "      <td>0</td>\n",
              "      <td>0</td>\n",
              "      <td>Martin Scorsese</td>\n",
              "      <td>Biography,Crime,Drama</td>\n",
              "      <td>United States</td>\n",
              "      <td>English,Italian,Latin,Spanish,German</td>\n",
              "      <td>209.0</td>\n",
              "    </tr>\n",
              "    <tr>\n",
              "      <th>1</th>\n",
              "      <td>1</td>\n",
              "      <td>2</td>\n",
              "      <td>Dangal</td>\n",
              "      <td>2016</td>\n",
              "      <td>7+</td>\n",
              "      <td>8.4/10</td>\n",
              "      <td>97/100</td>\n",
              "      <td>1</td>\n",
              "      <td>0</td>\n",
              "      <td>0</td>\n",
              "      <td>0</td>\n",
              "      <td>0</td>\n",
              "      <td>Nitesh Tiwari</td>\n",
              "      <td>Action,Biography,Drama,Sport</td>\n",
              "      <td>India,United States,United Kingdom,Australia,K...</td>\n",
              "      <td>Hindi,English</td>\n",
              "      <td>161.0</td>\n",
              "    </tr>\n",
              "    <tr>\n",
              "      <th>2</th>\n",
              "      <td>2</td>\n",
              "      <td>3</td>\n",
              "      <td>David Attenborough: A Life on Our Planet</td>\n",
              "      <td>2020</td>\n",
              "      <td>7+</td>\n",
              "      <td>9.0/10</td>\n",
              "      <td>95/100</td>\n",
              "      <td>1</td>\n",
              "      <td>0</td>\n",
              "      <td>0</td>\n",
              "      <td>0</td>\n",
              "      <td>0</td>\n",
              "      <td>Alastair Fothergill,Jonathan Hughes,Keith Scholey</td>\n",
              "      <td>Documentary,Biography</td>\n",
              "      <td>United Kingdom</td>\n",
              "      <td>English</td>\n",
              "      <td>83.0</td>\n",
              "    </tr>\n",
              "    <tr>\n",
              "      <th>3</th>\n",
              "      <td>3</td>\n",
              "      <td>4</td>\n",
              "      <td>Lagaan: Once Upon a Time in India</td>\n",
              "      <td>2001</td>\n",
              "      <td>7+</td>\n",
              "      <td>8.1/10</td>\n",
              "      <td>94/100</td>\n",
              "      <td>1</td>\n",
              "      <td>0</td>\n",
              "      <td>0</td>\n",
              "      <td>0</td>\n",
              "      <td>0</td>\n",
              "      <td>Ashutosh Gowariker</td>\n",
              "      <td>Drama,Musical,Sport</td>\n",
              "      <td>India,United Kingdom</td>\n",
              "      <td>Hindi,English</td>\n",
              "      <td>224.0</td>\n",
              "    </tr>\n",
              "    <tr>\n",
              "      <th>4</th>\n",
              "      <td>4</td>\n",
              "      <td>5</td>\n",
              "      <td>Roma</td>\n",
              "      <td>2018</td>\n",
              "      <td>18+</td>\n",
              "      <td>7.7/10</td>\n",
              "      <td>94/100</td>\n",
              "      <td>1</td>\n",
              "      <td>0</td>\n",
              "      <td>0</td>\n",
              "      <td>0</td>\n",
              "      <td>0</td>\n",
              "      <td>NaN</td>\n",
              "      <td>Action,Drama,History,Romance,War</td>\n",
              "      <td>United Kingdom,United States</td>\n",
              "      <td>English</td>\n",
              "      <td>52.0</td>\n",
              "    </tr>\n",
              "    <tr>\n",
              "      <th>...</th>\n",
              "      <td>...</td>\n",
              "      <td>...</td>\n",
              "      <td>...</td>\n",
              "      <td>...</td>\n",
              "      <td>...</td>\n",
              "      <td>...</td>\n",
              "      <td>...</td>\n",
              "      <td>...</td>\n",
              "      <td>...</td>\n",
              "      <td>...</td>\n",
              "      <td>...</td>\n",
              "      <td>...</td>\n",
              "      <td>...</td>\n",
              "      <td>...</td>\n",
              "      <td>...</td>\n",
              "      <td>...</td>\n",
              "      <td>...</td>\n",
              "    </tr>\n",
              "    <tr>\n",
              "      <th>9510</th>\n",
              "      <td>9510</td>\n",
              "      <td>9511</td>\n",
              "      <td>Most Wanted Sharks</td>\n",
              "      <td>2020</td>\n",
              "      <td>NaN</td>\n",
              "      <td>NaN</td>\n",
              "      <td>14/100</td>\n",
              "      <td>0</td>\n",
              "      <td>0</td>\n",
              "      <td>0</td>\n",
              "      <td>1</td>\n",
              "      <td>0</td>\n",
              "      <td>NaN</td>\n",
              "      <td>Crime,Reality-TV</td>\n",
              "      <td>United States</td>\n",
              "      <td>Greek,English</td>\n",
              "      <td>NaN</td>\n",
              "    </tr>\n",
              "    <tr>\n",
              "      <th>9511</th>\n",
              "      <td>9511</td>\n",
              "      <td>9512</td>\n",
              "      <td>Doc McStuffins: The Doc Is In</td>\n",
              "      <td>2020</td>\n",
              "      <td>NaN</td>\n",
              "      <td>NaN</td>\n",
              "      <td>13/100</td>\n",
              "      <td>0</td>\n",
              "      <td>0</td>\n",
              "      <td>0</td>\n",
              "      <td>1</td>\n",
              "      <td>0</td>\n",
              "      <td>Chris Anthony Hamilton</td>\n",
              "      <td>Animation</td>\n",
              "      <td>United States</td>\n",
              "      <td>English</td>\n",
              "      <td>23.0</td>\n",
              "    </tr>\n",
              "    <tr>\n",
              "      <th>9512</th>\n",
              "      <td>9512</td>\n",
              "      <td>9513</td>\n",
              "      <td>Ultimate Viking Sword</td>\n",
              "      <td>2019</td>\n",
              "      <td>NaN</td>\n",
              "      <td>NaN</td>\n",
              "      <td>13/100</td>\n",
              "      <td>0</td>\n",
              "      <td>0</td>\n",
              "      <td>0</td>\n",
              "      <td>1</td>\n",
              "      <td>0</td>\n",
              "      <td>NaN</td>\n",
              "      <td>NaN</td>\n",
              "      <td>United States</td>\n",
              "      <td>NaN</td>\n",
              "      <td>NaN</td>\n",
              "    </tr>\n",
              "    <tr>\n",
              "      <th>9513</th>\n",
              "      <td>9513</td>\n",
              "      <td>9514</td>\n",
              "      <td>Hunt for the Abominable Snowman</td>\n",
              "      <td>2011</td>\n",
              "      <td>NaN</td>\n",
              "      <td>NaN</td>\n",
              "      <td>10/100</td>\n",
              "      <td>0</td>\n",
              "      <td>0</td>\n",
              "      <td>0</td>\n",
              "      <td>1</td>\n",
              "      <td>0</td>\n",
              "      <td>Dan Oliver</td>\n",
              "      <td>Drama,History</td>\n",
              "      <td>NaN</td>\n",
              "      <td>NaN</td>\n",
              "      <td>NaN</td>\n",
              "    </tr>\n",
              "    <tr>\n",
              "      <th>9514</th>\n",
              "      <td>9514</td>\n",
              "      <td>9515</td>\n",
              "      <td>Women of Impact: Changing the World</td>\n",
              "      <td>2019</td>\n",
              "      <td>7+</td>\n",
              "      <td>NaN</td>\n",
              "      <td>10/100</td>\n",
              "      <td>0</td>\n",
              "      <td>0</td>\n",
              "      <td>0</td>\n",
              "      <td>1</td>\n",
              "      <td>0</td>\n",
              "      <td>Lisa Feit</td>\n",
              "      <td>Documentary</td>\n",
              "      <td>United States</td>\n",
              "      <td>English</td>\n",
              "      <td>NaN</td>\n",
              "    </tr>\n",
              "  </tbody>\n",
              "</table>\n",
              "<p>9515 rows × 17 columns</p>\n",
              "</div>\n",
              "      <button class=\"colab-df-convert\" onclick=\"convertToInteractive('df-529c5e91-84d3-41d8-9081-51524004e0ec')\"\n",
              "              title=\"Convert this dataframe to an interactive table.\"\n",
              "              style=\"display:none;\">\n",
              "        \n",
              "  <svg xmlns=\"http://www.w3.org/2000/svg\" height=\"24px\"viewBox=\"0 0 24 24\"\n",
              "       width=\"24px\">\n",
              "    <path d=\"M0 0h24v24H0V0z\" fill=\"none\"/>\n",
              "    <path d=\"M18.56 5.44l.94 2.06.94-2.06 2.06-.94-2.06-.94-.94-2.06-.94 2.06-2.06.94zm-11 1L8.5 8.5l.94-2.06 2.06-.94-2.06-.94L8.5 2.5l-.94 2.06-2.06.94zm10 10l.94 2.06.94-2.06 2.06-.94-2.06-.94-.94-2.06-.94 2.06-2.06.94z\"/><path d=\"M17.41 7.96l-1.37-1.37c-.4-.4-.92-.59-1.43-.59-.52 0-1.04.2-1.43.59L10.3 9.45l-7.72 7.72c-.78.78-.78 2.05 0 2.83L4 21.41c.39.39.9.59 1.41.59.51 0 1.02-.2 1.41-.59l7.78-7.78 2.81-2.81c.8-.78.8-2.07 0-2.86zM5.41 20L4 18.59l7.72-7.72 1.47 1.35L5.41 20z\"/>\n",
              "  </svg>\n",
              "      </button>\n",
              "      \n",
              "  <style>\n",
              "    .colab-df-container {\n",
              "      display:flex;\n",
              "      flex-wrap:wrap;\n",
              "      gap: 12px;\n",
              "    }\n",
              "\n",
              "    .colab-df-convert {\n",
              "      background-color: #E8F0FE;\n",
              "      border: none;\n",
              "      border-radius: 50%;\n",
              "      cursor: pointer;\n",
              "      display: none;\n",
              "      fill: #1967D2;\n",
              "      height: 32px;\n",
              "      padding: 0 0 0 0;\n",
              "      width: 32px;\n",
              "    }\n",
              "\n",
              "    .colab-df-convert:hover {\n",
              "      background-color: #E2EBFA;\n",
              "      box-shadow: 0px 1px 2px rgba(60, 64, 67, 0.3), 0px 1px 3px 1px rgba(60, 64, 67, 0.15);\n",
              "      fill: #174EA6;\n",
              "    }\n",
              "\n",
              "    [theme=dark] .colab-df-convert {\n",
              "      background-color: #3B4455;\n",
              "      fill: #D2E3FC;\n",
              "    }\n",
              "\n",
              "    [theme=dark] .colab-df-convert:hover {\n",
              "      background-color: #434B5C;\n",
              "      box-shadow: 0px 1px 3px 1px rgba(0, 0, 0, 0.15);\n",
              "      filter: drop-shadow(0px 1px 2px rgba(0, 0, 0, 0.3));\n",
              "      fill: #FFFFFF;\n",
              "    }\n",
              "  </style>\n",
              "\n",
              "      <script>\n",
              "        const buttonEl =\n",
              "          document.querySelector('#df-529c5e91-84d3-41d8-9081-51524004e0ec button.colab-df-convert');\n",
              "        buttonEl.style.display =\n",
              "          google.colab.kernel.accessAllowed ? 'block' : 'none';\n",
              "\n",
              "        async function convertToInteractive(key) {\n",
              "          const element = document.querySelector('#df-529c5e91-84d3-41d8-9081-51524004e0ec');\n",
              "          const dataTable =\n",
              "            await google.colab.kernel.invokeFunction('convertToInteractive',\n",
              "                                                     [key], {});\n",
              "          if (!dataTable) return;\n",
              "\n",
              "          const docLinkHtml = 'Like what you see? Visit the ' +\n",
              "            '<a target=\"_blank\" href=https://colab.research.google.com/notebooks/data_table.ipynb>data table notebook</a>'\n",
              "            + ' to learn more about interactive tables.';\n",
              "          element.innerHTML = '';\n",
              "          dataTable['output_type'] = 'display_data';\n",
              "          await google.colab.output.renderOutput(dataTable, element);\n",
              "          const docLink = document.createElement('div');\n",
              "          docLink.innerHTML = docLinkHtml;\n",
              "          element.appendChild(docLink);\n",
              "        }\n",
              "      </script>\n",
              "    </div>\n",
              "  </div>\n",
              "  "
            ]
          },
          "metadata": {},
          "execution_count": 3
        }
      ],
      "source": [
        "import pandas as pd\n",
        "\n",
        "df = pd.read_csv('MoviesOnStreamingPlatforms_updated.csv')\n",
        "df"
      ]
    },
    {
      "cell_type": "code",
      "source": [
        "df.info()"
      ],
      "metadata": {
        "colab": {
          "base_uri": "https://localhost:8080/"
        },
        "id": "butLxBndaS8v",
        "outputId": "4ba45814-4172-4785-ca3e-f66740dac4b0"
      },
      "execution_count": null,
      "outputs": [
        {
          "output_type": "stream",
          "name": "stdout",
          "text": [
            "<class 'pandas.core.frame.DataFrame'>\n",
            "RangeIndex: 9515 entries, 0 to 9514\n",
            "Data columns (total 17 columns):\n",
            " #   Column           Non-Null Count  Dtype  \n",
            "---  ------           --------------  -----  \n",
            " 0   Unnamed: 0       9515 non-null   int64  \n",
            " 1   ID               9515 non-null   int64  \n",
            " 2   Title            9515 non-null   object \n",
            " 3   Year             9515 non-null   int64  \n",
            " 4   Age              5338 non-null   object \n",
            " 5   IMDb             9309 non-null   object \n",
            " 6   Rotten Tomatoes  9508 non-null   object \n",
            " 7   Netflix          9515 non-null   int64  \n",
            " 8   Hulu             9515 non-null   int64  \n",
            " 9   Prime Video      9515 non-null   int64  \n",
            " 10  Disney+          9515 non-null   int64  \n",
            " 11  Type             9515 non-null   int64  \n",
            " 12  Directors        9104 non-null   object \n",
            " 13  Genres           9399 non-null   object \n",
            " 14  Country          9261 non-null   object \n",
            " 15  Language         9202 non-null   object \n",
            " 16  Runtime          9196 non-null   float64\n",
            "dtypes: float64(1), int64(8), object(8)\n",
            "memory usage: 1.2+ MB\n"
          ]
        }
      ]
    },
    {
      "cell_type": "code",
      "source": [
        "df.isnull().sum()"
      ],
      "metadata": {
        "colab": {
          "base_uri": "https://localhost:8080/"
        },
        "id": "UGqIOjKXcv5t",
        "outputId": "8d62368a-c8d4-4ad7-b481-32d3ca3d8225"
      },
      "execution_count": null,
      "outputs": [
        {
          "output_type": "execute_result",
          "data": {
            "text/plain": [
              "Unnamed: 0            0\n",
              "ID                    0\n",
              "Title                 0\n",
              "Year                  0\n",
              "Age                4177\n",
              "IMDb                206\n",
              "Rotten Tomatoes       7\n",
              "Netflix               0\n",
              "Hulu                  0\n",
              "Prime Video           0\n",
              "Disney+               0\n",
              "Type                  0\n",
              "Directors           411\n",
              "Genres              116\n",
              "Country             254\n",
              "Language            313\n",
              "Runtime             319\n",
              "dtype: int64"
            ]
          },
          "metadata": {},
          "execution_count": 5
        }
      ]
    },
    {
      "cell_type": "markdown",
      "source": [
        "## **전처리**"
      ],
      "metadata": {
        "id": "ZdVCmNhbZy99"
      }
    },
    {
      "cell_type": "code",
      "source": [
        "df_01 = df.copy()\n",
        "\n",
        "target = 'Rotten Tomatoes'\n",
        "#target값이 없는 null 행은 삭제\n",
        "df_01 = df_01.dropna(subset=[target])\n",
        "\n",
        "#/100 삭제, float로 바꿔줌\n",
        "df_01[\"Rotten Tomatoes\"] = [score[0:2] for score in df_01[\"Rotten Tomatoes\"]]\n",
        "df_01['Rotten Tomatoes'] = df_01[\"Rotten Tomatoes\"].astype(float)\n",
        "\n",
        "#Unnamed :01 삭제\n",
        "df_01 = df_01.drop('Unnamed: 0', axis=1)\n",
        "df_01.info()\n",
        "\n",
        "#ID 삭제\n",
        "df_01 = df_01.drop('ID', axis=1)\n",
        "df_01"
      ],
      "metadata": {
        "colab": {
          "base_uri": "https://localhost:8080/",
          "height": 1000
        },
        "id": "JWMo78a8Zyi8",
        "outputId": "1e96cfe1-3699-469f-d7f5-172236ad2782"
      },
      "execution_count": null,
      "outputs": [
        {
          "output_type": "stream",
          "name": "stdout",
          "text": [
            "<class 'pandas.core.frame.DataFrame'>\n",
            "Int64Index: 9508 entries, 0 to 9514\n",
            "Data columns (total 16 columns):\n",
            " #   Column           Non-Null Count  Dtype  \n",
            "---  ------           --------------  -----  \n",
            " 0   ID               9508 non-null   int64  \n",
            " 1   Title            9508 non-null   object \n",
            " 2   Year             9508 non-null   int64  \n",
            " 3   Age              5338 non-null   object \n",
            " 4   IMDb             9309 non-null   object \n",
            " 5   Rotten Tomatoes  9508 non-null   float64\n",
            " 6   Netflix          9508 non-null   int64  \n",
            " 7   Hulu             9508 non-null   int64  \n",
            " 8   Prime Video      9508 non-null   int64  \n",
            " 9   Disney+          9508 non-null   int64  \n",
            " 10  Type             9508 non-null   int64  \n",
            " 11  Directors        9102 non-null   object \n",
            " 12  Genres           9395 non-null   object \n",
            " 13  Country          9259 non-null   object \n",
            " 14  Language         9200 non-null   object \n",
            " 15  Runtime          9193 non-null   float64\n",
            "dtypes: float64(2), int64(7), object(7)\n",
            "memory usage: 1.2+ MB\n"
          ]
        },
        {
          "output_type": "execute_result",
          "data": {
            "text/plain": [
              "                                         Title  Year  Age    IMDb  \\\n",
              "0                                 The Irishman  2019  18+  7.8/10   \n",
              "1                                       Dangal  2016   7+  8.4/10   \n",
              "2     David Attenborough: A Life on Our Planet  2020   7+  9.0/10   \n",
              "3            Lagaan: Once Upon a Time in India  2001   7+  8.1/10   \n",
              "4                                         Roma  2018  18+  7.7/10   \n",
              "...                                        ...   ...  ...     ...   \n",
              "9510                        Most Wanted Sharks  2020  NaN     NaN   \n",
              "9511             Doc McStuffins: The Doc Is In  2020  NaN     NaN   \n",
              "9512                     Ultimate Viking Sword  2019  NaN     NaN   \n",
              "9513           Hunt for the Abominable Snowman  2011  NaN     NaN   \n",
              "9514       Women of Impact: Changing the World  2019   7+     NaN   \n",
              "\n",
              "      Rotten Tomatoes  Netflix  Hulu  Prime Video  Disney+  Type  \\\n",
              "0                98.0        1     0            0        0     0   \n",
              "1                97.0        1     0            0        0     0   \n",
              "2                95.0        1     0            0        0     0   \n",
              "3                94.0        1     0            0        0     0   \n",
              "4                94.0        1     0            0        0     0   \n",
              "...               ...      ...   ...          ...      ...   ...   \n",
              "9510             14.0        0     0            0        1     0   \n",
              "9511             13.0        0     0            0        1     0   \n",
              "9512             13.0        0     0            0        1     0   \n",
              "9513             10.0        0     0            0        1     0   \n",
              "9514             10.0        0     0            0        1     0   \n",
              "\n",
              "                                              Directors  \\\n",
              "0                                       Martin Scorsese   \n",
              "1                                         Nitesh Tiwari   \n",
              "2     Alastair Fothergill,Jonathan Hughes,Keith Scholey   \n",
              "3                                    Ashutosh Gowariker   \n",
              "4                                                   NaN   \n",
              "...                                                 ...   \n",
              "9510                                                NaN   \n",
              "9511                             Chris Anthony Hamilton   \n",
              "9512                                                NaN   \n",
              "9513                                         Dan Oliver   \n",
              "9514                                          Lisa Feit   \n",
              "\n",
              "                                Genres  \\\n",
              "0                Biography,Crime,Drama   \n",
              "1         Action,Biography,Drama,Sport   \n",
              "2                Documentary,Biography   \n",
              "3                  Drama,Musical,Sport   \n",
              "4     Action,Drama,History,Romance,War   \n",
              "...                                ...   \n",
              "9510                  Crime,Reality-TV   \n",
              "9511                         Animation   \n",
              "9512                               NaN   \n",
              "9513                     Drama,History   \n",
              "9514                       Documentary   \n",
              "\n",
              "                                                Country  \\\n",
              "0                                         United States   \n",
              "1     India,United States,United Kingdom,Australia,K...   \n",
              "2                                        United Kingdom   \n",
              "3                                  India,United Kingdom   \n",
              "4                          United Kingdom,United States   \n",
              "...                                                 ...   \n",
              "9510                                      United States   \n",
              "9511                                      United States   \n",
              "9512                                      United States   \n",
              "9513                                                NaN   \n",
              "9514                                      United States   \n",
              "\n",
              "                                  Language  Runtime  \n",
              "0     English,Italian,Latin,Spanish,German    209.0  \n",
              "1                            Hindi,English    161.0  \n",
              "2                                  English     83.0  \n",
              "3                            Hindi,English    224.0  \n",
              "4                                  English     52.0  \n",
              "...                                    ...      ...  \n",
              "9510                         Greek,English      NaN  \n",
              "9511                               English     23.0  \n",
              "9512                                   NaN      NaN  \n",
              "9513                                   NaN      NaN  \n",
              "9514                               English      NaN  \n",
              "\n",
              "[9508 rows x 15 columns]"
            ],
            "text/html": [
              "\n",
              "  <div id=\"df-6fead388-33ff-44b9-aecd-a2baf8c9eb98\">\n",
              "    <div class=\"colab-df-container\">\n",
              "      <div>\n",
              "<style scoped>\n",
              "    .dataframe tbody tr th:only-of-type {\n",
              "        vertical-align: middle;\n",
              "    }\n",
              "\n",
              "    .dataframe tbody tr th {\n",
              "        vertical-align: top;\n",
              "    }\n",
              "\n",
              "    .dataframe thead th {\n",
              "        text-align: right;\n",
              "    }\n",
              "</style>\n",
              "<table border=\"1\" class=\"dataframe\">\n",
              "  <thead>\n",
              "    <tr style=\"text-align: right;\">\n",
              "      <th></th>\n",
              "      <th>Title</th>\n",
              "      <th>Year</th>\n",
              "      <th>Age</th>\n",
              "      <th>IMDb</th>\n",
              "      <th>Rotten Tomatoes</th>\n",
              "      <th>Netflix</th>\n",
              "      <th>Hulu</th>\n",
              "      <th>Prime Video</th>\n",
              "      <th>Disney+</th>\n",
              "      <th>Type</th>\n",
              "      <th>Directors</th>\n",
              "      <th>Genres</th>\n",
              "      <th>Country</th>\n",
              "      <th>Language</th>\n",
              "      <th>Runtime</th>\n",
              "    </tr>\n",
              "  </thead>\n",
              "  <tbody>\n",
              "    <tr>\n",
              "      <th>0</th>\n",
              "      <td>The Irishman</td>\n",
              "      <td>2019</td>\n",
              "      <td>18+</td>\n",
              "      <td>7.8/10</td>\n",
              "      <td>98.0</td>\n",
              "      <td>1</td>\n",
              "      <td>0</td>\n",
              "      <td>0</td>\n",
              "      <td>0</td>\n",
              "      <td>0</td>\n",
              "      <td>Martin Scorsese</td>\n",
              "      <td>Biography,Crime,Drama</td>\n",
              "      <td>United States</td>\n",
              "      <td>English,Italian,Latin,Spanish,German</td>\n",
              "      <td>209.0</td>\n",
              "    </tr>\n",
              "    <tr>\n",
              "      <th>1</th>\n",
              "      <td>Dangal</td>\n",
              "      <td>2016</td>\n",
              "      <td>7+</td>\n",
              "      <td>8.4/10</td>\n",
              "      <td>97.0</td>\n",
              "      <td>1</td>\n",
              "      <td>0</td>\n",
              "      <td>0</td>\n",
              "      <td>0</td>\n",
              "      <td>0</td>\n",
              "      <td>Nitesh Tiwari</td>\n",
              "      <td>Action,Biography,Drama,Sport</td>\n",
              "      <td>India,United States,United Kingdom,Australia,K...</td>\n",
              "      <td>Hindi,English</td>\n",
              "      <td>161.0</td>\n",
              "    </tr>\n",
              "    <tr>\n",
              "      <th>2</th>\n",
              "      <td>David Attenborough: A Life on Our Planet</td>\n",
              "      <td>2020</td>\n",
              "      <td>7+</td>\n",
              "      <td>9.0/10</td>\n",
              "      <td>95.0</td>\n",
              "      <td>1</td>\n",
              "      <td>0</td>\n",
              "      <td>0</td>\n",
              "      <td>0</td>\n",
              "      <td>0</td>\n",
              "      <td>Alastair Fothergill,Jonathan Hughes,Keith Scholey</td>\n",
              "      <td>Documentary,Biography</td>\n",
              "      <td>United Kingdom</td>\n",
              "      <td>English</td>\n",
              "      <td>83.0</td>\n",
              "    </tr>\n",
              "    <tr>\n",
              "      <th>3</th>\n",
              "      <td>Lagaan: Once Upon a Time in India</td>\n",
              "      <td>2001</td>\n",
              "      <td>7+</td>\n",
              "      <td>8.1/10</td>\n",
              "      <td>94.0</td>\n",
              "      <td>1</td>\n",
              "      <td>0</td>\n",
              "      <td>0</td>\n",
              "      <td>0</td>\n",
              "      <td>0</td>\n",
              "      <td>Ashutosh Gowariker</td>\n",
              "      <td>Drama,Musical,Sport</td>\n",
              "      <td>India,United Kingdom</td>\n",
              "      <td>Hindi,English</td>\n",
              "      <td>224.0</td>\n",
              "    </tr>\n",
              "    <tr>\n",
              "      <th>4</th>\n",
              "      <td>Roma</td>\n",
              "      <td>2018</td>\n",
              "      <td>18+</td>\n",
              "      <td>7.7/10</td>\n",
              "      <td>94.0</td>\n",
              "      <td>1</td>\n",
              "      <td>0</td>\n",
              "      <td>0</td>\n",
              "      <td>0</td>\n",
              "      <td>0</td>\n",
              "      <td>NaN</td>\n",
              "      <td>Action,Drama,History,Romance,War</td>\n",
              "      <td>United Kingdom,United States</td>\n",
              "      <td>English</td>\n",
              "      <td>52.0</td>\n",
              "    </tr>\n",
              "    <tr>\n",
              "      <th>...</th>\n",
              "      <td>...</td>\n",
              "      <td>...</td>\n",
              "      <td>...</td>\n",
              "      <td>...</td>\n",
              "      <td>...</td>\n",
              "      <td>...</td>\n",
              "      <td>...</td>\n",
              "      <td>...</td>\n",
              "      <td>...</td>\n",
              "      <td>...</td>\n",
              "      <td>...</td>\n",
              "      <td>...</td>\n",
              "      <td>...</td>\n",
              "      <td>...</td>\n",
              "      <td>...</td>\n",
              "    </tr>\n",
              "    <tr>\n",
              "      <th>9510</th>\n",
              "      <td>Most Wanted Sharks</td>\n",
              "      <td>2020</td>\n",
              "      <td>NaN</td>\n",
              "      <td>NaN</td>\n",
              "      <td>14.0</td>\n",
              "      <td>0</td>\n",
              "      <td>0</td>\n",
              "      <td>0</td>\n",
              "      <td>1</td>\n",
              "      <td>0</td>\n",
              "      <td>NaN</td>\n",
              "      <td>Crime,Reality-TV</td>\n",
              "      <td>United States</td>\n",
              "      <td>Greek,English</td>\n",
              "      <td>NaN</td>\n",
              "    </tr>\n",
              "    <tr>\n",
              "      <th>9511</th>\n",
              "      <td>Doc McStuffins: The Doc Is In</td>\n",
              "      <td>2020</td>\n",
              "      <td>NaN</td>\n",
              "      <td>NaN</td>\n",
              "      <td>13.0</td>\n",
              "      <td>0</td>\n",
              "      <td>0</td>\n",
              "      <td>0</td>\n",
              "      <td>1</td>\n",
              "      <td>0</td>\n",
              "      <td>Chris Anthony Hamilton</td>\n",
              "      <td>Animation</td>\n",
              "      <td>United States</td>\n",
              "      <td>English</td>\n",
              "      <td>23.0</td>\n",
              "    </tr>\n",
              "    <tr>\n",
              "      <th>9512</th>\n",
              "      <td>Ultimate Viking Sword</td>\n",
              "      <td>2019</td>\n",
              "      <td>NaN</td>\n",
              "      <td>NaN</td>\n",
              "      <td>13.0</td>\n",
              "      <td>0</td>\n",
              "      <td>0</td>\n",
              "      <td>0</td>\n",
              "      <td>1</td>\n",
              "      <td>0</td>\n",
              "      <td>NaN</td>\n",
              "      <td>NaN</td>\n",
              "      <td>United States</td>\n",
              "      <td>NaN</td>\n",
              "      <td>NaN</td>\n",
              "    </tr>\n",
              "    <tr>\n",
              "      <th>9513</th>\n",
              "      <td>Hunt for the Abominable Snowman</td>\n",
              "      <td>2011</td>\n",
              "      <td>NaN</td>\n",
              "      <td>NaN</td>\n",
              "      <td>10.0</td>\n",
              "      <td>0</td>\n",
              "      <td>0</td>\n",
              "      <td>0</td>\n",
              "      <td>1</td>\n",
              "      <td>0</td>\n",
              "      <td>Dan Oliver</td>\n",
              "      <td>Drama,History</td>\n",
              "      <td>NaN</td>\n",
              "      <td>NaN</td>\n",
              "      <td>NaN</td>\n",
              "    </tr>\n",
              "    <tr>\n",
              "      <th>9514</th>\n",
              "      <td>Women of Impact: Changing the World</td>\n",
              "      <td>2019</td>\n",
              "      <td>7+</td>\n",
              "      <td>NaN</td>\n",
              "      <td>10.0</td>\n",
              "      <td>0</td>\n",
              "      <td>0</td>\n",
              "      <td>0</td>\n",
              "      <td>1</td>\n",
              "      <td>0</td>\n",
              "      <td>Lisa Feit</td>\n",
              "      <td>Documentary</td>\n",
              "      <td>United States</td>\n",
              "      <td>English</td>\n",
              "      <td>NaN</td>\n",
              "    </tr>\n",
              "  </tbody>\n",
              "</table>\n",
              "<p>9508 rows × 15 columns</p>\n",
              "</div>\n",
              "      <button class=\"colab-df-convert\" onclick=\"convertToInteractive('df-6fead388-33ff-44b9-aecd-a2baf8c9eb98')\"\n",
              "              title=\"Convert this dataframe to an interactive table.\"\n",
              "              style=\"display:none;\">\n",
              "        \n",
              "  <svg xmlns=\"http://www.w3.org/2000/svg\" height=\"24px\"viewBox=\"0 0 24 24\"\n",
              "       width=\"24px\">\n",
              "    <path d=\"M0 0h24v24H0V0z\" fill=\"none\"/>\n",
              "    <path d=\"M18.56 5.44l.94 2.06.94-2.06 2.06-.94-2.06-.94-.94-2.06-.94 2.06-2.06.94zm-11 1L8.5 8.5l.94-2.06 2.06-.94-2.06-.94L8.5 2.5l-.94 2.06-2.06.94zm10 10l.94 2.06.94-2.06 2.06-.94-2.06-.94-.94-2.06-.94 2.06-2.06.94z\"/><path d=\"M17.41 7.96l-1.37-1.37c-.4-.4-.92-.59-1.43-.59-.52 0-1.04.2-1.43.59L10.3 9.45l-7.72 7.72c-.78.78-.78 2.05 0 2.83L4 21.41c.39.39.9.59 1.41.59.51 0 1.02-.2 1.41-.59l7.78-7.78 2.81-2.81c.8-.78.8-2.07 0-2.86zM5.41 20L4 18.59l7.72-7.72 1.47 1.35L5.41 20z\"/>\n",
              "  </svg>\n",
              "      </button>\n",
              "      \n",
              "  <style>\n",
              "    .colab-df-container {\n",
              "      display:flex;\n",
              "      flex-wrap:wrap;\n",
              "      gap: 12px;\n",
              "    }\n",
              "\n",
              "    .colab-df-convert {\n",
              "      background-color: #E8F0FE;\n",
              "      border: none;\n",
              "      border-radius: 50%;\n",
              "      cursor: pointer;\n",
              "      display: none;\n",
              "      fill: #1967D2;\n",
              "      height: 32px;\n",
              "      padding: 0 0 0 0;\n",
              "      width: 32px;\n",
              "    }\n",
              "\n",
              "    .colab-df-convert:hover {\n",
              "      background-color: #E2EBFA;\n",
              "      box-shadow: 0px 1px 2px rgba(60, 64, 67, 0.3), 0px 1px 3px 1px rgba(60, 64, 67, 0.15);\n",
              "      fill: #174EA6;\n",
              "    }\n",
              "\n",
              "    [theme=dark] .colab-df-convert {\n",
              "      background-color: #3B4455;\n",
              "      fill: #D2E3FC;\n",
              "    }\n",
              "\n",
              "    [theme=dark] .colab-df-convert:hover {\n",
              "      background-color: #434B5C;\n",
              "      box-shadow: 0px 1px 3px 1px rgba(0, 0, 0, 0.15);\n",
              "      filter: drop-shadow(0px 1px 2px rgba(0, 0, 0, 0.3));\n",
              "      fill: #FFFFFF;\n",
              "    }\n",
              "  </style>\n",
              "\n",
              "      <script>\n",
              "        const buttonEl =\n",
              "          document.querySelector('#df-6fead388-33ff-44b9-aecd-a2baf8c9eb98 button.colab-df-convert');\n",
              "        buttonEl.style.display =\n",
              "          google.colab.kernel.accessAllowed ? 'block' : 'none';\n",
              "\n",
              "        async function convertToInteractive(key) {\n",
              "          const element = document.querySelector('#df-6fead388-33ff-44b9-aecd-a2baf8c9eb98');\n",
              "          const dataTable =\n",
              "            await google.colab.kernel.invokeFunction('convertToInteractive',\n",
              "                                                     [key], {});\n",
              "          if (!dataTable) return;\n",
              "\n",
              "          const docLinkHtml = 'Like what you see? Visit the ' +\n",
              "            '<a target=\"_blank\" href=https://colab.research.google.com/notebooks/data_table.ipynb>data table notebook</a>'\n",
              "            + ' to learn more about interactive tables.';\n",
              "          element.innerHTML = '';\n",
              "          dataTable['output_type'] = 'display_data';\n",
              "          await google.colab.output.renderOutput(dataTable, element);\n",
              "          const docLink = document.createElement('div');\n",
              "          docLink.innerHTML = docLinkHtml;\n",
              "          element.appendChild(docLink);\n",
              "        }\n",
              "      </script>\n",
              "    </div>\n",
              "  </div>\n",
              "  "
            ]
          },
          "metadata": {},
          "execution_count": 6
        }
      ]
    },
    {
      "cell_type": "code",
      "source": [
        "df_01.isnull().sum()"
      ],
      "metadata": {
        "colab": {
          "base_uri": "https://localhost:8080/"
        },
        "id": "GbDRNWGBdzg4",
        "outputId": "2d81163c-c61b-47b0-8c82-ec3084028c17"
      },
      "execution_count": null,
      "outputs": [
        {
          "output_type": "execute_result",
          "data": {
            "text/plain": [
              "Title                 0\n",
              "Year                  0\n",
              "Age                4170\n",
              "IMDb                199\n",
              "Rotten Tomatoes       0\n",
              "Netflix               0\n",
              "Hulu                  0\n",
              "Prime Video           0\n",
              "Disney+               0\n",
              "Type                  0\n",
              "Directors           406\n",
              "Genres              113\n",
              "Country             249\n",
              "Language            308\n",
              "Runtime             315\n",
              "dtype: int64"
            ]
          },
          "metadata": {},
          "execution_count": 7
        }
      ]
    },
    {
      "cell_type": "code",
      "source": [
        "#Age, Type 제거\n",
        "\n",
        "df_02 = df_01.copy()\n",
        "df_02.drop(columns=['Age','Type'], inplace=True)\n",
        "df_02.info()"
      ],
      "metadata": {
        "colab": {
          "base_uri": "https://localhost:8080/"
        },
        "id": "VfSp764leHnI",
        "outputId": "cd131408-d198-4659-ec8e-90916a10f8fd"
      },
      "execution_count": null,
      "outputs": [
        {
          "output_type": "stream",
          "name": "stdout",
          "text": [
            "<class 'pandas.core.frame.DataFrame'>\n",
            "Int64Index: 9508 entries, 0 to 9514\n",
            "Data columns (total 13 columns):\n",
            " #   Column           Non-Null Count  Dtype  \n",
            "---  ------           --------------  -----  \n",
            " 0   Title            9508 non-null   object \n",
            " 1   Year             9508 non-null   int64  \n",
            " 2   IMDb             9309 non-null   object \n",
            " 3   Rotten Tomatoes  9508 non-null   float64\n",
            " 4   Netflix          9508 non-null   int64  \n",
            " 5   Hulu             9508 non-null   int64  \n",
            " 6   Prime Video      9508 non-null   int64  \n",
            " 7   Disney+          9508 non-null   int64  \n",
            " 8   Directors        9102 non-null   object \n",
            " 9   Genres           9395 non-null   object \n",
            " 10  Country          9259 non-null   object \n",
            " 11  Language         9200 non-null   object \n",
            " 12  Runtime          9193 non-null   float64\n",
            "dtypes: float64(2), int64(5), object(6)\n",
            "memory usage: 1.0+ MB\n"
          ]
        }
      ]
    },
    {
      "cell_type": "code",
      "source": [
        "df_02"
      ],
      "metadata": {
        "colab": {
          "base_uri": "https://localhost:8080/",
          "height": 624
        },
        "id": "QWqqKoxZfPAj",
        "outputId": "06e00a66-ac9a-40c4-f900-3b39fe51cd48"
      },
      "execution_count": null,
      "outputs": [
        {
          "output_type": "execute_result",
          "data": {
            "text/plain": [
              "                                         Title  Year    IMDb  Rotten Tomatoes  \\\n",
              "0                                 The Irishman  2019  7.8/10             98.0   \n",
              "1                                       Dangal  2016  8.4/10             97.0   \n",
              "2     David Attenborough: A Life on Our Planet  2020  9.0/10             95.0   \n",
              "3            Lagaan: Once Upon a Time in India  2001  8.1/10             94.0   \n",
              "4                                         Roma  2018  7.7/10             94.0   \n",
              "...                                        ...   ...     ...              ...   \n",
              "9510                        Most Wanted Sharks  2020     NaN             14.0   \n",
              "9511             Doc McStuffins: The Doc Is In  2020     NaN             13.0   \n",
              "9512                     Ultimate Viking Sword  2019     NaN             13.0   \n",
              "9513           Hunt for the Abominable Snowman  2011     NaN             10.0   \n",
              "9514       Women of Impact: Changing the World  2019     NaN             10.0   \n",
              "\n",
              "      Netflix  Hulu  Prime Video  Disney+  \\\n",
              "0           1     0            0        0   \n",
              "1           1     0            0        0   \n",
              "2           1     0            0        0   \n",
              "3           1     0            0        0   \n",
              "4           1     0            0        0   \n",
              "...       ...   ...          ...      ...   \n",
              "9510        0     0            0        1   \n",
              "9511        0     0            0        1   \n",
              "9512        0     0            0        1   \n",
              "9513        0     0            0        1   \n",
              "9514        0     0            0        1   \n",
              "\n",
              "                                              Directors  \\\n",
              "0                                       Martin Scorsese   \n",
              "1                                         Nitesh Tiwari   \n",
              "2     Alastair Fothergill,Jonathan Hughes,Keith Scholey   \n",
              "3                                    Ashutosh Gowariker   \n",
              "4                                                   NaN   \n",
              "...                                                 ...   \n",
              "9510                                                NaN   \n",
              "9511                             Chris Anthony Hamilton   \n",
              "9512                                                NaN   \n",
              "9513                                         Dan Oliver   \n",
              "9514                                          Lisa Feit   \n",
              "\n",
              "                                Genres  \\\n",
              "0                Biography,Crime,Drama   \n",
              "1         Action,Biography,Drama,Sport   \n",
              "2                Documentary,Biography   \n",
              "3                  Drama,Musical,Sport   \n",
              "4     Action,Drama,History,Romance,War   \n",
              "...                                ...   \n",
              "9510                  Crime,Reality-TV   \n",
              "9511                         Animation   \n",
              "9512                               NaN   \n",
              "9513                     Drama,History   \n",
              "9514                       Documentary   \n",
              "\n",
              "                                                Country  \\\n",
              "0                                         United States   \n",
              "1     India,United States,United Kingdom,Australia,K...   \n",
              "2                                        United Kingdom   \n",
              "3                                  India,United Kingdom   \n",
              "4                          United Kingdom,United States   \n",
              "...                                                 ...   \n",
              "9510                                      United States   \n",
              "9511                                      United States   \n",
              "9512                                      United States   \n",
              "9513                                                NaN   \n",
              "9514                                      United States   \n",
              "\n",
              "                                  Language  Runtime  \n",
              "0     English,Italian,Latin,Spanish,German    209.0  \n",
              "1                            Hindi,English    161.0  \n",
              "2                                  English     83.0  \n",
              "3                            Hindi,English    224.0  \n",
              "4                                  English     52.0  \n",
              "...                                    ...      ...  \n",
              "9510                         Greek,English      NaN  \n",
              "9511                               English     23.0  \n",
              "9512                                   NaN      NaN  \n",
              "9513                                   NaN      NaN  \n",
              "9514                               English      NaN  \n",
              "\n",
              "[9508 rows x 13 columns]"
            ],
            "text/html": [
              "\n",
              "  <div id=\"df-c50c2c8d-f7b8-47bd-8c6d-91132283d4ea\">\n",
              "    <div class=\"colab-df-container\">\n",
              "      <div>\n",
              "<style scoped>\n",
              "    .dataframe tbody tr th:only-of-type {\n",
              "        vertical-align: middle;\n",
              "    }\n",
              "\n",
              "    .dataframe tbody tr th {\n",
              "        vertical-align: top;\n",
              "    }\n",
              "\n",
              "    .dataframe thead th {\n",
              "        text-align: right;\n",
              "    }\n",
              "</style>\n",
              "<table border=\"1\" class=\"dataframe\">\n",
              "  <thead>\n",
              "    <tr style=\"text-align: right;\">\n",
              "      <th></th>\n",
              "      <th>Title</th>\n",
              "      <th>Year</th>\n",
              "      <th>IMDb</th>\n",
              "      <th>Rotten Tomatoes</th>\n",
              "      <th>Netflix</th>\n",
              "      <th>Hulu</th>\n",
              "      <th>Prime Video</th>\n",
              "      <th>Disney+</th>\n",
              "      <th>Directors</th>\n",
              "      <th>Genres</th>\n",
              "      <th>Country</th>\n",
              "      <th>Language</th>\n",
              "      <th>Runtime</th>\n",
              "    </tr>\n",
              "  </thead>\n",
              "  <tbody>\n",
              "    <tr>\n",
              "      <th>0</th>\n",
              "      <td>The Irishman</td>\n",
              "      <td>2019</td>\n",
              "      <td>7.8/10</td>\n",
              "      <td>98.0</td>\n",
              "      <td>1</td>\n",
              "      <td>0</td>\n",
              "      <td>0</td>\n",
              "      <td>0</td>\n",
              "      <td>Martin Scorsese</td>\n",
              "      <td>Biography,Crime,Drama</td>\n",
              "      <td>United States</td>\n",
              "      <td>English,Italian,Latin,Spanish,German</td>\n",
              "      <td>209.0</td>\n",
              "    </tr>\n",
              "    <tr>\n",
              "      <th>1</th>\n",
              "      <td>Dangal</td>\n",
              "      <td>2016</td>\n",
              "      <td>8.4/10</td>\n",
              "      <td>97.0</td>\n",
              "      <td>1</td>\n",
              "      <td>0</td>\n",
              "      <td>0</td>\n",
              "      <td>0</td>\n",
              "      <td>Nitesh Tiwari</td>\n",
              "      <td>Action,Biography,Drama,Sport</td>\n",
              "      <td>India,United States,United Kingdom,Australia,K...</td>\n",
              "      <td>Hindi,English</td>\n",
              "      <td>161.0</td>\n",
              "    </tr>\n",
              "    <tr>\n",
              "      <th>2</th>\n",
              "      <td>David Attenborough: A Life on Our Planet</td>\n",
              "      <td>2020</td>\n",
              "      <td>9.0/10</td>\n",
              "      <td>95.0</td>\n",
              "      <td>1</td>\n",
              "      <td>0</td>\n",
              "      <td>0</td>\n",
              "      <td>0</td>\n",
              "      <td>Alastair Fothergill,Jonathan Hughes,Keith Scholey</td>\n",
              "      <td>Documentary,Biography</td>\n",
              "      <td>United Kingdom</td>\n",
              "      <td>English</td>\n",
              "      <td>83.0</td>\n",
              "    </tr>\n",
              "    <tr>\n",
              "      <th>3</th>\n",
              "      <td>Lagaan: Once Upon a Time in India</td>\n",
              "      <td>2001</td>\n",
              "      <td>8.1/10</td>\n",
              "      <td>94.0</td>\n",
              "      <td>1</td>\n",
              "      <td>0</td>\n",
              "      <td>0</td>\n",
              "      <td>0</td>\n",
              "      <td>Ashutosh Gowariker</td>\n",
              "      <td>Drama,Musical,Sport</td>\n",
              "      <td>India,United Kingdom</td>\n",
              "      <td>Hindi,English</td>\n",
              "      <td>224.0</td>\n",
              "    </tr>\n",
              "    <tr>\n",
              "      <th>4</th>\n",
              "      <td>Roma</td>\n",
              "      <td>2018</td>\n",
              "      <td>7.7/10</td>\n",
              "      <td>94.0</td>\n",
              "      <td>1</td>\n",
              "      <td>0</td>\n",
              "      <td>0</td>\n",
              "      <td>0</td>\n",
              "      <td>NaN</td>\n",
              "      <td>Action,Drama,History,Romance,War</td>\n",
              "      <td>United Kingdom,United States</td>\n",
              "      <td>English</td>\n",
              "      <td>52.0</td>\n",
              "    </tr>\n",
              "    <tr>\n",
              "      <th>...</th>\n",
              "      <td>...</td>\n",
              "      <td>...</td>\n",
              "      <td>...</td>\n",
              "      <td>...</td>\n",
              "      <td>...</td>\n",
              "      <td>...</td>\n",
              "      <td>...</td>\n",
              "      <td>...</td>\n",
              "      <td>...</td>\n",
              "      <td>...</td>\n",
              "      <td>...</td>\n",
              "      <td>...</td>\n",
              "      <td>...</td>\n",
              "    </tr>\n",
              "    <tr>\n",
              "      <th>9510</th>\n",
              "      <td>Most Wanted Sharks</td>\n",
              "      <td>2020</td>\n",
              "      <td>NaN</td>\n",
              "      <td>14.0</td>\n",
              "      <td>0</td>\n",
              "      <td>0</td>\n",
              "      <td>0</td>\n",
              "      <td>1</td>\n",
              "      <td>NaN</td>\n",
              "      <td>Crime,Reality-TV</td>\n",
              "      <td>United States</td>\n",
              "      <td>Greek,English</td>\n",
              "      <td>NaN</td>\n",
              "    </tr>\n",
              "    <tr>\n",
              "      <th>9511</th>\n",
              "      <td>Doc McStuffins: The Doc Is In</td>\n",
              "      <td>2020</td>\n",
              "      <td>NaN</td>\n",
              "      <td>13.0</td>\n",
              "      <td>0</td>\n",
              "      <td>0</td>\n",
              "      <td>0</td>\n",
              "      <td>1</td>\n",
              "      <td>Chris Anthony Hamilton</td>\n",
              "      <td>Animation</td>\n",
              "      <td>United States</td>\n",
              "      <td>English</td>\n",
              "      <td>23.0</td>\n",
              "    </tr>\n",
              "    <tr>\n",
              "      <th>9512</th>\n",
              "      <td>Ultimate Viking Sword</td>\n",
              "      <td>2019</td>\n",
              "      <td>NaN</td>\n",
              "      <td>13.0</td>\n",
              "      <td>0</td>\n",
              "      <td>0</td>\n",
              "      <td>0</td>\n",
              "      <td>1</td>\n",
              "      <td>NaN</td>\n",
              "      <td>NaN</td>\n",
              "      <td>United States</td>\n",
              "      <td>NaN</td>\n",
              "      <td>NaN</td>\n",
              "    </tr>\n",
              "    <tr>\n",
              "      <th>9513</th>\n",
              "      <td>Hunt for the Abominable Snowman</td>\n",
              "      <td>2011</td>\n",
              "      <td>NaN</td>\n",
              "      <td>10.0</td>\n",
              "      <td>0</td>\n",
              "      <td>0</td>\n",
              "      <td>0</td>\n",
              "      <td>1</td>\n",
              "      <td>Dan Oliver</td>\n",
              "      <td>Drama,History</td>\n",
              "      <td>NaN</td>\n",
              "      <td>NaN</td>\n",
              "      <td>NaN</td>\n",
              "    </tr>\n",
              "    <tr>\n",
              "      <th>9514</th>\n",
              "      <td>Women of Impact: Changing the World</td>\n",
              "      <td>2019</td>\n",
              "      <td>NaN</td>\n",
              "      <td>10.0</td>\n",
              "      <td>0</td>\n",
              "      <td>0</td>\n",
              "      <td>0</td>\n",
              "      <td>1</td>\n",
              "      <td>Lisa Feit</td>\n",
              "      <td>Documentary</td>\n",
              "      <td>United States</td>\n",
              "      <td>English</td>\n",
              "      <td>NaN</td>\n",
              "    </tr>\n",
              "  </tbody>\n",
              "</table>\n",
              "<p>9508 rows × 13 columns</p>\n",
              "</div>\n",
              "      <button class=\"colab-df-convert\" onclick=\"convertToInteractive('df-c50c2c8d-f7b8-47bd-8c6d-91132283d4ea')\"\n",
              "              title=\"Convert this dataframe to an interactive table.\"\n",
              "              style=\"display:none;\">\n",
              "        \n",
              "  <svg xmlns=\"http://www.w3.org/2000/svg\" height=\"24px\"viewBox=\"0 0 24 24\"\n",
              "       width=\"24px\">\n",
              "    <path d=\"M0 0h24v24H0V0z\" fill=\"none\"/>\n",
              "    <path d=\"M18.56 5.44l.94 2.06.94-2.06 2.06-.94-2.06-.94-.94-2.06-.94 2.06-2.06.94zm-11 1L8.5 8.5l.94-2.06 2.06-.94-2.06-.94L8.5 2.5l-.94 2.06-2.06.94zm10 10l.94 2.06.94-2.06 2.06-.94-2.06-.94-.94-2.06-.94 2.06-2.06.94z\"/><path d=\"M17.41 7.96l-1.37-1.37c-.4-.4-.92-.59-1.43-.59-.52 0-1.04.2-1.43.59L10.3 9.45l-7.72 7.72c-.78.78-.78 2.05 0 2.83L4 21.41c.39.39.9.59 1.41.59.51 0 1.02-.2 1.41-.59l7.78-7.78 2.81-2.81c.8-.78.8-2.07 0-2.86zM5.41 20L4 18.59l7.72-7.72 1.47 1.35L5.41 20z\"/>\n",
              "  </svg>\n",
              "      </button>\n",
              "      \n",
              "  <style>\n",
              "    .colab-df-container {\n",
              "      display:flex;\n",
              "      flex-wrap:wrap;\n",
              "      gap: 12px;\n",
              "    }\n",
              "\n",
              "    .colab-df-convert {\n",
              "      background-color: #E8F0FE;\n",
              "      border: none;\n",
              "      border-radius: 50%;\n",
              "      cursor: pointer;\n",
              "      display: none;\n",
              "      fill: #1967D2;\n",
              "      height: 32px;\n",
              "      padding: 0 0 0 0;\n",
              "      width: 32px;\n",
              "    }\n",
              "\n",
              "    .colab-df-convert:hover {\n",
              "      background-color: #E2EBFA;\n",
              "      box-shadow: 0px 1px 2px rgba(60, 64, 67, 0.3), 0px 1px 3px 1px rgba(60, 64, 67, 0.15);\n",
              "      fill: #174EA6;\n",
              "    }\n",
              "\n",
              "    [theme=dark] .colab-df-convert {\n",
              "      background-color: #3B4455;\n",
              "      fill: #D2E3FC;\n",
              "    }\n",
              "\n",
              "    [theme=dark] .colab-df-convert:hover {\n",
              "      background-color: #434B5C;\n",
              "      box-shadow: 0px 1px 3px 1px rgba(0, 0, 0, 0.15);\n",
              "      filter: drop-shadow(0px 1px 2px rgba(0, 0, 0, 0.3));\n",
              "      fill: #FFFFFF;\n",
              "    }\n",
              "  </style>\n",
              "\n",
              "      <script>\n",
              "        const buttonEl =\n",
              "          document.querySelector('#df-c50c2c8d-f7b8-47bd-8c6d-91132283d4ea button.colab-df-convert');\n",
              "        buttonEl.style.display =\n",
              "          google.colab.kernel.accessAllowed ? 'block' : 'none';\n",
              "\n",
              "        async function convertToInteractive(key) {\n",
              "          const element = document.querySelector('#df-c50c2c8d-f7b8-47bd-8c6d-91132283d4ea');\n",
              "          const dataTable =\n",
              "            await google.colab.kernel.invokeFunction('convertToInteractive',\n",
              "                                                     [key], {});\n",
              "          if (!dataTable) return;\n",
              "\n",
              "          const docLinkHtml = 'Like what you see? Visit the ' +\n",
              "            '<a target=\"_blank\" href=https://colab.research.google.com/notebooks/data_table.ipynb>data table notebook</a>'\n",
              "            + ' to learn more about interactive tables.';\n",
              "          element.innerHTML = '';\n",
              "          dataTable['output_type'] = 'display_data';\n",
              "          await google.colab.output.renderOutput(dataTable, element);\n",
              "          const docLink = document.createElement('div');\n",
              "          docLink.innerHTML = docLinkHtml;\n",
              "          element.appendChild(docLink);\n",
              "        }\n",
              "      </script>\n",
              "    </div>\n",
              "  </div>\n",
              "  "
            ]
          },
          "metadata": {},
          "execution_count": 9
        }
      ]
    },
    {
      "cell_type": "code",
      "source": [
        "#idmb에 있는 /10을 삭제하고 float 형식으로 바꿔줌\n",
        "\n",
        "df_03 = df_02.copy()\n",
        "df_03['IMDb'] = [score[0:3] if score == score else None for score in df_03.IMDb]\n",
        "df_03['IMDb'] = df_03['IMDb'].astype(float)\n",
        "df_03.info()"
      ],
      "metadata": {
        "colab": {
          "base_uri": "https://localhost:8080/"
        },
        "id": "Lc0wzCayfJhX",
        "outputId": "ec6e0b6b-b48a-4516-bcef-9d4e6d6f0f8c"
      },
      "execution_count": null,
      "outputs": [
        {
          "output_type": "stream",
          "name": "stdout",
          "text": [
            "<class 'pandas.core.frame.DataFrame'>\n",
            "Int64Index: 9508 entries, 0 to 9514\n",
            "Data columns (total 13 columns):\n",
            " #   Column           Non-Null Count  Dtype  \n",
            "---  ------           --------------  -----  \n",
            " 0   Title            9508 non-null   object \n",
            " 1   Year             9508 non-null   int64  \n",
            " 2   IMDb             9309 non-null   float64\n",
            " 3   Rotten Tomatoes  9508 non-null   float64\n",
            " 4   Netflix          9508 non-null   int64  \n",
            " 5   Hulu             9508 non-null   int64  \n",
            " 6   Prime Video      9508 non-null   int64  \n",
            " 7   Disney+          9508 non-null   int64  \n",
            " 8   Directors        9102 non-null   object \n",
            " 9   Genres           9395 non-null   object \n",
            " 10  Country          9259 non-null   object \n",
            " 11  Language         9200 non-null   object \n",
            " 12  Runtime          9193 non-null   float64\n",
            "dtypes: float64(3), int64(5), object(5)\n",
            "memory usage: 1.0+ MB\n"
          ]
        }
      ]
    },
    {
      "cell_type": "code",
      "source": [
        "df_03"
      ],
      "metadata": {
        "colab": {
          "base_uri": "https://localhost:8080/",
          "height": 606
        },
        "id": "5csfE6vXLF9Y",
        "outputId": "cfe37d4e-eb36-4036-e8cb-c2b21f313fc3"
      },
      "execution_count": null,
      "outputs": [
        {
          "output_type": "execute_result",
          "data": {
            "text/plain": [
              "                                         Title  Year  IMDb  Rotten Tomatoes  \\\n",
              "0                                 The Irishman  2019   7.8             98.0   \n",
              "1                                       Dangal  2016   8.4             97.0   \n",
              "2     David Attenborough: A Life on Our Planet  2020   9.0             95.0   \n",
              "3            Lagaan: Once Upon a Time in India  2001   8.1             94.0   \n",
              "4                                         Roma  2018   7.7             94.0   \n",
              "...                                        ...   ...   ...              ...   \n",
              "9510                        Most Wanted Sharks  2020   NaN             14.0   \n",
              "9511             Doc McStuffins: The Doc Is In  2020   NaN             13.0   \n",
              "9512                     Ultimate Viking Sword  2019   NaN             13.0   \n",
              "9513           Hunt for the Abominable Snowman  2011   NaN             10.0   \n",
              "9514       Women of Impact: Changing the World  2019   NaN             10.0   \n",
              "\n",
              "      Netflix  Hulu  Prime Video  Disney+  \\\n",
              "0           1     0            0        0   \n",
              "1           1     0            0        0   \n",
              "2           1     0            0        0   \n",
              "3           1     0            0        0   \n",
              "4           1     0            0        0   \n",
              "...       ...   ...          ...      ...   \n",
              "9510        0     0            0        1   \n",
              "9511        0     0            0        1   \n",
              "9512        0     0            0        1   \n",
              "9513        0     0            0        1   \n",
              "9514        0     0            0        1   \n",
              "\n",
              "                                              Directors  \\\n",
              "0                                       Martin Scorsese   \n",
              "1                                         Nitesh Tiwari   \n",
              "2     Alastair Fothergill,Jonathan Hughes,Keith Scholey   \n",
              "3                                    Ashutosh Gowariker   \n",
              "4                                                   NaN   \n",
              "...                                                 ...   \n",
              "9510                                                NaN   \n",
              "9511                             Chris Anthony Hamilton   \n",
              "9512                                                NaN   \n",
              "9513                                         Dan Oliver   \n",
              "9514                                          Lisa Feit   \n",
              "\n",
              "                                Genres  \\\n",
              "0                Biography,Crime,Drama   \n",
              "1         Action,Biography,Drama,Sport   \n",
              "2                Documentary,Biography   \n",
              "3                  Drama,Musical,Sport   \n",
              "4     Action,Drama,History,Romance,War   \n",
              "...                                ...   \n",
              "9510                  Crime,Reality-TV   \n",
              "9511                         Animation   \n",
              "9512                               NaN   \n",
              "9513                     Drama,History   \n",
              "9514                       Documentary   \n",
              "\n",
              "                                                Country  \\\n",
              "0                                         United States   \n",
              "1     India,United States,United Kingdom,Australia,K...   \n",
              "2                                        United Kingdom   \n",
              "3                                  India,United Kingdom   \n",
              "4                          United Kingdom,United States   \n",
              "...                                                 ...   \n",
              "9510                                      United States   \n",
              "9511                                      United States   \n",
              "9512                                      United States   \n",
              "9513                                                NaN   \n",
              "9514                                      United States   \n",
              "\n",
              "                                  Language  Runtime  \n",
              "0     English,Italian,Latin,Spanish,German    209.0  \n",
              "1                            Hindi,English    161.0  \n",
              "2                                  English     83.0  \n",
              "3                            Hindi,English    224.0  \n",
              "4                                  English     52.0  \n",
              "...                                    ...      ...  \n",
              "9510                         Greek,English      NaN  \n",
              "9511                               English     23.0  \n",
              "9512                                   NaN      NaN  \n",
              "9513                                   NaN      NaN  \n",
              "9514                               English      NaN  \n",
              "\n",
              "[9508 rows x 13 columns]"
            ],
            "text/html": [
              "\n",
              "  <div id=\"df-624e48d0-a245-40b5-b733-3285e6dab5a3\">\n",
              "    <div class=\"colab-df-container\">\n",
              "      <div>\n",
              "<style scoped>\n",
              "    .dataframe tbody tr th:only-of-type {\n",
              "        vertical-align: middle;\n",
              "    }\n",
              "\n",
              "    .dataframe tbody tr th {\n",
              "        vertical-align: top;\n",
              "    }\n",
              "\n",
              "    .dataframe thead th {\n",
              "        text-align: right;\n",
              "    }\n",
              "</style>\n",
              "<table border=\"1\" class=\"dataframe\">\n",
              "  <thead>\n",
              "    <tr style=\"text-align: right;\">\n",
              "      <th></th>\n",
              "      <th>Title</th>\n",
              "      <th>Year</th>\n",
              "      <th>IMDb</th>\n",
              "      <th>Rotten Tomatoes</th>\n",
              "      <th>Netflix</th>\n",
              "      <th>Hulu</th>\n",
              "      <th>Prime Video</th>\n",
              "      <th>Disney+</th>\n",
              "      <th>Directors</th>\n",
              "      <th>Genres</th>\n",
              "      <th>Country</th>\n",
              "      <th>Language</th>\n",
              "      <th>Runtime</th>\n",
              "    </tr>\n",
              "  </thead>\n",
              "  <tbody>\n",
              "    <tr>\n",
              "      <th>0</th>\n",
              "      <td>The Irishman</td>\n",
              "      <td>2019</td>\n",
              "      <td>7.8</td>\n",
              "      <td>98.0</td>\n",
              "      <td>1</td>\n",
              "      <td>0</td>\n",
              "      <td>0</td>\n",
              "      <td>0</td>\n",
              "      <td>Martin Scorsese</td>\n",
              "      <td>Biography,Crime,Drama</td>\n",
              "      <td>United States</td>\n",
              "      <td>English,Italian,Latin,Spanish,German</td>\n",
              "      <td>209.0</td>\n",
              "    </tr>\n",
              "    <tr>\n",
              "      <th>1</th>\n",
              "      <td>Dangal</td>\n",
              "      <td>2016</td>\n",
              "      <td>8.4</td>\n",
              "      <td>97.0</td>\n",
              "      <td>1</td>\n",
              "      <td>0</td>\n",
              "      <td>0</td>\n",
              "      <td>0</td>\n",
              "      <td>Nitesh Tiwari</td>\n",
              "      <td>Action,Biography,Drama,Sport</td>\n",
              "      <td>India,United States,United Kingdom,Australia,K...</td>\n",
              "      <td>Hindi,English</td>\n",
              "      <td>161.0</td>\n",
              "    </tr>\n",
              "    <tr>\n",
              "      <th>2</th>\n",
              "      <td>David Attenborough: A Life on Our Planet</td>\n",
              "      <td>2020</td>\n",
              "      <td>9.0</td>\n",
              "      <td>95.0</td>\n",
              "      <td>1</td>\n",
              "      <td>0</td>\n",
              "      <td>0</td>\n",
              "      <td>0</td>\n",
              "      <td>Alastair Fothergill,Jonathan Hughes,Keith Scholey</td>\n",
              "      <td>Documentary,Biography</td>\n",
              "      <td>United Kingdom</td>\n",
              "      <td>English</td>\n",
              "      <td>83.0</td>\n",
              "    </tr>\n",
              "    <tr>\n",
              "      <th>3</th>\n",
              "      <td>Lagaan: Once Upon a Time in India</td>\n",
              "      <td>2001</td>\n",
              "      <td>8.1</td>\n",
              "      <td>94.0</td>\n",
              "      <td>1</td>\n",
              "      <td>0</td>\n",
              "      <td>0</td>\n",
              "      <td>0</td>\n",
              "      <td>Ashutosh Gowariker</td>\n",
              "      <td>Drama,Musical,Sport</td>\n",
              "      <td>India,United Kingdom</td>\n",
              "      <td>Hindi,English</td>\n",
              "      <td>224.0</td>\n",
              "    </tr>\n",
              "    <tr>\n",
              "      <th>4</th>\n",
              "      <td>Roma</td>\n",
              "      <td>2018</td>\n",
              "      <td>7.7</td>\n",
              "      <td>94.0</td>\n",
              "      <td>1</td>\n",
              "      <td>0</td>\n",
              "      <td>0</td>\n",
              "      <td>0</td>\n",
              "      <td>NaN</td>\n",
              "      <td>Action,Drama,History,Romance,War</td>\n",
              "      <td>United Kingdom,United States</td>\n",
              "      <td>English</td>\n",
              "      <td>52.0</td>\n",
              "    </tr>\n",
              "    <tr>\n",
              "      <th>...</th>\n",
              "      <td>...</td>\n",
              "      <td>...</td>\n",
              "      <td>...</td>\n",
              "      <td>...</td>\n",
              "      <td>...</td>\n",
              "      <td>...</td>\n",
              "      <td>...</td>\n",
              "      <td>...</td>\n",
              "      <td>...</td>\n",
              "      <td>...</td>\n",
              "      <td>...</td>\n",
              "      <td>...</td>\n",
              "      <td>...</td>\n",
              "    </tr>\n",
              "    <tr>\n",
              "      <th>9510</th>\n",
              "      <td>Most Wanted Sharks</td>\n",
              "      <td>2020</td>\n",
              "      <td>NaN</td>\n",
              "      <td>14.0</td>\n",
              "      <td>0</td>\n",
              "      <td>0</td>\n",
              "      <td>0</td>\n",
              "      <td>1</td>\n",
              "      <td>NaN</td>\n",
              "      <td>Crime,Reality-TV</td>\n",
              "      <td>United States</td>\n",
              "      <td>Greek,English</td>\n",
              "      <td>NaN</td>\n",
              "    </tr>\n",
              "    <tr>\n",
              "      <th>9511</th>\n",
              "      <td>Doc McStuffins: The Doc Is In</td>\n",
              "      <td>2020</td>\n",
              "      <td>NaN</td>\n",
              "      <td>13.0</td>\n",
              "      <td>0</td>\n",
              "      <td>0</td>\n",
              "      <td>0</td>\n",
              "      <td>1</td>\n",
              "      <td>Chris Anthony Hamilton</td>\n",
              "      <td>Animation</td>\n",
              "      <td>United States</td>\n",
              "      <td>English</td>\n",
              "      <td>23.0</td>\n",
              "    </tr>\n",
              "    <tr>\n",
              "      <th>9512</th>\n",
              "      <td>Ultimate Viking Sword</td>\n",
              "      <td>2019</td>\n",
              "      <td>NaN</td>\n",
              "      <td>13.0</td>\n",
              "      <td>0</td>\n",
              "      <td>0</td>\n",
              "      <td>0</td>\n",
              "      <td>1</td>\n",
              "      <td>NaN</td>\n",
              "      <td>NaN</td>\n",
              "      <td>United States</td>\n",
              "      <td>NaN</td>\n",
              "      <td>NaN</td>\n",
              "    </tr>\n",
              "    <tr>\n",
              "      <th>9513</th>\n",
              "      <td>Hunt for the Abominable Snowman</td>\n",
              "      <td>2011</td>\n",
              "      <td>NaN</td>\n",
              "      <td>10.0</td>\n",
              "      <td>0</td>\n",
              "      <td>0</td>\n",
              "      <td>0</td>\n",
              "      <td>1</td>\n",
              "      <td>Dan Oliver</td>\n",
              "      <td>Drama,History</td>\n",
              "      <td>NaN</td>\n",
              "      <td>NaN</td>\n",
              "      <td>NaN</td>\n",
              "    </tr>\n",
              "    <tr>\n",
              "      <th>9514</th>\n",
              "      <td>Women of Impact: Changing the World</td>\n",
              "      <td>2019</td>\n",
              "      <td>NaN</td>\n",
              "      <td>10.0</td>\n",
              "      <td>0</td>\n",
              "      <td>0</td>\n",
              "      <td>0</td>\n",
              "      <td>1</td>\n",
              "      <td>Lisa Feit</td>\n",
              "      <td>Documentary</td>\n",
              "      <td>United States</td>\n",
              "      <td>English</td>\n",
              "      <td>NaN</td>\n",
              "    </tr>\n",
              "  </tbody>\n",
              "</table>\n",
              "<p>9508 rows × 13 columns</p>\n",
              "</div>\n",
              "      <button class=\"colab-df-convert\" onclick=\"convertToInteractive('df-624e48d0-a245-40b5-b733-3285e6dab5a3')\"\n",
              "              title=\"Convert this dataframe to an interactive table.\"\n",
              "              style=\"display:none;\">\n",
              "        \n",
              "  <svg xmlns=\"http://www.w3.org/2000/svg\" height=\"24px\"viewBox=\"0 0 24 24\"\n",
              "       width=\"24px\">\n",
              "    <path d=\"M0 0h24v24H0V0z\" fill=\"none\"/>\n",
              "    <path d=\"M18.56 5.44l.94 2.06.94-2.06 2.06-.94-2.06-.94-.94-2.06-.94 2.06-2.06.94zm-11 1L8.5 8.5l.94-2.06 2.06-.94-2.06-.94L8.5 2.5l-.94 2.06-2.06.94zm10 10l.94 2.06.94-2.06 2.06-.94-2.06-.94-.94-2.06-.94 2.06-2.06.94z\"/><path d=\"M17.41 7.96l-1.37-1.37c-.4-.4-.92-.59-1.43-.59-.52 0-1.04.2-1.43.59L10.3 9.45l-7.72 7.72c-.78.78-.78 2.05 0 2.83L4 21.41c.39.39.9.59 1.41.59.51 0 1.02-.2 1.41-.59l7.78-7.78 2.81-2.81c.8-.78.8-2.07 0-2.86zM5.41 20L4 18.59l7.72-7.72 1.47 1.35L5.41 20z\"/>\n",
              "  </svg>\n",
              "      </button>\n",
              "      \n",
              "  <style>\n",
              "    .colab-df-container {\n",
              "      display:flex;\n",
              "      flex-wrap:wrap;\n",
              "      gap: 12px;\n",
              "    }\n",
              "\n",
              "    .colab-df-convert {\n",
              "      background-color: #E8F0FE;\n",
              "      border: none;\n",
              "      border-radius: 50%;\n",
              "      cursor: pointer;\n",
              "      display: none;\n",
              "      fill: #1967D2;\n",
              "      height: 32px;\n",
              "      padding: 0 0 0 0;\n",
              "      width: 32px;\n",
              "    }\n",
              "\n",
              "    .colab-df-convert:hover {\n",
              "      background-color: #E2EBFA;\n",
              "      box-shadow: 0px 1px 2px rgba(60, 64, 67, 0.3), 0px 1px 3px 1px rgba(60, 64, 67, 0.15);\n",
              "      fill: #174EA6;\n",
              "    }\n",
              "\n",
              "    [theme=dark] .colab-df-convert {\n",
              "      background-color: #3B4455;\n",
              "      fill: #D2E3FC;\n",
              "    }\n",
              "\n",
              "    [theme=dark] .colab-df-convert:hover {\n",
              "      background-color: #434B5C;\n",
              "      box-shadow: 0px 1px 3px 1px rgba(0, 0, 0, 0.15);\n",
              "      filter: drop-shadow(0px 1px 2px rgba(0, 0, 0, 0.3));\n",
              "      fill: #FFFFFF;\n",
              "    }\n",
              "  </style>\n",
              "\n",
              "      <script>\n",
              "        const buttonEl =\n",
              "          document.querySelector('#df-624e48d0-a245-40b5-b733-3285e6dab5a3 button.colab-df-convert');\n",
              "        buttonEl.style.display =\n",
              "          google.colab.kernel.accessAllowed ? 'block' : 'none';\n",
              "\n",
              "        async function convertToInteractive(key) {\n",
              "          const element = document.querySelector('#df-624e48d0-a245-40b5-b733-3285e6dab5a3');\n",
              "          const dataTable =\n",
              "            await google.colab.kernel.invokeFunction('convertToInteractive',\n",
              "                                                     [key], {});\n",
              "          if (!dataTable) return;\n",
              "\n",
              "          const docLinkHtml = 'Like what you see? Visit the ' +\n",
              "            '<a target=\"_blank\" href=https://colab.research.google.com/notebooks/data_table.ipynb>data table notebook</a>'\n",
              "            + ' to learn more about interactive tables.';\n",
              "          element.innerHTML = '';\n",
              "          dataTable['output_type'] = 'display_data';\n",
              "          await google.colab.output.renderOutput(dataTable, element);\n",
              "          const docLink = document.createElement('div');\n",
              "          docLink.innerHTML = docLinkHtml;\n",
              "          element.appendChild(docLink);\n",
              "        }\n",
              "      </script>\n",
              "    </div>\n",
              "  </div>\n",
              "  "
            ]
          },
          "metadata": {},
          "execution_count": 61
        }
      ]
    },
    {
      "cell_type": "code",
      "source": [
        "df_04 = df_03.copy()\n",
        "cols = ['Genres', 'Directors', 'Country', 'Language']\n",
        "df_04[cols] = df_04[cols].fillna('*')\n",
        "df_04.isnull().sum()"
      ],
      "metadata": {
        "colab": {
          "base_uri": "https://localhost:8080/"
        },
        "id": "b9hWDaYWgsUx",
        "outputId": "171f766e-32df-4c18-8fce-77169886208f"
      },
      "execution_count": null,
      "outputs": [
        {
          "output_type": "execute_result",
          "data": {
            "text/plain": [
              "Title                0\n",
              "Year                 0\n",
              "IMDb               199\n",
              "Rotten Tomatoes      0\n",
              "Netflix              0\n",
              "Hulu                 0\n",
              "Prime Video          0\n",
              "Disney+              0\n",
              "Directors            0\n",
              "Genres               0\n",
              "Country              0\n",
              "Language             0\n",
              "Runtime            315\n",
              "dtype: int64"
            ]
          },
          "metadata": {},
          "execution_count": 11
        }
      ]
    },
    {
      "cell_type": "markdown",
      "source": [
        "## 새로운 특성 만들기\n",
        "genre, directors, country, language 별 시청률 top"
      ],
      "metadata": {
        "id": "7SsPPImRg2-1"
      }
    },
    {
      "cell_type": "code",
      "source": [
        "def change(column):\n",
        "  eachs = set()\n",
        "  for sample in df_04[column].unique():\n",
        "    try:\n",
        "      sample = sample.split(',')\n",
        "      eachs.update(sample)\n",
        "    except: pass\n",
        "  eachs.discard('*')\n",
        "  \n",
        "  print(f'{column}개수: {len(eachs)}')\n",
        "  print(f'{column}카테고리: {eachs}')\n",
        "  \n",
        "\n",
        "  each_count = dict()\n",
        "  for each in eachs:\n",
        "    count = df_04[df_04[column].str.contains(each)].shape[0]\n",
        "    average = df_04[df_04[column].str.contains(each)]['IMDb'].sum() / count\n",
        "    each_count[each] = [count, round(average,2)]\n",
        "\n",
        "  if column == 'Directors':\n",
        "    num = 10\n",
        "  else: num = 5\n",
        "\n",
        "  by_count = sorted(each_count.items(), key = (lambda x: x[1]), reverse=True)\n",
        "  count_top = [i[0] for i in by_count[:num]]\n",
        "\n",
        "  by_imdb = sorted(each_count.items(), key = (lambda x: x[1][1]), reverse=True)\n",
        "  imdb_top = [i[0] for i in by_imdb[:num]]\n",
        "\n",
        "  return count_top, imdb_top\n",
        "\n",
        "genre_count_top5, genre_imdb_top5 = change('Genres')\n",
        "director_count_top10, director_imdb_top10 = change('Directors')\n",
        "country_count_top5, country_imdb_top5 = change('Country')\n",
        "language_count_top5, language_imdb_top5 = change('Language')"
      ],
      "metadata": {
        "colab": {
          "base_uri": "https://localhost:8080/"
        },
        "id": "XApLYU7jg7P5",
        "outputId": "d97a24f7-77f5-40dc-cfe4-aad829302a27"
      },
      "execution_count": null,
      "outputs": [
        {
          "output_type": "stream",
          "name": "stdout",
          "text": [
            "Genres개수: 27\n",
            "Genres카테고리: {'Mystery', 'Music', 'Talk-Show', 'Romance', 'Fantasy', 'War', 'Biography', 'Film-Noir', 'Musical', 'Short', 'Crime', 'Comedy', 'Reality-TV', 'History', 'Western', 'Sport', 'Game-Show', 'Sci-Fi', 'Family', 'Action', 'News', 'Horror', 'Drama', 'Adventure', 'Thriller', 'Animation', 'Documentary'}\n",
            "Directors개수: 7214\n",
            "Directors카테고리: {'David Galán Galindo', 'Neil Marshall', 'Charles Finch', 'Guy Ritchie', 'Chioke Nassor', 'Raz Degan', 'Brad Martin', 'Harold Harris', 'Kaare Andrews', 'Sang Jun Park', 'Paul Kenworthy', 'Kuang-Hui Liu', 'Ahishor Solomon', 'Ajay Bhuyan', 'Jan Kounen', 'Roland Emmerich', 'Brooke Goldfinch', 'Timothy Givens', 'Hu Guan', 'Kelly Asbury', 'François Brisson', 'Donald Crisp', 'Mauricio De la Orta', 'Michael Almereyda', 'Michael Pearce', 'Anna Wieczur-Bluszcz', 'Sylvie Verheyde', 'Andrey Zvyagintsev', 'Amire K Reed', 'Aaron Woodley', 'Kar-Wai Wong', 'Joe Mantello', 'Ravneet Sippy Chadha', 'Bumpy', 'Manoj Beedha', 'Bruno Ascenzo', 'Jeffrey Katzenberg', 'Gauravv K. Chawla', 'Gerard McMurray', 'Tad Stones', 'Tim Burton', 'Deborah Kaplan', 'Joyce Bernal', 'Xavier Manrique', 'Stefano Sollima', 'Sujay Ramaiah', 'Shawn Ku', 'David Knight', 'Larry Buchanan', 'Steven Rimdzius', 'Étienne Chatiliez', 'Dennis Dugan', 'Scott Christian Sava', 'Darin Scott', 'Abish Mathew', 'Ari Sandel', 'Stephina Zwane', 'Mitja Okorn', 'Andrew Wiest', 'Brian Gilbert', 'Jay Karas', 'Mario Andreacchio', 'Andy Sidaris', 'Cary Joji Fukunaga', 'C. Thomas Howell', 'Leslie Ann Coles', 'Fernando Villena', 'Anne Fontaine', 'Christopher Jenkins', 'Kent Lamm', 'Farhan Alam', 'Heidi Ewing', 'Matt Shakman', 'George Tillman Jr.', 'Lauren Greenfield', 'Finn White-Tomsom', 'Jason Hewitt', 'Gee Malik Linton', 'Noël Wells', 'Joel Hershman', 'Arturo Ruiz-Esparza', 'Tim Kaiser', 'Jordi Llompart', 'Miguel Ángel Vivas', 'Raj Mehta', 'Matthew Aeberhard', 'Toa Fraser', 'John Wells', 'Jennifer Reeder', 'Alex Colls', 'Xiaozhi Rao', 'Michael Sammaciccia', 'Gregg Champion', 'Benjamin May', 'David Mickey Evans', 'Bill Marin', 'Ted Balaker', 'Yorgos Lanthimos', 'Chris W. Freeman', 'Beñat Beitia', 'Harald Zwart', 'Jon Garcia', 'Jack Heller', 'Kevin Dart', 'Hallvard Bræin', 'Robert Klane', 'Rich Cowan', 'Peter Ettedgui', 'Charles Sturridge', 'Gabriel Silverman', 'Christie Will Wolf', 'Allan A. Goldstein', 'Amy Poehler', 'Ryan Page', 'Tomas Alfredson', 'Robert Connolly', 'Chih-Yen Hsu', 'Dieudo Hamadi', 'Patrick Wright', 'Pedram Shojai', 'Jake Jalbert', 'Yoshiyuki Momose', 'Mira Nair', 'Lee Seung-Gyu', 'Jack Bender', 'Aneesh Chaganty', 'Sam White', 'John Luessenhop', 'Raymond De Felitta', 'Eric Widing', 'Walter C. Miller', 'Devon Shepard', 'Ravikanth Perepu', 'Jean Paul Lal', 'Patricia Font', 'Steve Stone', 'Aaron Fronk', 'Chris Durrance', 'John Papola', 'Charis Orchard', 'Mohsin Ali', 'Sean LaFollette', 'Simon J. Smith', 'Tom Forrest', 'Malgorzata Szumowska', 'Michael Duggan', 'Chandra Siddhartha', \"Liam O'Donnell\", 'Robbie Grewal', 'Spencer Gordon Bennet', 'Nzingha Stewart', 'Nicole Lucas Haimes', 'Mario Ribero Ferreira', 'Richard Bond', 'Nicholas Kharkongor', 'Chad Hartigan', 'Philippe Diaz', 'Felix Herngren', 'Brian Larsen', 'Mushtaq Pasha', 'Michel Gondry', 'Rob Hardy', 'William Teitler', 'Robert Allan Ackerman', 'Brian Work', 'Rod Marmol', 'Ana Victoria Pérez', 'Alfredo Hueck', 'Michael Hurst', 'Aniruddha Roy Chowdhury', 'Inna Evlannikova', 'Robin Hardy', 'Leslie Iwerks', 'Beth Sleven', 'Dennis M. Lynch', 'Jackie van Beek', 'John Korty', 'Elsa Kremser', 'Alberto Saúl Arnaut Estrada', 'Wojciech Smarzowski', 'Sanjay Khanna', 'Phillip J. Roth', 'Roberto Andò', 'Kelsey Thompson', 'Ana Rocha', 'Jalil Lespert', 'Wael Ihsan', 'Brian Oakes', 'Julius Berg', 'Vanessa Berlowitz', 'Chris Perkel', 'Anthony Mandler', 'Jordan Christopher Morris', 'Xavier Koller', 'Mark Harris', 'Alex van Warmerdam', 'Robert Ben Garant', 'David Charhon', 'Michael Powell', 'Conrad Helten', 'Gary Wang', 'Jon Greenhalgh', 'Jonathan Meyers', 'Will Forbes', 'Joseph Granda', 'Juan Carlos Valdivia', 'Elisabeth Vogler', 'Geoff Reisner', 'Masaaki Yuasa', 'Diederik Van Rooijen', 'Dan Cohen', 'Anne Sundberg', 'F. Richard Jones', 'George Mihalka', 'Nnegest Likké', 'David Carson', 'Yoshiyuki Tomino', 'Tate Taylor', 'Will Stallings', 'Harmon Jones', 'Cyrus Saidi', 'Glenn Miller', 'Josiah Ng', 'Pepe Danquart', 'Zak Hilditch', 'Sarah-Violet Bliss', 'Richard Brooks', 'John H. Auer', 'Thea Sharrock', 'Devashish Makhija', 'Maya Forbes', 'Jakov Sedlar', 'Vernon Snoop Robinson', 'Pierre Debusschere', 'Ford Beebe Jr.', 'Erik Poppe', 'Clenet Verdi-Rose', \"Lisa Barros D'Sa\", 'Tom McLoughlin', 'Sean S. Cunningham', 'K.S. Manikandan', 'Farishad I. Latjuba', 'Bruce Beresford', 'Rajesh Ranshinge', 'Thomas Stuber', 'Manny Coto', 'Sharat Katariya', 'Ildikó Enyedi', 'Todd Berger', 'Luv Ranjan', 'Jay Arnold', 'Hitoshi Matsumoto', 'Pandu Adjisurya', 'Story Syndicate', 'Farhan Akhtar', 'Radha Krishna Jagarlamudi', 'Muh Chen', 'David Alonso', 'Craig Elrod', 'Nick Castle', 'Mohamed Khalifa', 'Lew Ayres', 'Lawrence Cheng', 'Mahesh Manjrekar', 'Phil Johnston', 'Ayan Mukherjee', 'Scott Conditt', 'Sean Nichols Lynch', 'Jane Beaumont Hall', 'Jack Gold', 'Ed Burke', 'Duncan Jones', 'Jason Docter', 'Cédric Jimenez', 'John Callas', 'Elizabeth Wood', 'Ahmad Nader Galal', 'Brandon Naughton', 'Jacques Becker', 'Ajay Chandhok', 'Geeta V. Patel', 'Vaughn Stein', 'John Madden', 'Grant Singer', 'Thomas Vinterberg', 'Dome Karukoski', 'Roy Andersson', 'Chris Evans', 'Martha Coolidge', 'Jason R. Goode', 'Ken C. Johnson', 'Andy Fickman', 'Jennifer Brea', 'Musa Brooker', 'Julie Anne Robinson', 'Jonathan Bogarín', 'Charles Haid', 'Sacha Bennett', 'Mohammad Fadel', 'Jonathon Link', 'Amit Barot', 'Yanyong Kuruaungkoul', 'Ben Peyser', 'Florian Henckel von Donnersmarck', 'Keegan Kuhn', 'Brent Miller Jr.', 'Mark von Sternberg', 'Johnny Royal', 'Kanika Batra', 'Mark Marshall', 'Don Chaffey', 'Patrick A. Ventura', 'Robiul Alam Robi', 'Lee Lynch', 'Nick Cassavetes', 'Burr Steers', 'Kemp Powers', 'Thomas Kail', 'Matt Livadary', 'John Rice', 'Ilyssa Goodman', 'Shady Hanna', 'Barbra Streisand', 'Mike Marshall', 'Steve Bencich', 'Neil Rawles', 'Irving Schwartz', 'Philippa Lowthorpe', 'Noriyuki Abe', 'Aric Avelino', 'Ali Ragab', 'Jordan Osmond', 'Christopher Nolen', 'Ben Vaughn', 'Cédric Anger', 'Ralph Macchio', 'Kareem Tabsch', 'Andres Caballero', 'Morgan Matthews', 'Kieron Hawkes', 'Kuan-Hui Lin', 'Ali Samadi Ahadi', 'Scott Wiper', 'Amir Bar-Lev', 'Bapu', 'Rajesh Mapuskar', 'Neville Shah', 'AnnaRose King', 'Naresh Malhotra', 'Pablo De La Torre', 'Hirokazu Koreeda', 'Castille Landon', 'Alan Rickman', 'Danis Tanovic', 'Jason Epperson', 'Perry Moore', 'Andrew Davis', 'James Lapine', 'Tom Stern', 'Luke Walker', 'Sung-ho Kim', 'Bronwen Hughes', 'Ho-Cheung Pang', 'John Ripa', 'John Fox', 'Ricardo Curtis', 'Pailin Wedel', 'Anil Ravipudi', 'Gilles Penso', 'Sy Gowthamraj', 'Storm Ashwood', 'Gigi Saul Guerrero', 'Leli Maki', 'Geoff Murphy', 'Sharon Everitt', 'Jorge R. Gutiérrez', 'Floria Sigismondi', 'Vincent Ward', 'John Boulting', 'Udai Singh Pawar', 'Walt Disney', 'Jennifer Phillips', 'Alexandre Moors', 'Chandoo Mondeti', 'Qin Zhou', 'Jim Miller', 'Wash Westmoreland', 'Brent Hodge', 'Scott Stewart', 'Jon Miller', 'Eric Laneuville', 'Bruce Sinofsky', 'Mike Gunther', 'Brian DeCubellis', 'Manny Rodriguez', 'Oliver Schmitz', 'Phillip Noyce', 'Tom Hooper', 'Kyohei Ishiguro', 'Duncan Singh', 'Oleh Malamuzh', 'Javier Calvo', 'Chris Newby', 'Hendel Butoy', \"Vincent D'Onofrio\", 'Tilman Borck', 'Braden R. Duemmler', 'Bill Bixby', 'Brett Bentman', 'Brenda Chapman', 'Craig Singer', 'Giulio Paradisi', 'Christian Coppola', 'Mary Mazzio', 'Hamish Hamilton', 'Jinyoung Jung', 'Vikramaditya Motwane', 'Mabrouk El Mechri', 'Brian Webber', 'Eondeok Han', 'Ida Lupino', 'Yance Ford', 'R.L. Scott', 'Arie Posin', 'Robert D. Krzykowski', 'Scott L. Montoya', 'Howard J. Ford', 'Avinash Walzade', 'Ajithkumar', 'Matías Bize', 'Shadab Khan', 'Courteney Cox', 'Jack Speirs', 'Chris Eneaji Eneng', 'Jenner Furst', 'Shamim Sarif', 'Stephen Cognetti', 'Jack Bennett', 'Amir Mohiuddin', 'Dennis Iliadis', 'Amshan Kumar', 'Benoît Delépine', 'Mercedes Cordova', 'B. Jeevan Reddy', 'Marc Silverstein', 'Lewis Gilbert', 'Nancy Meyers', 'Michael Zimbalist', 'Jason Eisener', 'Bryan Bertino', 'Sacha Jenkins', 'Matthew Dean Russell', 'Philip S. Gilbert', 'Andy Caballero', 'Lance Daly', 'Arnaud Desplechin', 'Rush Sturges', 'Jeremy Norrie', 'Anna Mastro', 'Jerry P. Jacobs', 'Hereward Pelling', 'Neil Burger', 'Steve Carr', 'Francis Ford Coppola', 'Joel Hopkins', 'Jason Connery', 'William Nigh', 'David Howard', 'Fred Gerber', 'William Beaudine', 'Andrew Lau', 'Jordan Hill', 'Eashvar Karthic', 'Jeremy Garelick', 'Shigeo Tanaka', 'John Polson', 'Marla Ancheta', 'Rethabile Ramaphakela', 'David Bowers', 'Kevin Munroe', 'Mark Brockway', 'Lucas Figueroa', 'Bruce W. Smith', 'Wai-Man Yip', 'Ian Bonhôte', 'Alison Klayman', 'Angus MacLane', 'Amy Schumer', 'Lisa Azuelos', 'Jenna Fischer', 'Tony Scott', 'Michael Winnick', 'Raúl Campos', 'Dick Rickard', 'Carroll Ballard', 'Mangesh Hadawale', 'Robert Walker', 'Niall Johnson', 'Darko Stante', 'Ziggy Hofmeyr', 'Alex Rudzinski', 'Carlos Vermut', 'Rohit Shetty', 'Torgny Wickman', 'Glenn Jordan', 'Lance Doty', 'Rana Eid', 'Jota Linares', 'Chanya Button', 'Dominic Cooke', 'Roger Hawkins', 'Michael William Gordon', 'Alex De Rakoff', 'Marc Carlini', 'Eduardo Rodriguez', 'Farhad Mann', 'Isaac Yowman', 'Toyin Abraham', 'Sonia Anderson', 'Will Mathison', 'Jamie Linden', 'Alessandra de Rossi', 'Nicole Newnham', 'Eric Tsang', 'Evan Spiridellis', 'Peter Lepeniotis', 'Regina King', 'Andrew Jenks', 'Nacho G. Velilla', 'Jessica Yu', 'Eric Bress', 'Pietro Scappini', 'Sidney Gilliat', 'Jonathan van Tulleken', 'Bruce Bilson', 'Stephanie Wessell', 'Geoffrey Sax', 'Sebastian DiNatale', 'Dean Peterson', 'Michael McNamara', 'James Whale', 'Johnny Mak', 'Anne Fletcher', 'Riley Thomson', 'Mike Mendez', 'Muhammed Musthafa', 'Maria Ripoll', 'Steve Miner', 'Matthew Robbins', 'Maurquis Boone', 'Mark Steven Johnson', 'Sammaria Simanjuntak', 'Aristotle Athiras', 'Gregory La Cava', 'Frank Hutto', 'Paul Thomas Anderson', 'Rich Schlansker', 'Jonathan Hughes', 'Aaron B. Koontz', 'Linda Otto', 'Herbert L. Strock', 'John McKay', 'Francis Megahy', 'Matthew Amos', 'Kevin Lima', 'Dafe Oboro', 'Guy-Roger Duvert', 'Pawan k Shrivastava', 'Evan Jackson Leong', 'Nathan Greno', 'Katleho Ramaphakela', 'Jacob Rosenberg', 'Sandy Tung', 'Lowell Sherman', 'Pamela Littky', 'Antonio Díaz', 'Suneel Darshan', 'James Reed', 'Philippe Aractingi', 'Tom Morash', 'Shanjey Kumar Perumal', 'Sven Unterwaldt Jr.', 'John Cromwell', 'Tim Colceri', 'Frank Marino', 'Juan Camilo Pinzon', 'Kurt Voelker', 'Krishna D.K.', 'David Raymond', 'Chris Williams', 'Umesh Mehra', 'Robin Budd', 'Sneha Taurani', 'Scott Barber', 'Anil Mehta', 'David Benioff', 'Ian Harris', 'Orville Wanzer', 'Bert Ring', 'Justin Chadwick', 'Maria Pulera', 'Arthur Rankin Jr.', 'G.L. Sethuraman', 'Bibo Bergeron', 'Jordan Melamed', 'Hans Petter Moland', 'Masaya Fujimori', 'Olaf de Fleur Johannesson', 'Edward James Olmos', 'Michael Margolis', 'Naomi Kawase', 'David Haskell', 'Elle-Máijá Tailfeathers', 'Michael Madison', 'Rathna Kumar', 'Barbara Peeters', 'Dylan Trussell', 'Nicolas Brown', 'Yukio Ninagawa', 'David Benullo', 'Andrea Kalin', 'Jared Stern', 'Guy Vasilovich', 'Oskar Santos', 'Christopher Guest', 'Namcito', 'Sam Dunn', 'Thiru', 'Doug Nichols', 'Ajay Devgn', 'Aisling Walsh', 'Katy Chevigny', 'Annette Haywood-Carter', 'Rusty Mills', 'Susanne Bier', 'Shanavas K. Bavakutty', 'Emma Beeson', 'Bruno Mattei', 'Julian Klincewicz', 'Sam Fountayne', 'Kate Novack', 'Clare Lewins', 'Grant S. Johnson', 'Leïla Sy', 'Tony Abulu', 'Ant Timpson', 'David Butler', 'Jim Fall', 'Emmanuel Osei-Kuffour', 'Veronika Franz', 'Shaad Ali', 'Rohena Gera', 'Michael Schwartz', 'Joe Swanberg', 'Chris Foggin', 'David Michôd', 'Brett Leonard', 'R. Raja', 'Colin Miller', 'Sebastian Jones', 'Jayson McNamara', 'George Dugdale', 'Hitesh Kewalya', 'Adam Randall', 'Mark W. Curran', 'Carl Pierson', 'Debbie Allen', 'Fred Koster', 'Glen Coburn', 'Dave Unwin', 'Mona Fastvold', 'Gregory Lynch Jr.', 'Fabio Ock', 'Ari Folman', 'Tanuja Chandra', 'Navaniat Singh', 'Lewis Milestone', 'Michael DeGrazier', 'Hunter Hill', 'Umut Kirca', 'Christiane Cegavske', 'Oliver Stone', 'Syed Ahmed Shawki', 'Morten Tyldum', 'Madeleine Olnek', 'Lucas Qiao', 'J.C. Calciano', 'Steve Hickner', 'Steve Trenbirth', 'Clyde Scott', 'Cosmo Segurson', 'Isabel Coixet', 'John Tatoulis', 'Mike Joens', 'John Whitesell', 'Laura Mulleavy', 'Joel Gallen', 'Jatinder Singh Jeetu', 'Terence Fisher', 'Felix E. Feist', 'Emmanuel Mouret', 'Chi Lo', 'Desiree Akhavan', 'Victor Nunez', 'Eugene Corr', 'Gaelan Connell', 'Alex Huston Fischer', 'Riki Lindhome', 'Jenée LaMarque', 'Toshihiro Kondo', 'Alex Parkinson', 'Jocelyn Towne', 'Kristian Boruff', 'Kevin Layne', 'Peyton Reed', 'Benny Safdie', 'K.V. Anand', 'Richard Rowntree', 'Xiao Feng', 'Can Ulkay', 'Jon Long', 'Dave Powers', 'Alexandre Aja', 'Damon Gameau', 'Roxanne Benjamin', 'Sam Wood', 'Arthur C. Pierce', 'Paul McGuigan', 'Datta Mohan Bhandare', 'Jeremy Kipp Walker', 'Dheeraj Rattan', 'Will McCormack', 'Marco Deufemia', 'Daniel Vernon', 'Serge Ou', 'Allison Pregler', 'Robby Ertanto', 'Jack Bryan', 'Ted Emery', 'Willard Huyck', 'Steve Barron', 'Paul Puglisi', 'Fritz Lang', 'Kat Coiro', 'Nathaniel Berg', 'Stuart Rosenberg', 'Lee Friedlander', 'Taran Killam', 'Albert Shin', 'Rachel Boynton', 'George Scribner', 'Darren Aronofsky', 'Thiagarajan Kumararaja', 'William Jennings', 'André Øvredal', 'Ryan Earl Parker', 'Mike Flanagan', 'Jason Dbks Hampton', 'Vince Gilligan', 'Lennart Ruff', 'Adam Mason', 'Rohit Mittal', 'Breck Eisner', 'Mitchell Galin', 'Jenn Nkiru', 'Alfred Gimeno', 'Peter von Puttkamer', 'Kôji Morimoto', 'Harmony Korine', 'Benjamin Berman', 'Robert Olsen', 'Pamela Yates', 'Mike Hodges', 'Olivia M. Lamasan', 'Clark Duke', 'Gautham Vasudev Menon', 'Paul Miller', 'Martin Campbell', 'Anthony Wilcox', 'Jose Manuel Ospina', 'Louise Wadley', 'Bob Giordano', 'Nathan Clarkson', 'Kevin Ko', 'Christopher Johnson', 'Niki Caro', 'David Dinetz', 'Ted Kotcheff', 'Omkar', 'Hong Khaou', 'Steve McQueen', 'Estela Renner', 'Pieter Kuijpers', 'Michael Makrimichalos', 'Olivia Cappuccini', 'Joshua Logan', 'Craig Gillespie', 'Mark Dindal', 'Raj Nidimoru', 'Jim Mickle', 'Eddie Mensore', 'Roly Santos', 'Ivan Kavanagh', 'Christopher Morahan', 'Andreas Pichler', 'Susan Walter', 'Michael Tyburski', 'Blair Hayes', 'Bruce Thierry Cheung', 'Phil Grabsky', 'Pierre Greco', 'Drew Hall', 'Joe Murray', 'Wolfgang Reitherman', 'Shripriya Mahesh', 'Florent Bodin', 'Rajan Madhav', 'Jacques Tourneur', 'Michael Curtiz', 'John Derek', 'Andrew Gregg', 'Xiaogang Feng', 'Juan Antin', 'Pella Kagerman', \"Darragh O'Connell\", 'Delbert Mann', 'Chris Sanders', 'Nontakorn Taweesuk', 'Barry Avrich', 'John Haptas', 'Roy Del Ruth', 'Kamala Lopez', 'Henry Thurlow', 'Kunihiko Yuyama', 'Leander Ward', 'Todd S. Yellin', 'Ramón Menéndez', 'Greg MacGillivray', 'Turner Clay', 'Deepti Naval', 'Atanu Ghosh', 'Jonathon Klimek', 'Raymie Muzquiz', 'Pat Healy', 'Brian Jalbert', 'Charles Gozali', 'Darren Grant', 'Jessica Blue', 'Bruce McDonald', 'Monte Hellman', 'Michael DiBiasio-Ornelas', 'Stephen Durham', 'Matteo Garrone', 'Christina Wayne', 'Tolulope Itegboje', 'Robert Mullan', 'Michael Tiddes', 'Sophie Elwin-Harris', 'Sang-soo Im', 'Shola Lynch', 'Robert Day', 'Nicole Holofcener', 'Rahul Dholakia', 'William A. Seiter', 'Daniel Stern', 'Roberto De Feo', 'Rahi Anil Barve', 'Jennifer Beamish', 'Gordon Eastman', 'Adam Wingard', 'Joachim Fest', 'Sebastian Peiter', 'Pia Sukanya', 'Marcus Dreeke', 'Hazem Fouda', 'Toshiyuki Kubooka', 'Cal Brunker', 'Cüneyt Kaya', 'Nicholaus Goossen', 'Adrian Langley', 'John Kastner', 'Alex Proyas', 'Fred Manocherian', 'James Algar', 'Floyd Russ', 'Sidney Salkow', 'Samir Al Asfory', 'Shakti Samanta', 'John Milius', 'Susan Seidelman', 'Nelson Recinos', 'Jerry Reed', 'Patrick Lussier', 'Gideon Raff', 'Gene Fowler Jr.', 'Emmanuel Dela Cruz', 'Vincent Kesteloot', 'Alex Ranarivelo', 'Kenzô Maihara', 'Alan Taylor', 'Brandon Jones', 'Manuel Martín Cuenca', 'Nicol Paone', 'Todd Phillips', 'John Giorgio', 'Binu Ulahhannan', 'Josh Webber', 'Robert Siodmak', 'Ishi Rudell', 'Rory Kennedy', 'Martin Krejcí', 'Adesh Prasad', 'Anders Ølholm', 'Matthew Whedon', 'Kathleen Hepburn', 'Alicia Joy LeBlanc', 'Stefano Milla', 'Rob Meyer', 'Arthur Ripley', 'Lorenzo Corvino', 'Noor Imran Mithu', 'Justin Simien', 'Bonni Cohen', \"Antonino D'Ambrosio\", 'Anthony Meindl', 'Barry Battles', 'Lin Oeding', 'Stephen Frears', 'Sanjay Leela Bhansali', 'Allan Dwan', 'Allan Ungar', 'Julius Onah', 'Ralph Hemecker', 'Anthony Pierce', 'Corey Williams', 'Sean Garrity', 'Trent Cooper', 'Jennifer Phang', 'Nick Park', 'Matthew Podolsky', 'Trey Nelson', 'John Paizs', 'Jeremiah Zagar', 'Anurag Kashyap', 'Sian Heder', 'Glenn Gordon Caron', 'Graham Theakston', 'Ben Simms', 'Kim Tae-hyung', 'Emilio Aragón', 'Jose Gomez', 'Daniel Myrick', 'David Alvarado', 'Brendan Gabriel Murphy', 'Pamela Romanowsky', 'Michael Rossi', 'Dimitri Logothetis', 'Liz Plonka', 'Nicholas Meyer', 'John Holowach', 'David Wain', 'Alvin Rakoff', 'Max Adams', 'Lara Saba', 'James V. Kern', 'Max Amini', 'Constance Marks', 'Flemming Quist Møller', 'Rajeev Dassani', 'Venkat Prabhu', 'Robert Stevenson', 'D. Ross Lederman', 'Shashank Khaitan', 'Peter Hutchings', 'Young Kyun Park', 'Matt Drummond', 'Tinto Brass', 'Chris Paine', 'Julián Hernández', 'Marshall Cook', 'Damián Romay', 'Harold F. Kress', 'Jeff Orlowski', 'Jason Sanchez', 'Sangjin Kim', 'Tom Vaughan', 'Jason Lapeyre', 'Hyung-gon Lee', 'Yoon Sunghyun', 'Daryl Duke', 'Brendan Cowles', 'Eli Steele', 'Victor Gonzalez', 'Peter Thorwarth', 'Rayka Zehtabchi', 'Arthur Davis', 'Irving Reis', 'Hua-Tao Teng', 'Wade Gasque', 'Anthony C. Ferrante', 'Armand Mastroianni', 'Sara Dosa', 'Stig Bergqvist', 'Roy Campanella II', 'Josh Lobo', 'Keenen Ivory Wayans', 'Dustin Marcellino', 'Fabrice Canepa', 'Brit McAdams', 'Gene Feldman', 'Ralph Nelson', 'Kirsty de Garis', 'Anggy Umbara', 'Lasse Nielsen', 'Andrew Meier', 'Michael D. Black', 'Luke Greenfield', 'Allen Hughes', 'Amit Masurkar', 'Ashley York', 'Quinn Lasher', 'Rajkumar Hirani', 'Cyrus Nowrasteh', 'Howard Gibson', 'Jae-hyun Jang', 'William Dieterle', 'Vikram Gandhi', 'Siddharth Anand', 'Tyler Gillett', 'J.T. Petty', 'Michelle Major', 'Matthew I. Schmidt', 'Jos Humphrey', 'Nicholas Gyeney', 'Eddie Rosas', 'Sebastian Montes', 'David Fincher', 'Christopher Louie', 'Gina Prince-Bythewood', 'Bolanle Austen-Peters', 'Rik Reinholdtsen', 'Lance Hool', 'Benedict Andrews', 'Molly Hermann', 'Edith Becker', 'Rudy De Luca', 'Sean Penn', 'Clark Johnson', 'David Wall', 'Alejandro Montiel', 'Jeff Kanew', 'Don Jones', 'Richard Gabai', 'Rajiv Menon', 'Sachin Kamlakar Khot', 'Mariano Mucci', 'Werner Herzog', 'Tope Alake', 'Michael Curtis Johnson', 'Sergio Guerrero', 'Jenn Barlow', 'Michael Paul Stephenson', 'Fred Olen Ray', 'Michael McGowan', 'Daniel Barber', 'Theodore Witcher', 'Pete Circuitt', 'Tyler Kellner', 'Robert De Niro', 'Michael Gornick', 'Don Medford', 'Simon Kassianides', 'Elizabeth Banks', 'Manav Shah', 'Alex Burunova', 'Simon Cellan Jones', 'Hamilton MacFadden', 'Joe Ksander', 'George Hickenlooper', 'Eric Bross', 'James Aviles Martin', 'Tommy Chong', 'Geethu Mohandas', 'Patrick Durham', 'Kevin Booth', 'Jiang Liu', 'Mangesh Kanthale', 'Brett Piper', 'Fintan Connolly', 'John Florea', 'Paco Arango', 'Zach Lipovsky', 'Geun-hyun Cho', 'Neal Brennan', 'Myriam Aziza', 'Patricia Riggen', 'Marie Pizano', 'Peter Bogdanovich', 'Aaron Seltzer', 'Clint Eastwood', 'Elaine McMillion Sheldon', 'Gayatri', 'Matt Shapira', 'Nila Madhab Panda', 'Justin Chon', 'James Yukich', 'David Hackl', 'Bruce Webb', 'Joachim Rønning', 'Madoka Raine', 'George P. Breakston', 'Eleanore Lindo', 'Yasir Nawaz', 'Bertie', 'Paige Suzanne', 'Tung-Shing Yee', 'Heiner Carow', 'Vivieno Caldinelli', 'Roman Polanski', 'Amandha Wyanto', 'Anneliese Vandenberg', 'Kery James', 'Benito Fernández', 'Don Argott', 'Joe Raffa', 'Amr Salama', 'R. Ajay Gnanamuthu', 'Ib Melchior', 'Scott Dacko', 'Vishnu Govindhan', 'Tara Miele', 'John Murlowski', 'Thomas J. Churchill', 'Hal Hartley', \"Jun'ichi Satô\", 'Kenneth J. Berton', 'Jules Dassin', 'Jenny Popplewell', 'Steven Clay Hunter', 'Babbar Subhash', 'Amy Watson', 'Roman Prygunov', 'Noah Baumbach', 'mink', 'Ketche', 'David Nelson', 'Søren Kragh-Jacobsen', 'Jehane Noujaim', 'Aleksa Gajic', 'Tim McCanlies', 'Kike Maíllo', 'Alejandro Landes', 'Mika Kaurismäki', 'Steve Ball', 'Ravin Gandhi', 'Julius Amedume', 'Clio Barnard', 'Mimi Maynard', 'Erik Nelson', 'Shivam Nair', 'Earl Wainwright', 'Paul Cox', 'Jean-Jacques Annaud', 'Aubrey Powell', 'Ralph Cooper', 'Lonzo Nzekwe', 'Dania Pasquini', 'Letizia Lamartire', 'Lee Hirsch', 'John Hyams', 'Richard Rosson', 'Christopher Ashley', 'Joel Kazuo Knoernschild', \"Kevin O'Neill\", 'David Bolt', 'Justin Reardon', 'B.V. Nandini Reddy', 'Tom Barton-Humphreys', 'Doug Murphy', 'Brian Gibson', 'Mahesh Bhatt', 'Mark Blanchard', 'Lexi Alexander', 'Maureen Goldthorpe', 'Grant Sputore', 'Pramod Pawar', 'Bartosz M. Kowalski', 'Michelle Johnston', 'Soumendra Padhi', 'Nicolás Iacouzzi', 'Irvin Kershner', 'Akiva Schaffer', 'Kim Joo-Hyung', 'D.C. Hamilton', 'Melissa Finell', 'John Chester', 'Sean Breathnach', 'Stu Livingston', 'Ali Bin Matar', 'James Moll', 'Sean Mullin', 'Stuart Baird', 'Aryana Farshad', 'Iain Morris', 'John Barnwell', 'Peter Raymont', 'Rick Ernst', 'Shimit Amin', 'John Dower', 'Gavin Rothery', 'Aditya Chopra', 'Prabhu Deva', 'Joel Potrykus', 'Shane Belcourt', 'PJ Raval', 'Emma Franz', 'Aina Järvine', 'Conrad Vernon', 'Jude Weng', 'Rodrigo Pelmonto', 'Gabriel Friedman', 'Costa-Gavras', 'Coky Giedroyc', 'Renato De Maria', 'Anil Thomas', 'Camille Shooshani', 'Andrew Knight', 'Mark A. Altman', 'Tim Maltby', 'Joshua Rous', 'Colin Minihan', 'Rupert Goold', 'Tom Hadzor', 'Scott Z. Burns', 'Mari Okada', 'Batan Silva', 'Rob Walker', 'Daniel St. Pierre', 'Prakash Saini', 'Ermanno Olmi', 'Sonny Mahal', 'Martin Brest', 'Johan Brisinger', 'Kent Jones', 'Katie McWane', 'Rob Dipple', 'Robert Harmon', 'Dominic Wade', 'Nicholas Ray', 'Derick Martini', 'John Laing', 'Jeffrey Dell', 'Lesley Selander', 'Ken Annakin', 'Fred Grivois', 'Stijn Verlinde', 'Mahmoud Sabbagh', 'Alex Stapleton', 'John Holdsworth', 'Keiichi Hara', 'Steven Zaillian', 'Clay Kaytis', 'Anita Barbosa', 'Israel Adrián Caetano', 'Marc Evans', 'John Lemont', 'Juan Maria Stadler', 'H. Vinoth', 'Greg Mottola', \"Dave O'Leske\", 'Jerry Watson', 'Predrag Antonijevic', 'Yony Leyser', 'Josh Vietze', 'Xavier Dolan', 'Kuan-Chang Li', 'Laïla Marrakchi', 'Daniel Schechter', 'John Boorman', 'Craig Tudor', 'Ed Palmos', 'Matt Gallagher', 'Benjamin Louis', 'Richard Finn', 'Bill Paxton', 'Philip Seymour Hoffman', 'John Herzfeld', 'David Cherkasskiy', 'James Bobin', 'Josh Bailey', 'Hoyt Yeatman', 'Todd Soliday', 'Lindsey Cordero', 'David I. Frazer', 'Michael G. Bartlett', 'Sanjay Patel', 'John Leekley', 'Nebojsa Andric', 'Samuel Fuller', 'Elijah Drenner', 'Avinash Prakash', 'Tom Paton', 'Sharon Shattuck', 'Jimmy Shaw', 'Ron Oliver', 'Hal Ashby', 'Larysa Kondracki', 'Carlos Perez Osorio', 'Michèle Ohayon', 'Eric D. Howell', 'Howard Hawks', 'Lynn Shelton', 'Richard Montoya', 'Hèctor Hernández Vicens', 'Pixote Hunt', 'Anthony Hickox', 'Milton Lage', 'Howard Franklin', 'Shaul Schwarz', 'Anthony Abrams', 'John Stimpson', 'Ravi Chopra', 'Alastair Siddons', 'Ekene Som Mekwunye', 'Ibrahim Yilla', 'Chad Faust', 'Kimberly Seilhamer', 'Steve Sekely', 'Aaron Harvey', 'Don Roos', 'Adam Dick', 'M.S. Prem Nath', 'Motonori Sakakibara', 'Jean-Baptiste Andrea', 'Henry Alex Rubin', 'Aaron Kaufman', 'Chia Tang', 'Daniel Ziegler', 'Puneet Khanna', 'Ron Lagomarsino', 'Eva Trobisch', 'Joe DeMaio', 'Seth Henrikson', 'Phil Burgers', 'Kôbun Shizuno', 'Joel Souza', 'Deepa Mehta', 'Steve Rolston', 'Kingsley Ogoro', 'Jon Sumple', 'Desmond Devenish', 'Takeshi Fukunaga', 'John Paul Tremblay', 'Jon Shenk', 'Anton Lorenze', 'Isaki Lacuesta', 'Norbert Skrovanek', 'Roy Battersby', 'Gabriel Velázquez', 'Jean-Christophe Jeauffre', 'Mike Bonifer', 'Ryan Barton-Grimley', 'Tamta Gabrichidze', 'Peggy Holmes', 'Corey Pearson', 'V. Harikrishna', 'Terry Hughes', 'Menahem Golan', 'Dante Lam', 'Ryan Crego', 'Ireneusz Dobrowolski', 'Julius Ramsay', 'Ranjit Jeyakodi', 'Chanon Yingyong', 'Julien Leclercq', 'Eylem Kaftan', 'Luis Valdez', 'Colette Burson', 'Tia Lessin', 'David Gidali', 'Kubhaer T. Jethwani', 'Don Coscarelli', 'Tom Gatley', 'Shelagh Carter', 'Peng-Yi Chang', 'Peter Bergin', 'Tom Brady', 'R.J. Daniel Hanna', 'Kiran Narayanan', 'Corbin Bernsen', 'Grand Corps Malade', 'Monica Floyd', 'Sabir Khan', 'Jon Avnet', 'Sydney Freeland', 'Axelle Laffont', 'Neal Israel', 'Kristina Goolsby', 'Atlee Kumar', 'Bill Pohlad', 'Jonathan Lisecki', 'Amit Roy', 'Jamila J. Brown', 'Tim Hill', 'Billy Lewis', 'Brannon Braga', 'Sean Foley', 'Nidhi Sharma', 'Enah Johnscott', 'David Cronenberg', 'Domenico Emanuele de Feudis', 'Joseph Chen-Chieh Hsu', 'Honey Trehan', 'Michael Feifer', 'Adam Rothlein', 'Alex Law', 'Mendel Samayoa', 'Adam Massey', 'Peter Mackenzie Litten', 'Jeff Wadlow', 'Jerry Lewis', 'Daniel Fenton', 'Thomas Borch Nielsen', 'Oliver Kienle', 'Tharun Bhascker Dhaassyam', 'Jean-Paul Rappeneau', 'Giannis Dalianidis', 'Simon Horrocks', 'Vipul Amrutlal Shah', 'Ken Scott', 'Nicholas Hytner', 'S.A. Zaidi', 'Bill Duke', 'Steve Gerbson', 'Barnet Kellman', 'Måns Herngren', 'Matt Angel', 'Kaitlin McLaughlin', 'Ron de Moraes', 'Rick Alverson', 'Lisa Kors', 'Lajos Koltai', 'Kim Nguyen', 'Julia Reichert', 'Daniel J. Phillips', 'Paul Ziller', 'Paul Dugdale', 'James Gray', 'Shantrelle P. Lewis', 'Diego Corsini', 'Gurinder Chadha', 'John Huddles', 'Alfredo Ramos', 'Éric Warin', 'Paul Davis', 'Andrew Dominik', 'Olivio Ordonez', 'Jay Grace', 'Dong-kyu Kim', 'Douglas Attal', 'Trent Correy', 'Matt Villines', 'Leslie H. Martinson', 'Kathryn Fasegha', 'Benjamin Dickinson', 'Morgan Pehme', 'Elsa Nakamichi', 'Katarina Launing', 'Miko Livelo', 'Matthias Hoene', 'William Butler', 'Deborah Cardona', 'John Asher', 'Zach Braff', 'Stephen Gaghan', 'Takashi Doscher', 'Kevin McManus', 'Euros Jones-Evans', 'Oliver Irving', 'Don Bluth', 'Craig Clyde', 'Peter Levin', 'Amariah Olson', 'Edward Drake', 'Richard Brauer', 'Les Mahoney', 'Jason Cunningham', 'Billy Senese', 'Jesús Franco', 'Chayanop Boonprakob', 'Rouben Mamoulian', 'Declan Lowney', 'Zach Woods', \"Renzil D'Silva\", 'Wayne Kramer', 'Kim Ki-duk', 'Josef Rusnak', 'Tuva Novotny', 'Jean-Marc Piché', 'Wilson Yip', 'Jeremy Konner', 'Tom Dallis', 'Yu Yang', 'Mike Leigh', 'Sarah Adina Smith', 'Ry Russo-Young', 'Fritz Kiersch', 'Kazuya Tsurumaki', 'Nia DaCosta', 'Stuart Elliott', 'Benson Lee', 'Alexandre Reinecke', 'Mark Herzog', 'A.J. Martinson', 'Siu-Tung Ching', 'Danny Buday', 'Sam Pillsbury', 'Philip Barantini', 'Awi Suryadi', 'Sarah Rotella', 'Kenneth Johnson', 'Tamara Jenkins', 'Sam Newfield', 'Stefanie Abel Horowitz', 'Fred Zinnemann', 'Whit Stillman', 'Mikel Rueda', 'Jennifer Bonior', 'Joel Bender', 'Susan Engel', 'Rohan Sippy', 'Senol Sönmez', 'Jun Lana', 'Hany Abu-Assad', 'Luis Lopez', 'Akshat Verma', 'Kirsten Tan', 'Óscar García Blesa', 'Parkpoom Wongpoom', 'Sitisiri Mongkolsiri', 'Ryan Bury', 'Brendan Maher', 'Rob Pearlstein', 'Patricia Ferreira', 'Stella Hopkins', 'Christian Alvart', 'Taylor Swift', 'Louis C.K.', 'Ian MacAllister McDonald', 'David DeCoteau', 'Elliot M. Bour', 'Deborah Chow', 'Bobby Rubio', 'Chris Riedell', \"Tommy O'Haver\", 'Bob Kline', 'Simon George', 'Alan Bradley', 'John Hillcoat', 'Àlex Pastor', 'Park Chan-Wook', 'Edna Luise Biesold', 'Greg McLean', 'Jeffrey G. Hunt', 'Terry Cunningham', 'Dylan Baker', 'Prasanth Varma', 'Apirak Samudkidpisan', 'Jeferson De', 'R. Balki', 'Eric Cabello', 'Tony Maylam', 'Tom Green', 'Jason Lai', 'Charles Burnett', 'Zheng Xu', 'Patrick Gilmore', 'Matthew Warchus', 'Leigh Janiak', 'Vincente Minnelli', 'Golam Kibria', 'Basava Shankar Eeday', 'Enzo Pirrone', 'Savvas D. Michael', 'Chris Kentis', 'Anthony Byrne', 'Wayne Blair', 'Crane Wilbur', 'Satyajit Ray', 'Bill Corcoran', 'Adrian Vitoria', 'Norman Lesperance', 'Dee Rees', 'Takeshi Nozue', 'Shlok Sharma', 'Burt Kennedy', 'Russell Harbaugh', 'Joe Menendez', 'Fajar Bustomi', 'Emalee Arroyo', 'Ali Abbasi', 'Freddie Francis', 'Srijit Mukherji', 'Chalerm Wongpim', 'Rachael Connelly Waxler', 'Crystal Moselle', 'Damon Kwame Mason', 'Andres Felipe Orjuela', 'Bill Cote', 'Joon-Sung Kim', 'Julien Hollande', 'Najwa Najjar', 'Richard Kelly', 'Colin Brady', 'Sujeeth', 'Rich Mallery', 'Ibra Ake', 'Dylan Howitt', 'Lucas McGraw', 'Matt Johnson', 'BC Fourteen', 'Darren Brown', 'Jorge Michel Grau', 'Everardo González', 'Nandita Das', 'Joan Tosoni', 'Nitya Mehra', 'Joshua Land', 'David Oelhoffen', 'Stephen Gyllenhaal', 'Vishal Devrukhkar', 'Will Wernick', 'Christian Sesma', 'Richard Donner', 'Kunal Deshmukh', 'Robert A. Palmer', 'Piotr Szkopiak', 'Ali LeRoi', 'Shree Narayan Singh', 'Briar Grace Smith', 'Tim Fywell', 'Shawn Seet', 'Florian Schnell', 'Derek Scott', 'Ilya Naishuller', 'Tony Leondis', 'David Fairhead', 'Tom Gustafson', 'Steve Previn', 'Carl Gottlieb', 'Paul Briggs', 'Yat-Tak Yeung', 'Jason William Lee', 'Frank Marshall', 'Chairun Nissa', 'George Melford', 'Gil Baroni', 'Richard Pearce', 'Simon Rumley', 'Christopher Caldwell', 'Steven Cantor', 'Vardis Marinakis', 'Jess Varley', 'Brian Herzlinger', 'Jen McGowan', 'Neil Jordan', 'Teng Cheng', 'Paul Krüger', 'Ho Choi', 'Melvin Frank', 'Hadrah Daeng Ratu', 'Duccio Tessari', 'Bert Marcus', 'Scott Rutherford', 'Kyle Newman', 'Art Spigel', 'Mag Hsu', 'K.S. Ravindra', 'Eliseo Subiela', 'Gabriel Nuncio', 'Mandla Dube', 'Bill Fulkerson', 'Justin Webster', 'Elsa Flores Almaraz', 'Nicolás Onetti', 'Rusty Cundieff', \"Shane O'Sullivan\", 'David Higby', 'Joe Wright', 'David Guy Levy', 'Evgeny Afineevsky', 'John Mitchell', 'Gary Sinise', 'James Brolin', 'Seth Randal', 'William T. Hurtz', 'John Hazlett', 'Stacia Crawford', 'Omoni Oboli', 'John Hough', 'Danny Pang', 'Limbert Fabian', 'John Tracy', 'Scott Schirmer', 'Josh Safdie', 'James Tovell', 'Ashley Avis', 'Kundan Shah', 'Russell Mulcahy', 'Pawel Pawlikowski', 'Rizal Mantovani', 'Roger Gual', 'David Soren', 'Jay Duplass', 'Yandy Laurens', 'David Mamet', 'Abel Dare', 'Joseph Ruben', 'Paul Satterfield', 'Dan Abraham', 'Brian Jordan Alvarez', 'Nabil Ayouch', 'Stephen Carpenter', 'Liza Mandelup', 'Theodore Boborol', 'Makoto Kiyohiro', 'Ksshitij Chaudhary', 'Bill Condon', 'Jalmari Helander', 'Laura Mañá', 'Quanie Cash', 'LeAnn Erickson', 'Phyllida Lloyd', 'Mickey Keating', 'Faozan Rizal', 'Gisyerg Bermudez', 'Biyi Bandele', 'Ariel Boles', 'T.J. Sullivan', 'Kevin Connolly', 'Ben Anthony', 'Navot Papushado', 'Zander Weaver', 'Soo-il Jeon', 'Umesh Bist', 'Ravi Patel', 'Sergio Delfino', 'John Cork', 'Eric England', 'Tyler Perry', 'Robert Markowitz', 'Mike Smith', 'Alex Zamm', 'Sylvain White', 'Catherine Bainbridge', 'Naranipuzha Shanavas', 'Joe Carnahan', 'Rodney Giesler', 'Ben C. Lucas', 'Henry Hathaway', 'Fernando Meirelles', 'Amos Kollek', 'Gonzalo López-Gallego', 'Paul T. Scheuring', 'Nilesh Maniyar', 'Samantha Counter', 'Svati Chakravarty Bhatkal', 'Randy Mack', 'Russell Howard', 'Anthony Kimmins', 'Steve Boyum', 'Mark Cullen', 'Nic Mathieu', 'Amal Neerad', 'Brandon Dermer', 'Gordon Willis', 'Geordie Day', 'Laurence Avenet-Bradley', 'Alex Gibney', 'Katt Shea', 'Álvaro Brechner', 'Reed Shusterman', 'Jon Olb', 'William Cottrell', 'Sherri L. VandenAkker', 'Akhigbe Ilozobhie', 'Amitoj Mann', 'Alante Kavaite', 'Frank Miller', 'Mahmudul Islam', 'Sabaah Folayan', 'Gary Sinyor', 'Eric Aghimien', 'John Lyde', 'Paul W.S. Anderson', 'Louise Osmond', 'Derek Dodge', 'Krysia Plonka', 'Don E. FauntLeRoy', 'Lawrence Kasdan', 'Rahul Ravindran', 'Rob Coldstream', 'Don Siegel', 'Mark Ezra', 'Isaac Ezban', 'Max Barbakow', 'Alan Yang', 'Maz Jobrani', 'Puri Jagannadh', 'Bart Freundlich', 'Kriv Stenders', 'Chiwetel Ejiofor', 'Bao Nhan', 'Chadd Harbold', 'Michael Davis', 'Lynn Roth', 'Marcel Gisler', 'Jerrold Tarog', 'Danny Boyle', 'Joanna Hogg', 'Marcus Raboy', 'Heather Walsh', 'Stefanie Davis', 'Mark Waring', 'Ben Burtt', 'Melanie Orr', 'Art Leonardi', 'Jon East', 'Scott Derrickson', 'Yuki Tanada', 'Jon Keeyes', 'Severin Fiala', 'David Nath', 'Dominique Monfery', 'Penelope Lawson', 'Randall Stevens', 'Nitin Kakkar', 'Michael Spierig', 'Ibrahim Bin Mohamed', 'Luc Jacquet', 'Richard Loncraine', 'Akin Omotoso', 'Mark Mower', 'Kevin Knoblock', 'Jay Silverman', 'Masaki Kobayashi', 'Fernando Lebrija', 'Keith Truesdell', 'John Putch', 'Richard C. Kahn', 'Lucien Bourjeily', 'Nigel Bach', 'Mark Williams', 'Marc Caro', 'Fred Thomas Jr.', 'Fred Carpenter', 'Ryan Fleck', 'Kevin McMullin', 'Ashima Chibber', 'Valerio Jalongo', 'Andrew Bellware', 'Patrik Syversen', 'Craig Freimond', 'Simon Pummell', 'Victor Schertzinger', 'Seung-hwa Baek', 'Takashi Yamazaki', 'Clint Butler', 'Daniel Joseph', 'Mario Van Peebles', 'Roland Joffé', 'Michael Herz', 'Jasmila Zbanic', 'Kapri Vinod', 'Andrew N. Shearer', 'Ivan Rutkovskyi', 'Catherine Cyran', 'Buta Singh', 'Richie Smyth', 'Chanda Bell', 'John Voorhees', 'Jim Aikman', 'Pedro Flores Maldonado', 'Ashutosh Gowariker', 'Ken Hughes', 'Sara Sugarman', 'Fro Rojas', 'Sushil Majumdar', 'Ben Allen', 'Trish Sie', 'Agnieszka Holland', 'Lisa Bryer', 'Gonzalo Bendala', 'Don Como', 'Naman Nitin Mukesh', 'Stella Meghie', 'Nanfu Wang', 'Hamad AlSarraf', 'Julien Temple', 'Chris Anthony Hamilton', 'Josiah Burdick', 'Poj Arnon', 'Jim Handley', 'Daniel J. Wilner', 'Bill Melendez', 'Jon Cohen', 'Jake Szymanski', 'Ramon Térmens', 'Jin-sung Choi', 'John Schultz', 'Trevor Moore', 'Egor Baranov', 'Sreenu Vaitla', 'Sonia Lowman', 'Jay Dockendorf', 'Jaume Collet-Serra', 'Assaf Bernstein', 'Norman Tokar', 'John Sayles', 'Francine McDougall', 'Steve Paley', 'Ricky Kennedy', 'Sudip Bandyopadhyay', 'Jay Kensinger', 'Bob Odenkirk', 'Tom Donahue', 'Leena Yadav', 'Gabriela Cowperthwaite', 'Julia Reagan', 'Alan Zaslove', 'Christopher Spencer', 'Martin Wood', 'Anne Norda', 'Alexander Wraith', 'Renny Harlin', 'Robert Wilson', 'Gaurav Seth', 'Teddy Lussi-Modeste', 'Al Adamson', 'Salvador Calvo', 'Joseph Ciminera', 'Fred Wolf', 'Paco Aguilar', 'Prakash Jha', 'Justin Kelly', 'Walter Grauman', 'Johannes Weiland', 'Albert Band', 'Yibran Asuad', 'Jeff Zimbalist', 'Richard Benjamin', 'Aqsa Altaf', 'Christopher McQuarrie', 'Vishal Bhardwaj', 'Roger Christian', 'Lake Bell', 'Kate Barker-Froyland', 'Roxanne Boisvert', 'Saurabh Sinha', 'Lih Janowitz', 'Kuntz Agus', 'Rajesh Ganguly', 'Vibeke Idsøe', 'Don Spencer', 'Blake Edwards', 'B.N. Shajeer Sha', 'Robert Cohen', 'Jack Bishop', 'Regardt van den Bergh', 'Alan James', 'Robert N. Bradbury', 'Yûki Yamato', 'Paul Haggis', 'Arthur Greville Collins', 'Francisco Ruiz-Velasco', 'Mehdi Idir', 'Qaushiq Mukherjee', 'Adrian Shergold', 'Jaivi Dhanda', 'Kelly Aluise', 'Boyapati Srinu', 'Stephanie Laing', 'Gregg Bishop', 'Alexandre Courtès', 'Roger Allers', 'David Dodson', 'Bobby Farrelly', 'Kief Davidson', 'Adisorn Trisirikasem', 'Hsin-yao Huang', 'Romi Trower', 'Tim Story', 'Sue Houghton', 'Alessandro Angulo', 'Tosin Coker', 'Andrew Erwin', 'Rai Yuvraj Bains', 'Bradley Parker', 'Stanley Kramer', 'Ernest B. Schoedsack', 'Gaby Dellal', 'Marc Lawrence', 'Carlos Martínez López', 'Kenny Scott', 'Richard Michaels', 'Nat Faxon', 'Kimmy Gatewood', 'Dean Murphy', 'Kevin Bachar', 'Paul Davids', 'Sally Rubin', 'Drea Cooper', 'Carla Grande', 'Hirotsugu Kawasaki', 'Sam Fell', 'Jasti Hemambar', 'Blair Simmons', 'Adam Marino', 'Andrew Dillon', 'Paul Raschid', 'Theresa Demarest', 'Adrian Molina', 'Sharmeen Obaid-Chinoy', 'Bob Nelson', 'Jeff Deverett', 'David L. Hunt', 'Maritte Lee Go', 'Jhonen Vasquez', 'David Gavant', 'Benjamin Stoloff', 'Volker Weicker', 'Jon S. Baird', 'Carlos López Estrada', 'Rajkumar Santoshi', 'Vicky Jenson', 'Jason Woliner', 'Peter Mortimer', 'Lucky Kuswandi', 'N. Linguswamy', 'Iván Gaona', \"Damien O'Connor\", 'Stephen Ives', 'MJ Lallo', 'Jeremy Waltman', 'Lloyd Corrigan', 'Douglas Cheek', 'Nakul Singh Sawhney', 'Atul Manjrekar', 'Olivier Abbou', 'Aemilia Scott', 'Peter Howitt', 'Mike Cahill', 'Phil Wall', 'Gary Wing-Lun Mak', 'Christopher Menaul', 'Éric Cazes', 'Oliver Bokelberg', 'Charlie Bean', 'Tony Kern', 'Paige Goldberg Tolmach', 'Mohammed Ali', 'Simon Fellows', 'Prosit Roy', 'Dexton Deboree', 'Christopher Amos', 'Jonah Bekhor', 'Larry Rosen', 'Morgan J. Freeman', 'Jeta Amata', 'Paul Dano', 'Rahul Bose', 'Alan Alda', 'Daito Manabe', 'Robert Zemeckis', 'Onir', 'Tamara Kotevska', 'Kathryn Lee Moss', 'Arnold Leibovit', 'Kathryn Bigelow', 'Cole Sharpe', 'Stan Dragoti', 'Tom Tykwer', 'Santiago Alvarado Ilarri', 'Myriam Fares', 'Will Yapp', 'Mei-Juin Chen', 'David A. Prior', 'Taichi Ishidate', 'Zhang Chong', 'Jan Belcl', 'R. Kannan', 'Gaurav Narayanan', 'Alex Timbers', \"Cris D'Amato\", 'Sean Hanish', 'Woody Allen', 'Andrea Di Stefano', 'Yakima Canutt', 'Emilio Martínez Lázaro', 'Detlev Buck', 'Son Tung Mtp', 'Christopher Pomerenke', 'Rudolph Maté', 'Stephen S. Campanelli', 'Lorena Muñoz', 'Seong-hun Kim', 'Roberto Girault', 'Hemant Gaba', 'Lane Force', 'Alex Pires', 'Jason Orley', 'Kumar Bhatia', 'Swati Bhise', 'Lee Stanley', 'John G. Avildsen', 'Rodman Flender', 'Dan Villegas', 'Deven Bhojani', 'Marie Schlingmann', 'Philip Einstein Lipski', 'Timothy Greenfield-Sanders', 'Marc Rothemund', 'Hidenori Inoue', 'Julie Nimoy', 'Damian X. Fulton', 'Court Bauer', 'Jon Hewitt', 'Andy Liotta', 'Liz Holzman', 'Doug Prose', 'Adirek Wattaleela', 'Jules Bass', 'Mae Czarina Cruz', 'Mitchell Leisen', 'André Téchiné', 'Alex Díaz', 'Frank W Chen', 'Stephen Suettinger', 'Taylor Chien', 'Masami Hata', 'Matt Spicer', 'Fab 5 Freddy', 'Michaël R. Roskam', 'Rakesh Sarang', 'A. Rajdeep', 'Chris Aronoff', 'Michele Civetta', 'Hong-sun Kim', 'Richard Curtis', 'Emily Cohn', 'David Burton', 'George McCowan', 'Joyce Chopra', 'Hugh Wilson', 'Alexander Witt', 'Maclain Way', 'Casey Affleck', 'Robert Radler', 'Panos Cosmatos', 'Joe Pytka', 'Brad Jayne', 'Barry Jenkins', 'Fumihiko Sori', 'Pascal Laugier', 'Jill Sprecher', 'Dan Fogelman', 'Akarsh Khurana', 'Andrew Fried', 'Phanindra Narsetti', 'Anna Foerster', 'Gordon Parry', 'Mike Jacobs', 'Srivinay Salian', 'Avinash Arun', 'Jean-Claude Flamand-Barny', 'Mick Garris', 'Isold Uggadottir', 'Aharon Keshales', 'Wyatt Cenac', 'James Plumb', 'Nancy Meckler', 'Matthew Holmes', 'Bunty Soorma', 'Ron Underwood', 'Akshay Shankar', 'Louis Morneau', 'Paul Michael Glaser', 'Greg Coolidge', 'Moritz Rechenberg', 'Riley Stearns', 'Art Stevens', 'Michael Lockshin', 'Marcus Dunstan', 'Rachel Mason', 'Daryl Wein', 'David Mackenzie', 'J. Elvis Weinstein', 'Hernan Jimenez', 'Sohail Khan', 'Sameer Patil', 'Luciano B. Carlos', 'Lonny Price', 'Cristina Costantini', 'Derek Talib', 'Datta Keshav', 'Miguel Arteta', 'Reema Kagti', 'Scott Mann', 'Baba Yadav', 'Jefferson Moore', 'Billy Lyons', 'Luc Marescot', 'Toby Genkel', 'Kevin R. Adams', 'Jean Delannoy', 'Eduardo W. Roy Jr.', 'Albert Pyun', 'Will Becher', 'Junpei Mizusaki', 'John Reinhardt', 'James Gunn', 'Danielle Gardner', 'Florian Schott', 'Peter Hastings', 'Will Eisenberg', 'Jonathan A. Rosenbaum', 'Yoshikazu Yasuhiko', 'Becky Bristow', 'Shashanka Ghosh', 'Jonah Miles', 'Erol Özlevi', 'David McNally', 'Jeffrey D. Brown', 'D.B. Weiss', 'Richard E. Grant', 'Chris Koch', 'Christian Charles', 'Natasha Lyonne', 'Robert Eagar', 'Robert Luketic', 'Marjane Satrapi', 'Simcha Jacobovici', 'Vijay Kumar', 'Aram Rappaport', 'Mike Young', 'Kris McManus', 'Mohamed Diab', 'Éva Gárdos', 'Josselin Mahot', 'Jonathan Liebesman', 'Bhavin Wadia', 'Michael Landon Jr.', 'Jay Russell', 'Shambhu Purushothaman', 'Greta Gerwig', 'Catrin Einhorn', 'Syrine Boulanouar', 'Armando Croda', 'Abhinav Shiv Tiwari', 'Jesse Low', 'Randall Lobb', 'Jim Goddard', 'Mamat Khalid', 'Rae Red', 'Jonathan Newman', 'Jean-Bernard Marlin', 'Mohamed Khan', 'Alla Kovgan', 'Derrick Sims', 'Malik Nejer', 'Ross Boyask', 'Jeremy Rush', 'Jeff McGrath', 'William Sachs', 'Olivier Roland', 'Gabriel Carrer', 'Benedikt Erlingsson', 'Mir-Jean Bou Chaaya', 'Rupert Wyatt', 'Anders Sørensen', 'Guillermo de Oliveira', 'Meghna Gulzar', 'James L. Brooks', 'Mario Miscione', 'Matt Askem', 'Fred Schepisi', 'Dominik Sedlar', 'Chris Wedge', 'Blayne Weaver', 'Nidhi m Singh', 'Lee Sales', 'Partha Chakraborty', 'Eliza Hittman', 'Matt Checkowski', 'Frank Paur', 'Mathieu Auvray', 'Li Wei', 'Adam Shankman', 'Daniel Arasanz', 'Damon Davis', 'James Komack', 'Mateo Gil', 'Otoja Abit', 'Jack Savage', 'Virginia Urreiztieta', 'Rajesh Touchriver', 'Dean Parisot', 'Mark Ritchie', 'Hiroyuki Seshita', 'David Greene', 'Scott Aukerman', 'Gangadhar Salimath', 'Chris Miller', \"Steven 'Prozak' Shippy\", 'Moritz Hellfritzsch', 'Tim Neeves', 'Charles Hood', 'David Chirchirillo', 'Jamie Mitchell', 'Vicky Wight', 'Xavier Durringer', 'David McNab', 'Kelsey Mann', 'Jin-pyo Park', 'Michael McCaffrey', 'Mirrah Foulkes', 'Sofian Khan', 'Lina Al Abed', 'Stacey Lee', 'Min-ho Woo', 'Brad Silberling', 'Peter Tsi', 'John P. Gibson', 'Pamela Moriarty', 'Alastair Orr', 'Lou Kennedy', 'Victor Vu', 'Janice Engel', 'Mamoru Hosoda', 'Rob McKittrick', 'Aniedi Awah Noba', 'Amar Kaushik', \"Gina O'Brien\", 'Zep', 'Kresten Vestbjerg Andersen', 'Miro Bilbrough', 'A.R. Murugadoss', 'Jon Izen', 'Jean-François Laguionie', 'Mark Raso', 'April Mullen', 'Max Jabs', 'Johnnie To', 'Kepa Sojo', 'Conor McMahon', 'Moniere', 'Dan Mazer', 'Michihito Fujii', 'Rachid Bouchareb', 'Marcelo Altmark', 'Dani de la Orden', 'Fernando González Molina', 'Milton H. Bren', 'Byungjae Yoo', 'Denis Rovira van Boekholt', 'Adam Dubin', 'Chris Addison', 'Corinne van der Borch', 'Robert Strange', 'Joe Talbot', 'Stuart Paul', 'Dayna Goldfine', 'Mysskin', 'Robert Moore', 'Alexandra Kotcheff', 'Mahmood Ali-Balogun', 'Steven M. Smith', 'Dheer Momaya', 'Federico Milella', 'Oxide Chun Pang', 'Stephen Reynolds', 'Sheldon Lettich', 'Frank Ishizaki', 'Swaroop Rsj', 'Sam Macaroni', 'Jeannine Roussel', 'David Mrnka', 'Barry Shils', 'Olly Blackburn', 'Christine Jeffs', 'Adrian Cale', 'Paul Brizzi', 'Lorene Machado', \"Stanley D'Costa\", 'Ryûhei Kitamura', 'Lotje Sodderland', 'Leslie Hope', 'Praveen Nischol', 'Neil Gelinas', 'Amy S. Weber', 'Cristian Mungiu', 'Bernardo Bertolucci', 'Shaun Garcia', 'Violeta Ayala', 'Brandon Pender', 'Victor Teran', 'Marty Callner', 'Dany Boon', 'Oriol Paulo', 'William E. Badgley', 'Greg Reyna', 'Vijay Milton', 'Cal Seville', 'Frank Capra', 'Vijay Lalwani', 'Kanwal Biala', 'Robert Cuffley', 'Rohin Venkatesan', 'Brian Baugh', 'Claude Pinoteau', 'Paul Munger', 'Shûkô Murase', 'Steve Yu', 'Roy Ward Baker', 'Mariana Tschudi', 'Omung Kumar', 'Lindsay Anderson', 'Kayode Kasum', 'Sabrina Van Tassel', 'Jingming Guo', 'Lauren Miller Rogen', 'Fred Ouro Preto', 'Tom Stout', 'Jim Wheat', 'Umesh Shukla', 'Estevan Oriol', 'Richard Weston', 'Amadeusz Kocan', 'Jerry Hopper', 'Wayne Wapeemukwa', 'Svetlana Cvetko', 'Stanley Yung', 'Adam Sweeney', 'Sean McEwen', 'Norberto Ramos del Val', 'Roger Vadim', 'Nathan Zellner', 'Steve Landreth', 'Stephan Elliott', 'Wych Kaosayananda', 'J.J. Johnson', 'Daniel DiMauro', 'Dexter Fletcher', 'Óskar Thór Axelsson', 'Jean-Marie Pallardy', 'Barry Bowles', 'Shuaib Mitchell', 'John Douglas Sinclair', 'Denis Henry Hennelly', 'Trevor White', 'Richard Greenberg', 'Elizabeth Lo', 'Brett Ratner', 'Nils Bökamp', 'Jamie Adams', 'Baz Poonpiriya', 'Richard Erdman', \"Eddie O'Keefe\", 'Sylvester Stallone', 'Christopher Renz', 'Chris Bartleman', 'Michiel ten Horn', 'Tinu Pappachan', 'Srividya Basawa', 'Milind Rau', 'Jeff Garlin', 'Shigeaki Kubo', 'Max Minghella', 'Almudena Carracedo', 'Robert Bahar', 'Brian King', 'Fred Walton', 'David R. Ellis', 'Gary Katona', 'David Farr', 'Robert Hughes', 'Kate Horne', 'Bruce Van Dusen', 'Chike Ozah', 'Gio Puyat', 'Nima Nourizadeh', 'Malcolm D. Lee', 'Wenn V. Deramas', 'Michael Mann', 'David Zeiger', 'M.L. Pundhevanop Dhewakul', 'Shaz Bennett', 'Michael Mayer', 'Andreas Prochaska', 'Martin Ritt', 'Elaine May', 'Sheldon Charron', 'Debamitra Biswal', 'Ben Wallis', 'Jo Kastner', 'Jack Fisk', 'Tara Moore', 'Aaron Moorhead', 'Maureen Bharoocha', 'Aaron Lieber', 'Andrew Cymek', 'Michael M. Scott', 'Ohmuthi', 'Manolo Caro', 'Janet Harvey', 'Ashwiny Iyer Tiwari', 'Jon Clay', 'Ryan Coogler', 'Ian Edelman', 'Vincenzo Natali', 'Paul Hart-Wilden', 'Bent Hamer', 'Neri Parenti', 'Frédéric Schoendoerffer', 'Gary Lundgren', 'Quentin Tarantino', 'Duncan McMath', 'Tay Garnett', 'Atsushi Takeuchi', 'William D. Wittliff', 'Satyajit Bhatkal', 'Sam Hargrave', 'Todd Kauffman', 'Dennis Keighron-Foster', 'Brian Yuzna', 'Andy Baybutt', 'Venkatesh Maha', 'David Yates', 'Pradeep Verma', 'Jane Campion', 'Merlin Crossingham', 'Daisy von Scherler Mayer', 'Dan Forgione', 'Larry Elikann', 'Linda Mendoza', 'Alexander Laughton', 'Ravi Babu', 'Ben Lear', 'Digo Ricio', 'Thomas Astruc', 'J.C. Chandor', 'Trisha Ziff', 'Joshua Z Weinstein', 'Rob Hedden', 'Tayarisha Poe', 'Filippo Meneghetti', 'Hallie Meyers-Shyer', 'Julien Rambaldi', 'Nicolas Cage', 'Robert Peters', 'Si-Hyun Kim', 'Pradeep Sarkar', 'Colin Trevorrow', 'Jérémy Clapin', 'Joseph H. Lewis', 'Jack Perez', 'Saul Bass', 'Mostofa Sarwar Farooki', 'Dan Rickard', 'Sion Sono', 'Felix Limardo', 'Johan Nijenhuis', 'Greydon Clark', 'Jody Hill', 'Jeff Gipson', 'Mark Kidel', 'Joe Robert Cole', 'Saurabh Shukla', 'Kyle Newacheck', 'Oliver Hermanus', 'Rasmus A. Sivertsen', 'Cory Wexler Grant', 'Russell Holt', 'Claude Lelouch', 'Thabo Mhlatshwa', 'Lance Bangs', 'Joel Crawford', 'Doug Sweetland', 'Matt Bettinelli-Olpin', 'Ernst Gossner', 'Robert Siegel', 'Doug Spearman', 'Steve Buscemi', 'Craig Anderson', 'Ivan Passer', 'Jonathan Singer-Vine', 'Nag Ashwin', 'Ted Tetzlaff', 'William J. Stribling', 'James Seale', 'Moses Inwang', 'Nancy Leopardi', 'Matt Besser', 'Felix Binder', 'Ryan White', 'Steven Luke', 'Manu Ashokan', 'Gabriel Cruz Rivas', 'Pablo Larraín', 'Simon Kaijser', 'Austin Peck', 'Steve Agee', 'Christophe Karabache', 'Nikkhil Advani', 'Raj Kanwar', 'Frank Oz', 'Rachel Ward', 'Robert Fiore', 'Mike Thurmeier', 'Eldar Rapaport', 'Natalie Morales', 'Michael Apted', 'Richard Correll', 'Anna Boden', 'Rohit Bharadwaj', 'Bong Joon Ho', 'Peter Segal', 'Abbas Alibhai Burmawalla', 'Naya Anindita', 'Simon West', 'Avi Goldstein', 'Rakesh Mehta', 'Kris Pearn', 'Ibai Abad', 'Yuen Chor', 'Daniel Benmayor', 'Sriram Raghavan', 'Tanvir Ahsan', 'Jeff MacIntyre', 'Rodrigo Salomón', 'Indra Kumar', 'Patricia Marcoccia', 'Ara Paiaya', 'Mastan Alibhai Burmawalla', 'Lee Esposito', 'Anant Balani', 'Anuraj', 'Tali Shalom-Ezer', 'Tone Grøttjord-Glenne', 'Benny Chan', 'Alan Shapiro', 'Michael Rapaport', 'Wing-Cho Yip', 'Owen Egerton', 'Barry Alexander Brown', 'Yacine Belhousse', 'Michael Dominic', 'Anudeep K.V.', 'Kennedy Goldsby', 'Jeff Blyth', 'Brian Fee', 'Liz Garbus', 'David Ayer', 'Bill Roberts', 'Sanjiv Jaiswal', 'Shawn Cauthen', 'Paul Leyden', 'Satish Vegesna', 'Jane Pollard', 'Luca Palanca', 'Justin Martinez', 'Jérémie Levypon', 'Nicolas Bary', 'Dick Lundy', 'Fred Cavayé', 'Chip Hale', 'David Lowery', 'Tony McNamara', 'Chris Roland', 'Victor Kargan', 'Cheh Chang', 'James Kirkwood', 'Simon Helberg', 'Burt Gillett', 'Paul Currie', 'Jerry Kolber', 'Fred Holmes', 'Tejas Prabhaa Vijay Deoskar', 'Cecil B. DeMille', 'Lester Hsi', 'Tinge Krishnan', 'Sanjib Dey', 'Timothy James Kane', 'Jean-François Pouliot', 'Frasco Mortiz', 'Jed Rothstein', 'Matthew Cooke', 'Narasimha Rao Relangi', 'Kris E. Wheeler', 'Mark Christopher', 'Maia Sandoz', 'Harley Cokeliss', 'Jason Lei Howden', 'Tom Ford', 'Scott Ressler', 'Alex Israel', 'Adam Green', 'Francesca Gregorini', 'Reem Kherici', 'Todd Grimes', 'Sudhendu Roy', 'Willy Adkins', 'Cole Claassen', 'Josh Radnor', 'John Stockwell', 'Titi Jeje', 'Anas Khan', 'Meng-Hua Ho', 'Mike Slee', \"Bill D'Elia\", 'Taylor Hackford', 'Dave Minogue', 'Alexander Nanau', 'Danny Wolf', 'Heather Quinlan', 'John Pasquin', 'Peter Mackie Burns', 'Rima Das', 'Robert Redford', 'John Adams', 'John Lee Hancock', 'Ray Taylor', 'Carlos Morett', 'Marielle Heller', 'Penny Lane', 'Dylan Southern', 'Mike Mitchell', 'Chi Fat Chan', 'John Bowker', 'Bernard McCoy', 'Ken Ghosh', 'Matt Cimber', 'Huida Lin', 'Gokul', 'Andy Serkis', 'Zack Snyder', 'Teja', 'Timothy Linh Bui', 'James Dearden', 'Eric Small', 'Sandra Sciberras', 'Andrew Bujalski', 'Glenn Ficarra', 'Christopher Hines', 'Jamie Babbit', 'Lisa Cortes', 'Rob Letterman', 'Yolanda Ramke', 'Timo Vuorensola', 'Sophie Goodhart', 'Sheena M. Joyce', 'Blair Treu', 'George Stevens', 'Domenico Paolella', 'Vikram Bhatt', 'Gunja Chakraborty', 'Jackie English', 'Tom Shadyac', 'Akira Kurosawa', 'K. Raghavendra Rao', 'Duwayne Dunham', 'David Gelb', 'Jelle de Jonge', 'Noble Jones', 'Jason Bourque', 'Paul Gross', 'Alan Parker', 'Anubhav Sinha', 'Travis Mills', 'Cody Cameron', 'Tanuj Chopra', 'Shashilal K. Nair', 'Victor Halperin', 'Michael Pate', 'Madeleine Parry', 'David Perrault', 'Stan Foster', 'Sang-ho Yeon', 'Kinslin', 'Ian Ray-White', 'Clive Tonge', 'Jim Sheridan', 'Johnny K. Wu', 'Sooni Taraporevala', 'Danny A. Abeckaser', 'Theo Love', 'Joram Lürsen', 'Norton Virgien', 'Lucas Margutti', 'Harry Elfont', 'Devika Bhagat', 'Ismail Ciydem', 'Cathy Garcia-Molina', 'Saket S. Behl', 'David O. Russell', 'Bryan Singer', 'Ted Demme', 'Hubert Woroniecki', 'Ben Cookson', 'Robert Eggers', 'Roger Avary', 'Ridley Scott', 'Frédéric Tcheng', 'William Malone', 'Wes Craven', 'Keith Scholey', 'Curtis Graham', 'Jeff Balis', 'P.J. Hogan', 'Rosana Sullivan', 'Jason Campbell', 'Rachel Lears', 'Adze Ugah', 'Byron Como', 'Dylan Brown', 'Baltasar Kormákur', 'Michael C. Martin', 'Kevin Nolting', 'David A. Vargas', 'Tommy Swerdlow', 'Özcan Alper', 'Thorbjørn Christoffersen', 'Ariel Vromen', 'Mark Dodson', 'Harold Guskin', 'John D. Hancock', 'Peter Sullivan', 'Cameron Yates', 'Adam Jay Epstein', 'Henry Jaglom', 'Jay Craven', 'Wei-Hao Cheng', 'Jonás Trueba', 'Tony Bill', 'J.J. Abrams', 'Jaime Maestro', 'Eric Notarnicola', 'Gregg Araki', 'Rob Pallatina', 'Anvita Dutt', 'Peter Hyams', 'John Polonia', 'Mohamed Samy', 'Walerian Borowczyk', 'Diane LaMacchia', 'Ahmed Yousry', 'Rick Leon', 'James McTeigue', 'Philippe Falardeau', 'Albert Herman', 'Sudha Kongara', 'Jeremy LaLonde', 'Jun Falkenstein', 'Robert McCullough Jr.', 'Prashant Nair', 'Leslie Howard', 'Alejandro Chomski', 'Dave Skinner', 'Justin Kreutzmann', 'Camilla Belle', 'Chris Kelly', 'Pete Docter', 'Rajveer Singh Maan', 'Ruhkiya S. Williams', 'Edmund Entin', 'Mark Henn', 'Ken Cunningham', 'Manish Saini', 'Daniel Prochaska', 'Joey Sylvester', 'William Wyler', 'Erich Sturm', 'Gabriele Muccino', 'Andrew Stanton', 'Rachel Grady', 'Martin Spottl', 'Ed Wexler', 'Thomas Bezucha', 'Ketan Desai', 'Bram Coppens', 'Renae Smith Trevino', 'Wayne Franklin', 'Hao Wu', 'Alexa Kinigopoulos', 'Abdullah Al Noor', 'Reginald Le Borg', 'Tonino Valerii', 'Scott Dunn', 'Jennifer Kent', 'Sizil Srivastava', 'Alex R. Johnson', 'Shalini Kantayya', 'Sasha Burrow', 'James Spinney', 'Kitty Green', 'Rachel Griffiths', 'Maneesh Sharma', 'Mandeep Kumar', 'Tonni Zinck', 'Anh Hung Tran', 'Kevin Deters', 'Murat Kepez', 'Agustin Castaneda', 'Todd Wolfe', 'Steven R. Monroe', 'Ryan Murphy', 'David Ross', 'Sujoy Ghosh', 'Rowan Joffe', 'Shinji Aramaki', 'Hasraf Dulull', 'Dick Rude', 'Paul Taublieb', 'Mennan Yapo', 'Chris Reading', 'Dave Wascavage', 'Gary Yates', 'Aanand L. Rai', 'Pete Jacobs', 'Carlo Carlei', 'Clare Beavan', 'Shauna MacDonald', 'John Brahm', 'Jordan Galland', 'Reed Morano', 'Yasuto Nishikata', 'Stephan Schultze', 'Dan Sladkus', 'Gary Binkow', 'Ben McPherson', 'Storm Saulter', 'Crispin Sadler', 'Helena Bergström', 'Henry Bean', 'Neil Butler', 'Todd Kessler', 'Pedro Kos', 'Milind Dhaimade', 'Jayson Thiessen', 'Michael D. Moore', 'Julius Avery', 'Dwayne Labbe', 'Julian Pölsler', 'Ramsey Nouah', 'Norberto López Amado', 'Marek Kanievska', 'Roger Corman', 'Roger Kumble', 'Lasse Hallström', 'K.C. Bokadia', 'Otilia Portillo Padua', 'Francesco Imperato', 'Julius R. Nasso', 'Ryuichi Hiroki', 'Soleil Moon Frye', 'James D. Fields', 'Jacques Audiard', 'Justin Lin', 'Richard Gray', 'Larry Clark', \"Jim O'Hanlon\", 'Chinaza Onuzo', 'Taylor Guterson', 'Santosh Sivan', 'Jessie Nelson', 'Chuck Russell', 'Aislinn Clarke', 'Jimmy Henderson', 'Kevin Connor', 'Jeff Sherman', 'Tim Robbins', 'Rashane Limtrakul', 'James Cahill', 'David Salzberg', 'Pablo Agüero', 'Sergei Bodrov', 'Kevin Johnson', \"André D'Elia\", 'Catherine Hardwicke', 'Gaspar Antillo', 'Richie Mehta', 'Iginio Straffi', 'Matthew McManus', 'C.A. Gabriel', 'Kevin Altieri', 'Henry Joost', 'Jacques Deray', 'Vasu Varma', 'Bryce Wagoner', 'Del Tenney', 'Alan Barillaro', 'Stephen M. Miller', 'Mike Gabriel', 'Frances McElroy', 'Gavin Hood', 'Hany Motawie', 'Miguel Cohan', 'Alan Byron', 'Edward Burns', 'Nathan Holmes-King', 'Kibwe Tavares', 'Thomas Carr', 'Paul Verhoeven', 'Joe Ranft', 'Elliott Lester', 'Zoe Lister-Jones', 'Sailesh Kolanu', 'Baran bo Odar', 'Gaspar Noé', 'Anthony Hemingway', 'Clay Claiborne', 'Leonard Nimoy', 'Claudia Myers', 'Varun Narvekar', 'Paul Lynch', 'Tim Johnson', 'Pascal Bonitzer', 'Ashraf Fayeq', 'Antonia Bird', 'Ciarán Foy', 'George Lucas', 'Kim Sung-ho', 'Rock Baijnauth', 'Matthew Vaughn', 'Jeannie Gaffigan', 'Lawrence Fowler', 'Nick Moore', 'Martin Weisz', 'Norman Foster', 'Bernie Rao', 'Marilyn Ness', 'Sébastien Betbeder', 'Praveen Kandregula', 'Amanda Sthers', 'Irving Rapper', 'Joaquin Rodriguez', 'Josh Trank', 'Tina Petrova', 'Richard Attenborough', 'Phillip Youmans', 'Radha Blank', 'Ben Stassen', 'Halder Gomes', 'Vic Sarin', 'Jovanka Vuckovic', 'Christian Herrendoerfer', 'Meisa Felaroze', 'Mary Borrello', 'Chris Eigeman', 'Zakir Hossain', 'Alex Merkin', 'Joseph Kuo', 'Liam Lynch', 'Samar Iqbal', 'Dhanush', 'Zhangke Jia', 'Joel Paul Reisig', 'Boaz Yakin', 'Sylas Dall', 'Rob Silvestri', 'John Huston', 'David Raynr', 'Victor Dal Chele', 'Steven Schachter', 'Maurice Linnane', 'Santwana Bardoloi', 'Joel Silberg', 'Tensai Okamura', 'Warren P. Sonoda', 'Alex Richanbach', 'Andrew Bowler', 'Saro Varjabedian', 'George Roy Hill', 'Jon Favreau', 'Stephan Lacant', 'Kenny Leon', 'Kenny Park', 'Vincent Kok', 'Mike Bigelow', 'Dan Garcia', 'James P. Hogan', 'Vitor Brandt', 'Upi Avianto', 'Stephen Norrington', 'Atul Sabharwal', 'Shaun Paul Piccinino', 'Michael Angelo Covino', 'Carl Lindbergh', 'Ben Smallbone', 'Julian Schnabel', 'Howard E. Baker', 'Jake Kasdan', 'Jason Wright', 'Sue Kim', 'Sameer Sharma', 'Franck Ribière', 'Dereck Joubert', 'Hannah Leder', 'Maroun Bagdadi', 'Wilfred Jackson', 'Jen Senko', 'Vondie Curtis-Hall', 'Tommy Wirkola', 'Alexis Morante', 'Ric Roman Waugh', 'Kenny Welsh', 'Houssam El-Din Mustafa', 'Giorgio Serafini', 'Eric Hurt', 'Alfred Hitchcock', 'Jose Javier Reyes', 'John L Matthews', 'Noviandra Santosa', 'Shih-Han Liao', 'Ronny Yu', 'Hanu Raghavapudi', 'David Kennard', 'Umut Aral', 'Michael Drumm', 'Thomas Guard', 'Phil Joanou', 'John Grusd', 'Christian James', 'Sudheer Varma', 'Daniel Snaddon', 'Jay Lavender', 'Katsuhiro Ôtomo', 'Bernard Girard', 'Susan Johnson', 'Michael Bloom', 'Sean Cain', 'H. Bruce Humberstone', 'Diego Cohen', 'Tremain Hayhoe', 'Tony Collingwood', 'Nicole Conn', 'Greg Beeman', 'Casey Walker', 'David Mackay', 'Ken Marino', 'Jimmy Chin', 'Antonio Serrano', 'Kyle Menke', 'Jay Lee', 'Bobby Roe', 'Smeep Kang', 'Patty Jenkins', 'Levin Peter', 'Louis J. Horvitz', 'Ryuta Tasaki', 'Robert F. Hill', 'Luke Snellin', 'Vibhu Puri', 'Olufemi Ogunsanwo', 'Aziz Mirza', 'Tanawat Aiemjinda', 'Daniel Markowicz', 'Chris Bell', 'Tom Whitworth', 'Parveen Kumar', 'Martin Johnson', 'Ruel S. Bayani', 'Leonard Retel Helmrich', 'John Stevenson', 'Mana Yasuda', 'Thomas Callicoat', 'Jong-Sik Nam', 'Juliane Block', 'Arthur Hiller', 'Jason Krawczyk', 'Monty Tiwa', 'Teddy Newton', 'Luis Mandoki', 'Jamie Bradshaw', 'Michael Dougherty', 'Nick Lyon', 'Sam Peckinpah', 'Jeremy Lutter', 'Bobby Roth', 'David Kyle', 'C.D. Stelzer', 'Ryon Baxter', 'K. Muralimohana Rao', 'Vinay Bharadwaj', 'Filip Zylber', 'Michael Gottlieb', 'Anthony Russo', 'Kevin Macdonald', 'Lilly Wachowski', 'Ali Yorgancioglu', 'Adam Egypt Mortimer', 'Dylan Bank', 'Christopher Reeve', 'Hiroshi Katagiri', 'Peter Tewksbury', 'Robert Ginty', 'Vandana Kataria', 'Justin Baird', 'Danielle Winter', 'Clea DuVall', 'Phyllis Ferguson', 'Steven Caple Jr.', 'John Taylor', 'Corey W. Horton', 'Jonathan Demme', 'Jacob Kornbluth', 'Todd Biermann', 'Jason Bateman', 'Tom Reeve', 'Aaron Hendren', 'Frederik Louis Hviid', 'Adrian Warren', 'Sebastián Schindel', 'Doug Liman', 'Sue Ding', 'Ross Venokur', 'Sean Olson', 'Brian Henson', 'Arjun Sablok', 'Josh Doke', 'Jim Amatulli', 'Darnell Martin', 'Malik Vitthal', 'John Hoffman', 'Bridget Savage Cole', 'Renan Ozturk', 'Ozan Açiktan', 'Tamra Davis', 'Mark Evans', 'Tom Holland', 'JJ Fredrick', 'Udayan Pradeep Shukla', 'Nathaniel Atcheson', 'John Potash', 'Olivier Marchal', 'Claire McCarthy', 'Abby Epstein', 'Kristoffer Nyholm', 'Eli Craig', 'Mehmet Ada Öztekin', 'Kiyoshi Kurosawa', 'Daan Jansen', 'Alice Mathias', 'Alfred Santell', 'Sergio Garrone', 'John Guillermin', 'Mohamed Gamal El-Adl', 'Ron Scalpello', 'Lulu Wang', 'Venky Kudumula', 'Sean Anders', 'Daniel Petrie', 'Ron Elliot', 'James Mottern', 'Roger Donaldson', 'Rahat Rahman', 'Jean Dujardin', 'Luis A. Scalella', 'Roy Boulting', 'Dean Devlin', 'Franck Khalfoun', 'Jean-Marc Vallée', 'Victor Quinaz', 'James W. Horne', 'Uwe Heidschötter', 'Graham Elwood', 'Aurora Guerrero', 'Hikari', 'Pierre Morel', 'Janaki Vishwanathan', 'Vignesh Shivan', 'Matthew Heineman', 'Mong-Hong Chung', 'Akiva Goldsman', 'Brendan Muldowney', 'Chris Buck', 'Bryan Spicer', 'Henri Wong', 'Jeff Kirkendall', 'Marta Cunningham', 'Lars Büchel', 'Clay Glen', 'Brea Grant', 'Sathyan Anthikad', 'Takeshi Kitano', 'Tatiana von Fürstenberg', 'Jorge Hinojosa', 'Sam Cullman', 'Eoin Macken', 'Guillaume Pierret', 'Michelangelo Antonioni', 'Borja Cobeaga', 'Luc Besson', 'Mike Myhre', 'Victor M. Ordonez', 'Simon Groß', 'Charles Lamont', 'LeVar Burton', 'Phil Rosen', 'Lauren MacMullan', 'André De Toth', 'Joseph Kane', 'Olivier Assayas', 'Matt Handy', 'Jon Alpert', 'Mansore', 'Sari Gilman', 'Stuart McDonald', 'Hayley MacFarlane', 'Lok Man Leung', 'Padraig Reynolds', 'Anand Kamalakar', 'Kayoze Irani', 'Wolfgang Petersen', 'Carl Schultz', 'Lynne Ramsay', 'Mark Waters', 'Livia Manera', 'Tony Jaa', 'Sarah Lancaster', 'Sean Baker', 'Jake Mahaffy', 'John Schlesinger', 'Nick Weiss', 'Robi Michael', 'Jonathon M.B. Hunter', 'Jeong-beom Lee', 'Del Shores', 'Leo Riley', 'Navdeep Singh', 'Byron Howard', 'Julie Delpy', 'Ian Cheney', 'Soi Cheang', 'Dan Beers', \"Matthew O'Callaghan\", 'Lev L. Spiro', 'Fernando Eimbcke', 'Joel Oliansky', 'Josh Hodgins', 'Rachel Talalay', 'Robert Mulligan', 'Mark Neveldine', 'Gerald Rascionato', 'Joss Whedon', 'Prashanth Neel', 'Graham Heid', 'Galen T. Chu', 'Satoshi Nishimura', 'Jesse Zwick', 'Don McKellar', 'Loveleen Tandan', 'Nora Fingscheidt', 'Adrian Picardi', 'Luke Matheny', 'Toby Trackman', 'Steve Rash', 'Aitor Arregi', 'Kevin Lewis', 'Tom Stubberfield', 'Andy Heathcote', 'Sameh Abdulaziz', 'Bradford Thomason', 'Mark Neale', 'Timothy Hutton', 'Younuts', 'Karan Anshuman', 'Romolo Guerrieri', 'Mike Gutridge', 'Kwabena Gyansah', 'Tim Hamilton', 'Kenneth Lonergan', 'Pablo Aulita', 'Erik Canuel', 'Fulvio Iannucci', 'Michael Winterbottom', 'Nick Broomfield', 'Lisa Immordino Vreeland', 'Staffan Julén', \"Adam O'Brien\", 'Holly Goldberg Sloan', 'Sam Wrench', 'Rob Williams', 'Emile Ardolino', 'Frank R. Strayer', 'David Michener', 'Chase Dudley', 'Martin Scorsese', 'Andrey Konchalovskiy', 'George Cukor', 'Terence Gross', 'Geoff Anderson', 'Thom Zimny', 'Surender Reddy', 'Manik Chatterjee', 'Rako Prijanto', 'Clayton Cogswell', 'Myles Sorensen', 'Johanna Demetrakas', 'Miguel M. Delgado', 'Shawn Rech', 'Edward L. Cahn', 'Ringo Lam', 'Ang Lee', 'Len Wiseman', 'LP', 'Chris Warren', 'Alain Desrochers', 'Barbara Kopple', 'Anthony Maras', 'Daniel Roby', 'Jeremy Kagan', 'Christian Cashmir', 'Herbert Wright', 'Ava DuVernay', 'Jean-Claude Lord', 'Lucy Cohen', 'Alex Lehmann', 'Stuart Gordon', 'Jeff Cassidy', 'Bob Clark', 'Bob Giraldi', 'Deep Joshi', 'Lucas McNelly', 'L. Frazier', 'Andrew Niccol', 'Amin Dora', 'Gene Kelly', 'Dror Soref', 'Carter Smith', 'Lisa Arnold', 'Nick Riedell', 'Hansal Mehta', 'Barry Strugatz', 'Nickolas Dylan Rossi', 'Michael Winner', 'Abhijit Panse', 'Juan Carlos Fresnadillo', 'Felipe Cisneros', 'Ryan Polito', 'Dennis Hopper', 'Adeeb Rais', 'Jeremy Kenyon Lockyer Corbell', 'Chinonye Chukwu', 'Morgan Spurlock', 'Mark L. Lester', 'Mitchell Altieri', 'Fred Durst', 'Tony Giglio', 'William A. Graham', 'Ben Falcone', 'Julio Quintana', 'Doo-yong Lee', 'John Sturges', 'Andrew Heckler', \"Chris D'Arienzo\", 'David L. Cunningham', 'Mike Disa', 'Nicholas Stoller', 'Saleh Sobhan Auneem', 'David McAbee', 'Anurag Singh', 'Jay Kanzler', 'Samuel Omole', 'Darius Marder', 'Zev Berman', 'Dick Maas', 'Will Gluck', 'Meltem Bozoflu', 'Steve Pink', 'Ken Olin', 'Eliane Brum', 'Emmanuelle Bercot', 'Ben Foster', 'Robert Townsend', 'Eléonore Pourriat', 'Jerry Zucker', 'Fergus McDonell', 'Safdar Rahman', 'Christian Tureaud', 'Parmeet Sethi', 'Jagdeep Sidhu', 'J.F. Lawton', 'Prentice Penny', 'Rowland V. Lee', 'Annika Iltis', 'Raja Sen', 'Ryan Ross', 'Jakub Piatek', 'Stella Corradi', 'Michael Switzer', 'Derek Peck', 'Clive Barker', 'Timothy Boyle', 'Scott Moran', 'Andrew L. Schmidt', 'Ron Clements', 'Shonali Bose', 'Chuck Vinson', 'Seth Breedlove', 'Jon Freeman', 'Vivek Agnihotri', 'Abhijit Kokate', 'Bill Karn', \"Federico D'Alessandro\", 'Matías Gueilburt', 'Lewis R. Foster', 'Henry Barrial', 'Taika Waititi', 'Sidney J. Furie', 'Lydia Dean Pilcher', 'Barry Cook', 'Ken Sanzel', 'Dario Argento', 'Roman White', 'Andres Feddersen', 'Alex Nicol', 'Peter Stylianou', 'Zach Parrish', 'Nathan Grossman', 'Conor Allyn', 'Shivani Thakur', 'Dilip Naik', 'Brett Sullivan', 'Jeffrey James Binney', 'Jennifer Kaytin Robinson', 'Antoine Fuqua', 'Abel Berry', 'Shakun Batra', 'Radha Mohan', 'Marina Seresesky', 'Daniel Yee Heng Chan', 'Jim Henson', 'Russ Mayberry', 'Julia Jones', 'Rob Diamond', 'Anand Tiwari', 'Shirish Kunder', 'Ziad Doueiri', 'Andy De Emmony', 'Jimmy Hayward', 'Emma Tammi', 'Larry Shaw', \"Anthony O'Brien\", 'Brandon Camp', 'Larry Morey', 'Il Cho', 'Omar Naim', 'Ben Browder', 'John Carroll Lynch', 'Matthew Killip', 'Jade Castro', 'Gary Winick', 'Andrew Wessels', 'Bala', 'Nicole Scherer', 'Alfons Adetuyi', 'Joan Carr-Wiggin', 'Nishikant Kamat', 'Lenny Sisselman', 'Nick Peet', 'Derrick Borte', 'Adam Larson Broder', 'Bengt Anderson', 'Alejandro Fernández Almendras', 'Carles Torrens', 'Sandi Tan', 'Russell Calabrese', 'Uwe Boll', 'Will Vinton', 'David E. Talbert', 'Anthony Chan', 'Brad J. Silverman', 'Ramin Bahrani', 'Ethan Hawke', 'Brian Stillman', 'David Cherniack', 'Anonymous', 'Ralph Staub', 'Jeff Franklin', 'Samuel Fischer', 'Felix O. Adlon', 'Wim Wenders', 'David Swift', 'Suman Ghosh', 'Gary Rydstrom', \"Eric 'Ptah' Herbert\", 'George Marshall', 'Kerry Conran', 'Richard Thorpe', 'Zhong Yu', 'Chris Thomson', 'Norman Stone', 'Nahnatchka Khan', 'Leah Warshawski', 'Michael Zaiko Hall', 'Terence Hill', 'Renuka Shahane', 'Klay Hall', 'Fernando León de Aranoa', 'Mark Monroe', 'Michel Hazanavicius', 'Oz Rodriguez', 'Michael Epstein', 'Hanung Bramantyo', 'Lucy Swingler', 'Tom DeNucci', 'Dikayl Rimmasch', 'Khoroldorj Choijoovanchig', 'Eric Brevig', 'Allan Arkush', 'Jeremy Teicher', 'Namron', 'Jennifer Morrison', 'Wes Miller', 'David Zellner', 'Hani Al-Shaibani', 'Kate Johnston', 'James Cameron', 'Christian Ford', 'Alfonso Maiorana', 'René Cardona', 'Lasja Fauzia', 'Marc Forster', 'Kangana Ranaut', 'Philip Saville', 'Jon M. Chu', 'Garrett Batty', 'Abbas Kiarostami', 'Patrick Magee', 'Bo Burnham', 'Charles Visser', 'Barry Gonzalez', 'Indrajit Nattoji', 'Elliott Nugent', 'Michael Traeger', 'Carlos Saldanha', 'Charles Vidor', 'Kevin Kangas', 'Jeff Margolis', 'Ben Sharpsteen', 'Luis Estrada', 'Stephen J. Anderson', 'Bryan Fogel', 'One9', 'Punit Malhotra', 'Stephen Belber', 'Mack V. Wright', 'Brad Bird', 'David Dhawan', 'Shyam Benegal', 'Matthew Michael Carnahan', 'Rodolphe Guenoden', 'Jeff Gill', 'Gilles Lellouche', 'Lygia Barbosa', 'Alvaro Delgado Aparicio', 'White Cross', 'Gary Goldman', 'Joaquín Luis Romero Marchent', 'Diarmuid Lawrence', 'John Fortenberry', 'Tarsem Singh', 'Alex Mann', 'Jeff Wilson', 'Will McFadden', 'Ian Rosenberg', 'Fina Torres', 'Steve Carver', 'Paul Demeyer', 'Ninian Doff', 'Cory Krueckeberg', 'Cati Gonzalez', 'Jason Schnell', 'Pedro Coutinho', 'Edward F. Cline', 'Kemi Adetiba', 'Justin Nijm', 'Thadd Turner', 'Richard Linklater', 'Michael Noer', 'Jeremy Degruson', 'Sachin Pilgaonkar', 'Pedring Lopez', 'Robert Smigel', 'Kirk Harris', 'Greg Kwedar', 'Phil Karlson', 'Chris Butler', 'Don Hall', 'Stanley Tong', 'Steve Loter', 'Sooraj R. Barjatya', 'Donal Mosher', 'Daniel Monzón', 'Sarah Polley', 'Seth Green', 'John Harrison', 'Jay Dev Banerjee', 'Rohit Jugraj', 'Eric Stoltz', 'Sean Bogle', 'Dianne Dreyer', 'Tarun Mansukhani', 'Lucien Jean-Baptiste', 'James Gartner', 'Questlove', 'Nalan Kumarasamy', 'Jeremy Haft', 'Sagar S. Sharma', 'Mrighdeep Lamba', 'Sergey Mokritskiy', 'Ram Gopal Varma', 'Todd Barnes', 'Walker Whited', 'Taylor Morden', 'John Smithson', 'Andrew Jacobs', 'Nisha Ganatra', 'Monika Mitchell', 'Mark Andrews', 'Jason Chimonides', 'Koratala Siva', 'Daniel J. Clark', 'Madonne Ashwin', 'Alan Caldwell', 'Durul Taylan', 'Christine Luby', 'Ulrike Kofler', 'Louie Schwartzberg', 'Christoph Schrewe', 'Frank E. Johnson', 'Jimmy Pope', 'Don Keeslar', 'Josh Lowell', 'Richard Bates Jr.', 'J.D. Feigelson', 'Francesco Amato', 'Brian Volk-Weiss', 'John Harrigan', 'Scott Perlman', 'Ramón Salazar', 'Robert Young', 'Nuel C. Naval', 'Denny Lu', 'Wynn Padula', 'Sidney Lanfield', 'Juan Pablo Buscarini', \"Shin'ya Sadamitsu\", 'Gagan Puri', 'Charles L. Draper', 'B. Unnikrishnan', 'Duncan Skiles', 'Emily Ting', 'Jorge M. Fontana', 'In-soo Radstake', 'Yilmaz Erdogan', 'Rhys Thomas', 'Sebastián Lelio', 'Lamberto Bava', 'Athiyan Athirai', 'Max Giwa', 'David Langlitz', 'Michael Civille', 'Anthony Burns', 'Lee Unkrich', 'Goutam Ghose', 'Matthew Leutwyler', 'Chaitanya Tamhane', 'John Requa', 'Wayne Abbott', 'Kiel McNaughton', 'Pa. Ranjith', 'Anthony Onah', 'Koki Shigeno', 'Anita Udeep', 'Joe Cacaci', 'Iain Softley', 'Cecilia Verheyden', 'Cooper Karl', 'Pavitra Chalam', 'Nadia Hallgren', 'Farah Nabulsi', 'Naresh Saigal', 'James Wan', 'Rino Arreaza', 'Demian Fenton', 'Michael Radford', 'Jayan Moodley', 'Nina May', 'David Rambaldi', 'Josh Cooley', 'Sachin', 'Paul Solet', 'Jennifer Michelle Stone II', 'Marc Meyers', 'Whitney Cummings', 'Jim Wynorski', 'Rajesh M. Selva', 'David P. Smith', 'Daniel Robinette', 'Jim McBride', 'Cristi Puiu', 'Dan Forrer', 'Barrett Esposito', 'Don Mancini', 'Shefali Bhushan', 'Grant Baldwin', 'Yoshitaka Takeuch', 'Jennifer Lee', 'Andres Clariond', 'Katharine Emmer', 'Richard Dutcher', 'C. Fraser Press', 'Myroslav Slaboshpytskyi', 'Fiona Dawson', 'Brian De Palma', 'Victoria Negri', 'Mark Polonia', 'Christopher Duddy', 'Keith Melton', 'Kurt Mündl', 'Patrick Brice', 'Christopher Martin', 'Eric Leighton', \"Bozidar 'Bota' Nikolic\", 'Mark Atkins', 'Sergio Mimica-Gezzan', 'John Rauschelbach', 'Thomas Matthews', 'James Neilson', 'Joseph Jones', 'Cullen Blaine', 'Robert Dalrymple', 'Vetrimaaran', 'Thomas Sieben', 'Michael Legge', 'Olivier Nakache', 'Patrick Leung', 'C. Prem Kumar', 'Sadeq Behbehani', 'Chester Tam', 'Bharat Kamma', 'Ophelia Harutyunyan', 'Marc Vigil', 'Marc Webb', 'Idris Elba', 'Alfred L. Werker', 'Renars Vimba', 'Benjamin Ree', 'Parambrata Chattopadhyay', 'PJ Moynihan', 'Matthew Toronto', 'Sergio Pablos', 'Felix Chong', 'Ladislaus Kiraly', 'Navjot Gulati', 'Gabrielle Demeestere', 'Darcy Weir', 'Daniel Gilboy', 'Anthony Leone', 'Alo Sarkar', 'Steve Oedekerk', 'Anurag Basu', 'Samu Fuentes', 'Jonathan Lynn', 'Roy Allen Smith', 'Francis Lee', 'Jetarin Ratanaserikiat', 'Edward Gray', 'Savage Steve Holland', 'Gus Van Sant', 'Danny Garcia', 'August Jakobsson', 'Josh Greenbaum', 'Todd Graff', 'Charlie McDowell', 'Aditya Sarpotdar', 'Johane Matte', 'Ramy Romany', 'Caroline Suh', 'Joe Johnston', 'Malcolm St. Clair', 'Ondi Timoner', 'Robin Pront', 'David Sampliner', 'Ross W. Clarkson', 'Michael O. Sajbel', 'John Sanford', 'Nisheeta Keni', 'Walt Becker', 'Jesse Sweet', 'Valli Bindana', 'Chris Peckover', 'Deepak Balraj Vij', 'Louise Palanker', 'Václav Marhoul', 'Hae Young Jung', 'Bryan Lewis', 'Jena Serbu', 'Lars Klevberg', 'Bassam Tariq', 'Faraday Okoro', 'Jan de Bont', 'Lawrence Raghavendra', 'David Lane', 'Jazz Boon', 'Philip Gardiner', 'Anjum Shahzad', 'Jerry Seinfeld', 'David Paul Meyer', 'Milap Zaveri', 'Michael Kerry Matthews', 'Anees Bazmee', 'T. Hee', 'Paolo Sorrentino', 'Obin Olson', 'Scott Wheeler', 'Theodore Melfi', 'Mark Jones', 'Ben Wheatley', 'Liz Tuccillo', 'Wagner de Assis', 'Daniel Grasskamp', 'Ka-Fai Wai', 'Ranjit Tewari', 'Jan Komasa', 'George Schaefer', 'Daniel H. Birman', 'Archie Hekagery', 'Fletcher Markle', 'Lauren Lazin', 'Michael Parkhurst', 'Simon McQuoid', 'Pei-Chuan Li', 'Vincent McEveety', 'V. Vignarajan', 'Don Bitters III', 'Michael Dowse', 'Wayne Orr', 'Bob Peterson', 'Emmett Malloy', 'Ricardo Maldonado', 'Jill Culton', 'Neeraj Vora', 'Karen Elizabeth Price', 'Chris Hopewell', 'Toby Parkinson', 'Austin Stark', 'David Johndrow', 'Tomotaka Shibayama', 'Tim Federle', 'Peter Berg', 'Kenneth Castillo', 'Vikram Pradhan', 'Vijay Kumar Arora', 'Chick Vennera', 'Reinhard Klooss', 'Jenny Gage', 'Simon Aboud', 'Phillip R. Ford', 'Peter McBride', 'Rajiv Chilaka', 'Jordan Barker', 'James Kent', 'Salomón Askenazi', 'John L. Matthews', 'Jens Östberg', 'Andrew Walkington', 'Vaughn Taylor', 'John Andreas Andersen', 'Nicolas Roeg', 'Lisa Zi Xiang', 'Halitha Shameem', 'Gary Chapman', 'Joko Anwar', 'Nagesh Kukunoor', 'Stanley Nelson', 'Mark McLaughlin', 'Kavi Raz', 'Diane Jessie Miller', 'Frank Nissen', 'Houda Benyamina', 'Jeff Feuerzeig', 'Chris Roy', 'Robert Lieberman', 'Michael John Warren', 'Massimo Dallamano', 'Frant Gwo', 'Carlo Padial', 'Thor Freudenthal', 'Judah Friedlander', 'Alex Winter', 'Richard Tanne', 'David Au', 'Victor Gatonye', 'Merian C. Cooper', 'Mark A.Z. Dippé', 'Bart Layton', 'Daresha Kyi', 'George Fitzmaurice', 'Sergio Martino', 'Aparna Malladi', 'Natalia Leite', 'Freddie Waters', 'Will Wallace', 'Zackary Adler', 'Prasobh Vijayan', 'Bradley Raymond', 'Donovan Marsh', 'Dylan Anthony Moran', 'James Lebrecht', 'Harshavardhan Kulkarni', 'D.W. Young', 'Kiran Rao', 'John Erman', 'Juani Libonatti', \"Tim O'Donnell\", 'Hyung-rae Shim', 'Tony Richardson', 'Bud Luckey', 'Tig Notaro', 'Crisanto Aquino', 'Bruno Garotti', 'Philip Kaufman', 'Takashi Shimizu', 'Richard Blake', 'Erle C. Kenton', 'Joshua Kissi', 'Adam Rodgers', 'Jamie Thraves', 'Khairiya A-Mansour', 'Aamir Khan', 'Esteban Crespo', 'Christopher Cain', 'Elizabeth Rohrbaugh', 'Nancy Buirski', 'Laxman Utekar', 'S.S. Vasan', 'Alice Gu', 'Michael LaBash', 'Hamilton Luske', 'Brad Anderson', 'Chris Renaud', 'George Clooney', 'Brendan Merrill', 'Fazila Allana', 'Marwan Hamed', 'Toni Myers', 'Kevin Hooks', 'Craig McMahon', 'Gregory Monro', 'Justin G. Dyck', 'Kevin Wotton', 'Tammy Langton', 'Doug Campbell', 'Jeffrey Walker', 'Mitchell Klebanoff', 'Matt Whitlock', 'Johnny Castuciano', 'William H. Bushnell', 'Lewis D. Collins', 'Samuel Armstrong', 'Cuba Gooding Jr.', 'Don McBrearty', 'Spike Jonze', 'Gobi M. Rahimi', 'James Ward Byrkit', 'Katrina Hadley', 'Jonathan Baker', 'Javier Colinas', \"Matt O'Mahoney\", 'Wallace Fox', 'Orson Welles', 'Pablo Chehebar', 'Frank Gladstone', 'Burt Medall', 'Victor Cook', 'Yemisi Brookes', 'Maarten Treurniet', 'Roberts Gannaway', 'Nathaniel Kahn', 'David Nerlich', 'Daniel Duran', 'In-mu Heo', 'Sam Katzman', 'Kunle Afolayan', 'James Erskine', 'Domee Shi', 'Joseph J. Lawson', 'Mark Jackson', 'Chung-Hyun Lee', 'Michelle MacLaren', 'Bagus Bramanti', 'Hannes Stöhr', 'Jeff Mednikow', 'Stanley Moore', 'James Toback', 'Feo Aladag', 'Adriana Trigiani', 'Megan Wennberg', 'D.W. Griffith', 'Kristin Hanggi', 'Ulises Valencia', 'Vicente Peñarrocha', 'Bernard Vorhaus', 'Jay Baruchel', 'Bashir El Deek', 'Sachin Yardi', 'Andrew Patterson', 'Allyson Patel', 'Sandrine Orabona', 'Patrick Tatopoulos', 'Karyn Kusama', 'Pier Carpi', 'Michael G. Cooney', 'Alfred Sole', 'Jathin Sanker Raj', 'Mukunda Michael Dewil', 'Lucio Fulci', 'J. Robert Wagoner', 'Fuwad Khan', 'Raaghav Dar', 'Daniela Goggi', 'Mario Bava', 'Andrew V. McLaglen', 'Dianna Basso', 'Michael Anderson', 'Jan-Peter Horns', 'Thanabodee Uawithya', 'Erwin van den Eshof', 'Rick Beyer', 'Eric Quizon', 'Ethan Coen', 'Michael Jai White', 'Jack Cutting', 'Todd Douglas Miller', 'Eric Abrams', 'Kyle Balda', 'Colleen Krantz', 'Hollingsworth Morse', 'Ole Bornedal', 'Sandra Luckow', 'Patrick Collerton', 'Archie Mayo', 'Jay Freund', 'Ramtin Lavafipour', 'Terry Jones', 'Liza Johnson', 'Dan Berk', 'Peter Jackson', 'Yash Chopra', 'Norman Ferguson', 'Darling Krishna', 'Lasse Barkfors', 'Tugçe Soysop', 'Narendra Nath', 'Sunao Katabuchi', 'Laurent Bouhnik', 'Jessica Hausner', 'Scott Cooper', 'Rebecca Johnson', 'Henrique Couto', 'David Semel', 'Robert J. Flaherty', 'Elizabeth Leiter', 'Ken Denison', 'Elan Dassani', 'Tyler Wayne', 'Dycee Wildman', 'Ayman Makram', 'Josef Fares', 'Henry Cornelius', 'Ken Boyer', 'Matheus Souza', 'Janus Metz', 'Ben Finney', 'Sarah Siegel-Magness', 'Nico Mastorakis', 'Jim Field Smith', 'Brian Avenet-Bradley', 'Julie Taymor', 'Ted Newsom', 'Aatla Arjun Reddy', 'Ken Cameron', 'Cassandra Mackay', 'Greg Whiteley', 'Rusty Nixon', 'Andibachtiar Yusuf', 'Sebastián Hofmann', 'Brian Hennigan', 'John Burgess', 'James Gardner', 'Millicent Shelton', 'Kornél Mundruczó', 'Darren Lynn Bousman', 'Adam Bhala Lough', 'Melanie Mayron', 'Stuart Beattie', 'Brad Helmink', 'Frederick De Cordova', 'Corey Yuen', 'Antony Cordier', 'Beppe Tufarulo', 'Hideaki Anno', 'Dan Oliver', 'Morgan Fallon', 'Jonathan Hensleigh', 'Fernando Coimbra', 'Appie Boudellah', 'Alfredo Soderguit', 'Kate Melville', 'Fary Brito', 'Richard Marquand', 'Balu Mahendra', 'Daniel Gray Longino', 'Ji-woo Jung', 'Randall Hood', 'Mic Rodgers', 'Steve Nash', 'Andrew Jarecki', 'Vishwesh Krishnamoorthy', 'Gregory Hatanaka', 'Paul Sabella', 'Tony Elliott', 'Rian Johnson', 'Yann Demange', 'Crispian Mills', 'Alex Wright', 'Martin Prakkat', 'Michael Fimognari', 'Akihiko Yamashita', 'Viren Patil', 'Ekwa Msangi', 'Julia von Heinz', 'Vasan Bala', 'Mani Ratnam', 'Shannon Hartman', 'Tomasz Mandes', 'François Truffaut', 'Marco Bonfanti', 'Pushkar', 'Peter Spierig', 'Navin Dev', 'Patrick Wells', 'David Stubbs', 'Steven Quale', 'Hal Kanter', 'Francis Glebas', 'Steve Antin', 'Brendan Walsh', 'André van Heerden', 'Shouta Kitamoto', 'Gregory Nava', 'Amrik Gill', 'Steven Bognar', 'Fernando Frias', 'Moxie Peng', 'Michael Blieden', 'Ty Hodges', 'Tom McCarthy', 'Su-Mae Khoo', 'Kaushik Ghatak', 'Jeff Chan', 'Scott Spiegel', 'Dharmesh Darshan', 'Karaan Guliani', 'Gillies MacKinnon', 'K. Asher Levin', 'Suzanne Coote', 'David LaChapelle', 'Björn Stein', 'Kirby Dick', 'Jadesola Osiberu', 'Andrew Waller', 'Elaine Bogan', 'Jaime Habac Jr.', 'Guillermo del Toro', 'Josh F. Huber', 'Iñaki Dorronsoro', 'Pierre Deschamps', 'Milan Luthria', 'Rob Schmidt', 'Keishi Ohtomo', 'Michael Govier', 'Gaurav Bavdankar', 'John Frankenheimer', 'Dar Gai', 'Matt Sweetwood', 'Navinder Pal Singh', 'Stephen Shimek', 'Aiji Okazaki', 'Noel Cleary', 'Albert C. Gannaway', 'Scott Pembroke', 'Eric Bilitch', 'Thurop Van Orman', 'Justin Baldoni', 'Trinadha Rao Nakkina', 'Kanak Mishra', 'Maurice Joyce', 'Nico Raineau', 'David Priest', 'Michael Samuels', 'Stuart Sender', 'Steven Silver', 'J Blakeson', 'Ian Nelms', 'Hitoshi Nanba', 'Brian Klein', 'David Hugh Jones', 'Alfred Zeisler', 'Sajid Khan', 'Steve Gukas', 'Kevin Parker Flynn', 'Tony Vidal', 'Damien Goodwin', 'Andrew Slater', 'Roy William Neill', 'Hiromasa Yonebayashi', 'Nick Sweeney', 'Bradley Kaplan', 'Umberto Lenzi', 'Anthony Machi', 'Charles Marquis Warren', 'Romola Garai', 'Joe Nussbaum', 'J.J. Alani', 'Chris LaBonte', 'Dean Cundey', 'Ding-Lin Wang', 'Ethan Maniquis', 'Chris Oxley', 'Andy Wolk', 'Ritu Singh Pande', 'Carey McKenzie', 'Albert S. Rogell', 'Joey So', 'Paul G. Volk', 'Nishanth Ravindaran', 'Mark Osborne', 'Kari Skogland', 'Diane Eskenazi', 'Alan Ritchson', 'Stephen Kijak', 'Shannon Kelley', 'Shane Poettcker', 'Catherine Breillat', 'K.K. Raina', 'Rob LaDuca', 'Rob Zombie', 'Mike White', 'Nicholas DiBella', 'Sylvie Gilman', 'Peter Robert', 'Eshom Nelms', 'Anthony White', 'Peter Wellington', 'Joel Schumacher', 'Jon Hurwitz', 'Rodrigo Reyes', 'Shûsuke Kaneko', 'Florian Ordonez', 'Steven Shainberg', 'Richard Roy', 'Fred Dekker', 'Mathieu Ratthe', 'Songyos Sugmakanan', 'Charles Stone III', 'Jeff Nichols', 'Lance Rivera', 'Jack Arnold', 'Alejandro Brugués', 'Les Mayfield', 'Amy Ziering', 'Siddharth Malhotra', 'Jon Turteltaub', 'Cheyenne Picardo', 'Debra Granik', 'Peter Webber', 'Y. Joon Chung', 'Peter Sohn', 'Samantha Stark', 'Todd Wilderman', 'Oleg Trofim', 'Nonzee Nimibutr', 'Saran', 'Sonny Mallhi', 'Scott Windhauser', 'Tom Jenner', \"Francisco D'Eufemia\", 'Aleksey German Jr.', 'Nicolas Gessner', 'Trent Haaga', 'Brad Peyton', 'Elisa Fuksas', 'Sam Rega', 'Samantha Buck', 'Jordon Prince-Wright', 'Delmer Daves', 'Guillaume Renard', 'Stan Lathan', 'Christopher Ray', 'Martin Owen', 'Boaz Dvir', 'Stacie Passon', 'Ben Stiller', 'Jeffrey Schwarz', 'Douglas Aarniokoski', 'Mandie Fletcher', 'Benjamin Kasulke', 'Philippe Gagnon', 'Terrie Samundra', 'Jessica Hynes', 'Frank E. Abney III', 'Alex Holmes', 'Wim Bien', 'Joe Angelo Menconi', 'Rick King', 'Jim Loomis', 'Cathryn Michon', 'Chuan Lu', 'Nur Jihat Hisyam', 'Vanessa Parise', 'Christina Faith', 'Leigh Jason', 'A. Edward Sutherland', 'Sean McNamara', 'Danish Singh', 'Thomas Hennessy', 'Richard Heap', 'Jui-Chih Chiang', 'Danny J. Boyle', 'Nicolas Pesce', 'Robin Hays', 'Bill Oliver', 'Lixin Fan', 'Ricardo Jacques Gale', 'Fraydun Manocherian', 'Alfonso Cuarón', 'Rob Stewart', 'Franklin J. Schaffner', 'Benjamin Weill', 'Maksim Volkov', 'Sara Colangelo', 'Jean-Pierre Dardenne', 'Mariano Cohn', 'Josh Alexander', 'Toka McBaror', 'Tyler Nilson', 'Miguel Ángel Lamata', 'C.J. LongHammer', 'Charles Walters', 'Jake Helgren', 'Akhil Paul', \"Tom O'Dell\", 'Aleksandr Dulerayn', 'Panna Rittikrai', 'Jonathan Prince', 'Charles Dance', 'Chang-hwa Jeong', 'Naoko Yamada', 'Harvey Lowry', 'Oz Perkins', 'Davis Guggenheim', 'Kevin Bray', 'James Redford', 'David Moreton', 'Peter Orton', 'Leslye Davis', 'Toby Poser', 'Christopher Murray', 'Nimród Antal', 'Luiso Berdejo', 'Tyler Spindel', 'Lokesh Kanagaraj', 'Fermín Muguruza', 'Nick Stagliano', 'Bujar Alimani', 'Barak Goodman', 'Andrew Mecham', 'Ryan Koo', 'Farah Khalid', 'Perci M. Intalan', 'Andrew Nackman', 'Hassan AbdulSalam', 'Zak Bagans', 'Frankie Chung', 'Jeff Calhoun', 'Jack Donohue', 'Walter Lang', 'Indar Dzhendubaev', 'Rafa Montesinos', 'Matthew Bright', 'Dee McLachlan', 'Andy Dick', 'Sam Qualiana', 'Al Campbell', 'Marco Petry', 'Hiromichi Matano', 'Michael A. Nickles', 'Petar Pasic', 'Ali F. Mostafa', 'Jay Alaimo', 'Rodrigo Guardiola', 'Joel David Moore', 'Zach Golden', 'Sam Liu', 'John Patrick Shanley', 'Randall Wallace', 'Aaron Blaise', 'Robert Pulcini', 'Wes Llewellyn', 'Deon Taylor', 'Elliot Page', 'J. Lee Thompson', 'Neeraj Pandey', 'David Bruckner', 'John Stalberg Jr.', 'Douglas McCarthy', 'Ishaya Bako', 'Alban Teurlai', 'Jocelyn Moorhouse', 'Mark Mertens', 'David France', 'Billy Wilder', 'Arthur Penn', 'Michael Linn', 'Felix Starck', 'Mark Griffiths', 'Álex de la Iglesia', 'Kate Mulleavy', 'Joston Theney', 'Sarah Daggar-Nickson', 'Josh Wakely', 'Andrea Dorfman', 'Tommy Walton', 'Kenneth Gyang', 'Shoojit Sircar', 'Lance Mungia', 'Ruben Östlund', 'Emcy Joseph', 'Peter Nelson', 'Daniel Hendricks Simon', 'David Lee Miller', 'Guddu Dhanoa', 'Farida Pacha', 'Dominique Rocher', \"Adam 'Tex' Davis\", 'Armando Iannucci', 'Ezel Akay', 'Sam Mendes', 'Chris Nicols', 'Niels Arden Oplev', 'Rupert Sanders', 'Joe Berlinger', 'Warren Fast', 'Suzette Winter', 'Abby Kohn', 'Sam Raimi', 'Asghar Farhadi', 'Hernán Belón', 'Meng Zhang', 'Derek Wayne Johnson', 'Luis Ara', 'Morgan Neville', 'Joshua Izenberg', 'Harald Pokieser', 'Deborah LaVine', 'Dani Levy', 'León Klimovsky', 'Burny Mattinson', 'Ahsan Rahim', 'Stephen Poliakoff', 'Mark Lafferty', 'Pedro Brenner', 'Balaji Sakthivel', 'Darren Press', 'Aditya Kripalani', 'Steven Brill', 'Craig Roberts', 'Tucia Lyman', 'Scot McFadyen', 'Jericca Cleland', 'Jordan Brady', 'Alberto Mariscal', 'Terry Miles', 'Kieran Darcy-Smith', 'Kirk Jones', 'Nayoon Kim', 'Juan Miguel del Castillo', 'Vinil Mathew', 'Karen Maine', 'Dallas Jackson', 'Gabriela Tagliavini', 'David Mahmoudieh', 'Brett Haley', 'A. Bhimsingh', 'Craig Syracusa', 'Wes Anderson', 'Raúl Arévalo', 'Luke Korem', 'Oliver Murray', 'Jerry Rothwell', 'Marco Risi', 'Sudhir Mishra', 'Anu Menon', \"Tony D'Aquino\", 'Karan Razdan', 'Amy Segal', 'Sophon Sakdaphisit', 'Girish Malik', 'Angshuman Ghosh', 'Rob Burnett', 'Cristina Jacob', 'Jack Nicholson', 'Chadney Cooles', 'Ronald K. Armstrong', 'Steve Barker', 'Milton Katselas', 'Aaron Norris', 'Peter Mullan', 'Paul M. Green', 'Earl Bellamy', 'Thorsten Schmidt', 'Jon Erwin', 'Rajshree Ojha', 'Henrik Martin Dahlsbakken', 'Dan Curtis', 'Monty Miranda', 'Michelle Ehlen', 'Stuart Hazeldine', 'Ryan McGonagle', 'Kenneth G. Crane', 'James D.R. Hickox', 'Andrew Renzi', 'Ari Aster', 'Robin Bissell', 'Prabhakaran', 'I. Drakos', 'Ron Howard', 'Taron Lexton', 'Susanna Nicchiarelli', 'Albert Hughes', 'Danny Leiner', 'Zach Math', 'Ali Scher', 'Frida Barkfors', 'Sharon Maguire', 'Michael Arias', 'Ralph Ziman', 'B. Ramakrishnaiah Panthulu', 'Hashim Nadeem', 'Roland West', 'Louise Alston', 'Robert Nixon', 'Tian-Ming Wu', 'Faris Godus', 'Travis Milloy', 'Daisy Aitkens', 'Vlad Yudin', 'Edwin', 'Marti Noxon', 'Jean Yarbrough', 'Robert Kelley', 'Lana Wachowski', 'Nick Nanton', 'Zak Penn', 'David Lam', 'Marcel Dorian', 'Sanjay Jadhav', 'Hermann Vaske', 'John Ford', 'Mikael Håfström', 'Richard Talmadge', 'Jeff Stilson', 'Pratim D. Gupta', 'Dana Doll', 'Elite Zexer', 'Eugene Weis', 'Anna Migotto', 'Peter Ho-Sun Chan', 'Rhiannon Bannenberg', 'Joey Soloway', 'Giles Foster', 'James F. Collier', 'Mir Mukarram Hossain', 'Rene Bueno', 'Luca Guadagnino', 'Matt Palmer', 'Jesse Handsher', 'Justin Pemberton', 'Jerry Kramer', 'Gareth Edwards', 'Eva Neymann', 'Kevin Kerslake', 'Carl Prechezer', 'Federico Fellini', 'Bille August', 'Drake Doremus', 'Bernard Rose', 'Helena Coan', 'Tosca Musk', 'Marc Brown', 'Pannaga Bharana', 'Susan Kucera', 'Jonathan Helpert', 'Jennifer Westcott', 'Tuck Tucker', 'Marja-Lewis Ryan', 'Laura Brownson', 'Arnab Chaudhuri', 'Alistair Legrand', 'Glenn McQuaid', 'Kentaro Takayanagi', 'Franck Phelizon', 'Frank Borzage', 'Joseph F. Alexandre', 'Yvan Attal', 'John K.D. Graham', 'Samir Soni', 'Coerte Voorhees', 'Matt Piedmont', 'Tom Putnam', 'Hajime Kamegaki', 'Ahmad El-Badri', 'Tim Sutton', 'John Shepphird', 'Barbara Bialowas', 'Rachel Lambert', 'T.J. Martin', \"Peter O'Brian\", 'Giulia Clark', 'Tony Craig', 'Mark L. Taylor', 'Joaquín Mazón', 'Vishal Pandya', 'Ainsley Gardiner', 'Chia-Liang Liu', 'Buchi Babu Sana', 'Edward Zwick', 'Maiken Baird', 'Kasper Collin', 'Shanawaz Nellikunnil', 'Joe Camp', 'Zev Chevat', 'Jugal Hansraj', 'Michael Caulfield', 'Douglas Sirk', 'Lou Antonio', 'Chris Moukarbel', 'Alejandro Amenábar', 'Rowan Athale', 'Vadim Kapridov', 'Tony T. Datis', 'Nigel Thomas', 'Nottapon Boonprakob', 'Shiva Nirvana', 'Matthew Ross', 'Zeina Durra', 'Peter Hewitt', 'B.J. Perlmutt', 'Keith Bearden', 'Carlos Puga', 'Cory Evans', 'Suresh Triveni', 'Curtis Harrington', 'Suri Krishnamma', 'Sandy Howard', 'Ahmed Zain', 'Scott Heming', 'Kivanç Baruönü', 'Arun Chidambaram', 'Curro Velázquez', 'Mike Diva', \"Jeff 'Swampy' Marsh\", 'Jonathan Tydor', 'Joshua Marston', 'Loki Mulholland', 'Danièle Thompson', 'Josh Duhamel', 'Tanya Wexler', 'Assaad Yacoub', 'James Cardoza', 'Trey Haley', 'Zoe Berriatúa', 'Francesco Cinquemani', 'Rajiv Mehra', 'Chris Bolan', 'James Sweeney', 'Stephen Hopkins', 'Michelle Ferrari', 'Spike Lee', 'Lucía Puenzo', 'William L. Nolte', 'Michael Angarano', 'Gregor Jordan', 'Michael Barnett', 'Analeine Cal y Mayor', 'Siew Hua Yeo', 'Marek Losey', 'Luis Puenzo', 'Peter Farrelly', 'James Jones', 'M.J. Bassett', 'Barry L. Young', 'Julio Fernandez Talamantes', 'Joe Penna', 'John Crowley', 'Noboru Iguchi', 'Guru Dutt', 'Jeffrey Travis', 'Bill Weber', 'Diego Lerman', 'Kim A. Snyder', 'S.S. Balan', 'Habib Faisal', 'Maryo J. de los Reyes', 'Leslie Anne Thomas', 'Dan Grin', 'Stuart Gillard', 'Lisa Schaffer', 'Iara Lee', 'Kumar Anand', 'Jason Winer', 'Amitabha Singh', 'Paolo Pilladi', 'Julie Gavras', 'John Landis', 'Emily Moss Wilson', 'Anissa Bonnefont', 'Michael Peer', 'Penny Marshall', 'Akashdeep', 'Yasir Al-Yasiri', 'Saul Blinkoff', 'Fran Strine', 'Jim Hosking', 'Thomas C. Grane', 'Éric Lartigau', 'Tom Jennings', 'Daniel Junge', 'Tetsuo Yajima', 'Remy Kohli', 'Joachim Trier', 'Tunde Apalowo', 'Saul Dibb', 'Mike Newell', 'WooSuk Yang', 'Renée Felice Smith', 'Albert Magnoli', 'A. Salaam', 'Sanjay Gadhvi', 'Lea Glob', 'Robert Butler', 'George Sidney', 'Peter Svatek', 'Michael Hoffman', 'Olivia Newman', 'Rudge Campos', 'Franck Mancuso', 'Haoling Li', 'Anand Tucker', 'Govind Sakariya', 'Danya Taymor', 'Robert Duvall', 'Mandeep Benipal', 'Kevin Donovan', 'Aijaz Khan', 'Charles Guard', 'Benoît Godbout', 'Shannon Murphy', 'Jodi Scurfield', 'Milton Horowitz', 'Shibu Mitra', 'Charles Binamé', 'Linda Korsten', 'Toby Wilkins', 'Neil Nightingale', 'Randall MacLowry', 'Jeff Baena', 'David Allensworth', 'George Butler', 'George A. Romero', 'Andrew Jimenez', 'Kim Ferraro', 'Danish Aslam', 'Tim Hunter', 'Kevin Tenney', 'Luis Javier Henaine', 'Lakshman', 'St. Vincent', 'Garth Davis', 'Gustav Möller', 'Alison McDonald', 'Ben Young', 'Icíar Bollaín', 'Eduardo Pinto', 'Ernie Barbarash', 'Dylan Reynolds', 'Woody Harrelson', 'Sundar C.', 'Roger Gould', 'Will Graham', 'Francesco Lettieri', 'Max Mönch', 'Saquan Jones', 'Ti West', 'A.J. Mattioli', 'Jijo Pancode', 'Aleksey Sidorov', 'Aaron Hann', 'Priyadarshan', 'Jaume Balagueró', 'Apurva Dhar Badgaiyann', 'John Suits', 'Marita Grabiak', 'Kranthi Madhav', 'Paolo Strippoli', 'Yimou Zhang', 'Christine Cynn', 'Peter Markle', 'Mahmood Karim', 'William K. Howard', 'Raj Kaushal', 'See-Yuen Ng', 'Hiroyasu Ishida', 'Tariq Alkazim', 'Mauro Scandolari', 'Lewis Lovhaug', 'Gervasio Iglesias', 'Deedle Lacour', 'Roger Graef', 'Ping Wang', 'Jacob Johnston', 'Toshiyuki Tsuru', 'Michael Lehmann', 'Georges Hachem', 'Ramesh Talwar', 'Avi Federgreen', 'Sam Irvin', 'Sabina Fedeli', 'Imtiaz Ali', 'Javier Ruiz Caldera', 'Alex Pettyfer', 'Amr Arafa', 'Shana Betz', 'Mark Gustafson', 'Ian Paterson', 'Hans Horn', 'Rocky Lang', 'Nick Rosen', 'David Stoten', 'Abir Sengupta', 'Jerry Hibbert', 'Letia Clouston', 'Charlie Lightening', 'Ben Shelton', 'Kazuhiko Yamaguchi', 'Tom Dey', 'Chuck Sheetz', 'J.S. Cardone', 'Laura Paglin', 'Hernán Zin', 'Richard Eyre', 'Javier Ambrossi', 'Manish Srivastav', 'Justin Malone', 'Jose Barajas', 'Thierry de Lestrade', 'Elmer Clifton', 'Braeden Orr', 'Frank Coraci', 'Robert Vince', 'Rocky Soraya', 'Makoto Shinkai', 'Anand Ravichandran', 'Yesim Ustaoglu', 'Don Paul', 'Marion Gering', 'Gail Singer', 'Dean Craig', 'Michael Gracey', 'Terry George', 'S.S. Rajan', 'Mike Binder', 'Stephen Judson', 'Kirk Wise', 'Alan Cohn', 'Stefan Westerwelle', 'Rucha Humnabadkar', 'Dwight H. Little', 'Jason Rutherford', 'Luc Dardenne', 'Macon Blair', 'Bret McCormick', 'Alankrita Shrivastava', 'Josh Sabey', 'Bodunrin Sasore', 'Ketan Mehta', 'Amma Asante', 'Gavin Yap', 'Kirk Tingblad', 'Youssef Delara', 'Marvin J. Chomsky', 'Brent Bonacorso', 'Ignacio Jaunsolo', 'Ryan Richmond', 'David Aaron Stone', 'Stephen Kinigopoulos', 'Von Bilka', 'Arthur Lubin', 'Brandon Oldenburg', 'J. Patrick Arbeiter', 'Manfred Oldenburg', 'Philipp Stölzl', 'Pablo Faro', 'Sankalp Reddy', 'Leninbharati', 'Norman Panama', 'Hari Sama', 'Hayden Schlossberg', 'Thomas Dekker', 'Marie Madinier', 'Abhishek Chaubey', 'Jesús Torres Torres', 'Alberto Rodríguez', 'John Scheinfeld', 'Charles Barton', 'Baljit Singh Deo', 'Amole Gupte', 'Larry Fessenden', 'Paul Justman', 'Katie Anna Brady', 'David Lynch', 'Keith Collins II', 'Vince Marcello', 'Ethan Paisley', 'Joel Zwick', 'Brian Jun', 'Lena Khan', 'David Jung', 'Kelley Slagle', 'Walter Hill', 'Han Sang-Ho', 'Richard Ladkani', 'Martin Desmond Roe', 'Chris Ethridge', 'David Wnendt', 'Gary Nelson', 'Frank McDonald', 'David Hand', 'Phil Morrison', 'Martín Deus', 'Ernst Hofbauer', 'Dean Matthew Ronalds', 'Hsin-Yen Chang', 'Teddy Chan', 'James Marsh', 'Lior Geller', 'John N. Smith', 'Roy Hin Yeung Chow', 'Kenny Ortega', 'Max Mannix', 'Kae-Byeok Lee', 'Gary Sherman', 'Josh Taback', 'Ho Yim', 'Shawn Levy', 'Su-yeon Gu', 'Lik-Chi Lee', 'Gulzar', 'Phil Churchward', 'Sidney Beaumont', 'Mitch Schauer', 'Sergio Leone', 'John Woo', 'Renata Gabryjelska', 'Sean Durkin', 'Samuel Jouy', 'Ed Perkins', 'Robert Emmett Tansey', 'Jesse Dylan', 'Patrick Creadon', 'Rolf de Heer', 'Emily Taguchi', 'Steve Neilson', 'Johnny Ma', 'Laure de Clermont-Tonnerre', 'George Mendeluk', 'Mario Briongos', 'Mark Franchetti', 'Kitao Sakurai', 'Ljubomir Stefanov', 'Seong-yun Oh', 'Taranveer Singh', 'Tara Cowell-Plain', 'Joanna Lombardi', 'Ramesh Sippy', 'Maria Jose Cuevas', 'Brian Skiba', 'Vi Anand', 'Desi Benjamin', 'Dennis Fallon', 'Santhakumar', 'Sarah Wafiq', 'Harold D. Schuster', 'Megha Ramaswamy', 'Greg Young', 'Albert T. Viola', 'Chris Bould', 'Ron Field', 'Toby Shelton', 'Ameer Sultan', 'Emily Hagins', 'Allison Liddi-Brown', 'Kyzza Terrazas', 'Lydia Tenaglia', 'Brandon De-Wilde', 'Sudeep', 'Dado C. Lumibao', 'Herbert Kline', 'Henry King', 'John Bradshaw', 'John Patterson', 'Howard Zieff', 'Michael Moore', 'Kelly Reichardt', 'Bruno Barreto', 'Trey Fernald', 'Peter Hammond', 'James Nunn', 'Glen Keane', 'Richard Lowenstein', 'Jeff Tremaine', 'Vikas Bahl', 'John Lafia', 'Norman Z. McLeod', 'Christian Petzold', 'Anthony Anderson', 'Adrian Teh', 'Hussein Alansari', 'Tim Wilson', 'Karan Malhotra', 'Carole Holliday', 'Sabu Varghese', 'Barbara Dourmaskin-Case', 'Lloyd Kaufman', 'Jimmy T. Murakami', 'Michael Maliani', 'Joshua Tickell', 'Jamil Dehlavi', 'Lucas Santa Ana', 'Nasir Hussain', 'Kevin Burns', 'John Rhee', 'Mac Alejandre', 'Xiaoxing Yi', 'Ives-Yuri Garate', 'Harold Cronk', 'Alexander Whittle', 'Matthew Diamond', 'Nick Marck', 'Mark Toia', 'Harry Bradbeer', 'Michelle Esrick', 'Bob Byington', 'Ricardo Ramón', 'Marcelo Gomes', 'Alice Wu', 'John Farrow', 'Mark Duplass', 'Amer Salmeen Al Murry', 'Nancy Lang', 'Patryk Vega', 'Buzz Kulik', 'Bertrand Tavernier', 'Saravana Rajan', 'Dean DeBlois', 'Vic Armstrong', 'Antonio Campos', 'Aaron Mirtes', 'Michael Bay', 'Katherine Dieckmann', 'Rod S. Scott', 'Abbas Tyrewala', 'Isaac Florentine', 'Yôichi Nishiyama', 'John Kafka', 'Steve Martino', 'Chad Burns', 'Todd Solondz', 'Ralph Bakshi', 'Curt Siodmak', 'Nelson McCormick', 'Jean-Paul Ouellette', 'Edoardo Ponti', 'Oluseyi Asurf', 'Mahmoud al Massad', 'Mary Lambert', 'Sergio G. Sánchez', 'Brian A. Miller', 'Shane Black', 'Lana Wilson', 'Laura Collado', 'Romanus Wolter', 'Kil-soo Chang', 'Yasushi Kawamura', 'Elizabeth Allen Rosenbaum', 'Michael Keusch', 'Gur Bentwich', 'Don Hahn', 'John Curran', 'Abhishek Sharma', 'Lee Toland Krieger', 'Joydip Mukherjee', 'Steve Longi', 'Dominic Sena', 'Norihisa Hiranuma', 'Boaz Davidson', 'Paolo Moffa', 'Jatla Siddartha', 'Javier Balaguer', 'Oded Raz', 'Harvey Glazer', 'Feroz', 'Joe Dante', 'Milt Schaffer', 'Kelly Sandefur', 'James Oakley', 'J.J. Englert', 'Shubham Singh', 'Henry Koster', 'Robert Wise', 'Roger Melvin', 'Troy Miller', 'Jake Schreier', 'Dylan Pearce', 'Alex Kendrick', 'Aleksey Balabanov', 'Michael Cristofer', 'White Trash Tyler', 'Rob Minkoff', 'You-Jeong Jang', 'Eduardo Sánchez', 'David F. Sandberg', 'Alexi Pappas', 'Shan Hua', 'Yagmur Taylan', 'Sandeep Mohan', 'Glenn Weiss', 'Brandon Cronenberg', 'Jeff Tomsic', 'Yu-Hsun Chen', 'Albert Sharpe', 'Eva Husson', 'Harold Becker', 'Dallas Jenkins', 'Mohammed Hussain', 'Akshay Roy', 'William Friedkin', 'Eric Idle', 'Måns Mårlind', 'Jonathan Sobol', 'Karim Aïnouz', 'Thomas Bohn', 'Simranjit Singh Hundal', 'Richard da Costa', 'Paul Downs Colaizzo', 'Sashi Kiran Tikka', 'Chris Howe', 'Parthiban', 'Peter DeLuise', 'Lieh Lo', 'Auturo Gavino', 'Kagiso Lediga', 'Daniel Lindsay', 'Robert Vernon', 'Haneef Adeni', 'Fredrick Munk', 'Elena Weinberg', 'Anél Stolp', 'Charles Uwagbai', 'Seth Gordon', 'Mitch Rochon', 'Lance Oppenheim', 'Nicolas Brossette', 'Gregory Plotkin', 'Craig Moss', 'Natty Zavitz', 'Patrick Hughes', 'Sam Loh', 'Tibor Takács', 'Antoinette Jadaone', 'Rebekah Fortune', 'Hun Jang', 'William H. Macy', 'Abhijeet Shirish Deshpande', 'David Marmor', 'Norman Wright', 'Nicolas Vanier', 'Joachim Lafosse', 'Toshiya Shinohara', 'Paul Etheredge', 'Quentin Lee', 'Sanaa Hamri', 'Suparn Varma', 'Kevin Peeples', 'Jennifer Yuh Nelson', 'Michael Cuesta', 'Justin Benson', 'Craig Johnson', 'Julio Medem', 'Andy Goddard', 'Dale Resteghini', 'Vadim Perelman', 'Terry Ingram', 'Abhishek Kapoor', 'Johannes Roberts', 'Rebecca Harrell Tickell', 'Leon Ding', 'Mark Webber', 'Scott Kalvert', 'Chris Weitz', 'Ricardo de Montreuil', 'Gil Cates Jr.', 'Michael McKay', 'Tim Conrad', 'Stacy Peralta', 'K.V.R. Mahendra', 'Courtney Hunt', 'Austin Brooks', 'Chris Fisher', 'Gerard Barrett', 'Abdulaziz Alshlahei', 'Rajat Kapoor', 'Dustin Rikert', 'Jesse Atlas', 'Chris Dowling', 'Clay Moffatt', 'Eli Roth', 'Nils Gaup', 'Frank Maniglia Jr.', 'Takashi Miike', 'Nishil Sheth', 'Stewart Schill', 'Lekh Tandon', 'Jayaprakash Radhakrishnan', 'Brian McGinn', 'Christopher Storer', 'Byeon Hee-sun', 'Mike Klassen', 'Adam MacDonald', 'Jonas Elmer', 'Kevin Hicks', 'Gregory V. Sherman', 'Leon Ford', 'Zak Knutson', 'Isaac Halasima', 'Siddharth Vasani', 'Michael Paul Girard', 'Martin Kotík', 'Julia Willoughby Nason', 'Tsuyoshi Nakakuki', 'Kaila York', 'Alexandra Kondracke', 'Juan Carlos Medina', \"Remo D'Souza\", 'Kelly Duane', 'Robert Gordon', 'Isabelle Nanty', 'Samuel Olatunji', 'Michael Simon', 'Matt Farley', 'Dibakar Banerjee', 'Tope Oshin', 'Ken Russell', 'Brian Trenchard-Smith', 'T.C. Christensen', 'Ivan Sen', 'Rocco Urbisci', 'Todd Holland', 'Nate Adams', 'Han Han', 'Percy Adlon', 'Fritz Böhm', 'Adam Ripp', 'Charles F. Haas', 'Ben Gluck', 'Michael Dwyer', 'Alec Tuckman', 'Russell Owen', 'Paul Stodolny', 'Peter Lord', 'Bejoy Nambiar', 'Ulu Grosbard', 'Nash Edgerton', 'Angga Dwimas Sasongko', 'Gary Stretch', 'Bruce Leddy', 'Greg Barker', 'Swapna Waghmare Joshi', 'Brad Barnes', 'Sudhanshu Saria', 'Jim Tshirt', 'David Twohy', 'J. Walter Ruben', 'Chris Robinson', 'Andrzej Bartkowiak', 'Andrei Tarkovsky', 'Mike Mosallam', 'Tamer Ashri', 'David Bartlett', 'Otto Preminger', 'Ian Daniel', 'Lorcan Finnegan', 'Morton DaCosta', 'Joe Russo', 'Satish Kaushik', 'Ariel Schulman', 'Jason Sklaver', 'Lorene Scafaria', 'Shane Sooter', 'Archie Borders', 'Anton Corbijn', 'Michael Mazzola', 'Juris Kursietis', 'Manuel Alcalá', 'Ryan Brennan', 'Daniel Ferguson', 'Gil Junger', 'Adam Carolla', 'Michael Storey', 'Kaashvi Nair', 'Stephen Surjik', 'Jennifer Lahl', 'Charles Martin', 'Oren Moverman', 'Patrik Forsberg', 'Mikael Salomon', 'Charles Band', 'Lorna Tucker', 'Puneet Sira', 'Trevor Nunn', 'Peter Dang', 'Anusha Rizvi', 'Eric Summer', 'Tom Ellery', 'Anoop Sathyan', 'Karim Amer', 'Nuhash Humayun', 'Andy Grieve', 'Rod Blackhurst', 'Sandeep Reddy Vanga', 'Ann Marie Fleming', 'Christian Duguay', 'Sermiyan Midyat', 'Donovan Cook', 'Lee Kirk', 'Dustin Morrow', 'Josh Criss', 'Stephen Sommers', 'Jordana Spiro', 'Nikhil Pherwani', 'Kevin Phillips', 'Anthony Giordano', 'Byron Vaughns', 'Jan Pinkava', 'Jim Gable', 'Kunal Kohli', 'Afia Nathaniel', 'Tru', 'Irving Pichel', 'Joseph L. Scanlan', 'Francine Parker', \"Patrick O'Dell\", 'Frank H. Woodward', 'Joe Piscatella', 'Graeme Clifford', 'John Cornell', 'Harry L. Fraser', 'Jeff Burr', 'Laura Terruso', 'Jill Bauer', 'Rakesh Ranjan Kumar', 'Aaron Cadieux', 'Nicholas Zeig-Owens', 'Ayumu Watanabe', 'Clay Tweel', 'Christopher R. Mihm', 'Ginny Mohler', 'Steven Bernstein', 'Il-Ho Jang', 'André Singer', 'Raffaele Picchio', 'Valerie Weiss', 'Hugo Fregonese', 'Jared Bush', 'Andrew Goth', 'Andrew Adamson', 'Herman Yau', 'Jason Friedberg', 'Dan Povenmire', 'Stephen Stiles', 'Arthur Dreifuss', 'Ömer Faruk Sorak', 'Jennifer M. Kroot', 'Adam Nimoy', 'Sorin Dan Mihalcescu', 'Heike Bachelier', 'Jon Watts', 'Kim Farrant', 'Ruben Fleischer', 'Rawson Marshall Thurber', 'Tolu Lordtanner', 'Phuwanit Pholdee', 'Francisco Pérez', 'Duncan Coe', 'Claire Scanlon', 'Dennis Dimster', 'Abel Ferrara', 'Stevan Djordjevic', 'Christina Choe', 'Christopher Forbes', 'Gauri Shinde', 'Gary Halvorson', 'Mark DiSalle', 'Bill Speers', 'John Erick Dowdle', 'Dennie Gordon', 'Will Lovelace', 'Chris Kratt', 'Zoya Akhtar', 'Patrick Horvath', 'Zu Quirke', 'Brian Pimental', 'Rod Lurie', 'Robert A. Johnson', 'Onur Bilgetay', 'Rodrigo Toro Solovera', 'Nick Fitzhugh', 'David Pastor', 'Joe Cornish', 'David Petrucci', 'Richard Mears', 'Ali Abbas Zafar', 'Rano Karno', 'Manjeet Singh', 'Pat Verducci', 'Atharv Baluja', 'Max Kleven', 'David Gordon Green', 'W. Merle Connell', 'Stephen Chiodo', 'Kurt Mattila', 'Prakash Mehra', 'Claire Denis', 'Sameh Zoabi', 'Michael William Miles', 'Megan Siler', 'Frank Hall Green', 'Sam Weisman', 'Mitchell Lichtenstein', 'Paween Purijitpanya', 'Colin Dench', 'Robert M. Young', 'Alison Carrick', 'Elissa Down', 'Ken Kennedy', 'Hussein Kamal', 'Mike Clattenburg', 'John Ridley', 'Price James', 'Sofìa Carrillo', 'Sarah Gavron', 'Shamzu Zayba', 'Janis Cole', 'Stephen Kay', 'Rico Lowry', 'Khalid Marie', 'Manjeet Maan', 'Maradona Dias Dos Santos', 'Sergio Barrejón', 'Brett Whitcomb', 'M.S. Manimaran', 'Atsuko Ishizuka', 'Joe Hostettler', 'Jørgen Lerdam', 'Oz Scott', \"Matt D'Elia\", 'Saji Surendran', 'Angelo J. Guglielmo Jr.', 'Ramaa Mosley', 'James Frawley', 'Christopher Nolan', 'Joshua Sanchez', 'Andrew Gunn', 'Nitesh Tiwari', 'James Neihouse', 'John L. Spencer', 'John A. Davis', 'Rob Lodermeier', 'Adrian Lyne', 'Tony Bueno', 'Pavan Buragohain', 'Uduak-Obong Patrick', 'Carl Hindmarch', 'Lesley Demetriades', 'Victor Salva', 'Maris Curran', 'Lisa Feit', 'Charlie Vaughn', 'Justin Lee', 'Wi Ding Ho', 'Joshua Caldwell', 'Chandan Arora', 'Khalid Mohamed', 'Tatiana Shanks', 'Sophie Brooks', 'Ann Deborah Fishman', 'Frank Rajah Arase', 'David Brooks', 'Richard Raymond', 'Alyn Darnay', 'David Wolf', 'Jae Min Jo', 'Gregory Kirchhoff', 'Hamisha Daryani Ahuja', 'Rana Ranbir', 'Said Hamed', 'Farhad Safinia', 'James Cruze', 'Adam McKay', 'Errol Morris', 'Thierry Demaizière', 'Sebastián Silva', 'Jay Lender', 'Bob Bowen', 'Richard Slater-Jones', 'Yoshiyuki Okada', 'Omar Zúñiga Hidalgo', 'Richard Berry', 'Swapnaneel Jaykar', 'Keoni Waxman', 'Suzi Yoonessi', 'Sebastián Cordero', 'Steve Boettcher', 'Ram', 'Brian Nowak', 'Johnny Martin', 'Michael Beach Nichols', 'Cathy Malkasian', 'Chad Cohen', 'Cem Yilmaz', 'Arthur Allan Seidelman', 'Al Valletta', 'Colin Gregg', 'Oleg Stepchenko', 'Mark Dennis', 'Pearry Reginald Teo', 'Brian Robbins', 'Jim Issa', 'Lewis Allen', 'Yuval Adler', 'Jean-François Blais', 'Michael Ritchie', 'Mark Davis', 'Syed Wazir Ali', 'John Brenkus', 'Bradford Lewis', 'Na Hong-jin', 'Mayye Zayed', 'Sheldon Larry', 'Jorge Montesi', 'Christian Ditter', 'Henk Pretorius', 'Larry Charles', 'Donald Petrie', 'Vir Das', 'Fabrice Gardel', 'Kitarô Kôsaka', 'M. Night Shyamalan', 'James Ford Murphy', 'Brandon Hill', 'Byron Haskin', 'Roger Michell', 'Emmanuel Adjei', 'Rocco Ricciardulli', 'Takeru Nakajima', 'Shane Kuhn', 'Jee-woon Kim', 'To-Hoi Kong', 'Brian Desmond Hurst', 'Kinji Fukasaku', 'Jim Jarmusch', 'Yibai Zhang', 'Howard Avedis', 'Barry Caldwell', 'Jon Garaño', 'Cameron Crowe', 'Sean Cisterna', 'Anand Gandhi', 'Enzo G. Castellari', 'Walter Murch', 'Alex Mebane', 'Pablo Stoll', 'Jacques Perrin', 'Jose Sebastian', 'Youssef Chahine', 'Daniel Calparsoro', 'Karl Mueller', 'Robb Wells', 'Barney Cheng', 'Takehiko Watanabe', 'Luciano Onetti', 'Drew Barrymore', 'Robert McCallum', 'Christopher Dillon Quinn', 'BJ McDonnell', 'Mike Marvin', 'David Pablos', 'Abhinay Deo', 'Larry Cohen', 'Holly Dale', 'Gary Graver', 'Aidan Belizaire', 'Pierre Unia', 'Ricki Stern', 'Brent Hoover', 'Tom McGrath', 'Curtis Hanson', 'Jason Winn', 'Hatem Khraiche', 'Paulette Victor-Lifton', 'Chris Bollinger', 'Patrick McConnell', 'Steven Knight', 'Tsutomu Mizushima', 'David Farrier', 'Duane Stinnett', 'Adam Geiger', 'William Dear', 'Aaron Courseault', 'Madhur Bhandarkar', 'Gabe Polsky', 'Sally Potter', 'Maggie Greenwald', 'Ralph Zondag', 'Dana Celeste Robinson', 'Don Omope', \"Enzo D'Alò\", 'Michal Makarewicz', 'Ryan Little', 'Hanno Olderdissen', 'Jonathan Cuartas', 'Marek Budzynski', 'Jack King', 'Otto Brower', 'Prem Soni', 'David Hickey', 'Che Sandoval', 'Hal Roach', 'Stuart Heisler', 'Michael White', 'Harry Chaskin', 'Ricardo Trogi', 'Vanessa Roth', 'Balaji Mohan', 'Coodie', 'Adam Leon', 'Louie Psihoyos', 'Mati Diop', 'Nekfeu', 'Blaine Thurier', 'Nunzio Malasomma', 'Olivier Megaton', 'Yong-ki Jeong', 'Ivan Gergolet', 'Austen Rachlis', 'Eric Goldberg', 'Joe Fiorello', 'Peter M. Cohen', 'Michael Lembeck', 'Nancy Criss', 'B. Harrison Smith', 'Edgar G. Ulmer', 'Simon Kessler', 'Leslie Small', 'Antoine Bardou-Jacquet', 'Lisa France', 'Alaa Eddine Aljem', 'Mariano Baez', 'Jacques Demy', 'Timo Tjahjanto', 'Jared Moshe', 'William Grammer', 'Ward Kimball', 'Brian Helgeland', 'Skye Borgman', 'Albert Alarr', 'Marc Ostrick', 'John R. Leonetti', 'Cindy Chupack', 'Charlie Fonville', 'Arlene Sanford', 'Scott Speer', 'John Lasseter', 'Peter Weir', 'Mike Rohl', 'Neil Armfield', 'Tim Miller', 'Marcel Barrena', 'Alexander Lahl', 'Eikichi Kojika', 'Gustave Kervern', 'Juan Mas', 'Jon Wright', 'Ramón De España', 'Jane Preston', 'Paul Greengrass', 'Franck Nataf', 'Dia Taylor', 'Sami Rajalingam', 'Johnny Meier', 'Mike Elliott', 'Yayo Herrero', 'Mark Cartier', 'Martha Burr', 'Rodrigo Triana', 'Tyler MacIntyre', 'G.J. Echternkamp', 'Nick Rowland', 'Erik Ljung', 'Harold Ramis', 'Antony Smith', 'Chris Baugh', 'Caryn Waechter', 'Robert Kurtzman', 'John Borowski', 'Siu-Hung Chung', 'Madeline Sharafian', 'Alex Woo', 'Caarthick Raju', 'Bennett Lasseter', 'Chris Roberts', 'Joe Sill', 'Andrew Thomas Hunt', 'Steve Purcell', 'R. John Hugh', 'Scott Ziehl', 'Don Sikorski', 'Andy Palmer', 'Jim Rash', 'Tade Ogidan', 'Chang-dong Lee', 'Tadashi Nakamura', 'Chun-Baek Lee', 'Anastazja Davis', 'Michael Damian', 'Selvamani Selvaraj', 'Scott Zabielski', 'Chris Smith', 'Vishwak Sen', 'Rod Daniel', 'Casimir Nozkowski', 'Soham Shah', 'Stanley Donen', 'Karthik Subbaraj', 'Raj Rachakonda', 'John Carney', 'Seth Isler', 'Mohit Suri', 'Hari', 'Allan Moyle', 'Yash Dave', 'Daniel Geller', 'Rob Bowman', 'Greg Grosz', 'Sophie Hyde', 'Cess Silvera', 'Megan Peterson', 'Brett Simmons', 'Hasan Aljaberi', 'Shrihari Sathe', 'Eugene Ashe', 'Dan Partland', 'Tommy Stovall', 'David Hayter', 'Robert Krantz', 'Marius van Niekerk', 'Ila Duncan', 'Kip Andersen', 'V.C. Abhilash', 'Sam Firstenberg', 'Michael Kampa', 'Anthony Lucero', 'Girish Joshi', 'Philippe Lefebvre', 'Nicolas Winding Refn', 'Ihtzi Hurtado', 'Trey Edward Shults', 'Godfrey Ho', 'Hepi Mita', 'Rudolf van den Berg', 'Radio Silence', 'Sekhar Kammula', 'Andrew Bush', 'William Kerr', 'Troy Duffy', 'Peter Cornwell', 'Adam Robitel', 'Ferde Grofé Jr.', 'Bunmi Ajakaiye', 'Alek Gearhart', 'Satish Rajwade', 'Jeremiah S. Chechik', 'Jeo Baby', 'Johnny Remo', 'Steve Race', 'Mike West', 'Sridhar Rangayan', 'Anthony Mann', 'Oliver Parker', 'Brian Caunter', 'Gregory Read', 'Shamyl Othman', 'Kent Butterworth', 'Mike Fleiss', 'Adam R. Steigert', 'Ming Jin Woo', 'Chris Eyre', 'Claude Berri', 'Hugh Hudson', 'Gianfranco Rosi', 'Grant Heslov', 'Evan Oppenheimer', 'Becca Gleason', 'Marcos Carnevale', 'John Musker', 'Bent-Jorgen Perlmutt', 'James Melkonian', 'Andrew Rhymer', 'Maclain Nelson', 'Atom Egoyan', 'Luke Eve', 'Deepak Chakravarty', 'Jack Kinney', 'Daniel Millican', 'Theresa Bennett', 'Ronit Elkabetz', 'Guntur Soeharjanto', 'Dylan Reeve', 'Shay Modaressi', 'Jeffrey Hornaday', 'Jason Naumann', 'John Stephenson', 'James D. Stern', 'John English', 'Jack Henry Robbins', 'Sandra Restrepo', 'Byoung-Wook Ahn', 'Jonathan Frakes', 'Keith Haskel', 'Philippe Van Leeuw', 'Tom Naughton', 'Darin Beckstead', 'Michael Polish', 'Sunil Thakur', 'Ralph E. Portillo', 'Luke Brady', 'Jack Hannah', 'Alice Rohrwacher', 'Trivikram Srinivas', 'Prakash Satam', 'Penelope Spheeris', 'Pete Travis', 'Alan Smithee', 'Karsten Kiilerich', 'Jessica Mendez Siqueiros', 'Kwasi Fordjour', 'Walt Dohrn', 'Mark McQueen', 'Oren Uziel', 'Stephen Cooper', 'Denis Do', 'Jim Abrahams', 'Clyde Geronimi', 'Robert Clouse', 'Hicham Hajji', 'Justin Foia', 'Teong Hin Saw', 'Karen Leigh Hopkins', 'Hakan Algül', 'Banjong Pisanthanakun', 'Adrian Munsey', 'Andrew Rossi', 'Harry Winer', 'George C. Wolfe', 'Gaëtan Brizzi', 'Phil Alden Robinson', 'Ernest Prakasa', 'Dylan Mohan Gray', 'Ronnie Del Carmen', 'Richard Shepard', 'Ross Kauffman', 'James Edward Grant', 'J.F. Musial', 'Leos Carax', 'Paul Schneider', 'Kristopher Belman', 'Andrew Jones', 'Bryn Evans', 'Fisher Stevens', 'Alan Metter', 'Ari Gold', 'Peter Ferriero', 'D.J. Caruso', 'Massimiliano Camaiti', 'Maria Sadowska', 'Jason Wise', 'Michael Showalter', 'Udoka Oyeka', 'Alexis Gambis', 'Vance Goodwin', 'Ashok G.', 'Francisco Macri', 'Jay Martin', 'René Bonnière', 'Richard Laxton', 'Brian Levant', 'Tom Buckingham', 'Fernando Ayllón', 'Burak Aksak', 'Kyung Ho Lee', 'Ricky Gervais', 'Stefon Bristol', 'Eugene Kotlyarenko', 'Daniel de la Vega', 'Daniel Sandu', 'James Gaudioso', 'Tim Brown', 'Ravishankar Venkateswaran', 'Jonathan Jakubowicz', 'Robert Orlando', 'Seth Swirsky', 'Sean Ellis', 'Brian Vance', 'Liming Li', 'Jason Cabell', 'Camilla Hall', 'Philippe Martinez', 'Wells Root', 'Paul Ruven', 'Joey Kuhn', 'David Gleeson', 'Hetty Naaijkens-Retel Helmrich', 'Rob Gibbs', 'Danny Mooney', 'Ian MacNaughton', 'Guilherme Fontes', 'Michael Steiner', 'Lijo Jose Pellissery', 'Steven Spiel', 'F. Gary Gray', 'Jonathan Levine', 'Allan Harmon', 'Sophie Robinson', 'Lars von Trier', 'Krishna Rao', 'Gene Saks', 'Tim True', 'Michael Lange', 'Havana Marking', 'Gene Graham', 'Cyril Frankel', 'Zsolt Pálfi', 'Steven Soderbergh', 'Jesse V. Johnson', 'Dani de la Torre', 'Gavin Wiesen', 'Eric Schwartz', 'Ryôji Fujiwara', 'Karen Shakhnazarov', 'Raja Gosnell', 'Rebecca Zlotowski', 'Henri-Georges Clouzot', 'Bill Filipiak', 'Michael Sinclair', 'Seth Barrish', 'Stephen Chbosky', 'Simon Verhoeven', 'Caroline Laskow', 'John Badham', 'Sibi Malayil', 'Noriaki Yuasa', 'Gilbert Cates', 'Bernard B. Ray', 'Lynne Southerland', 'Tim Wolochatiuk', 'Tigmanshu Dhulia', 'Kenneth Branagh', 'Mez Tharatorn', 'Betty Thomas', 'Sean Byrne', 'Shane Abbess', 'Hang-jun Jang', 'Dan Gilroy', 'Lowell Dean', 'James Manera', 'Andrea Molaioli', 'Perce Pearce', 'Tolga Karaçelik', 'Gary Andrews', 'Ezra Holland', 'Priyamvada Narayanan', 'Gareth Evans', 'Carlos Sanchez', 'John Singleton', 'Linnea Saasen', 'Samuel Brownfield', 'Catherine Gund', 'David Hewlett', 'Sean McCormack', 'Johnny Breedt', 'Anna Elizabeth James', 'Joseph Cross', 'Bobcat Goldthwait', 'Seth Larney', 'Jacques Cluzaud', 'Max McLean', 'Matias Mariani', 'Keith Sutliff', 'Saket Chaudhary', 'Renzo Vasquez', 'Allison Eckert', 'Sibusiso Khuzwayo', 'Robert Rodriguez', 'Don Michael Paul', 'Alan Ball', 'Antoinette Beumer', 'Howard Higgin', 'Michael Bonfiglio', 'Karen J. Lloyd', 'Tetsuya Nakashima', 'Luigi Cozzi', 'Hayao Miyazaki', 'Paul Weitz', 'Fabrice du Welz', 'Victor Mukherjee', 'Jason Paul Laxamana', 'Jeremy Tremp', 'Mike Doyle', 'Mitch Gould', 'Daniel M. Smith', 'Cybela Clare', 'Jonathan W.C. Mills', 'Raoul Peck', 'Christian T. Petersen', 'Matt Kay', 'Brett Kelly', 'Martin Skov', 'Mark Young', 'Tony Bancroft', 'Obi Emelonye', 'Will Slocombe', 'Jon Mercer', 'Brian Duffield', 'Huw Cordey', 'Brent Dawes', 'Cosima Spender', 'Dan Krauss', 'Olivier Afonso', 'Ralph S. Singleton', 'Ernesto Díaz Espinoza', 'Jake Nava', 'Denis Villeneuve', 'Gil Cunha', 'Griffin Dunne', 'Sean Carr', 'Neeraj Ghaywan', 'Walter Taylaur', 'Peter Sollett', 'Tom DiCillo', 'Joel Coen', 'Aditya Vikram Sengupta', 'Donald W. Thompson', 'Max Winkler', 'Chris Rutkowski', 'Wayne Wang', 'Joe Lynch', 'Elan Bogarín', 'Vaughn Christion', 'Tània Balló', 'Yulene Olaizola', 'John MacCarthy', 'Álvaro Longoria', 'Chris Appelhans', 'Gitanjali Rao', 'Igor Manceau', 'Kim-Ching Luk', 'Orlando Eric Street', 'R. Panneerselvam', 'David Darg', 'Scott Martin', 'Richard Lester', 'John Hindman', 'Brie Larson', 'Rick Famuyiwa', 'Joel Anderson', 'Matthew Irving Epstein', 'Lukasz Kosmicki', 'Greg Berlanti', 'William Bindley', 'Gary Trousdale', 'Charlie Kaufman', 'Gary Ross', 'Vadim Jean', 'Kelly Noonan', 'Amanda Raymond', 'Elijah Nathaniel Wells', 'Rich Arons', 'Daniel Farrands', 'McG', 'Michelle Danner', 'Shammi Kapoor', \"Frédéric D'Amours\", 'King Vidor', 'Page Hurwitz', 'Mario Siciliano', 'Mukesh Vohra', 'Craig Leeson', 'Lone Scherfig', 'Olatunde Osunsanmi', 'Raghu Samarth', 'Kyle Kuchta', 'Louis J. Gasnier', 'Joe Griffin', 'Andy Tennant', 'Nancy Schwartzman', 'Sturla Gunnarsson', 'Gil Kenan', 'Ji Zhao', 'François Dompierre', 'Christophe Charrier', 'Paul Campion', 'Robbie Countryman', 'Simon Stone', 'Uli Edel', 'Philippe Mora', 'Rich Moore', 'Igor Kovalyov', 'David Grossman', 'Amol Palekar', 'Chi Tian', 'Ramez Silyan', 'Desingh Periyasamy', 'Phil Sheerin', 'Bailey Kobe', 'Sydney Sibilia', 'Brett Hedlund', 'Kevan Otto', 'Augustine Frizzell', 'Edwin L. Marin', 'Ralph Wright', 'Sze Yu Lau', 'Jim Larsen', 'Junior Carelli', 'Terry L. Noss', 'Edward Cotterill', 'William Morgan', 'Nicholas Danko', 'Kristen Lester', 'Wendy Jo Carlton', 'Patrick Vollrath', 'Sung-hee Jo', 'Shingo Suzuki', 'Isa Campo', 'Ellory Elkayem', 'Jim Strouse', 'Weica Wang', 'Robert Mandel', 'Sammy Primero', 'Sally Aitken', 'Peter Chelsom', 'Phillip Borsos', 'James Duffy', 'Pieter Kruit', 'Don MacKinnon', 'Pidi Baiq', 'Jan Suter', 'Felix van Groeningen', 'Veena Sud', 'Craig Brewer', 'Sam Voutas', 'Rudolph Herzog', 'Sesha Sindhu Rao', 'Ángeles Reiné', 'Rodion Nakhapetov', 'Marcos Bucay', 'Kanu Behl', 'Rod Hardy', 'Sarthak Dasgupta', 'Rob Stefaniuk', 'Johnny Kevorkian', 'Vipin Parashar', 'Herbert J. Biberman', 'Ken Wheat', 'Neil Breen', 'Max Lewkowicz', 'Jim Nichols', 'Sebastian Gutierrez', 'Sabrina Rochelle Kalangie', 'Qunshu Gao', 'David Slade', 'RZA', 'Alain Darborg', 'Ice-T', 'Roberto Santucci', 'Matt Bell', 'Anthony Gaudioso', 'Spain Willingham', 'Kabir Sadanand', 'Ron Krauss', 'Chris Nahon', 'James Hacking', 'Park Hoon-jung', 'Alastair Riddell', 'Alastair Fothergill', 'Justin P. Lange', 'Darren Foster', 'Terry Gilliam', 'Ericson Core', 'Henry Selick', 'Jean-Paul Salomé', 'Ashok Nanda', 'Alexs Stadermann', 'Ellen Seidler', 'Elia Kazan', 'Hasan Karacadag', 'John Kahrs', 'Brian Knappenberger', 'Éric Toledano', 'Karan Johar', 'Deryck Broom', 'Latif Faiziyev', 'Tristan Dubois', 'Diego Luna', 'Guy Guido', 'Cheng-Kuo Yen', 'Linas Phillips', 'Nir Paniry', 'George Erschbamer', 'Aleksey Tsitsilin', 'Christian Zübert', 'Jerry London', 'Michael H. Perlin', 'Blitz Bazawule', 'Nancy Florence Savard', 'Mark Rydell', 'Adekunle Nodash Adejuyigbe', 'Theodore Thomas', 'Kabir Khan', 'Lorie Conway', 'Xin Xin Xiong', 'Matt Thompson', 'Dilip Mehta', 'Madeleine Sami', 'Edward M. Abroms', 'Tine Thomasen', 'Karen Moncrieff', 'Bing Liu', 'Glenn Leyburn', 'Ricky Staub', 'Syamsul Yusof', 'Fuyuhiko Nishi', 'Sophie Sartain', 'Hae-Young Lee', 'E.L. Katz', 'Tom Ruegger', 'James Franco', 'Shawn Sourgose', 'Teli Hsueh', 'Matt Beauchesne', 'Andrew Traucki', 'Cheryl Hines', 'Stephen King', 'Yasuharu Hasebe', 'Darrell Roodt', 'Marco Pontecorvo', 'Rachel Hirons', 'Charlie Stratton', 'Jem Cohen', 'Stevie Wermers', 'Jeffrey Donovan', 'Martha Kehoe', 'James Bowsher', 'Jose Mari Goenaga', 'Alex Coletti', 'Paul Urkijo Alijo', 'Ted Geoghegan', 'Joanne Hock', 'Yasuomi Umetsu', 'Tim Fehlbaum', 'Russ Parr', 'Andrey Galat', 'Chakri Toleti', 'Zackary Canepari', 'Roger Young', 'Robert Lorenz', 'Gore Verbinski', 'Tommy Lee Jones', 'Karzan Kader', 'Rodney Ascher', 'Bob Hathcock', 'Antoinette Wilson', 'J. Davis', 'Nick Millard', 'Julia Hart', 'Kurt Kuenne', 'Niyi Akinmolayan', 'Jay Smith', 'Gus Holwerda', 'A.L. Vijay', 'Babak Anvari', 'Kay Cannon', 'Matt Kugelman', 'Chris Columbus', 'Dare Olaitan', 'Peter Mimi', 'Jamal Hill', 'Hari Nath', 'Alexis Bloom', 'Carles Torras', 'John Butler', 'Alice Winocour', \"Alma Har'el\", 'Scooter Tidwell', 'Mark Kemble', 'Carl Deal', 'Huck Botko', 'Bernard McEveety', 'Adam Curtis', 'Martín Sastre', 'Ben Howling', 'Svetozar Ristovski', 'Danielle Krudy', 'Rose Glass', 'Anne Le Ny', 'Antongiulio Panizzi', 'Brian Goodman', 'Sharan Sharma', 'Michael Hegner', 'Brady Corbet', 'Suresh', 'Tian-Lin Wang', 'Doug Shultz', 'Raju Saravanan', 'Stanley Kubrick', 'Lee Daniels', 'Viridiana Lieberman', 'Steven C. Miller', 'Dito Montiel', 'Sean Mewshaw', 'Stephen Cone', 'Tolga Örnek', 'Dale Case', 'Ryan Phillippe', 'Paavo Westerberg', 'Weiran Li', 'Maite Alberdi', 'Steven Rinella', 'Patrick Read Johnson', 'Peter Rader', 'Gastón Duprat', 'Andrew Duncan', 'Espen Sandberg', 'Richard Valverde', 'Vijay Krishna Acharya', 'Masahiko Murata', 'Eric Pearson', 'Joseph L. Mankiewicz', 'Abhay Chopra', 'David F. Mendez', 'Roy Burdine', 'Nikhil Bhat', 'David Webb Peoples', 'Ferzan Ozpetek', 'Nana Ekvtimishvili', 'Bobby Moresco', 'Hannah Fidell', 'Eduardo Arias-Nath', 'David Dobkin', 'Jobim Sampson', 'Matthew Pope', 'Steven Feinartz', 'Daniel Roher', 'Jonathan Augustin', 'Graeme Ferguson', 'Angelina Maccarone', 'Max Webster', 'Mahmood Farooqui', 'Rob Marshall', 'Guy Hamilton', 'Dinesh Vijan', 'Jeremy Harty', 'Jason Murphy', 'Joseph Santley', 'Édouard Molinaro', 'Stephen Herek', 'Leslye Headland', 'Massy Tadjedin', 'Rob Cohen', 'Kevin Tostado', 'Jeethu Joseph', 'Bruce Brown', 'Matt Ruskin', 'Mick Davis', \"Ray O'Neill\", 'James Marquand', 'Benjamin Nolot', 'Jamie M. Dagg', 'Omar Iyer', 'Jeremy Saulnier', 'Darlene Naponse', 'Aldo Lado', 'Karey Kirkpatrick', 'Jose Magan', 'Thirumala Kishore', 'Jeremy Sims', 'Nik Amir Mustapha', 'Nina Wels', 'Charles A. Nichols', 'Ryan Combs', 'David Sington', 'Advait Chandan', 'Weiwei Ai', 'Leo Zhang', 'Bora Kim', 'Zakariya Mohammed', 'Mark Gatiss', 'Gary Entin', 'Alexander Payne', 'Eran Kolirin', 'Charles B. Griffith', 'Enrico Casarosa', 'Michael Palmieri', 'Masaru Matsumoto', 'Jonas Åkerlund', 'Rama Rau', 'Rock Davis', 'Fedor Bondarchuk', 'Michael Schultz', 'Maïmouna Doucouré', 'Martin Munthe', 'Christopher Petit', 'Ryan Patrick Bartley', 'Lucky McKee', 'Mikkel Brænne Sandemose', 'Sam Pollard', 'Pippa Ehrlich', 'Yann Gozlan', 'Shari Springer Berman', 'Alexandre O. Philippe', 'Aadish Keluskar', 'Wolf Rilla', 'Ann Marie Pace', 'Lee Tamahori', 'John Zaritsky', 'Darran Scott', 'Kristine Samuelson', 'Harold Trompetero', 'Shôjirô Nishimi', \"Pat O'Connor\", 'Alon Schwarz', 'Thomas Lucas', 'Bruce Hunt', 'Matt Spease', 'Sukumar', 'Julia Dyer', 'Jonathan Kaplan', 'Boots Riley', 'Barbet Schroeder', 'Ivan Silvestrini', 'William Clemens', 'Zeek Earl', 'Richard Rich', 'Orson Oblowitz', 'Levan Gabriadze', 'Ash Christian', 'Carlos Moreno', 'Kevin Costner', 'Carl Hunter', 'Sachin Kundalkar', 'J. Robert Spencer', 'Paul Hunt', 'Chad Villella', 'Roseanne Liang', 'Jake Lefferman', 'Mikhail Red', 'Claus Räfle', 'Chris Seaver', 'Michael Mahal', 'Mainak Bhaumik', 'K Rajagopal', 'Nacho Vigalondo', 'Gary Howsam', 'Sasha Gordon', 'Jay Roach', 'Drew Gabreski', 'Pandiraj', 'Christie Will', 'Thom Fitzgerald', 'Heather Lenz', 'Ali Tabrizi', 'Joseph Kosinski', 'Michael Collins', 'Romain Gavras', 'James Mark', 'Abhishek Pathak', 'Devin Graham', 'Jastis Arimba', 'Glen Goei', 'Regina Welker', 'Rakeysh Omprakash Mehra', 'Soumitra Ranade', 'Naseef Yusuf Izuddin', 'Billy Corben', 'Pon Kumaran', 'Paul Hoen', 'Olivia Wilde', 'Eric Weston', 'Yaniv Raz', 'Jeff Woolnough', 'Kanwal Sethi', 'Alethea Jones', 'Drew Pulley', 'William Berke', 'Benjamin Arfmann', 'John Dahl', 'Pablo Behrens', 'Robert Kline', 'Gupse Ozay', 'Jonathan W. Stokes', 'Ivan Reitman', 'Christopher Smith', 'Mike Dunkin', 'Sam Levinson', 'Glenn Holsten', 'Peter Duncan', 'Amit Saxena', 'Beyoncé', 'Paul Andrew Williams', 'Santiago Diaz Oso', 'Ralph Eggleston', 'Ritesh Batra', 'Sergei M. Eisenstein', 'Jarrell Crump', 'Shunsuke Kariyama', 'James Rogan', 'Scott McAboy', 'Vicky Jewson', 'Anirban Majumder', 'Sara Driver', 'Raj Kumar Gupta', 'Luigi Russo', 'Eleanor Wilson', 'Jim Kammerud', 'Paco Cabezas', 'Gilles de Maistre', 'Howy Parkins', 'Aram van de Rest', 'Alvy Ray Smith', 'Kamal Smith', 'Abba Makama', 'Corey Martin Craig', 'Ciro Guerra', 'Kirsty Bell', 'Desmond Mullen', 'Norman Jewison', 'Antonio Morabito', 'James Watkins', 'Pete Gleeson', 'Brian Averill', 'Brian Smith', 'Christopher-Lee dos Santos', 'Thierry Fessard', 'Travis Stevens', 'John Lounsbery', 'Richard Mansfield', 'Graham Cutts', 'M.A. Taylor', 'Soukarya Ghosal', 'R.G. Springsteen', 'Boris Petroff', 'Evelyn Purcell', 'Haylar Garcia', 'TT The Artist', 'Todd Louiso', 'Travon Free', 'Matthew Wolfe', 'Davis Doi', 'Ronna Gradus', 'William Lustig', 'Paul Nicholas', 'Rob Margolies', 'Atsuko Hirayanagi', 'Alex Turner', 'David Batty', 'Wade Alexander', 'V.W. Scheich', 'Bahij Hojeij', 'Daniel Lee', 'Vinnie Vineyard', 'Alejandro G. Iñárritu', 'Nora Ephron', 'Joe Lazenby', 'Don Hartman', 'Michael Schwarz', 'Amy Berg', 'Kevin Padden', 'Lew Landers', 'Morgan Ingari', 'Ian Samuels', 'Paul A. Kaufman', 'James Steven Sadwith', 'Timothy Armstrong', 'Rafael Portillo', 'Simon Hunter', 'Giuseppe Vari', 'Jim Capobianco', 'Rich Thorne', 'P. Neelakantan', 'Binayak Das', 'David Zucker', 'Eric Radomski', 'Daniel Goldhaber', 'Luis Carlos Hueck', 'Leticia Jorge', 'Todd Haynes', 'Lluís Quílez', 'Gillian Grisman', 'D. Ho', 'Robert Benton', 'Prateek Vats', 'Harjit Singh', 'Haifaa Al-Mansour', 'Gil Cardinal', 'Billy Morrissette', 'Emiliano Ruschel', 'Eugene Jarecki', 'Murat Onbul', 'Arjun Kumar', 'Timothy Jolley', \"Kei'ichi Sato\", 'John Lee', 'Alanis Obomsawin', 'Ami Canaan Mann', 'Brian Taylor', 'Leonardo Matsuda', 'Shazia Ali Khan', 'Mark A. Walsh', 'Nupur Asthana', 'Muzi Mthembu', 'Ash Brannon', 'Ian A. Hunt', 'Diego Pignataro', 'Abhishek Varman', 'Enrique Gato', 'Gillian Robespierre', 'Philip Shane', 'Neill Blomkamp', 'Gary Cook', 'Alex Holdridge', 'Ismael Rodríguez', 'Lucy Coleman', 'Gerardo Olivares', 'Petra Costa', 'Maximilian Erlenwein', 'Manny Famolare', 'Ted Nicolaou', 'Jodie Foster', 'Babak Payami', 'Gowtham Namasivayam', 'Royale Watkins', 'Danny Strong', 'Josh Aronson', 'George Miller', 'Kabir Bhatia', 'Michael Gates', 'Chris Gorak', 'Ludmila Kulchitskaya', 'Okechukwu Oku', 'Steven Lisberger', 'Pankaj Batra', 'Joseph Losey', 'Arjun Jandyala', 'Hayden Guppy', 'Vamshi Paidipally', 'Alejandro De Grazia', 'Howard Bretherton', 'Aleksandr Boguslavskiy', 'Karl Geurs', 'James Corrigall', 'Robert Rossen', 'Takuma Satô', 'So Yong Kim', 'Kurt Neumann', 'William D. Russell', 'Piyachart Thong-Uam', 'Norman Cohen', 'Luis Buñuel', 'Alan J. Pakula', 'Joe Chappelle', 'Lea Thompson', 'Randall Miller', 'Jon Bokenkamp', 'Glendyn Ivin', 'Max McGuire', 'Doug McHenry', 'Madonna', 'Dong-Suk Kuk', 'Theresa Cullen', 'Frank Ariza', 'Roger Hinze', 'Brian Welsh', 'Prime Cruz', 'Chantelle Squires', 'J.D. Dillard', 'Courtney Solomon', 'Tomohiko Itô', 'Fulvio Sestito', 'Wolf Wolff', 'Jonathan Dueck', 'Aaron Sorkin', 'Gurmmeet Singh', 'Onur Tukel', 'Remi Weekes', 'Bernie Denk', 'Jenny Kubo', 'Tim Gray', 'Raj Khosla', 'Joseph Sargent', 'Alf Kjellin', 'Jialing Zhang', 'William Karel', 'Angelina Jolie', 'Alex Horwitz', 'Phil Roman', 'Steven Spielberg', 'Peter Schnall', 'Eric Darnell', 'Max Ksjonda', 'Francesco Carrozzini', 'Chris McKay', 'Sita Likitvanichkul', 'Juan Pablo Rebella', 'Barry Sonnenfeld', 'Randa Haines', 'Dan Bush', 'Iain Forsyth', 'Gary Fleder', 'Paul Tanter', 'Mark Thornton', 'Joshua Oppenheimer', 'Leandro Neri', 'Yong-hoon Kim', 'Sarjun', 'Woo-Ping Yuen', 'Jason Sussberg', 'Adrian Grunberg', 'Adam Del Deo', 'Francois Gingras', 'Matt Ross', 'Ge Shuiying', 'Elliot Weaver', 'Cate Shortland', 'Tom Harper', 'Brett Harvey', 'Ribhu Dasgupta', 'Tony Goldwyn', 'Matt Aselton', 'William Witney', \"Richard van't Riet\", 'Mohammad Irfan Ramly', 'Scott Haze', 'Ben Rekhi', 'Richard Whorf', 'Michael Petroni', 'Garry Marshall', 'Minoru Yamada', 'Krishnendu Chattopadhyay', 'Koos Roets', 'Taro Imai', 'Cooper Raiff', 'Burhan Qurbani', 'Marco Dutra', 'Jay Chapman', 'Lluís Segura', 'Peter MacDonald', 'Soudade Kaadan', 'Oscar Micheaux', 'Riccardo Pellizzeri', 'Rupert Wainwright', 'H.C. Potter', 'Juan Carlos Rulfo', 'Edgar Wright', 'Thomas Smugala', 'Todd Newman', 'Jared Hess', 'Bert', 'Kookie Gulati', 'Mijke de Jong', 'Paul Tomborello', 'Reginald Hudlin', 'Tom Elkins', 'Tatsuya Ishihara', 'Lance Kinsey', 'Tamas Yvan Topolanszky', 'Chris von Hoffmann', 'Barry Levinson', 'Liliana Corona', 'Po Johns', 'Ellen Brown', 'S.S. Rajamouli', \"Tom O'Brien\", 'Dulal Guha', 'Carlos Marques-Marcet', 'Josephine Decker', 'Peter Baldwin', 'Phil Stebbing', 'Lynn Shores', 'Julia Leigh', 'Josh C. Waller', 'Ted Mathot', 'Julian Jarrold', 'Peter Galison', 'John Cassavetes', 'Nick Bicanic', 'Michael Shaun Patterson', 'J. Farrell MacDonald', 'Hiro Murai', 'Matthew McNeil', 'Simon Wells', 'Brian Crano', 'Keva Rosenfeld', 'Daniel Knudsen', 'Felton Young', 'Mario Rouleau', 'Handan Ipekçi', 'Ted Berman', 'Sudhish Kamath', 'Brendan Steere', 'Peter Middleton', 'Yohann Thiriet', 'Patrice Laliberté', 'Allan Jacobsen', 'Jay Lowi', 'Ajay Bhupathi', 'Ralf Möllenhoff', 'Michael Pack', 'Robert Schwentke', 'Alfonso Cortés-Cavanillas', 'Anand Shankar', 'Anik Datta', 'Paul Krizan', 'Antonin Baudry', 'Tom Wright', 'Valerie LaPointe', 'Camille Delamarre', 'Philippe Lacôte', 'Andrew Jacobson', 'Rex Piano', 'Farah Khan', 'Paul Johansson', 'Dewey Nicks', 'Rob Reiner', 'Elizabeth Chai Vasarhelyi', 'Mike Nichols', 'Alan Rudolph', 'Julian Karikalan', 'Tom Stephens', 'David J. Burke', 'Charlie Steeds', 'John Rushing', 'Paul Maslak', 'Devin Hume', 'Rami Hachache', 'Miranda de Pencier', 'Tiller Russell', 'Uri Barbash', 'Pema Dhondup', 'Isabel Sandoval', 'Jesse Peretz', 'Jing Wong', 'Luther Reed', 'J.A. Bayona', 'Jean-Claude La Marre', 'Chapman Way', 'Ian Lilley', 'Sergio Manfio', 'Wei Lo', 'Jay Rodriguez Jr.', 'Eric Tosti', 'Gregory Jacobs', 'Anthony DiBlasi', 'Haruka Fujita', 'Rizki Balki', 'Richard Phelan', 'Charlie Comparetto', 'Gerardo Gatica González', 'Zee Ntuli', 'Peter Billingsley', 'Kevin Smith', 'Michael Campus', 'C.V. Kumar', 'Kim Woodard', 'Sampath Nandi', 'Robert C. Ramirez', 'David Anspaugh', 'Kevin Reynolds', 'Rick Friedberg', 'Bharat Nalluri', 'Ángel Gómez Hernández', \"Gavin O'Connor\", 'Matt Docter', 'Mark Beech', 'Sydney Pollack', 'Bernard Gourley', 'Dean Gold', 'Alejo Mo-Sun', 'Eva Orner', 'Shelly Chopra Dhar', 'Hardik Mehta', 'Uraaz Bahl', 'Makarand Mane', 'Alessio Cremonini', 'David Jackson', 'John Carpenter', 'Karl Brown', 'Richard Fleischer', 'Yasmin Ahmad', 'Darrell Rooney', 'Gordon Parks', 'G-Hey Kim', 'David Frankel', 'Randal Kleiser', 'Steven K. Tsuchida', 'Bradley Walsh', 'Shirley Frimpong-Manso', 'Mike Ott', 'Kad Merad', 'Kikuo Kawasaki', 'Eduardo Chauvet', 'Mat Whitecross', 'Subhash Kapoor', 'Chloé Zhao', 'Xavier Gens', 'Astra Taylor', 'Hugo Lilja', 'Mariano Nante', 'Robin Pelleck', 'Brian Smrz', 'Melvin Van Peebles', 'Andaç Haznedaroglu', 'Carlos Sorin', 'Anthony Stacchi', 'Tomas Brickhill', 'Gilbert Chan', 'Jake Scott', 'Nicholas Jarecki', 'Éric Rohmer', 'James B. Merryman', 'Seyi Babatope', 'Sophia Nahli Allison', 'Sidney Lumet', 'Richard Claus', 'S. Roy Luby', 'Emir Kusturica', 'Ken Kwapis', 'Kroll Azry', 'Peter Hedges', 'Émile Gaudreault', 'Ivan Ayr', 'Gilly Fogg', 'Francesco Patierno', 'Adam B. Stein', 'Giorgio Ferroni', 'James Cox', 'Jenny Ash', 'Frank Butler', 'Bruce Hendricks', 'Peter Facinelli', 'Bedran Güzel', 'Barnet Bain', 'David Mitchell', 'Dan Scanlon', 'Céline Sciamma', 'Gilles Paquet-Brenner', 'Bengt Jonsson', 'Mark Linfield', 'Gene Quintano', 'David D. Dietrich', 'Shlomi Elkabetz', 'Herbert Ross', 'Jon Stevenson', 'Gerard Bush', 'Amalie Næsby Fick', 'Guy Nattiv', 'Rene Liu', 'Nacho La Casa', 'Jeroen Jaspaert', 'George Gallo', 'Baz Luhrmann', 'Jeff Unay', 'Gary Lee Vincent', 'Francis Whately', 'Paresh Mokashi', 'Sachin Krishn', 'Kirsten Johnson', 'Sue Perrotto', 'Hark Tsui', 'Taedong Park', 'Jillian Schlesinger', 'April Anderson', 'Matt Riggle', 'Akiyo Fujimura', 'Jay Chandrasekhar', 'Arun Prabhu Purushothaman', 'Suzanne Hillinger', 'Erica Milsom', 'Rick Morales', 'Matthew Ogens', 'Matt Eskandari', 'Visute Poolvoralaks', 'Vijay Yelakanti', 'Max Nichols', 'Kristian Mercado', 'Richard Press', 'Jeremiah Jones', 'Derrick Mullen', 'Chris Nelson', 'Simon Wincer', 'David Silverman', 'Erik Matti', 'Nawapol Thamrongrattanarit', 'Sol Choi', 'Francisco Schultz', 'Roel Reiné', 'Jean-Pierre Jeunet', 'Phil Wurtzel', 'Robert Child', 'Mike Birbiglia', 'Tony Randel', 'Suleman Quadri', 'Manjari Makijany', 'Simon Edwards', 'Alex Appel', 'Roberta Grossman', 'Harry Cason', 'Yudai Yamaguchi', 'Sophie Fiennes', 'Brad Furman', 'Jeffrey Fine', 'Ahmed Siddiqui', 'Neill Fearnley', 'Ub Iwerks', 'J.P. Riley', 'Kevin Pollak', 'Müfit Can Saçinti', 'André L. Hopson', 'Salvador Espinosa', 'Shane Stanley', 'Orlando von Einsiedel', \"Matt D'Avella\", 'Olivia Milch', 'Julia Knowles', 'Nathan Wiley', 'Stephen Merchant', 'Joel Gilbert', 'Will Finn', 'Mar Targarona', 'Jason Aron', 'Carl Bessai', 'Philip Martin', 'Jason Reitman', 'Do Joon Sung', 'Kerem Sanga', 'José Luis Merino', 'Callie Khouri', 'Michael Carney', 'Donick Cary', 'Joana Mazzucchelli', 'Matthiew Klinck', 'Agustí Villaronga', 'Pedro Antônio Paes', 'George Ratliff', 'Greg Rankin', 'Reinaldo Marcus Green', 'Anette Wilhelm', 'Luis Pérez García', 'Kevin Mukherji', 'Sean Cruser', 'Sofia Coppola', 'Prashant Pandey'}\n",
            "Country개수: 130\n",
            "Country카테고리: {'Kenya', 'Trinidad & Tobago', 'Aruba', 'Soviet Union', 'Romania', 'Malaysia', 'Afghanistan', 'Russia', 'Venezuela', 'Ireland', 'Qatar', 'Kazakhstan', 'Liechtenstein', 'Nigeria', 'United Kingdom', 'Brazil', 'Kosovo', 'Germany', 'Senegal', 'Bulgaria', 'Réunion', 'Jordan', 'Malta', 'South Africa', 'Antarctica', 'Angola', 'Bangladesh', 'Austria', 'Denmark', 'Mauritius', 'Slovenia', 'Greece', 'Bosnia & Herzegovina', 'Switzerland', 'Montenegro', 'Namibia', 'Thailand', 'Iceland', 'Federal Republic of Yugoslavia', 'Palestinian Territories', 'Japan', 'Puerto Rico', 'Belgium', 'Lithuania', 'Colombia', 'Pakistan', 'Albania', 'Turkey', 'Georgia', 'Sri Lanka', 'Philippines', 'Hungary', 'Croatia', 'Cayman Islands', 'Finland', 'Korea', 'Tanzania', 'Egypt', 'Monaco', 'France', 'Bermuda', 'Lebanon', 'Algeria', 'Luxembourg', 'Italy', 'Ecuador', 'South Korea', 'Sweden', 'Uruguay', 'United Arab Emirates', 'Hong Kong SAR China', 'Republic of North Macedonia', 'Congo - Brazzaville', 'Poland', 'United States', 'Tunisia', 'Vietnam', 'Kuwait', 'Panama', 'Spain', 'Chile', 'East Germany', 'Norway', 'Mexico', 'Saudi Arabia', 'Singapore', 'Serbia', 'West Germany', 'Latvia', 'Slovakia', 'Nepal', 'Guam', 'Congo - Kinshasa', 'Malawi', 'Cambodia', 'Serbia and Montenegro', 'Honduras', 'India', 'Zimbabwe', 'Ghana', 'New Zealand', 'Mongolia', 'Canada', 'Isle of Man', 'Bahamas', 'Peru', 'Taiwan', 'Estonia', 'Portugal', 'Argentina', 'Czechia', 'Netherlands', 'Israel', 'Bolivia', 'Côte d’Ivoire', 'Gambia', 'Australia', 'Botswana', 'Indonesia', 'China', 'Cameroon', 'Paraguay', 'Jamaica', 'Ukraine', 'Morocco', 'Syria', 'Guatemala', 'Iran', 'Yugoslavia', 'El Salvador'}\n",
            "Language개수: 153\n",
            "Language카테고리: {'Dinka', 'Somali', 'Ukrainian', 'Hausa', 'Norwegian', 'Teochew', 'Icelandic', 'Kalaallisut', 'Min Nan', 'Armenian', 'Mandarin', 'Malayalam', 'Catalan', 'Pashto', 'Sign Languages', 'Shanghainese', 'Kurdish', 'Mongolian', 'Ibo', 'Tajik', 'Afrikaans', 'North American Indian', 'Latin', 'Nepali', 'American Sign Language', 'Tarahumara', 'Estonian', 'Greek', 'Korean Sign Language', 'Serbian', 'Romanian', 'Arabic', 'Sanskrit', 'Awadhi', 'Persian', 'Mixtec', 'Malay', 'Chinese', 'Serbo-Croatian', 'Maltese', 'Navajo', 'Tagalog', 'Polish', 'Slovenian', 'Sioux', 'Swahili', 'Spanish', 'Cantonese', 'Aboriginal', 'Welsh', 'Urdu', 'Hindi', 'Tulu', 'Papiamento', 'Quechua', 'Cree', 'Middle English', 'Saami', 'Wolof', 'Dyula', 'Fulah', 'Maori', 'Russian', ' Ancient (to 1453)', 'Swedish', 'Khmer', 'Rajasthani', 'German', 'Kinyarwanda', 'Finnish', 'Macedonian', 'Athapascan languages', 'Bulgarian', 'Nyanja', 'Indian Sign Language', 'Latvian', 'Filipino', 'Portuguese', 'Algonquin', 'Telugu', 'Thai', 'British Sign Language', 'Italian', 'Esperanto', 'None', 'English', 'Irish', 'Old English', 'Turkish', 'Gujarati', 'Lithuanian', 'Hawaiian', 'Washoe', 'Sinhala', 'Yoruba', 'Shoshoni', 'Tongan', 'Tupi', 'Flemish', 'Assamese', 'French Sign Language', 'Scottish Gaelic', 'Albanian', 'Cheyenne', 'Chaozhou', 'Egyptian (Ancient)', 'Amharic', 'Korean', 'Ojibwa', 'Indonesian', 'Akan', 'Bosnian', 'Slovak', 'Maya', 'Czech', 'Zulu', 'Georgian', 'Kannada', 'Croatian', 'Lingala', 'Marathi', 'Dari', 'Hebrew', 'Brazilian Sign Language', 'Haryanvi', 'French', 'Azerbaijani', 'Kashmiri', 'Ukrainian Sign Language', 'Japanese', 'Danish', 'Pawnee', 'Dutch', 'Manipuri', 'Vietnamese', 'Xhosa', 'Inuktitut', 'Bangla', 'Klingon', 'Turkmen', 'Punjabi', 'Tamil', 'Bhojpuri', 'Basque', 'Swiss German', 'Mohawk', 'Japanese Sign Language', 'Yiddish', 'Polynesian', 'East-Greenlandic', 'Hungarian', 'Nama', 'Tibetan'}\n"
          ]
        },
        {
          "output_type": "stream",
          "name": "stderr",
          "text": [
            "/usr/local/lib/python3.7/dist-packages/ipykernel_launcher.py:16: UserWarning: This pattern has match groups. To actually get the groups, use str.extract.\n",
            "  app.launch_new_instance()\n",
            "/usr/local/lib/python3.7/dist-packages/ipykernel_launcher.py:17: UserWarning: This pattern has match groups. To actually get the groups, use str.extract.\n",
            "/usr/local/lib/python3.7/dist-packages/ipykernel_launcher.py:17: RuntimeWarning: invalid value encountered in double_scalars\n"
          ]
        }
      ]
    },
    {
      "cell_type": "code",
      "source": [
        "df_04['genre_imdb_top5'] = df_04.Genres.apply(lambda x: 1 if any(i in x for i in genre_imdb_top5) else 0)\n",
        "df_04['genre_count_top5'] = df_04.Genres.apply(lambda x: 1 if any(i in x for i in genre_count_top5) else 0)\n",
        "\n",
        "df_04['director_imdb_top10'] = df_04.Directors.apply(lambda x: 1 if any(i in x for i in director_imdb_top10) else 0)\n",
        "df_04['director_count_top10'] = df_04.Directors.apply(lambda x: 1 if any(i in x for i in director_count_top10) else 0)\n",
        "\n",
        "df_04['country_imdb_top5'] = df_04.Country.apply(lambda x: 1 if any(i in x for i in country_imdb_top5) else 0)\n",
        "df_04['country_count_top5'] = df_04.Country.apply(lambda x: 1 if any(i in x for i in country_count_top5) else 0)\n",
        "\n",
        "df_04['language_imdb_top5'] = df_04.Language.apply(lambda x: 1 if any(i in x for i in language_imdb_top5) else 0)\n",
        "df_04['language_count_top5'] = df_04.Language.apply(lambda x: 1 if any(i in x for i in language_count_top5) else 0)\n",
        "\n",
        "print('director')\n",
        "print(df_04.genre_imdb_top5.value_counts(normalize=True))\n",
        "print(df_04.genre_count_top5.value_counts(normalize=True))\n",
        "print(df_04.director_imdb_top10.value_counts(normalize=True))\n",
        "print(df_04.director_count_top10.value_counts(normalize=True))"
      ],
      "metadata": {
        "colab": {
          "base_uri": "https://localhost:8080/"
        },
        "id": "rlYiRqEvksQk",
        "outputId": "8d8298cd-1d12-4846-b638-e1bd10cad844"
      },
      "execution_count": null,
      "outputs": [
        {
          "output_type": "stream",
          "name": "stdout",
          "text": [
            "director\n",
            "0    0.823096\n",
            "1    0.176904\n",
            "Name: genre_imdb_top5, dtype: float64\n",
            "1    0.814367\n",
            "0    0.185633\n",
            "Name: genre_count_top5, dtype: float64\n",
            "0    0.998948\n",
            "1    0.001052\n",
            "Name: director_imdb_top10, dtype: float64\n",
            "0    0.977913\n",
            "1    0.022087\n",
            "Name: director_count_top10, dtype: float64\n"
          ]
        }
      ]
    },
    {
      "cell_type": "code",
      "source": [
        "df_04"
      ],
      "metadata": {
        "colab": {
          "base_uri": "https://localhost:8080/",
          "height": 748
        },
        "id": "yjc0xHfGS6_C",
        "outputId": "306e2848-8fac-4578-bd12-addd742f975c"
      },
      "execution_count": null,
      "outputs": [
        {
          "output_type": "execute_result",
          "data": {
            "text/plain": [
              "                                         Title  Year  IMDb  Rotten Tomatoes  \\\n",
              "0                                 The Irishman  2019   7.8             98.0   \n",
              "1                                       Dangal  2016   8.4             97.0   \n",
              "2     David Attenborough: A Life on Our Planet  2020   9.0             95.0   \n",
              "3            Lagaan: Once Upon a Time in India  2001   8.1             94.0   \n",
              "4                                         Roma  2018   7.7             94.0   \n",
              "...                                        ...   ...   ...              ...   \n",
              "9510                        Most Wanted Sharks  2020   NaN             14.0   \n",
              "9511             Doc McStuffins: The Doc Is In  2020   NaN             13.0   \n",
              "9512                     Ultimate Viking Sword  2019   NaN             13.0   \n",
              "9513           Hunt for the Abominable Snowman  2011   NaN             10.0   \n",
              "9514       Women of Impact: Changing the World  2019   NaN             10.0   \n",
              "\n",
              "      Netflix  Hulu  Prime Video  Disney+  \\\n",
              "0           1     0            0        0   \n",
              "1           1     0            0        0   \n",
              "2           1     0            0        0   \n",
              "3           1     0            0        0   \n",
              "4           1     0            0        0   \n",
              "...       ...   ...          ...      ...   \n",
              "9510        0     0            0        1   \n",
              "9511        0     0            0        1   \n",
              "9512        0     0            0        1   \n",
              "9513        0     0            0        1   \n",
              "9514        0     0            0        1   \n",
              "\n",
              "                                              Directors  \\\n",
              "0                                       Martin Scorsese   \n",
              "1                                         Nitesh Tiwari   \n",
              "2     Alastair Fothergill,Jonathan Hughes,Keith Scholey   \n",
              "3                                    Ashutosh Gowariker   \n",
              "4                                                     *   \n",
              "...                                                 ...   \n",
              "9510                                                  *   \n",
              "9511                             Chris Anthony Hamilton   \n",
              "9512                                                  *   \n",
              "9513                                         Dan Oliver   \n",
              "9514                                          Lisa Feit   \n",
              "\n",
              "                                Genres  ...  \\\n",
              "0                Biography,Crime,Drama  ...   \n",
              "1         Action,Biography,Drama,Sport  ...   \n",
              "2                Documentary,Biography  ...   \n",
              "3                  Drama,Musical,Sport  ...   \n",
              "4     Action,Drama,History,Romance,War  ...   \n",
              "...                                ...  ...   \n",
              "9510                  Crime,Reality-TV  ...   \n",
              "9511                         Animation  ...   \n",
              "9512                                 *  ...   \n",
              "9513                     Drama,History  ...   \n",
              "9514                       Documentary  ...   \n",
              "\n",
              "                                  Language Runtime  genre_imdb_top5  \\\n",
              "0     English,Italian,Latin,Spanish,German   209.0                1   \n",
              "1                            Hindi,English   161.0                1   \n",
              "2                                  English    83.0                1   \n",
              "3                            Hindi,English   224.0                0   \n",
              "4                                  English    52.0                1   \n",
              "...                                    ...     ...              ...   \n",
              "9510                         Greek,English     NaN                0   \n",
              "9511                               English    23.0                0   \n",
              "9512                                     *     NaN                0   \n",
              "9513                                     *     NaN                1   \n",
              "9514                               English     NaN                1   \n",
              "\n",
              "      genre_count_top5  director_imdb_top10  director_count_top10  \\\n",
              "0                    1                    0                     0   \n",
              "1                    1                    0                     0   \n",
              "2                    0                    1                     0   \n",
              "3                    1                    0                     0   \n",
              "4                    1                    0                     0   \n",
              "...                ...                  ...                   ...   \n",
              "9510                 0                    0                     0   \n",
              "9511                 0                    0                     0   \n",
              "9512                 0                    0                     0   \n",
              "9513                 1                    0                     0   \n",
              "9514                 0                    0                     0   \n",
              "\n",
              "      country_imdb_top5  country_count_top5  language_imdb_top5  \\\n",
              "0                     0                   1                   0   \n",
              "1                     0                   1                   0   \n",
              "2                     0                   1                   0   \n",
              "3                     0                   1                   0   \n",
              "4                     0                   1                   0   \n",
              "...                 ...                 ...                 ...   \n",
              "9510                  0                   1                   0   \n",
              "9511                  0                   1                   0   \n",
              "9512                  0                   1                   0   \n",
              "9513                  0                   0                   0   \n",
              "9514                  0                   1                   0   \n",
              "\n",
              "      language_count_top5  \n",
              "0                       1  \n",
              "1                       1  \n",
              "2                       1  \n",
              "3                       1  \n",
              "4                       1  \n",
              "...                   ...  \n",
              "9510                    1  \n",
              "9511                    1  \n",
              "9512                    0  \n",
              "9513                    0  \n",
              "9514                    1  \n",
              "\n",
              "[9508 rows x 21 columns]"
            ],
            "text/html": [
              "\n",
              "  <div id=\"df-dbba643b-310d-4621-a02e-9a652b7f80ea\">\n",
              "    <div class=\"colab-df-container\">\n",
              "      <div>\n",
              "<style scoped>\n",
              "    .dataframe tbody tr th:only-of-type {\n",
              "        vertical-align: middle;\n",
              "    }\n",
              "\n",
              "    .dataframe tbody tr th {\n",
              "        vertical-align: top;\n",
              "    }\n",
              "\n",
              "    .dataframe thead th {\n",
              "        text-align: right;\n",
              "    }\n",
              "</style>\n",
              "<table border=\"1\" class=\"dataframe\">\n",
              "  <thead>\n",
              "    <tr style=\"text-align: right;\">\n",
              "      <th></th>\n",
              "      <th>Title</th>\n",
              "      <th>Year</th>\n",
              "      <th>IMDb</th>\n",
              "      <th>Rotten Tomatoes</th>\n",
              "      <th>Netflix</th>\n",
              "      <th>Hulu</th>\n",
              "      <th>Prime Video</th>\n",
              "      <th>Disney+</th>\n",
              "      <th>Directors</th>\n",
              "      <th>Genres</th>\n",
              "      <th>...</th>\n",
              "      <th>Language</th>\n",
              "      <th>Runtime</th>\n",
              "      <th>genre_imdb_top5</th>\n",
              "      <th>genre_count_top5</th>\n",
              "      <th>director_imdb_top10</th>\n",
              "      <th>director_count_top10</th>\n",
              "      <th>country_imdb_top5</th>\n",
              "      <th>country_count_top5</th>\n",
              "      <th>language_imdb_top5</th>\n",
              "      <th>language_count_top5</th>\n",
              "    </tr>\n",
              "  </thead>\n",
              "  <tbody>\n",
              "    <tr>\n",
              "      <th>0</th>\n",
              "      <td>The Irishman</td>\n",
              "      <td>2019</td>\n",
              "      <td>7.8</td>\n",
              "      <td>98.0</td>\n",
              "      <td>1</td>\n",
              "      <td>0</td>\n",
              "      <td>0</td>\n",
              "      <td>0</td>\n",
              "      <td>Martin Scorsese</td>\n",
              "      <td>Biography,Crime,Drama</td>\n",
              "      <td>...</td>\n",
              "      <td>English,Italian,Latin,Spanish,German</td>\n",
              "      <td>209.0</td>\n",
              "      <td>1</td>\n",
              "      <td>1</td>\n",
              "      <td>0</td>\n",
              "      <td>0</td>\n",
              "      <td>0</td>\n",
              "      <td>1</td>\n",
              "      <td>0</td>\n",
              "      <td>1</td>\n",
              "    </tr>\n",
              "    <tr>\n",
              "      <th>1</th>\n",
              "      <td>Dangal</td>\n",
              "      <td>2016</td>\n",
              "      <td>8.4</td>\n",
              "      <td>97.0</td>\n",
              "      <td>1</td>\n",
              "      <td>0</td>\n",
              "      <td>0</td>\n",
              "      <td>0</td>\n",
              "      <td>Nitesh Tiwari</td>\n",
              "      <td>Action,Biography,Drama,Sport</td>\n",
              "      <td>...</td>\n",
              "      <td>Hindi,English</td>\n",
              "      <td>161.0</td>\n",
              "      <td>1</td>\n",
              "      <td>1</td>\n",
              "      <td>0</td>\n",
              "      <td>0</td>\n",
              "      <td>0</td>\n",
              "      <td>1</td>\n",
              "      <td>0</td>\n",
              "      <td>1</td>\n",
              "    </tr>\n",
              "    <tr>\n",
              "      <th>2</th>\n",
              "      <td>David Attenborough: A Life on Our Planet</td>\n",
              "      <td>2020</td>\n",
              "      <td>9.0</td>\n",
              "      <td>95.0</td>\n",
              "      <td>1</td>\n",
              "      <td>0</td>\n",
              "      <td>0</td>\n",
              "      <td>0</td>\n",
              "      <td>Alastair Fothergill,Jonathan Hughes,Keith Scholey</td>\n",
              "      <td>Documentary,Biography</td>\n",
              "      <td>...</td>\n",
              "      <td>English</td>\n",
              "      <td>83.0</td>\n",
              "      <td>1</td>\n",
              "      <td>0</td>\n",
              "      <td>1</td>\n",
              "      <td>0</td>\n",
              "      <td>0</td>\n",
              "      <td>1</td>\n",
              "      <td>0</td>\n",
              "      <td>1</td>\n",
              "    </tr>\n",
              "    <tr>\n",
              "      <th>3</th>\n",
              "      <td>Lagaan: Once Upon a Time in India</td>\n",
              "      <td>2001</td>\n",
              "      <td>8.1</td>\n",
              "      <td>94.0</td>\n",
              "      <td>1</td>\n",
              "      <td>0</td>\n",
              "      <td>0</td>\n",
              "      <td>0</td>\n",
              "      <td>Ashutosh Gowariker</td>\n",
              "      <td>Drama,Musical,Sport</td>\n",
              "      <td>...</td>\n",
              "      <td>Hindi,English</td>\n",
              "      <td>224.0</td>\n",
              "      <td>0</td>\n",
              "      <td>1</td>\n",
              "      <td>0</td>\n",
              "      <td>0</td>\n",
              "      <td>0</td>\n",
              "      <td>1</td>\n",
              "      <td>0</td>\n",
              "      <td>1</td>\n",
              "    </tr>\n",
              "    <tr>\n",
              "      <th>4</th>\n",
              "      <td>Roma</td>\n",
              "      <td>2018</td>\n",
              "      <td>7.7</td>\n",
              "      <td>94.0</td>\n",
              "      <td>1</td>\n",
              "      <td>0</td>\n",
              "      <td>0</td>\n",
              "      <td>0</td>\n",
              "      <td>*</td>\n",
              "      <td>Action,Drama,History,Romance,War</td>\n",
              "      <td>...</td>\n",
              "      <td>English</td>\n",
              "      <td>52.0</td>\n",
              "      <td>1</td>\n",
              "      <td>1</td>\n",
              "      <td>0</td>\n",
              "      <td>0</td>\n",
              "      <td>0</td>\n",
              "      <td>1</td>\n",
              "      <td>0</td>\n",
              "      <td>1</td>\n",
              "    </tr>\n",
              "    <tr>\n",
              "      <th>...</th>\n",
              "      <td>...</td>\n",
              "      <td>...</td>\n",
              "      <td>...</td>\n",
              "      <td>...</td>\n",
              "      <td>...</td>\n",
              "      <td>...</td>\n",
              "      <td>...</td>\n",
              "      <td>...</td>\n",
              "      <td>...</td>\n",
              "      <td>...</td>\n",
              "      <td>...</td>\n",
              "      <td>...</td>\n",
              "      <td>...</td>\n",
              "      <td>...</td>\n",
              "      <td>...</td>\n",
              "      <td>...</td>\n",
              "      <td>...</td>\n",
              "      <td>...</td>\n",
              "      <td>...</td>\n",
              "      <td>...</td>\n",
              "      <td>...</td>\n",
              "    </tr>\n",
              "    <tr>\n",
              "      <th>9510</th>\n",
              "      <td>Most Wanted Sharks</td>\n",
              "      <td>2020</td>\n",
              "      <td>NaN</td>\n",
              "      <td>14.0</td>\n",
              "      <td>0</td>\n",
              "      <td>0</td>\n",
              "      <td>0</td>\n",
              "      <td>1</td>\n",
              "      <td>*</td>\n",
              "      <td>Crime,Reality-TV</td>\n",
              "      <td>...</td>\n",
              "      <td>Greek,English</td>\n",
              "      <td>NaN</td>\n",
              "      <td>0</td>\n",
              "      <td>0</td>\n",
              "      <td>0</td>\n",
              "      <td>0</td>\n",
              "      <td>0</td>\n",
              "      <td>1</td>\n",
              "      <td>0</td>\n",
              "      <td>1</td>\n",
              "    </tr>\n",
              "    <tr>\n",
              "      <th>9511</th>\n",
              "      <td>Doc McStuffins: The Doc Is In</td>\n",
              "      <td>2020</td>\n",
              "      <td>NaN</td>\n",
              "      <td>13.0</td>\n",
              "      <td>0</td>\n",
              "      <td>0</td>\n",
              "      <td>0</td>\n",
              "      <td>1</td>\n",
              "      <td>Chris Anthony Hamilton</td>\n",
              "      <td>Animation</td>\n",
              "      <td>...</td>\n",
              "      <td>English</td>\n",
              "      <td>23.0</td>\n",
              "      <td>0</td>\n",
              "      <td>0</td>\n",
              "      <td>0</td>\n",
              "      <td>0</td>\n",
              "      <td>0</td>\n",
              "      <td>1</td>\n",
              "      <td>0</td>\n",
              "      <td>1</td>\n",
              "    </tr>\n",
              "    <tr>\n",
              "      <th>9512</th>\n",
              "      <td>Ultimate Viking Sword</td>\n",
              "      <td>2019</td>\n",
              "      <td>NaN</td>\n",
              "      <td>13.0</td>\n",
              "      <td>0</td>\n",
              "      <td>0</td>\n",
              "      <td>0</td>\n",
              "      <td>1</td>\n",
              "      <td>*</td>\n",
              "      <td>*</td>\n",
              "      <td>...</td>\n",
              "      <td>*</td>\n",
              "      <td>NaN</td>\n",
              "      <td>0</td>\n",
              "      <td>0</td>\n",
              "      <td>0</td>\n",
              "      <td>0</td>\n",
              "      <td>0</td>\n",
              "      <td>1</td>\n",
              "      <td>0</td>\n",
              "      <td>0</td>\n",
              "    </tr>\n",
              "    <tr>\n",
              "      <th>9513</th>\n",
              "      <td>Hunt for the Abominable Snowman</td>\n",
              "      <td>2011</td>\n",
              "      <td>NaN</td>\n",
              "      <td>10.0</td>\n",
              "      <td>0</td>\n",
              "      <td>0</td>\n",
              "      <td>0</td>\n",
              "      <td>1</td>\n",
              "      <td>Dan Oliver</td>\n",
              "      <td>Drama,History</td>\n",
              "      <td>...</td>\n",
              "      <td>*</td>\n",
              "      <td>NaN</td>\n",
              "      <td>1</td>\n",
              "      <td>1</td>\n",
              "      <td>0</td>\n",
              "      <td>0</td>\n",
              "      <td>0</td>\n",
              "      <td>0</td>\n",
              "      <td>0</td>\n",
              "      <td>0</td>\n",
              "    </tr>\n",
              "    <tr>\n",
              "      <th>9514</th>\n",
              "      <td>Women of Impact: Changing the World</td>\n",
              "      <td>2019</td>\n",
              "      <td>NaN</td>\n",
              "      <td>10.0</td>\n",
              "      <td>0</td>\n",
              "      <td>0</td>\n",
              "      <td>0</td>\n",
              "      <td>1</td>\n",
              "      <td>Lisa Feit</td>\n",
              "      <td>Documentary</td>\n",
              "      <td>...</td>\n",
              "      <td>English</td>\n",
              "      <td>NaN</td>\n",
              "      <td>1</td>\n",
              "      <td>0</td>\n",
              "      <td>0</td>\n",
              "      <td>0</td>\n",
              "      <td>0</td>\n",
              "      <td>1</td>\n",
              "      <td>0</td>\n",
              "      <td>1</td>\n",
              "    </tr>\n",
              "  </tbody>\n",
              "</table>\n",
              "<p>9508 rows × 21 columns</p>\n",
              "</div>\n",
              "      <button class=\"colab-df-convert\" onclick=\"convertToInteractive('df-dbba643b-310d-4621-a02e-9a652b7f80ea')\"\n",
              "              title=\"Convert this dataframe to an interactive table.\"\n",
              "              style=\"display:none;\">\n",
              "        \n",
              "  <svg xmlns=\"http://www.w3.org/2000/svg\" height=\"24px\"viewBox=\"0 0 24 24\"\n",
              "       width=\"24px\">\n",
              "    <path d=\"M0 0h24v24H0V0z\" fill=\"none\"/>\n",
              "    <path d=\"M18.56 5.44l.94 2.06.94-2.06 2.06-.94-2.06-.94-.94-2.06-.94 2.06-2.06.94zm-11 1L8.5 8.5l.94-2.06 2.06-.94-2.06-.94L8.5 2.5l-.94 2.06-2.06.94zm10 10l.94 2.06.94-2.06 2.06-.94-2.06-.94-.94-2.06-.94 2.06-2.06.94z\"/><path d=\"M17.41 7.96l-1.37-1.37c-.4-.4-.92-.59-1.43-.59-.52 0-1.04.2-1.43.59L10.3 9.45l-7.72 7.72c-.78.78-.78 2.05 0 2.83L4 21.41c.39.39.9.59 1.41.59.51 0 1.02-.2 1.41-.59l7.78-7.78 2.81-2.81c.8-.78.8-2.07 0-2.86zM5.41 20L4 18.59l7.72-7.72 1.47 1.35L5.41 20z\"/>\n",
              "  </svg>\n",
              "      </button>\n",
              "      \n",
              "  <style>\n",
              "    .colab-df-container {\n",
              "      display:flex;\n",
              "      flex-wrap:wrap;\n",
              "      gap: 12px;\n",
              "    }\n",
              "\n",
              "    .colab-df-convert {\n",
              "      background-color: #E8F0FE;\n",
              "      border: none;\n",
              "      border-radius: 50%;\n",
              "      cursor: pointer;\n",
              "      display: none;\n",
              "      fill: #1967D2;\n",
              "      height: 32px;\n",
              "      padding: 0 0 0 0;\n",
              "      width: 32px;\n",
              "    }\n",
              "\n",
              "    .colab-df-convert:hover {\n",
              "      background-color: #E2EBFA;\n",
              "      box-shadow: 0px 1px 2px rgba(60, 64, 67, 0.3), 0px 1px 3px 1px rgba(60, 64, 67, 0.15);\n",
              "      fill: #174EA6;\n",
              "    }\n",
              "\n",
              "    [theme=dark] .colab-df-convert {\n",
              "      background-color: #3B4455;\n",
              "      fill: #D2E3FC;\n",
              "    }\n",
              "\n",
              "    [theme=dark] .colab-df-convert:hover {\n",
              "      background-color: #434B5C;\n",
              "      box-shadow: 0px 1px 3px 1px rgba(0, 0, 0, 0.15);\n",
              "      filter: drop-shadow(0px 1px 2px rgba(0, 0, 0, 0.3));\n",
              "      fill: #FFFFFF;\n",
              "    }\n",
              "  </style>\n",
              "\n",
              "      <script>\n",
              "        const buttonEl =\n",
              "          document.querySelector('#df-dbba643b-310d-4621-a02e-9a652b7f80ea button.colab-df-convert');\n",
              "        buttonEl.style.display =\n",
              "          google.colab.kernel.accessAllowed ? 'block' : 'none';\n",
              "\n",
              "        async function convertToInteractive(key) {\n",
              "          const element = document.querySelector('#df-dbba643b-310d-4621-a02e-9a652b7f80ea');\n",
              "          const dataTable =\n",
              "            await google.colab.kernel.invokeFunction('convertToInteractive',\n",
              "                                                     [key], {});\n",
              "          if (!dataTable) return;\n",
              "\n",
              "          const docLinkHtml = 'Like what you see? Visit the ' +\n",
              "            '<a target=\"_blank\" href=https://colab.research.google.com/notebooks/data_table.ipynb>data table notebook</a>'\n",
              "            + ' to learn more about interactive tables.';\n",
              "          element.innerHTML = '';\n",
              "          dataTable['output_type'] = 'display_data';\n",
              "          await google.colab.output.renderOutput(dataTable, element);\n",
              "          const docLink = document.createElement('div');\n",
              "          docLink.innerHTML = docLinkHtml;\n",
              "          element.appendChild(docLink);\n",
              "        }\n",
              "      </script>\n",
              "    </div>\n",
              "  </div>\n",
              "  "
            ]
          },
          "metadata": {},
          "execution_count": 62
        }
      ]
    },
    {
      "cell_type": "code",
      "source": [
        "#데이터 나누기\n",
        "from sklearn.model_selection import train_test_split\n",
        "\n",
        "# train, val, test\n",
        "def split(df_04):\n",
        "  train_final1, test1 = train_test_split(df_04)\n",
        "  train1, val1 = train_test_split(train_final1)\n",
        "  print(len(train1), len(val1), len(train_final1), len(test1))\n",
        "\n",
        "  X_train = train1.drop(columns=target)\n",
        "  y_train = train1[target]\n",
        "\n",
        "  X_val = val1.drop(columns=target)\n",
        "  y_val = val1[target]\n",
        "\n",
        "  X_test = test1.drop(columns=target)\n",
        "  y_test = test1[target]\n",
        "\n",
        "  X_train_final = train_final1.drop(columns=target)\n",
        "  y_train_final = train_final1[target]\n",
        "\n",
        "  return X_train, y_train, X_val, y_val, X_test, y_test, X_train_final, y_train_final\n",
        "\n",
        "X_train, y_train, X_val, y_val, X_test, y_test, X_train_final, y_train_final = split(df_04)"
      ],
      "metadata": {
        "colab": {
          "base_uri": "https://localhost:8080/"
        },
        "id": "qiv1npQ1l9l1",
        "outputId": "0ff000cd-c863-46e0-c97c-6dec29bb75af"
      },
      "execution_count": null,
      "outputs": [
        {
          "output_type": "stream",
          "name": "stdout",
          "text": [
            "5348 1783 7131 2377\n"
          ]
        }
      ]
    },
    {
      "cell_type": "code",
      "source": [
        "pip install --upgrade category_encoders"
      ],
      "metadata": {
        "id": "lWqMAmehtLA5",
        "colab": {
          "base_uri": "https://localhost:8080/"
        },
        "outputId": "18d9a831-2585-4832-eee3-ef885c83140d"
      },
      "execution_count": null,
      "outputs": [
        {
          "output_type": "stream",
          "name": "stdout",
          "text": [
            "Looking in indexes: https://pypi.org/simple, https://us-python.pkg.dev/colab-wheels/public/simple/\n",
            "Collecting category_encoders\n",
            "  Downloading category_encoders-2.5.0-py2.py3-none-any.whl (69 kB)\n",
            "\u001b[K     |████████████████████████████████| 69 kB 3.2 MB/s \n",
            "\u001b[?25hRequirement already satisfied: numpy>=1.14.0 in /usr/local/lib/python3.7/dist-packages (from category_encoders) (1.21.6)\n",
            "Requirement already satisfied: scikit-learn>=0.20.0 in /usr/local/lib/python3.7/dist-packages (from category_encoders) (1.0.2)\n",
            "Requirement already satisfied: scipy>=1.0.0 in /usr/local/lib/python3.7/dist-packages (from category_encoders) (1.7.3)\n",
            "Requirement already satisfied: patsy>=0.5.1 in /usr/local/lib/python3.7/dist-packages (from category_encoders) (0.5.2)\n",
            "Requirement already satisfied: statsmodels>=0.9.0 in /usr/local/lib/python3.7/dist-packages (from category_encoders) (0.10.2)\n",
            "Requirement already satisfied: pandas>=1.0.5 in /usr/local/lib/python3.7/dist-packages (from category_encoders) (1.3.5)\n",
            "Requirement already satisfied: pytz>=2017.3 in /usr/local/lib/python3.7/dist-packages (from pandas>=1.0.5->category_encoders) (2022.1)\n",
            "Requirement already satisfied: python-dateutil>=2.7.3 in /usr/local/lib/python3.7/dist-packages (from pandas>=1.0.5->category_encoders) (2.8.2)\n",
            "Requirement already satisfied: six in /usr/local/lib/python3.7/dist-packages (from patsy>=0.5.1->category_encoders) (1.15.0)\n",
            "Requirement already satisfied: threadpoolctl>=2.0.0 in /usr/local/lib/python3.7/dist-packages (from scikit-learn>=0.20.0->category_encoders) (3.1.0)\n",
            "Requirement already satisfied: joblib>=0.11 in /usr/local/lib/python3.7/dist-packages (from scikit-learn>=0.20.0->category_encoders) (1.1.0)\n",
            "Installing collected packages: category-encoders\n",
            "Successfully installed category-encoders-2.5.0\n"
          ]
        }
      ]
    },
    {
      "cell_type": "code",
      "source": [
        "from category_encoders import TargetEncoder\n",
        "from sklearn.impute import SimpleImputer\n",
        "from sklearn.preprocessing import StandardScaler\n",
        "from sklearn.model_selection import cross_val_score\n",
        "from sklearn.pipeline import make_pipeline, Pipeline\n",
        "from sklearn.ensemble import RandomForestRegressor\n",
        "from scipy.stats import randint, uniform\n",
        "from sklearn.model_selection import RandomizedSearchCV, GridSearchCV\n",
        "import numpy as np\n",
        "from sklearn.metrics import r2_score, mean_absolute_error"
      ],
      "metadata": {
        "id": "g46ao6X-tDEt",
        "colab": {
          "base_uri": "https://localhost:8080/"
        },
        "outputId": "bd3d5da0-c10d-4484-f7f7-6ab4af723f00"
      },
      "execution_count": null,
      "outputs": [
        {
          "output_type": "stream",
          "name": "stderr",
          "text": [
            "/usr/local/lib/python3.7/dist-packages/statsmodels/tools/_testing.py:19: FutureWarning: pandas.util.testing is deprecated. Use the functions in the public API at pandas.testing instead.\n",
            "  import pandas.util.testing as tm\n"
          ]
        }
      ]
    },
    {
      "cell_type": "code",
      "source": [
        "df_04[target].describe()"
      ],
      "metadata": {
        "colab": {
          "base_uri": "https://localhost:8080/"
        },
        "id": "zPHakZ56vhVw",
        "outputId": "b5889f6a-dc4a-4321-9cb5-ca0e91571331"
      },
      "execution_count": null,
      "outputs": [
        {
          "output_type": "execute_result",
          "data": {
            "text/plain": [
              "count    9508.000000\n",
              "mean       53.545015\n",
              "std        13.197673\n",
              "min        10.000000\n",
              "25%        44.000000\n",
              "50%        52.000000\n",
              "75%        62.000000\n",
              "max        98.000000\n",
              "Name: Rotten Tomatoes, dtype: float64"
            ]
          },
          "metadata": {},
          "execution_count": 17
        }
      ]
    },
    {
      "cell_type": "code",
      "source": [
        "import seaborn as sns\n",
        "sns.displot(df_04[target])"
      ],
      "metadata": {
        "colab": {
          "base_uri": "https://localhost:8080/",
          "height": 387
        },
        "id": "KgVncPwctPb3",
        "outputId": "4b04aec6-044f-47bf-b906-5390a8a67d99"
      },
      "execution_count": null,
      "outputs": [
        {
          "output_type": "execute_result",
          "data": {
            "text/plain": [
              "<seaborn.axisgrid.FacetGrid at 0x7f0451caa4d0>"
            ]
          },
          "metadata": {},
          "execution_count": 18
        },
        {
          "output_type": "display_data",
          "data": {
            "text/plain": [
              "<Figure size 360x360 with 1 Axes>"
            ],
            "image/png": "[encoded data removed]"
          },
          "metadata": {
            "needs_background": "light"
          }
        }
      ]
    },
    {
      "cell_type": "code",
      "source": [
        "mean = y_train.mean()\n",
        "y_train_pred = [mean] * len(y_train)\n",
        "len(y_train_pred), len(y_train)"
      ],
      "metadata": {
        "colab": {
          "base_uri": "https://localhost:8080/"
        },
        "id": "5rLy5TkQyRjA",
        "outputId": "e2e23bfd-3aba-4d13-9e72-2ad03692efea"
      },
      "execution_count": null,
      "outputs": [
        {
          "output_type": "execute_result",
          "data": {
            "text/plain": [
              "(5348, 5348)"
            ]
          },
          "metadata": {},
          "execution_count": 19
        }
      ]
    },
    {
      "cell_type": "code",
      "source": [
        "#베이스라인 모델\n",
        "from sklearn.metrics import r2_score, mean_absolute_error\n",
        "print('score',r2_score(y_train, y_train_pred))\n",
        "print('mae',mean_absolute_error(y_train, y_train_pred))"
      ],
      "metadata": {
        "colab": {
          "base_uri": "https://localhost:8080/"
        },
        "id": "_PPVy3YyzcIB",
        "outputId": "8403e105-e9fb-41ef-e7c5-4974d59af81c"
      },
      "execution_count": null,
      "outputs": [
        {
          "output_type": "stream",
          "name": "stdout",
          "text": [
            "score 0.0\n",
            "mae 10.606064996651877\n"
          ]
        }
      ]
    },
    {
      "cell_type": "code",
      "source": [
        "#Linear Regression\n",
        "from category_encoders import TargetEncoder\n",
        "from sklearn.impute import SimpleImputer\n",
        "from sklearn.preprocessing import StandardScaler\n",
        "from sklearn.pipeline import make_pipeline, Pipeline\n",
        "from sklearn.linear_model import LinearRegression\n",
        "\n",
        "preprocessing = make_pipeline(TargetEncoder(), SimpleImputer(), StandardScaler())\n",
        "pipe_linear = Pipeline([('pre', preprocessing), ('linear', LinearRegression())])\n",
        "\n",
        "pipe_linear.fit(X_train, y_train)\n",
        "print('train data')\n",
        "print('score:', pipe_linear.score(X_train, y_train))\n",
        "print('mae:', mean_absolute_error(y_train, pipe_linear.predict(X_train)))\n",
        "\n",
        "print('\\nval data')\n",
        "print('score:', pipe_linear.score(X_val, y_val))\n",
        "print('mae:', mean_absolute_error(y_val, pipe_linear.predict(X_val)))"
      ],
      "metadata": {
        "colab": {
          "base_uri": "https://localhost:8080/"
        },
        "id": "lQp6_cVqzdjH",
        "outputId": "fede89de-e1f7-4669-c18f-441841c2d099"
      },
      "execution_count": null,
      "outputs": [
        {
          "output_type": "stream",
          "name": "stderr",
          "text": [
            "/usr/local/lib/python3.7/dist-packages/category_encoders/target_encoder.py:94: FutureWarning: Default parameter min_samples_leaf will change in version 2.6.See https://github.com/scikit-learn-contrib/category_encoders/issues/327\n",
            "  category=FutureWarning)\n",
            "/usr/local/lib/python3.7/dist-packages/category_encoders/target_encoder.py:99: FutureWarning: Default parameter smoothing will change in version 2.6.See https://github.com/scikit-learn-contrib/category_encoders/issues/327\n",
            "  category=FutureWarning)\n"
          ]
        },
        {
          "output_type": "stream",
          "name": "stdout",
          "text": [
            "train data\n",
            "score: 0.568959557400837\n",
            "mae: 6.575928484325995\n",
            "\n",
            "val data\n",
            "score: 0.4897306088698884\n",
            "mae: 7.300556960247549\n"
          ]
        }
      ]
    },
    {
      "cell_type": "code",
      "source": [
        "#Ridge\n",
        "from sklearn.linear_model import Ridge, RidgeCV\n",
        "\n",
        "pipe_ridge = Pipeline([('pre', preprocessing), ('rdg', Ridge())])\n",
        "\n",
        "pipe_ridge.fit(X_train, y_train)\n",
        "print('train data')\n",
        "print('score:', pipe_ridge.score(X_train, y_train))\n",
        "print('mae:', mean_absolute_error(y_train, pipe_ridge.predict(X_train)))\n",
        "\n",
        "print('\\nval data')\n",
        "print('score:', pipe_ridge.score(X_val, y_val))\n",
        "print('mae:', mean_absolute_error(y_val, pipe_ridge.predict(X_val)))"
      ],
      "metadata": {
        "colab": {
          "base_uri": "https://localhost:8080/"
        },
        "id": "-wqXUXYVzsnn",
        "outputId": "ee8cbbec-7280-478d-9257-37de38ffa089"
      },
      "execution_count": null,
      "outputs": [
        {
          "output_type": "stream",
          "name": "stdout",
          "text": [
            "train data\n",
            "score: 0.5689595360835422\n",
            "mae: 6.575910856247562\n",
            "\n",
            "val data\n",
            "score: 0.48972133922273053\n",
            "mae: 7.300636562386065\n"
          ]
        }
      ]
    },
    {
      "cell_type": "code",
      "source": [
        "#다항회귀 + RidgeCV\n",
        "from sklearn.preprocessing import PolynomialFeatures\n",
        "\n",
        "pipe_polyridge = Pipeline([('pre', preprocessing), ('poly', PolynomialFeatures()), ('polyridge', RidgeCV(alphas=[0.01, 0.05, 0.1, 0.5, 1, 10]))])\n",
        "pipe_polyridge.fit(X_train, y_train)\n",
        "\n",
        "print('train data')\n",
        "print('score:', pipe_polyridge.score(X_train, y_train))\n",
        "print('mae:', mean_absolute_error(y_train, pipe_polyridge.predict(X_train)))\n",
        "\n",
        "print('\\nval data')\n",
        "print('score:', pipe_polyridge.score(X_val, y_val))\n",
        "print('mae:', mean_absolute_error(y_val, pipe_polyridge.predict(X_val)))"
      ],
      "metadata": {
        "colab": {
          "base_uri": "https://localhost:8080/"
        },
        "id": "u2s9Gxhf0J8L",
        "outputId": "3d6c48d7-4eb9-40d2-fe61-12bc9749f847"
      },
      "execution_count": null,
      "outputs": [
        {
          "output_type": "stream",
          "name": "stdout",
          "text": [
            "train data\n",
            "score: 0.6268841556908791\n",
            "mae: 6.093071898035614\n",
            "\n",
            "val data\n",
            "score: 0.539030096326337\n",
            "mae: 6.817958134864095\n"
          ]
        }
      ]
    },
    {
      "cell_type": "code",
      "source": [
        "#randomforest\n",
        "from sklearn.ensemble import RandomForestRegressor\n",
        "\n",
        "preprocessing = make_pipeline(TargetEncoder(), SimpleImputer(), StandardScaler())\n",
        "rf = RandomForestRegressor()\n",
        "pipe_rf = Pipeline([('pre', preprocessing), ('rf', rf)])\n",
        "\n",
        "pipe_rf.fit(X_train, y_train)\n",
        "print('train data')\n",
        "print('score:', pipe_rf.score(X_train, y_train))\n",
        "print('mae:', mean_absolute_error(y_train, pipe_rf.predict(X_train)))\n",
        "\n",
        "print('\\nval data')\n",
        "print('score:', pipe_rf.score(X_val, y_val))\n",
        "print('mae:', mean_absolute_error(y_val, pipe_rf.predict(X_val)))"
      ],
      "metadata": {
        "colab": {
          "base_uri": "https://localhost:8080/"
        },
        "id": "7uE6Shka0WW-",
        "outputId": "95c14874-99db-44ef-a340-2ead2dda1cfd"
      },
      "execution_count": null,
      "outputs": [
        {
          "output_type": "stream",
          "name": "stderr",
          "text": [
            "/usr/local/lib/python3.7/dist-packages/category_encoders/target_encoder.py:94: FutureWarning: Default parameter min_samples_leaf will change in version 2.6.See https://github.com/scikit-learn-contrib/category_encoders/issues/327\n",
            "  category=FutureWarning)\n",
            "/usr/local/lib/python3.7/dist-packages/category_encoders/target_encoder.py:99: FutureWarning: Default parameter smoothing will change in version 2.6.See https://github.com/scikit-learn-contrib/category_encoders/issues/327\n",
            "  category=FutureWarning)\n"
          ]
        },
        {
          "output_type": "stream",
          "name": "stdout",
          "text": [
            "train data\n",
            "score: 0.9488489389270517\n",
            "mae: 2.2307068176484646\n",
            "\n",
            "val data\n",
            "score: 0.5973547870391409\n",
            "mae: 6.4289437662418605\n"
          ]
        }
      ]
    },
    {
      "cell_type": "code",
      "source": [
        "#xgb\n",
        "from xgboost import XGBRegressor\n",
        "\n",
        "preprocessing = make_pipeline(TargetEncoder(), SimpleImputer(), StandardScaler())\n",
        "xgb = XGBRegressor()\n",
        "pipe_xgb = Pipeline([('pre', preprocessing), ('xgb', xgb)])\n",
        "pipe_xgb.fit(X_train, y_train)\n",
        "\n",
        "print('train data')\n",
        "print('score:', pipe_xgb.score(X_train, y_train))\n",
        "print('mae:', mean_absolute_error(y_train, pipe_xgb.predict(X_train)))\n",
        "\n",
        "print('\\nval data')\n",
        "print('score:', pipe_xgb.score(X_val, y_val))\n",
        "print('mae:', mean_absolute_error(y_val, pipe_xgb.predict(X_val)))"
      ],
      "metadata": {
        "colab": {
          "base_uri": "https://localhost:8080/"
        },
        "id": "1O8qN-a20bPw",
        "outputId": "cf9a019c-2f10-4601-a447-c2821bbba5eb"
      },
      "execution_count": null,
      "outputs": [
        {
          "output_type": "stream",
          "name": "stderr",
          "text": [
            "/usr/local/lib/python3.7/dist-packages/category_encoders/target_encoder.py:94: FutureWarning: Default parameter min_samples_leaf will change in version 2.6.See https://github.com/scikit-learn-contrib/category_encoders/issues/327\n",
            "  category=FutureWarning)\n",
            "/usr/local/lib/python3.7/dist-packages/category_encoders/target_encoder.py:99: FutureWarning: Default parameter smoothing will change in version 2.6.See https://github.com/scikit-learn-contrib/category_encoders/issues/327\n",
            "  category=FutureWarning)\n"
          ]
        },
        {
          "output_type": "stream",
          "name": "stdout",
          "text": [
            "[23:52:22] WARNING: /workspace/src/objective/regression_obj.cu:152: reg:linear is now deprecated in favor of reg:squarederror.\n",
            "train data\n",
            "score: 0.6974242736801423\n",
            "mae: 5.580778028506705\n",
            "\n",
            "val data\n",
            "score: 0.5902406067225556\n",
            "mae: 6.527936476505812\n"
          ]
        }
      ]
    },
    {
      "cell_type": "code",
      "source": [
        "import matplotlib.pyplot as plt\n",
        "\n",
        "alpha = 0.5\n",
        "plotdata = pd.DataFrame({\n",
        "    \"train\" : [0.0, 0.57, 0.57, 0.62, 0.94, 0.69],\n",
        "    \"val\" : [0.0, 0.49, 0.49, 0.54, 0.60, 0.59]},\n",
        "    index=['Baseline', 'Linear', 'Ridge', 'poly + ridgecv', 'randomforest', 'xgb'])\n",
        "\n",
        "data1 = plotdata.plot(kind=\"bar\", figsize=(10,8), color=['lightcoral','indianred'])\n",
        "plt.xticks(x_axis, team)\n",
        "\n",
        "plt.title(\"R2\")\n",
        "\n",
        "plt.show()\n",
        "\n"
      ],
      "metadata": {
        "colab": {
          "base_uri": "https://localhost:8080/",
          "height": 562
        },
        "id": "NBDxhpeUa7yV",
        "outputId": "79e25a40-50fc-4d81-aaaa-dbc28bb8ef32"
      },
      "execution_count": null,
      "outputs": [
        {
          "output_type": "display_data",
          "data": {
            "text/plain": [
              "<Figure size 720x576 with 1 Axes>"
            ],
            "image/png": "[encoded data removed]"
          },
          "metadata": {
            "needs_background": "light"
          }
        }
      ]
    },
    {
      "cell_type": "code",
      "source": [
        "#cv를 통해 일반화될 가능성 확인\n",
        "%%time\n",
        "\n",
        "preprocessing.fit_transform(X_train, y_train)\n",
        "X_val_ready = preprocessing.transform(X_val)\n",
        "\n",
        "model_list = []\n",
        "for model in [pipe_rf, pipe_xgb]:\n",
        "  score_lst = []\n",
        "  for k in range(3, 20):\n",
        "    scores = cross_val_score(model, X_train, y_train, cv=k, scoring='r2')\n",
        "    score_lst.append((k,max(scores)))\n",
        "  model_list.append(score_lst)\n",
        "\n",
        "rf_x = [x[0] for x in model_list[0]]\n",
        "rf_y = [x[1] for x in model_list[0]]\n",
        "\n",
        "xgb_x = [x[0] for x in model_list[1]]\n",
        "xgb_y = [x[1] for x in model_list[1]]\n",
        "\n",
        "import matplotlib.pyplot as plt\n",
        "\n",
        "plt.plot(rf_x, rf_y, label = 'rf')\n",
        "plt.plot(xgb_x, xgb_y, label = 'xgb')\n",
        "plt.xlabel('k')\n",
        "plt.ylabel('score')\n",
        "plt.legend()\n",
        "plt.show()"
      ],
      "metadata": {
        "colab": {
          "base_uri": "https://localhost:8080/",
          "height": 1000
        },
        "id": "G7dNxb-62k8o",
        "outputId": "12ad97dc-a971-4b2e-b254-7b58e689b280"
      },
      "execution_count": null,
      "outputs": [
        {
          "output_type": "stream",
          "name": "stderr",
          "text": [
            "/usr/local/lib/python3.7/dist-packages/category_encoders/target_encoder.py:94: FutureWarning: Default parameter min_samples_leaf will change in version 2.6.See https://github.com/scikit-learn-contrib/category_encoders/issues/327\n",
            "  category=FutureWarning)\n",
            "/usr/local/lib/python3.7/dist-packages/category_encoders/target_encoder.py:99: FutureWarning: Default parameter smoothing will change in version 2.6.See https://github.com/scikit-learn-contrib/category_encoders/issues/327\n",
            "  category=FutureWarning)\n",
            "/usr/local/lib/python3.7/dist-packages/category_encoders/target_encoder.py:94: FutureWarning: Default parameter min_samples_leaf will change in version 2.6.See https://github.com/scikit-learn-contrib/category_encoders/issues/327\n",
            "  category=FutureWarning)\n",
            "/usr/local/lib/python3.7/dist-packages/category_encoders/target_encoder.py:99: FutureWarning: Default parameter smoothing will change in version 2.6.See https://github.com/scikit-learn-contrib/category_encoders/issues/327\n",
            "  category=FutureWarning)\n",
            "/usr/local/lib/python3.7/dist-packages/category_encoders/target_encoder.py:94: FutureWarning: Default parameter min_samples_leaf will change in version 2.6.See https://github.com/scikit-learn-contrib/category_encoders/issues/327\n",
            "  category=FutureWarning)\n",
            "/usr/local/lib/python3.7/dist-packages/category_encoders/target_encoder.py:99: FutureWarning: Default parameter smoothing will change in version 2.6.See https://github.com/scikit-learn-contrib/category_encoders/issues/327\n",
            "  category=FutureWarning)\n",
            "/usr/local/lib/python3.7/dist-packages/category_encoders/target_encoder.py:94: FutureWarning: Default parameter min_samples_leaf will change in version 2.6.See https://github.com/scikit-learn-contrib/category_encoders/issues/327\n",
            "  category=FutureWarning)\n",
            "/usr/local/lib/python3.7/dist-packages/category_encoders/target_encoder.py:99: FutureWarning: Default parameter smoothing will change in version 2.6.See https://github.com/scikit-learn-contrib/category_encoders/issues/327\n",
            "  category=FutureWarning)\n",
            "/usr/local/lib/python3.7/dist-packages/category_encoders/target_encoder.py:94: FutureWarning: Default parameter min_samples_leaf will change in version 2.6.See https://github.com/scikit-learn-contrib/category_encoders/issues/327\n",
            "  category=FutureWarning)\n",
            "/usr/local/lib/python3.7/dist-packages/category_encoders/target_encoder.py:99: FutureWarning: Default parameter smoothing will change in version 2.6.See https://github.com/scikit-learn-contrib/category_encoders/issues/327\n",
            "  category=FutureWarning)\n",
            "/usr/local/lib/python3.7/dist-packages/category_encoders/target_encoder.py:94: FutureWarning: Default parameter min_samples_leaf will change in version 2.6.See https://github.com/scikit-learn-contrib/category_encoders/issues/327\n",
            "  category=FutureWarning)\n",
            "/usr/local/lib/python3.7/dist-packages/category_encoders/target_encoder.py:99: FutureWarning: Default parameter smoothing will change in version 2.6.See https://github.com/scikit-learn-contrib/category_encoders/issues/327\n",
            "  category=FutureWarning)\n",
            "/usr/local/lib/python3.7/dist-packages/category_encoders/target_encoder.py:94: FutureWarning: Default parameter min_samples_leaf will change in version 2.6.See https://github.com/scikit-learn-contrib/category_encoders/issues/327\n",
            "  category=FutureWarning)\n",
            "/usr/local/lib/python3.7/dist-packages/category_encoders/target_encoder.py:99: FutureWarning: Default parameter smoothing will change in version 2.6.See https://github.com/scikit-learn-contrib/category_encoders/issues/327\n",
            "  category=FutureWarning)\n",
            "/usr/local/lib/python3.7/dist-packages/category_encoders/target_encoder.py:94: FutureWarning: Default parameter min_samples_leaf will change in version 2.6.See https://github.com/scikit-learn-contrib/category_encoders/issues/327\n",
            "  category=FutureWarning)\n",
            "/usr/local/lib/python3.7/dist-packages/category_encoders/target_encoder.py:99: FutureWarning: Default parameter smoothing will change in version 2.6.See https://github.com/scikit-learn-contrib/category_encoders/issues/327\n",
            "  category=FutureWarning)\n",
            "/usr/local/lib/python3.7/dist-packages/category_encoders/target_encoder.py:94: FutureWarning: Default parameter min_samples_leaf will change in version 2.6.See https://github.com/scikit-learn-contrib/category_encoders/issues/327\n",
            "  category=FutureWarning)\n",
            "/usr/local/lib/python3.7/dist-packages/category_encoders/target_encoder.py:99: FutureWarning: Default parameter smoothing will change in version 2.6.See https://github.com/scikit-learn-contrib/category_encoders/issues/327\n",
            "  category=FutureWarning)\n",
            "/usr/local/lib/python3.7/dist-packages/category_encoders/target_encoder.py:94: FutureWarning: Default parameter min_samples_leaf will change in version 2.6.See https://github.com/scikit-learn-contrib/category_encoders/issues/327\n",
            "  category=FutureWarning)\n",
            "/usr/local/lib/python3.7/dist-packages/category_encoders/target_encoder.py:99: FutureWarning: Default parameter smoothing will change in version 2.6.See https://github.com/scikit-learn-contrib/category_encoders/issues/327\n",
            "  category=FutureWarning)\n",
            "/usr/local/lib/python3.7/dist-packages/category_encoders/target_encoder.py:94: FutureWarning: Default parameter min_samples_leaf will change in version 2.6.See https://github.com/scikit-learn-contrib/category_encoders/issues/327\n",
            "  category=FutureWarning)\n",
            "/usr/local/lib/python3.7/dist-packages/category_encoders/target_encoder.py:99: FutureWarning: Default parameter smoothing will change in version 2.6.See https://github.com/scikit-learn-contrib/category_encoders/issues/327\n",
            "  category=FutureWarning)\n",
            "/usr/local/lib/python3.7/dist-packages/category_encoders/target_encoder.py:94: FutureWarning: Default parameter min_samples_leaf will change in version 2.6.See https://github.com/scikit-learn-contrib/category_encoders/issues/327\n",
            "  category=FutureWarning)\n",
            "/usr/local/lib/python3.7/dist-packages/category_encoders/target_encoder.py:99: FutureWarning: Default parameter smoothing will change in version 2.6.See https://github.com/scikit-learn-contrib/category_encoders/issues/327\n",
            "  category=FutureWarning)\n",
            "/usr/local/lib/python3.7/dist-packages/category_encoders/target_encoder.py:94: FutureWarning: Default parameter min_samples_leaf will change in version 2.6.See https://github.com/scikit-learn-contrib/category_encoders/issues/327\n",
            "  category=FutureWarning)\n",
            "/usr/local/lib/python3.7/dist-packages/category_encoders/target_encoder.py:99: FutureWarning: Default parameter smoothing will change in version 2.6.See https://github.com/scikit-learn-contrib/category_encoders/issues/327\n",
            "  category=FutureWarning)\n",
            "/usr/local/lib/python3.7/dist-packages/category_encoders/target_encoder.py:94: FutureWarning: Default parameter min_samples_leaf will change in version 2.6.See https://github.com/scikit-learn-contrib/category_encoders/issues/327\n",
            "  category=FutureWarning)\n",
            "/usr/local/lib/python3.7/dist-packages/category_encoders/target_encoder.py:99: FutureWarning: Default parameter smoothing will change in version 2.6.See https://github.com/scikit-learn-contrib/category_encoders/issues/327\n",
            "  category=FutureWarning)\n",
            "/usr/local/lib/python3.7/dist-packages/category_encoders/target_encoder.py:94: FutureWarning: Default parameter min_samples_leaf will change in version 2.6.See https://github.com/scikit-learn-contrib/category_encoders/issues/327\n",
            "  category=FutureWarning)\n",
            "/usr/local/lib/python3.7/dist-packages/category_encoders/target_encoder.py:99: FutureWarning: Default parameter smoothing will change in version 2.6.See https://github.com/scikit-learn-contrib/category_encoders/issues/327\n",
            "  category=FutureWarning)\n",
            "/usr/local/lib/python3.7/dist-packages/category_encoders/target_encoder.py:94: FutureWarning: Default parameter min_samples_leaf will change in version 2.6.See https://github.com/scikit-learn-contrib/category_encoders/issues/327\n",
            "  category=FutureWarning)\n",
            "/usr/local/lib/python3.7/dist-packages/category_encoders/target_encoder.py:99: FutureWarning: Default parameter smoothing will change in version 2.6.See https://github.com/scikit-learn-contrib/category_encoders/issues/327\n",
            "  category=FutureWarning)\n",
            "/usr/local/lib/python3.7/dist-packages/category_encoders/target_encoder.py:94: FutureWarning: Default parameter min_samples_leaf will change in version 2.6.See https://github.com/scikit-learn-contrib/category_encoders/issues/327\n",
            "  category=FutureWarning)\n",
            "/usr/local/lib/python3.7/dist-packages/category_encoders/target_encoder.py:99: FutureWarning: Default parameter smoothing will change in version 2.6.See https://github.com/scikit-learn-contrib/category_encoders/issues/327\n",
            "  category=FutureWarning)\n",
            "/usr/local/lib/python3.7/dist-packages/category_encoders/target_encoder.py:94: FutureWarning: Default parameter min_samples_leaf will change in version 2.6.See https://github.com/scikit-learn-contrib/category_encoders/issues/327\n",
            "  category=FutureWarning)\n",
            "/usr/local/lib/python3.7/dist-packages/category_encoders/target_encoder.py:99: FutureWarning: Default parameter smoothing will change in version 2.6.See https://github.com/scikit-learn-contrib/category_encoders/issues/327\n",
            "  category=FutureWarning)\n",
            "/usr/local/lib/python3.7/dist-packages/category_encoders/target_encoder.py:94: FutureWarning: Default parameter min_samples_leaf will change in version 2.6.See https://github.com/scikit-learn-contrib/category_encoders/issues/327\n",
            "  category=FutureWarning)\n",
            "/usr/local/lib/python3.7/dist-packages/category_encoders/target_encoder.py:99: FutureWarning: Default parameter smoothing will change in version 2.6.See https://github.com/scikit-learn-contrib/category_encoders/issues/327\n",
            "  category=FutureWarning)\n",
            "/usr/local/lib/python3.7/dist-packages/category_encoders/target_encoder.py:94: FutureWarning: Default parameter min_samples_leaf will change in version 2.6.See https://github.com/scikit-learn-contrib/category_encoders/issues/327\n",
            "  category=FutureWarning)\n",
            "/usr/local/lib/python3.7/dist-packages/category_encoders/target_encoder.py:99: FutureWarning: Default parameter smoothing will change in version 2.6.See https://github.com/scikit-learn-contrib/category_encoders/issues/327\n",
            "  category=FutureWarning)\n",
            "/usr/local/lib/python3.7/dist-packages/category_encoders/target_encoder.py:94: FutureWarning: Default parameter min_samples_leaf will change in version 2.6.See https://github.com/scikit-learn-contrib/category_encoders/issues/327\n",
            "  category=FutureWarning)\n",
            "/usr/local/lib/python3.7/dist-packages/category_encoders/target_encoder.py:99: FutureWarning: Default parameter smoothing will change in version 2.6.See https://github.com/scikit-learn-contrib/category_encoders/issues/327\n",
            "  category=FutureWarning)\n",
            "/usr/local/lib/python3.7/dist-packages/category_encoders/target_encoder.py:94: FutureWarning: Default parameter min_samples_leaf will change in version 2.6.See https://github.com/scikit-learn-contrib/category_encoders/issues/327\n",
            "  category=FutureWarning)\n",
            "/usr/local/lib/python3.7/dist-packages/category_encoders/target_encoder.py:99: FutureWarning: Default parameter smoothing will change in version 2.6.See https://github.com/scikit-learn-contrib/category_encoders/issues/327\n",
            "  category=FutureWarning)\n",
            "/usr/local/lib/python3.7/dist-packages/category_encoders/target_encoder.py:94: FutureWarning: Default parameter min_samples_leaf will change in version 2.6.See https://github.com/scikit-learn-contrib/category_encoders/issues/327\n",
            "  category=FutureWarning)\n",
            "/usr/local/lib/python3.7/dist-packages/category_encoders/target_encoder.py:99: FutureWarning: Default parameter smoothing will change in version 2.6.See https://github.com/scikit-learn-contrib/category_encoders/issues/327\n",
            "  category=FutureWarning)\n",
            "/usr/local/lib/python3.7/dist-packages/category_encoders/target_encoder.py:94: FutureWarning: Default parameter min_samples_leaf will change in version 2.6.See https://github.com/scikit-learn-contrib/category_encoders/issues/327\n",
            "  category=FutureWarning)\n",
            "/usr/local/lib/python3.7/dist-packages/category_encoders/target_encoder.py:99: FutureWarning: Default parameter smoothing will change in version 2.6.See https://github.com/scikit-learn-contrib/category_encoders/issues/327\n",
            "  category=FutureWarning)\n",
            "/usr/local/lib/python3.7/dist-packages/category_encoders/target_encoder.py:94: FutureWarning: Default parameter min_samples_leaf will change in version 2.6.See https://github.com/scikit-learn-contrib/category_encoders/issues/327\n",
            "  category=FutureWarning)\n",
            "/usr/local/lib/python3.7/dist-packages/category_encoders/target_encoder.py:99: FutureWarning: Default parameter smoothing will change in version 2.6.See https://github.com/scikit-learn-contrib/category_encoders/issues/327\n",
            "  category=FutureWarning)\n",
            "/usr/local/lib/python3.7/dist-packages/category_encoders/target_encoder.py:94: FutureWarning: Default parameter min_samples_leaf will change in version 2.6.See https://github.com/scikit-learn-contrib/category_encoders/issues/327\n",
            "  category=FutureWarning)\n",
            "/usr/local/lib/python3.7/dist-packages/category_encoders/target_encoder.py:99: FutureWarning: Default parameter smoothing will change in version 2.6.See https://github.com/scikit-learn-contrib/category_encoders/issues/327\n",
            "  category=FutureWarning)\n",
            "/usr/local/lib/python3.7/dist-packages/category_encoders/target_encoder.py:94: FutureWarning: Default parameter min_samples_leaf will change in version 2.6.See https://github.com/scikit-learn-contrib/category_encoders/issues/327\n",
            "  category=FutureWarning)\n",
            "/usr/local/lib/python3.7/dist-packages/category_encoders/target_encoder.py:99: FutureWarning: Default parameter smoothing will change in version 2.6.See https://github.com/scikit-learn-contrib/category_encoders/issues/327\n",
            "  category=FutureWarning)\n",
            "/usr/local/lib/python3.7/dist-packages/category_encoders/target_encoder.py:94: FutureWarning: Default parameter min_samples_leaf will change in version 2.6.See https://github.com/scikit-learn-contrib/category_encoders/issues/327\n",
            "  category=FutureWarning)\n",
            "/usr/local/lib/python3.7/dist-packages/category_encoders/target_encoder.py:99: FutureWarning: Default parameter smoothing will change in version 2.6.See https://github.com/scikit-learn-contrib/category_encoders/issues/327\n",
            "  category=FutureWarning)\n",
            "/usr/local/lib/python3.7/dist-packages/category_encoders/target_encoder.py:94: FutureWarning: Default parameter min_samples_leaf will change in version 2.6.See https://github.com/scikit-learn-contrib/category_encoders/issues/327\n",
            "  category=FutureWarning)\n",
            "/usr/local/lib/python3.7/dist-packages/category_encoders/target_encoder.py:99: FutureWarning: Default parameter smoothing will change in version 2.6.See https://github.com/scikit-learn-contrib/category_encoders/issues/327\n",
            "  category=FutureWarning)\n",
            "/usr/local/lib/python3.7/dist-packages/category_encoders/target_encoder.py:94: FutureWarning: Default parameter min_samples_leaf will change in version 2.6.See https://github.com/scikit-learn-contrib/category_encoders/issues/327\n",
            "  category=FutureWarning)\n",
            "/usr/local/lib/python3.7/dist-packages/category_encoders/target_encoder.py:99: FutureWarning: Default parameter smoothing will change in version 2.6.See https://github.com/scikit-learn-contrib/category_encoders/issues/327\n",
            "  category=FutureWarning)\n",
            "/usr/local/lib/python3.7/dist-packages/category_encoders/target_encoder.py:94: FutureWarning: Default parameter min_samples_leaf will change in version 2.6.See https://github.com/scikit-learn-contrib/category_encoders/issues/327\n",
            "  category=FutureWarning)\n",
            "/usr/local/lib/python3.7/dist-packages/category_encoders/target_encoder.py:99: FutureWarning: Default parameter smoothing will change in version 2.6.See https://github.com/scikit-learn-contrib/category_encoders/issues/327\n",
            "  category=FutureWarning)\n",
            "/usr/local/lib/python3.7/dist-packages/category_encoders/target_encoder.py:94: FutureWarning: Default parameter min_samples_leaf will change in version 2.6.See https://github.com/scikit-learn-contrib/category_encoders/issues/327\n",
            "  category=FutureWarning)\n",
            "/usr/local/lib/python3.7/dist-packages/category_encoders/target_encoder.py:99: FutureWarning: Default parameter smoothing will change in version 2.6.See https://github.com/scikit-learn-contrib/category_encoders/issues/327\n",
            "  category=FutureWarning)\n",
            "/usr/local/lib/python3.7/dist-packages/category_encoders/target_encoder.py:94: FutureWarning: Default parameter min_samples_leaf will change in version 2.6.See https://github.com/scikit-learn-contrib/category_encoders/issues/327\n",
            "  category=FutureWarning)\n",
            "/usr/local/lib/python3.7/dist-packages/category_encoders/target_encoder.py:99: FutureWarning: Default parameter smoothing will change in version 2.6.See https://github.com/scikit-learn-contrib/category_encoders/issues/327\n",
            "  category=FutureWarning)\n",
            "/usr/local/lib/python3.7/dist-packages/category_encoders/target_encoder.py:94: FutureWarning: Default parameter min_samples_leaf will change in version 2.6.See https://github.com/scikit-learn-contrib/category_encoders/issues/327\n",
            "  category=FutureWarning)\n",
            "/usr/local/lib/python3.7/dist-packages/category_encoders/target_encoder.py:99: FutureWarning: Default parameter smoothing will change in version 2.6.See https://github.com/scikit-learn-contrib/category_encoders/issues/327\n",
            "  category=FutureWarning)\n",
            "/usr/local/lib/python3.7/dist-packages/category_encoders/target_encoder.py:94: FutureWarning: Default parameter min_samples_leaf will change in version 2.6.See https://github.com/scikit-learn-contrib/category_encoders/issues/327\n",
            "  category=FutureWarning)\n",
            "/usr/local/lib/python3.7/dist-packages/category_encoders/target_encoder.py:99: FutureWarning: Default parameter smoothing will change in version 2.6.See https://github.com/scikit-learn-contrib/category_encoders/issues/327\n",
            "  category=FutureWarning)\n",
            "/usr/local/lib/python3.7/dist-packages/category_encoders/target_encoder.py:94: FutureWarning: Default parameter min_samples_leaf will change in version 2.6.See https://github.com/scikit-learn-contrib/category_encoders/issues/327\n",
            "  category=FutureWarning)\n",
            "/usr/local/lib/python3.7/dist-packages/category_encoders/target_encoder.py:99: FutureWarning: Default parameter smoothing will change in version 2.6.See https://github.com/scikit-learn-contrib/category_encoders/issues/327\n",
            "  category=FutureWarning)\n",
            "/usr/local/lib/python3.7/dist-packages/category_encoders/target_encoder.py:94: FutureWarning: Default parameter min_samples_leaf will change in version 2.6.See https://github.com/scikit-learn-contrib/category_encoders/issues/327\n",
            "  category=FutureWarning)\n",
            "/usr/local/lib/python3.7/dist-packages/category_encoders/target_encoder.py:99: FutureWarning: Default parameter smoothing will change in version 2.6.See https://github.com/scikit-learn-contrib/category_encoders/issues/327\n",
            "  category=FutureWarning)\n",
            "/usr/local/lib/python3.7/dist-packages/category_encoders/target_encoder.py:94: FutureWarning: Default parameter min_samples_leaf will change in version 2.6.See https://github.com/scikit-learn-contrib/category_encoders/issues/327\n",
            "  category=FutureWarning)\n",
            "/usr/local/lib/python3.7/dist-packages/category_encoders/target_encoder.py:99: FutureWarning: Default parameter smoothing will change in version 2.6.See https://github.com/scikit-learn-contrib/category_encoders/issues/327\n",
            "  category=FutureWarning)\n",
            "/usr/local/lib/python3.7/dist-packages/category_encoders/target_encoder.py:94: FutureWarning: Default parameter min_samples_leaf will change in version 2.6.See https://github.com/scikit-learn-contrib/category_encoders/issues/327\n",
            "  category=FutureWarning)\n",
            "/usr/local/lib/python3.7/dist-packages/category_encoders/target_encoder.py:99: FutureWarning: Default parameter smoothing will change in version 2.6.See https://github.com/scikit-learn-contrib/category_encoders/issues/327\n",
            "  category=FutureWarning)\n",
            "/usr/local/lib/python3.7/dist-packages/category_encoders/target_encoder.py:94: FutureWarning: Default parameter min_samples_leaf will change in version 2.6.See https://github.com/scikit-learn-contrib/category_encoders/issues/327\n",
            "  category=FutureWarning)\n",
            "/usr/local/lib/python3.7/dist-packages/category_encoders/target_encoder.py:99: FutureWarning: Default parameter smoothing will change in version 2.6.See https://github.com/scikit-learn-contrib/category_encoders/issues/327\n",
            "  category=FutureWarning)\n",
            "/usr/local/lib/python3.7/dist-packages/category_encoders/target_encoder.py:94: FutureWarning: Default parameter min_samples_leaf will change in version 2.6.See https://github.com/scikit-learn-contrib/category_encoders/issues/327\n",
            "  category=FutureWarning)\n",
            "/usr/local/lib/python3.7/dist-packages/category_encoders/target_encoder.py:99: FutureWarning: Default parameter smoothing will change in version 2.6.See https://github.com/scikit-learn-contrib/category_encoders/issues/327\n",
            "  category=FutureWarning)\n",
            "/usr/local/lib/python3.7/dist-packages/category_encoders/target_encoder.py:94: FutureWarning: Default parameter min_samples_leaf will change in version 2.6.See https://github.com/scikit-learn-contrib/category_encoders/issues/327\n",
            "  category=FutureWarning)\n",
            "/usr/local/lib/python3.7/dist-packages/category_encoders/target_encoder.py:99: FutureWarning: Default parameter smoothing will change in version 2.6.See https://github.com/scikit-learn-contrib/category_encoders/issues/327\n",
            "  category=FutureWarning)\n",
            "/usr/local/lib/python3.7/dist-packages/category_encoders/target_encoder.py:94: FutureWarning: Default parameter min_samples_leaf will change in version 2.6.See https://github.com/scikit-learn-contrib/category_encoders/issues/327\n",
            "  category=FutureWarning)\n",
            "/usr/local/lib/python3.7/dist-packages/category_encoders/target_encoder.py:99: FutureWarning: Default parameter smoothing will change in version 2.6.See https://github.com/scikit-learn-contrib/category_encoders/issues/327\n",
            "  category=FutureWarning)\n",
            "/usr/local/lib/python3.7/dist-packages/category_encoders/target_encoder.py:94: FutureWarning: Default parameter min_samples_leaf will change in version 2.6.See https://github.com/scikit-learn-contrib/category_encoders/issues/327\n",
            "  category=FutureWarning)\n",
            "/usr/local/lib/python3.7/dist-packages/category_encoders/target_encoder.py:99: FutureWarning: Default parameter smoothing will change in version 2.6.See https://github.com/scikit-learn-contrib/category_encoders/issues/327\n",
            "  category=FutureWarning)\n",
            "/usr/local/lib/python3.7/dist-packages/category_encoders/target_encoder.py:94: FutureWarning: Default parameter min_samples_leaf will change in version 2.6.See https://github.com/scikit-learn-contrib/category_encoders/issues/327\n",
            "  category=FutureWarning)\n",
            "/usr/local/lib/python3.7/dist-packages/category_encoders/target_encoder.py:99: FutureWarning: Default parameter smoothing will change in version 2.6.See https://github.com/scikit-learn-contrib/category_encoders/issues/327\n",
            "  category=FutureWarning)\n",
            "/usr/local/lib/python3.7/dist-packages/category_encoders/target_encoder.py:94: FutureWarning: Default parameter min_samples_leaf will change in version 2.6.See https://github.com/scikit-learn-contrib/category_encoders/issues/327\n",
            "  category=FutureWarning)\n",
            "/usr/local/lib/python3.7/dist-packages/category_encoders/target_encoder.py:99: FutureWarning: Default parameter smoothing will change in version 2.6.See https://github.com/scikit-learn-contrib/category_encoders/issues/327\n",
            "  category=FutureWarning)\n",
            "/usr/local/lib/python3.7/dist-packages/category_encoders/target_encoder.py:94: FutureWarning: Default parameter min_samples_leaf will change in version 2.6.See https://github.com/scikit-learn-contrib/category_encoders/issues/327\n",
            "  category=FutureWarning)\n",
            "/usr/local/lib/python3.7/dist-packages/category_encoders/target_encoder.py:99: FutureWarning: Default parameter smoothing will change in version 2.6.See https://github.com/scikit-learn-contrib/category_encoders/issues/327\n",
            "  category=FutureWarning)\n",
            "/usr/local/lib/python3.7/dist-packages/category_encoders/target_encoder.py:94: FutureWarning: Default parameter min_samples_leaf will change in version 2.6.See https://github.com/scikit-learn-contrib/category_encoders/issues/327\n",
            "  category=FutureWarning)\n",
            "/usr/local/lib/python3.7/dist-packages/category_encoders/target_encoder.py:99: FutureWarning: Default parameter smoothing will change in version 2.6.See https://github.com/scikit-learn-contrib/category_encoders/issues/327\n",
            "  category=FutureWarning)\n",
            "/usr/local/lib/python3.7/dist-packages/category_encoders/target_encoder.py:94: FutureWarning: Default parameter min_samples_leaf will change in version 2.6.See https://github.com/scikit-learn-contrib/category_encoders/issues/327\n",
            "  category=FutureWarning)\n",
            "/usr/local/lib/python3.7/dist-packages/category_encoders/target_encoder.py:99: FutureWarning: Default parameter smoothing will change in version 2.6.See https://github.com/scikit-learn-contrib/category_encoders/issues/327\n",
            "  category=FutureWarning)\n",
            "/usr/local/lib/python3.7/dist-packages/category_encoders/target_encoder.py:94: FutureWarning: Default parameter min_samples_leaf will change in version 2.6.See https://github.com/scikit-learn-contrib/category_encoders/issues/327\n",
            "  category=FutureWarning)\n",
            "/usr/local/lib/python3.7/dist-packages/category_encoders/target_encoder.py:99: FutureWarning: Default parameter smoothing will change in version 2.6.See https://github.com/scikit-learn-contrib/category_encoders/issues/327\n",
            "  category=FutureWarning)\n",
            "/usr/local/lib/python3.7/dist-packages/category_encoders/target_encoder.py:94: FutureWarning: Default parameter min_samples_leaf will change in version 2.6.See https://github.com/scikit-learn-contrib/category_encoders/issues/327\n",
            "  category=FutureWarning)\n",
            "/usr/local/lib/python3.7/dist-packages/category_encoders/target_encoder.py:99: FutureWarning: Default parameter smoothing will change in version 2.6.See https://github.com/scikit-learn-contrib/category_encoders/issues/327\n",
            "  category=FutureWarning)\n",
            "/usr/local/lib/python3.7/dist-packages/category_encoders/target_encoder.py:94: FutureWarning: Default parameter min_samples_leaf will change in version 2.6.See https://github.com/scikit-learn-contrib/category_encoders/issues/327\n",
            "  category=FutureWarning)\n",
            "/usr/local/lib/python3.7/dist-packages/category_encoders/target_encoder.py:99: FutureWarning: Default parameter smoothing will change in version 2.6.See https://github.com/scikit-learn-contrib/category_encoders/issues/327\n",
            "  category=FutureWarning)\n",
            "/usr/local/lib/python3.7/dist-packages/category_encoders/target_encoder.py:94: FutureWarning: Default parameter min_samples_leaf will change in version 2.6.See https://github.com/scikit-learn-contrib/category_encoders/issues/327\n",
            "  category=FutureWarning)\n",
            "/usr/local/lib/python3.7/dist-packages/category_encoders/target_encoder.py:99: FutureWarning: Default parameter smoothing will change in version 2.6.See https://github.com/scikit-learn-contrib/category_encoders/issues/327\n",
            "  category=FutureWarning)\n",
            "/usr/local/lib/python3.7/dist-packages/category_encoders/target_encoder.py:94: FutureWarning: Default parameter min_samples_leaf will change in version 2.6.See https://github.com/scikit-learn-contrib/category_encoders/issues/327\n",
            "  category=FutureWarning)\n",
            "/usr/local/lib/python3.7/dist-packages/category_encoders/target_encoder.py:99: FutureWarning: Default parameter smoothing will change in version 2.6.See https://github.com/scikit-learn-contrib/category_encoders/issues/327\n",
            "  category=FutureWarning)\n",
            "/usr/local/lib/python3.7/dist-packages/category_encoders/target_encoder.py:94: FutureWarning: Default parameter min_samples_leaf will change in version 2.6.See https://github.com/scikit-learn-contrib/category_encoders/issues/327\n",
            "  category=FutureWarning)\n",
            "/usr/local/lib/python3.7/dist-packages/category_encoders/target_encoder.py:99: FutureWarning: Default parameter smoothing will change in version 2.6.See https://github.com/scikit-learn-contrib/category_encoders/issues/327\n",
            "  category=FutureWarning)\n",
            "/usr/local/lib/python3.7/dist-packages/category_encoders/target_encoder.py:94: FutureWarning: Default parameter min_samples_leaf will change in version 2.6.See https://github.com/scikit-learn-contrib/category_encoders/issues/327\n",
            "  category=FutureWarning)\n",
            "/usr/local/lib/python3.7/dist-packages/category_encoders/target_encoder.py:99: FutureWarning: Default parameter smoothing will change in version 2.6.See https://github.com/scikit-learn-contrib/category_encoders/issues/327\n",
            "  category=FutureWarning)\n",
            "/usr/local/lib/python3.7/dist-packages/category_encoders/target_encoder.py:94: FutureWarning: Default parameter min_samples_leaf will change in version 2.6.See https://github.com/scikit-learn-contrib/category_encoders/issues/327\n",
            "  category=FutureWarning)\n",
            "/usr/local/lib/python3.7/dist-packages/category_encoders/target_encoder.py:99: FutureWarning: Default parameter smoothing will change in version 2.6.See https://github.com/scikit-learn-contrib/category_encoders/issues/327\n",
            "  category=FutureWarning)\n",
            "/usr/local/lib/python3.7/dist-packages/category_encoders/target_encoder.py:94: FutureWarning: Default parameter min_samples_leaf will change in version 2.6.See https://github.com/scikit-learn-contrib/category_encoders/issues/327\n",
            "  category=FutureWarning)\n",
            "/usr/local/lib/python3.7/dist-packages/category_encoders/target_encoder.py:99: FutureWarning: Default parameter smoothing will change in version 2.6.See https://github.com/scikit-learn-contrib/category_encoders/issues/327\n",
            "  category=FutureWarning)\n",
            "/usr/local/lib/python3.7/dist-packages/category_encoders/target_encoder.py:94: FutureWarning: Default parameter min_samples_leaf will change in version 2.6.See https://github.com/scikit-learn-contrib/category_encoders/issues/327\n",
            "  category=FutureWarning)\n",
            "/usr/local/lib/python3.7/dist-packages/category_encoders/target_encoder.py:99: FutureWarning: Default parameter smoothing will change in version 2.6.See https://github.com/scikit-learn-contrib/category_encoders/issues/327\n",
            "  category=FutureWarning)\n",
            "/usr/local/lib/python3.7/dist-packages/category_encoders/target_encoder.py:94: FutureWarning: Default parameter min_samples_leaf will change in version 2.6.See https://github.com/scikit-learn-contrib/category_encoders/issues/327\n",
            "  category=FutureWarning)\n",
            "/usr/local/lib/python3.7/dist-packages/category_encoders/target_encoder.py:99: FutureWarning: Default parameter smoothing will change in version 2.6.See https://github.com/scikit-learn-contrib/category_encoders/issues/327\n",
            "  category=FutureWarning)\n",
            "/usr/local/lib/python3.7/dist-packages/category_encoders/target_encoder.py:94: FutureWarning: Default parameter min_samples_leaf will change in version 2.6.See https://github.com/scikit-learn-contrib/category_encoders/issues/327\n",
            "  category=FutureWarning)\n",
            "/usr/local/lib/python3.7/dist-packages/category_encoders/target_encoder.py:99: FutureWarning: Default parameter smoothing will change in version 2.6.See https://github.com/scikit-learn-contrib/category_encoders/issues/327\n",
            "  category=FutureWarning)\n",
            "/usr/local/lib/python3.7/dist-packages/category_encoders/target_encoder.py:94: FutureWarning: Default parameter min_samples_leaf will change in version 2.6.See https://github.com/scikit-learn-contrib/category_encoders/issues/327\n",
            "  category=FutureWarning)\n",
            "/usr/local/lib/python3.7/dist-packages/category_encoders/target_encoder.py:99: FutureWarning: Default parameter smoothing will change in version 2.6.See https://github.com/scikit-learn-contrib/category_encoders/issues/327\n",
            "  category=FutureWarning)\n",
            "/usr/local/lib/python3.7/dist-packages/category_encoders/target_encoder.py:94: FutureWarning: Default parameter min_samples_leaf will change in version 2.6.See https://github.com/scikit-learn-contrib/category_encoders/issues/327\n",
            "  category=FutureWarning)\n",
            "/usr/local/lib/python3.7/dist-packages/category_encoders/target_encoder.py:99: FutureWarning: Default parameter smoothing will change in version 2.6.See https://github.com/scikit-learn-contrib/category_encoders/issues/327\n",
            "  category=FutureWarning)\n",
            "/usr/local/lib/python3.7/dist-packages/category_encoders/target_encoder.py:94: FutureWarning: Default parameter min_samples_leaf will change in version 2.6.See https://github.com/scikit-learn-contrib/category_encoders/issues/327\n",
            "  category=FutureWarning)\n",
            "/usr/local/lib/python3.7/dist-packages/category_encoders/target_encoder.py:99: FutureWarning: Default parameter smoothing will change in version 2.6.See https://github.com/scikit-learn-contrib/category_encoders/issues/327\n",
            "  category=FutureWarning)\n",
            "/usr/local/lib/python3.7/dist-packages/category_encoders/target_encoder.py:94: FutureWarning: Default parameter min_samples_leaf will change in version 2.6.See https://github.com/scikit-learn-contrib/category_encoders/issues/327\n",
            "  category=FutureWarning)\n",
            "/usr/local/lib/python3.7/dist-packages/category_encoders/target_encoder.py:99: FutureWarning: Default parameter smoothing will change in version 2.6.See https://github.com/scikit-learn-contrib/category_encoders/issues/327\n",
            "  category=FutureWarning)\n",
            "/usr/local/lib/python3.7/dist-packages/category_encoders/target_encoder.py:94: FutureWarning: Default parameter min_samples_leaf will change in version 2.6.See https://github.com/scikit-learn-contrib/category_encoders/issues/327\n",
            "  category=FutureWarning)\n",
            "/usr/local/lib/python3.7/dist-packages/category_encoders/target_encoder.py:99: FutureWarning: Default parameter smoothing will change in version 2.6.See https://github.com/scikit-learn-contrib/category_encoders/issues/327\n",
            "  category=FutureWarning)\n",
            "/usr/local/lib/python3.7/dist-packages/category_encoders/target_encoder.py:94: FutureWarning: Default parameter min_samples_leaf will change in version 2.6.See https://github.com/scikit-learn-contrib/category_encoders/issues/327\n",
            "  category=FutureWarning)\n",
            "/usr/local/lib/python3.7/dist-packages/category_encoders/target_encoder.py:99: FutureWarning: Default parameter smoothing will change in version 2.6.See https://github.com/scikit-learn-contrib/category_encoders/issues/327\n",
            "  category=FutureWarning)\n",
            "/usr/local/lib/python3.7/dist-packages/category_encoders/target_encoder.py:94: FutureWarning: Default parameter min_samples_leaf will change in version 2.6.See https://github.com/scikit-learn-contrib/category_encoders/issues/327\n",
            "  category=FutureWarning)\n",
            "/usr/local/lib/python3.7/dist-packages/category_encoders/target_encoder.py:99: FutureWarning: Default parameter smoothing will change in version 2.6.See https://github.com/scikit-learn-contrib/category_encoders/issues/327\n",
            "  category=FutureWarning)\n",
            "/usr/local/lib/python3.7/dist-packages/category_encoders/target_encoder.py:94: FutureWarning: Default parameter min_samples_leaf will change in version 2.6.See https://github.com/scikit-learn-contrib/category_encoders/issues/327\n",
            "  category=FutureWarning)\n",
            "/usr/local/lib/python3.7/dist-packages/category_encoders/target_encoder.py:99: FutureWarning: Default parameter smoothing will change in version 2.6.See https://github.com/scikit-learn-contrib/category_encoders/issues/327\n",
            "  category=FutureWarning)\n",
            "/usr/local/lib/python3.7/dist-packages/category_encoders/target_encoder.py:94: FutureWarning: Default parameter min_samples_leaf will change in version 2.6.See https://github.com/scikit-learn-contrib/category_encoders/issues/327\n",
            "  category=FutureWarning)\n",
            "/usr/local/lib/python3.7/dist-packages/category_encoders/target_encoder.py:99: FutureWarning: Default parameter smoothing will change in version 2.6.See https://github.com/scikit-learn-contrib/category_encoders/issues/327\n",
            "  category=FutureWarning)\n",
            "/usr/local/lib/python3.7/dist-packages/category_encoders/target_encoder.py:94: FutureWarning: Default parameter min_samples_leaf will change in version 2.6.See https://github.com/scikit-learn-contrib/category_encoders/issues/327\n",
            "  category=FutureWarning)\n",
            "/usr/local/lib/python3.7/dist-packages/category_encoders/target_encoder.py:99: FutureWarning: Default parameter smoothing will change in version 2.6.See https://github.com/scikit-learn-contrib/category_encoders/issues/327\n",
            "  category=FutureWarning)\n",
            "/usr/local/lib/python3.7/dist-packages/category_encoders/target_encoder.py:94: FutureWarning: Default parameter min_samples_leaf will change in version 2.6.See https://github.com/scikit-learn-contrib/category_encoders/issues/327\n",
            "  category=FutureWarning)\n",
            "/usr/local/lib/python3.7/dist-packages/category_encoders/target_encoder.py:99: FutureWarning: Default parameter smoothing will change in version 2.6.See https://github.com/scikit-learn-contrib/category_encoders/issues/327\n",
            "  category=FutureWarning)\n",
            "/usr/local/lib/python3.7/dist-packages/category_encoders/target_encoder.py:94: FutureWarning: Default parameter min_samples_leaf will change in version 2.6.See https://github.com/scikit-learn-contrib/category_encoders/issues/327\n",
            "  category=FutureWarning)\n",
            "/usr/local/lib/python3.7/dist-packages/category_encoders/target_encoder.py:99: FutureWarning: Default parameter smoothing will change in version 2.6.See https://github.com/scikit-learn-contrib/category_encoders/issues/327\n",
            "  category=FutureWarning)\n",
            "/usr/local/lib/python3.7/dist-packages/category_encoders/target_encoder.py:94: FutureWarning: Default parameter min_samples_leaf will change in version 2.6.See https://github.com/scikit-learn-contrib/category_encoders/issues/327\n",
            "  category=FutureWarning)\n",
            "/usr/local/lib/python3.7/dist-packages/category_encoders/target_encoder.py:99: FutureWarning: Default parameter smoothing will change in version 2.6.See https://github.com/scikit-learn-contrib/category_encoders/issues/327\n",
            "  category=FutureWarning)\n",
            "/usr/local/lib/python3.7/dist-packages/category_encoders/target_encoder.py:94: FutureWarning: Default parameter min_samples_leaf will change in version 2.6.See https://github.com/scikit-learn-contrib/category_encoders/issues/327\n",
            "  category=FutureWarning)\n",
            "/usr/local/lib/python3.7/dist-packages/category_encoders/target_encoder.py:99: FutureWarning: Default parameter smoothing will change in version 2.6.See https://github.com/scikit-learn-contrib/category_encoders/issues/327\n",
            "  category=FutureWarning)\n",
            "/usr/local/lib/python3.7/dist-packages/category_encoders/target_encoder.py:94: FutureWarning: Default parameter min_samples_leaf will change in version 2.6.See https://github.com/scikit-learn-contrib/category_encoders/issues/327\n",
            "  category=FutureWarning)\n",
            "/usr/local/lib/python3.7/dist-packages/category_encoders/target_encoder.py:99: FutureWarning: Default parameter smoothing will change in version 2.6.See https://github.com/scikit-learn-contrib/category_encoders/issues/327\n",
            "  category=FutureWarning)\n",
            "/usr/local/lib/python3.7/dist-packages/category_encoders/target_encoder.py:94: FutureWarning: Default parameter min_samples_leaf will change in version 2.6.See https://github.com/scikit-learn-contrib/category_encoders/issues/327\n",
            "  category=FutureWarning)\n",
            "/usr/local/lib/python3.7/dist-packages/category_encoders/target_encoder.py:99: FutureWarning: Default parameter smoothing will change in version 2.6.See https://github.com/scikit-learn-contrib/category_encoders/issues/327\n",
            "  category=FutureWarning)\n",
            "/usr/local/lib/python3.7/dist-packages/category_encoders/target_encoder.py:94: FutureWarning: Default parameter min_samples_leaf will change in version 2.6.See https://github.com/scikit-learn-contrib/category_encoders/issues/327\n",
            "  category=FutureWarning)\n",
            "/usr/local/lib/python3.7/dist-packages/category_encoders/target_encoder.py:99: FutureWarning: Default parameter smoothing will change in version 2.6.See https://github.com/scikit-learn-contrib/category_encoders/issues/327\n",
            "  category=FutureWarning)\n",
            "/usr/local/lib/python3.7/dist-packages/category_encoders/target_encoder.py:94: FutureWarning: Default parameter min_samples_leaf will change in version 2.6.See https://github.com/scikit-learn-contrib/category_encoders/issues/327\n",
            "  category=FutureWarning)\n",
            "/usr/local/lib/python3.7/dist-packages/category_encoders/target_encoder.py:99: FutureWarning: Default parameter smoothing will change in version 2.6.See https://github.com/scikit-learn-contrib/category_encoders/issues/327\n",
            "  category=FutureWarning)\n",
            "/usr/local/lib/python3.7/dist-packages/category_encoders/target_encoder.py:94: FutureWarning: Default parameter min_samples_leaf will change in version 2.6.See https://github.com/scikit-learn-contrib/category_encoders/issues/327\n",
            "  category=FutureWarning)\n",
            "/usr/local/lib/python3.7/dist-packages/category_encoders/target_encoder.py:99: FutureWarning: Default parameter smoothing will change in version 2.6.See https://github.com/scikit-learn-contrib/category_encoders/issues/327\n",
            "  category=FutureWarning)\n",
            "/usr/local/lib/python3.7/dist-packages/category_encoders/target_encoder.py:94: FutureWarning: Default parameter min_samples_leaf will change in version 2.6.See https://github.com/scikit-learn-contrib/category_encoders/issues/327\n",
            "  category=FutureWarning)\n",
            "/usr/local/lib/python3.7/dist-packages/category_encoders/target_encoder.py:99: FutureWarning: Default parameter smoothing will change in version 2.6.See https://github.com/scikit-learn-contrib/category_encoders/issues/327\n",
            "  category=FutureWarning)\n",
            "/usr/local/lib/python3.7/dist-packages/category_encoders/target_encoder.py:94: FutureWarning: Default parameter min_samples_leaf will change in version 2.6.See https://github.com/scikit-learn-contrib/category_encoders/issues/327\n",
            "  category=FutureWarning)\n",
            "/usr/local/lib/python3.7/dist-packages/category_encoders/target_encoder.py:99: FutureWarning: Default parameter smoothing will change in version 2.6.See https://github.com/scikit-learn-contrib/category_encoders/issues/327\n",
            "  category=FutureWarning)\n",
            "/usr/local/lib/python3.7/dist-packages/category_encoders/target_encoder.py:94: FutureWarning: Default parameter min_samples_leaf will change in version 2.6.See https://github.com/scikit-learn-contrib/category_encoders/issues/327\n",
            "  category=FutureWarning)\n",
            "/usr/local/lib/python3.7/dist-packages/category_encoders/target_encoder.py:99: FutureWarning: Default parameter smoothing will change in version 2.6.See https://github.com/scikit-learn-contrib/category_encoders/issues/327\n",
            "  category=FutureWarning)\n",
            "/usr/local/lib/python3.7/dist-packages/category_encoders/target_encoder.py:94: FutureWarning: Default parameter min_samples_leaf will change in version 2.6.See https://github.com/scikit-learn-contrib/category_encoders/issues/327\n",
            "  category=FutureWarning)\n",
            "/usr/local/lib/python3.7/dist-packages/category_encoders/target_encoder.py:99: FutureWarning: Default parameter smoothing will change in version 2.6.See https://github.com/scikit-learn-contrib/category_encoders/issues/327\n",
            "  category=FutureWarning)\n",
            "/usr/local/lib/python3.7/dist-packages/category_encoders/target_encoder.py:94: FutureWarning: Default parameter min_samples_leaf will change in version 2.6.See https://github.com/scikit-learn-contrib/category_encoders/issues/327\n",
            "  category=FutureWarning)\n",
            "/usr/local/lib/python3.7/dist-packages/category_encoders/target_encoder.py:99: FutureWarning: Default parameter smoothing will change in version 2.6.See https://github.com/scikit-learn-contrib/category_encoders/issues/327\n",
            "  category=FutureWarning)\n",
            "/usr/local/lib/python3.7/dist-packages/category_encoders/target_encoder.py:94: FutureWarning: Default parameter min_samples_leaf will change in version 2.6.See https://github.com/scikit-learn-contrib/category_encoders/issues/327\n",
            "  category=FutureWarning)\n",
            "/usr/local/lib/python3.7/dist-packages/category_encoders/target_encoder.py:99: FutureWarning: Default parameter smoothing will change in version 2.6.See https://github.com/scikit-learn-contrib/category_encoders/issues/327\n",
            "  category=FutureWarning)\n",
            "/usr/local/lib/python3.7/dist-packages/category_encoders/target_encoder.py:94: FutureWarning: Default parameter min_samples_leaf will change in version 2.6.See https://github.com/scikit-learn-contrib/category_encoders/issues/327\n",
            "  category=FutureWarning)\n",
            "/usr/local/lib/python3.7/dist-packages/category_encoders/target_encoder.py:99: FutureWarning: Default parameter smoothing will change in version 2.6.See https://github.com/scikit-learn-contrib/category_encoders/issues/327\n",
            "  category=FutureWarning)\n",
            "/usr/local/lib/python3.7/dist-packages/category_encoders/target_encoder.py:94: FutureWarning: Default parameter min_samples_leaf will change in version 2.6.See https://github.com/scikit-learn-contrib/category_encoders/issues/327\n",
            "  category=FutureWarning)\n",
            "/usr/local/lib/python3.7/dist-packages/category_encoders/target_encoder.py:99: FutureWarning: Default parameter smoothing will change in version 2.6.See https://github.com/scikit-learn-contrib/category_encoders/issues/327\n",
            "  category=FutureWarning)\n",
            "/usr/local/lib/python3.7/dist-packages/category_encoders/target_encoder.py:94: FutureWarning: Default parameter min_samples_leaf will change in version 2.6.See https://github.com/scikit-learn-contrib/category_encoders/issues/327\n",
            "  category=FutureWarning)\n",
            "/usr/local/lib/python3.7/dist-packages/category_encoders/target_encoder.py:99: FutureWarning: Default parameter smoothing will change in version 2.6.See https://github.com/scikit-learn-contrib/category_encoders/issues/327\n",
            "  category=FutureWarning)\n",
            "/usr/local/lib/python3.7/dist-packages/category_encoders/target_encoder.py:94: FutureWarning: Default parameter min_samples_leaf will change in version 2.6.See https://github.com/scikit-learn-contrib/category_encoders/issues/327\n",
            "  category=FutureWarning)\n",
            "/usr/local/lib/python3.7/dist-packages/category_encoders/target_encoder.py:99: FutureWarning: Default parameter smoothing will change in version 2.6.See https://github.com/scikit-learn-contrib/category_encoders/issues/327\n",
            "  category=FutureWarning)\n",
            "/usr/local/lib/python3.7/dist-packages/category_encoders/target_encoder.py:94: FutureWarning: Default parameter min_samples_leaf will change in version 2.6.See https://github.com/scikit-learn-contrib/category_encoders/issues/327\n",
            "  category=FutureWarning)\n",
            "/usr/local/lib/python3.7/dist-packages/category_encoders/target_encoder.py:99: FutureWarning: Default parameter smoothing will change in version 2.6.See https://github.com/scikit-learn-contrib/category_encoders/issues/327\n",
            "  category=FutureWarning)\n",
            "/usr/local/lib/python3.7/dist-packages/category_encoders/target_encoder.py:94: FutureWarning: Default parameter min_samples_leaf will change in version 2.6.See https://github.com/scikit-learn-contrib/category_encoders/issues/327\n",
            "  category=FutureWarning)\n",
            "/usr/local/lib/python3.7/dist-packages/category_encoders/target_encoder.py:99: FutureWarning: Default parameter smoothing will change in version 2.6.See https://github.com/scikit-learn-contrib/category_encoders/issues/327\n",
            "  category=FutureWarning)\n",
            "/usr/local/lib/python3.7/dist-packages/category_encoders/target_encoder.py:94: FutureWarning: Default parameter min_samples_leaf will change in version 2.6.See https://github.com/scikit-learn-contrib/category_encoders/issues/327\n",
            "  category=FutureWarning)\n",
            "/usr/local/lib/python3.7/dist-packages/category_encoders/target_encoder.py:99: FutureWarning: Default parameter smoothing will change in version 2.6.See https://github.com/scikit-learn-contrib/category_encoders/issues/327\n",
            "  category=FutureWarning)\n",
            "/usr/local/lib/python3.7/dist-packages/category_encoders/target_encoder.py:94: FutureWarning: Default parameter min_samples_leaf will change in version 2.6.See https://github.com/scikit-learn-contrib/category_encoders/issues/327\n",
            "  category=FutureWarning)\n",
            "/usr/local/lib/python3.7/dist-packages/category_encoders/target_encoder.py:99: FutureWarning: Default parameter smoothing will change in version 2.6.See https://github.com/scikit-learn-contrib/category_encoders/issues/327\n",
            "  category=FutureWarning)\n",
            "/usr/local/lib/python3.7/dist-packages/category_encoders/target_encoder.py:94: FutureWarning: Default parameter min_samples_leaf will change in version 2.6.See https://github.com/scikit-learn-contrib/category_encoders/issues/327\n",
            "  category=FutureWarning)\n",
            "/usr/local/lib/python3.7/dist-packages/category_encoders/target_encoder.py:99: FutureWarning: Default parameter smoothing will change in version 2.6.See https://github.com/scikit-learn-contrib/category_encoders/issues/327\n",
            "  category=FutureWarning)\n",
            "/usr/local/lib/python3.7/dist-packages/category_encoders/target_encoder.py:94: FutureWarning: Default parameter min_samples_leaf will change in version 2.6.See https://github.com/scikit-learn-contrib/category_encoders/issues/327\n",
            "  category=FutureWarning)\n",
            "/usr/local/lib/python3.7/dist-packages/category_encoders/target_encoder.py:99: FutureWarning: Default parameter smoothing will change in version 2.6.See https://github.com/scikit-learn-contrib/category_encoders/issues/327\n",
            "  category=FutureWarning)\n",
            "/usr/local/lib/python3.7/dist-packages/category_encoders/target_encoder.py:94: FutureWarning: Default parameter min_samples_leaf will change in version 2.6.See https://github.com/scikit-learn-contrib/category_encoders/issues/327\n",
            "  category=FutureWarning)\n",
            "/usr/local/lib/python3.7/dist-packages/category_encoders/target_encoder.py:99: FutureWarning: Default parameter smoothing will change in version 2.6.See https://github.com/scikit-learn-contrib/category_encoders/issues/327\n",
            "  category=FutureWarning)\n",
            "/usr/local/lib/python3.7/dist-packages/category_encoders/target_encoder.py:94: FutureWarning: Default parameter min_samples_leaf will change in version 2.6.See https://github.com/scikit-learn-contrib/category_encoders/issues/327\n",
            "  category=FutureWarning)\n",
            "/usr/local/lib/python3.7/dist-packages/category_encoders/target_encoder.py:99: FutureWarning: Default parameter smoothing will change in version 2.6.See https://github.com/scikit-learn-contrib/category_encoders/issues/327\n",
            "  category=FutureWarning)\n",
            "/usr/local/lib/python3.7/dist-packages/category_encoders/target_encoder.py:94: FutureWarning: Default parameter min_samples_leaf will change in version 2.6.See https://github.com/scikit-learn-contrib/category_encoders/issues/327\n",
            "  category=FutureWarning)\n",
            "/usr/local/lib/python3.7/dist-packages/category_encoders/target_encoder.py:99: FutureWarning: Default parameter smoothing will change in version 2.6.See https://github.com/scikit-learn-contrib/category_encoders/issues/327\n",
            "  category=FutureWarning)\n",
            "/usr/local/lib/python3.7/dist-packages/category_encoders/target_encoder.py:94: FutureWarning: Default parameter min_samples_leaf will change in version 2.6.See https://github.com/scikit-learn-contrib/category_encoders/issues/327\n",
            "  category=FutureWarning)\n",
            "/usr/local/lib/python3.7/dist-packages/category_encoders/target_encoder.py:99: FutureWarning: Default parameter smoothing will change in version 2.6.See https://github.com/scikit-learn-contrib/category_encoders/issues/327\n",
            "  category=FutureWarning)\n",
            "/usr/local/lib/python3.7/dist-packages/category_encoders/target_encoder.py:94: FutureWarning: Default parameter min_samples_leaf will change in version 2.6.See https://github.com/scikit-learn-contrib/category_encoders/issues/327\n",
            "  category=FutureWarning)\n",
            "/usr/local/lib/python3.7/dist-packages/category_encoders/target_encoder.py:99: FutureWarning: Default parameter smoothing will change in version 2.6.See https://github.com/scikit-learn-contrib/category_encoders/issues/327\n",
            "  category=FutureWarning)\n",
            "/usr/local/lib/python3.7/dist-packages/category_encoders/target_encoder.py:94: FutureWarning: Default parameter min_samples_leaf will change in version 2.6.See https://github.com/scikit-learn-contrib/category_encoders/issues/327\n",
            "  category=FutureWarning)\n",
            "/usr/local/lib/python3.7/dist-packages/category_encoders/target_encoder.py:99: FutureWarning: Default parameter smoothing will change in version 2.6.See https://github.com/scikit-learn-contrib/category_encoders/issues/327\n",
            "  category=FutureWarning)\n",
            "/usr/local/lib/python3.7/dist-packages/category_encoders/target_encoder.py:94: FutureWarning: Default parameter min_samples_leaf will change in version 2.6.See https://github.com/scikit-learn-contrib/category_encoders/issues/327\n",
            "  category=FutureWarning)\n",
            "/usr/local/lib/python3.7/dist-packages/category_encoders/target_encoder.py:99: FutureWarning: Default parameter smoothing will change in version 2.6.See https://github.com/scikit-learn-contrib/category_encoders/issues/327\n",
            "  category=FutureWarning)\n",
            "/usr/local/lib/python3.7/dist-packages/category_encoders/target_encoder.py:94: FutureWarning: Default parameter min_samples_leaf will change in version 2.6.See https://github.com/scikit-learn-contrib/category_encoders/issues/327\n",
            "  category=FutureWarning)\n",
            "/usr/local/lib/python3.7/dist-packages/category_encoders/target_encoder.py:99: FutureWarning: Default parameter smoothing will change in version 2.6.See https://github.com/scikit-learn-contrib/category_encoders/issues/327\n",
            "  category=FutureWarning)\n",
            "/usr/local/lib/python3.7/dist-packages/category_encoders/target_encoder.py:94: FutureWarning: Default parameter min_samples_leaf will change in version 2.6.See https://github.com/scikit-learn-contrib/category_encoders/issues/327\n",
            "  category=FutureWarning)\n",
            "/usr/local/lib/python3.7/dist-packages/category_encoders/target_encoder.py:99: FutureWarning: Default parameter smoothing will change in version 2.6.See https://github.com/scikit-learn-contrib/category_encoders/issues/327\n",
            "  category=FutureWarning)\n",
            "/usr/local/lib/python3.7/dist-packages/category_encoders/target_encoder.py:94: FutureWarning: Default parameter min_samples_leaf will change in version 2.6.See https://github.com/scikit-learn-contrib/category_encoders/issues/327\n",
            "  category=FutureWarning)\n",
            "/usr/local/lib/python3.7/dist-packages/category_encoders/target_encoder.py:99: FutureWarning: Default parameter smoothing will change in version 2.6.See https://github.com/scikit-learn-contrib/category_encoders/issues/327\n",
            "  category=FutureWarning)\n",
            "/usr/local/lib/python3.7/dist-packages/category_encoders/target_encoder.py:94: FutureWarning: Default parameter min_samples_leaf will change in version 2.6.See https://github.com/scikit-learn-contrib/category_encoders/issues/327\n",
            "  category=FutureWarning)\n",
            "/usr/local/lib/python3.7/dist-packages/category_encoders/target_encoder.py:99: FutureWarning: Default parameter smoothing will change in version 2.6.See https://github.com/scikit-learn-contrib/category_encoders/issues/327\n",
            "  category=FutureWarning)\n",
            "/usr/local/lib/python3.7/dist-packages/category_encoders/target_encoder.py:94: FutureWarning: Default parameter min_samples_leaf will change in version 2.6.See https://github.com/scikit-learn-contrib/category_encoders/issues/327\n",
            "  category=FutureWarning)\n",
            "/usr/local/lib/python3.7/dist-packages/category_encoders/target_encoder.py:99: FutureWarning: Default parameter smoothing will change in version 2.6.See https://github.com/scikit-learn-contrib/category_encoders/issues/327\n",
            "  category=FutureWarning)\n",
            "/usr/local/lib/python3.7/dist-packages/category_encoders/target_encoder.py:94: FutureWarning: Default parameter min_samples_leaf will change in version 2.6.See https://github.com/scikit-learn-contrib/category_encoders/issues/327\n",
            "  category=FutureWarning)\n",
            "/usr/local/lib/python3.7/dist-packages/category_encoders/target_encoder.py:99: FutureWarning: Default parameter smoothing will change in version 2.6.See https://github.com/scikit-learn-contrib/category_encoders/issues/327\n",
            "  category=FutureWarning)\n",
            "/usr/local/lib/python3.7/dist-packages/category_encoders/target_encoder.py:94: FutureWarning: Default parameter min_samples_leaf will change in version 2.6.See https://github.com/scikit-learn-contrib/category_encoders/issues/327\n",
            "  category=FutureWarning)\n",
            "/usr/local/lib/python3.7/dist-packages/category_encoders/target_encoder.py:99: FutureWarning: Default parameter smoothing will change in version 2.6.See https://github.com/scikit-learn-contrib/category_encoders/issues/327\n",
            "  category=FutureWarning)\n",
            "/usr/local/lib/python3.7/dist-packages/category_encoders/target_encoder.py:94: FutureWarning: Default parameter min_samples_leaf will change in version 2.6.See https://github.com/scikit-learn-contrib/category_encoders/issues/327\n",
            "  category=FutureWarning)\n",
            "/usr/local/lib/python3.7/dist-packages/category_encoders/target_encoder.py:99: FutureWarning: Default parameter smoothing will change in version 2.6.See https://github.com/scikit-learn-contrib/category_encoders/issues/327\n",
            "  category=FutureWarning)\n",
            "/usr/local/lib/python3.7/dist-packages/category_encoders/target_encoder.py:94: FutureWarning: Default parameter min_samples_leaf will change in version 2.6.See https://github.com/scikit-learn-contrib/category_encoders/issues/327\n",
            "  category=FutureWarning)\n",
            "/usr/local/lib/python3.7/dist-packages/category_encoders/target_encoder.py:99: FutureWarning: Default parameter smoothing will change in version 2.6.See https://github.com/scikit-learn-contrib/category_encoders/issues/327\n",
            "  category=FutureWarning)\n",
            "/usr/local/lib/python3.7/dist-packages/category_encoders/target_encoder.py:94: FutureWarning: Default parameter min_samples_leaf will change in version 2.6.See https://github.com/scikit-learn-contrib/category_encoders/issues/327\n",
            "  category=FutureWarning)\n",
            "/usr/local/lib/python3.7/dist-packages/category_encoders/target_encoder.py:99: FutureWarning: Default parameter smoothing will change in version 2.6.See https://github.com/scikit-learn-contrib/category_encoders/issues/327\n",
            "  category=FutureWarning)\n",
            "/usr/local/lib/python3.7/dist-packages/category_encoders/target_encoder.py:94: FutureWarning: Default parameter min_samples_leaf will change in version 2.6.See https://github.com/scikit-learn-contrib/category_encoders/issues/327\n",
            "  category=FutureWarning)\n",
            "/usr/local/lib/python3.7/dist-packages/category_encoders/target_encoder.py:99: FutureWarning: Default parameter smoothing will change in version 2.6.See https://github.com/scikit-learn-contrib/category_encoders/issues/327\n",
            "  category=FutureWarning)\n",
            "/usr/local/lib/python3.7/dist-packages/category_encoders/target_encoder.py:94: FutureWarning: Default parameter min_samples_leaf will change in version 2.6.See https://github.com/scikit-learn-contrib/category_encoders/issues/327\n",
            "  category=FutureWarning)\n",
            "/usr/local/lib/python3.7/dist-packages/category_encoders/target_encoder.py:99: FutureWarning: Default parameter smoothing will change in version 2.6.See https://github.com/scikit-learn-contrib/category_encoders/issues/327\n",
            "  category=FutureWarning)\n",
            "/usr/local/lib/python3.7/dist-packages/category_encoders/target_encoder.py:94: FutureWarning: Default parameter min_samples_leaf will change in version 2.6.See https://github.com/scikit-learn-contrib/category_encoders/issues/327\n",
            "  category=FutureWarning)\n",
            "/usr/local/lib/python3.7/dist-packages/category_encoders/target_encoder.py:99: FutureWarning: Default parameter smoothing will change in version 2.6.See https://github.com/scikit-learn-contrib/category_encoders/issues/327\n",
            "  category=FutureWarning)\n",
            "/usr/local/lib/python3.7/dist-packages/category_encoders/target_encoder.py:94: FutureWarning: Default parameter min_samples_leaf will change in version 2.6.See https://github.com/scikit-learn-contrib/category_encoders/issues/327\n",
            "  category=FutureWarning)\n",
            "/usr/local/lib/python3.7/dist-packages/category_encoders/target_encoder.py:99: FutureWarning: Default parameter smoothing will change in version 2.6.See https://github.com/scikit-learn-contrib/category_encoders/issues/327\n",
            "  category=FutureWarning)\n",
            "/usr/local/lib/python3.7/dist-packages/category_encoders/target_encoder.py:94: FutureWarning: Default parameter min_samples_leaf will change in version 2.6.See https://github.com/scikit-learn-contrib/category_encoders/issues/327\n",
            "  category=FutureWarning)\n",
            "/usr/local/lib/python3.7/dist-packages/category_encoders/target_encoder.py:99: FutureWarning: Default parameter smoothing will change in version 2.6.See https://github.com/scikit-learn-contrib/category_encoders/issues/327\n",
            "  category=FutureWarning)\n",
            "/usr/local/lib/python3.7/dist-packages/category_encoders/target_encoder.py:94: FutureWarning: Default parameter min_samples_leaf will change in version 2.6.See https://github.com/scikit-learn-contrib/category_encoders/issues/327\n",
            "  category=FutureWarning)\n",
            "/usr/local/lib/python3.7/dist-packages/category_encoders/target_encoder.py:99: FutureWarning: Default parameter smoothing will change in version 2.6.See https://github.com/scikit-learn-contrib/category_encoders/issues/327\n",
            "  category=FutureWarning)\n",
            "/usr/local/lib/python3.7/dist-packages/category_encoders/target_encoder.py:94: FutureWarning: Default parameter min_samples_leaf will change in version 2.6.See https://github.com/scikit-learn-contrib/category_encoders/issues/327\n",
            "  category=FutureWarning)\n",
            "/usr/local/lib/python3.7/dist-packages/category_encoders/target_encoder.py:99: FutureWarning: Default parameter smoothing will change in version 2.6.See https://github.com/scikit-learn-contrib/category_encoders/issues/327\n",
            "  category=FutureWarning)\n",
            "/usr/local/lib/python3.7/dist-packages/category_encoders/target_encoder.py:94: FutureWarning: Default parameter min_samples_leaf will change in version 2.6.See https://github.com/scikit-learn-contrib/category_encoders/issues/327\n",
            "  category=FutureWarning)\n",
            "/usr/local/lib/python3.7/dist-packages/category_encoders/target_encoder.py:99: FutureWarning: Default parameter smoothing will change in version 2.6.See https://github.com/scikit-learn-contrib/category_encoders/issues/327\n",
            "  category=FutureWarning)\n",
            "/usr/local/lib/python3.7/dist-packages/category_encoders/target_encoder.py:94: FutureWarning: Default parameter min_samples_leaf will change in version 2.6.See https://github.com/scikit-learn-contrib/category_encoders/issues/327\n",
            "  category=FutureWarning)\n",
            "/usr/local/lib/python3.7/dist-packages/category_encoders/target_encoder.py:99: FutureWarning: Default parameter smoothing will change in version 2.6.See https://github.com/scikit-learn-contrib/category_encoders/issues/327\n",
            "  category=FutureWarning)\n",
            "/usr/local/lib/python3.7/dist-packages/category_encoders/target_encoder.py:94: FutureWarning: Default parameter min_samples_leaf will change in version 2.6.See https://github.com/scikit-learn-contrib/category_encoders/issues/327\n",
            "  category=FutureWarning)\n",
            "/usr/local/lib/python3.7/dist-packages/category_encoders/target_encoder.py:99: FutureWarning: Default parameter smoothing will change in version 2.6.See https://github.com/scikit-learn-contrib/category_encoders/issues/327\n",
            "  category=FutureWarning)\n",
            "/usr/local/lib/python3.7/dist-packages/category_encoders/target_encoder.py:94: FutureWarning: Default parameter min_samples_leaf will change in version 2.6.See https://github.com/scikit-learn-contrib/category_encoders/issues/327\n",
            "  category=FutureWarning)\n",
            "/usr/local/lib/python3.7/dist-packages/category_encoders/target_encoder.py:99: FutureWarning: Default parameter smoothing will change in version 2.6.See https://github.com/scikit-learn-contrib/category_encoders/issues/327\n",
            "  category=FutureWarning)\n",
            "/usr/local/lib/python3.7/dist-packages/category_encoders/target_encoder.py:94: FutureWarning: Default parameter min_samples_leaf will change in version 2.6.See https://github.com/scikit-learn-contrib/category_encoders/issues/327\n",
            "  category=FutureWarning)\n",
            "/usr/local/lib/python3.7/dist-packages/category_encoders/target_encoder.py:99: FutureWarning: Default parameter smoothing will change in version 2.6.See https://github.com/scikit-learn-contrib/category_encoders/issues/327\n",
            "  category=FutureWarning)\n",
            "/usr/local/lib/python3.7/dist-packages/category_encoders/target_encoder.py:94: FutureWarning: Default parameter min_samples_leaf will change in version 2.6.See https://github.com/scikit-learn-contrib/category_encoders/issues/327\n",
            "  category=FutureWarning)\n",
            "/usr/local/lib/python3.7/dist-packages/category_encoders/target_encoder.py:99: FutureWarning: Default parameter smoothing will change in version 2.6.See https://github.com/scikit-learn-contrib/category_encoders/issues/327\n",
            "  category=FutureWarning)\n",
            "/usr/local/lib/python3.7/dist-packages/category_encoders/target_encoder.py:94: FutureWarning: Default parameter min_samples_leaf will change in version 2.6.See https://github.com/scikit-learn-contrib/category_encoders/issues/327\n",
            "  category=FutureWarning)\n",
            "/usr/local/lib/python3.7/dist-packages/category_encoders/target_encoder.py:99: FutureWarning: Default parameter smoothing will change in version 2.6.See https://github.com/scikit-learn-contrib/category_encoders/issues/327\n",
            "  category=FutureWarning)\n",
            "/usr/local/lib/python3.7/dist-packages/category_encoders/target_encoder.py:94: FutureWarning: Default parameter min_samples_leaf will change in version 2.6.See https://github.com/scikit-learn-contrib/category_encoders/issues/327\n",
            "  category=FutureWarning)\n",
            "/usr/local/lib/python3.7/dist-packages/category_encoders/target_encoder.py:99: FutureWarning: Default parameter smoothing will change in version 2.6.See https://github.com/scikit-learn-contrib/category_encoders/issues/327\n",
            "  category=FutureWarning)\n",
            "/usr/local/lib/python3.7/dist-packages/category_encoders/target_encoder.py:94: FutureWarning: Default parameter min_samples_leaf will change in version 2.6.See https://github.com/scikit-learn-contrib/category_encoders/issues/327\n",
            "  category=FutureWarning)\n",
            "/usr/local/lib/python3.7/dist-packages/category_encoders/target_encoder.py:99: FutureWarning: Default parameter smoothing will change in version 2.6.See https://github.com/scikit-learn-contrib/category_encoders/issues/327\n",
            "  category=FutureWarning)\n",
            "/usr/local/lib/python3.7/dist-packages/category_encoders/target_encoder.py:94: FutureWarning: Default parameter min_samples_leaf will change in version 2.6.See https://github.com/scikit-learn-contrib/category_encoders/issues/327\n",
            "  category=FutureWarning)\n",
            "/usr/local/lib/python3.7/dist-packages/category_encoders/target_encoder.py:99: FutureWarning: Default parameter smoothing will change in version 2.6.See https://github.com/scikit-learn-contrib/category_encoders/issues/327\n",
            "  category=FutureWarning)\n",
            "/usr/local/lib/python3.7/dist-packages/category_encoders/target_encoder.py:94: FutureWarning: Default parameter min_samples_leaf will change in version 2.6.See https://github.com/scikit-learn-contrib/category_encoders/issues/327\n",
            "  category=FutureWarning)\n",
            "/usr/local/lib/python3.7/dist-packages/category_encoders/target_encoder.py:99: FutureWarning: Default parameter smoothing will change in version 2.6.See https://github.com/scikit-learn-contrib/category_encoders/issues/327\n",
            "  category=FutureWarning)\n",
            "/usr/local/lib/python3.7/dist-packages/category_encoders/target_encoder.py:94: FutureWarning: Default parameter min_samples_leaf will change in version 2.6.See https://github.com/scikit-learn-contrib/category_encoders/issues/327\n",
            "  category=FutureWarning)\n",
            "/usr/local/lib/python3.7/dist-packages/category_encoders/target_encoder.py:99: FutureWarning: Default parameter smoothing will change in version 2.6.See https://github.com/scikit-learn-contrib/category_encoders/issues/327\n",
            "  category=FutureWarning)\n",
            "/usr/local/lib/python3.7/dist-packages/category_encoders/target_encoder.py:94: FutureWarning: Default parameter min_samples_leaf will change in version 2.6.See https://github.com/scikit-learn-contrib/category_encoders/issues/327\n",
            "  category=FutureWarning)\n",
            "/usr/local/lib/python3.7/dist-packages/category_encoders/target_encoder.py:99: FutureWarning: Default parameter smoothing will change in version 2.6.See https://github.com/scikit-learn-contrib/category_encoders/issues/327\n",
            "  category=FutureWarning)\n",
            "/usr/local/lib/python3.7/dist-packages/category_encoders/target_encoder.py:94: FutureWarning: Default parameter min_samples_leaf will change in version 2.6.See https://github.com/scikit-learn-contrib/category_encoders/issues/327\n",
            "  category=FutureWarning)\n",
            "/usr/local/lib/python3.7/dist-packages/category_encoders/target_encoder.py:99: FutureWarning: Default parameter smoothing will change in version 2.6.See https://github.com/scikit-learn-contrib/category_encoders/issues/327\n",
            "  category=FutureWarning)\n",
            "/usr/local/lib/python3.7/dist-packages/category_encoders/target_encoder.py:94: FutureWarning: Default parameter min_samples_leaf will change in version 2.6.See https://github.com/scikit-learn-contrib/category_encoders/issues/327\n",
            "  category=FutureWarning)\n",
            "/usr/local/lib/python3.7/dist-packages/category_encoders/target_encoder.py:99: FutureWarning: Default parameter smoothing will change in version 2.6.See https://github.com/scikit-learn-contrib/category_encoders/issues/327\n",
            "  category=FutureWarning)\n",
            "/usr/local/lib/python3.7/dist-packages/category_encoders/target_encoder.py:94: FutureWarning: Default parameter min_samples_leaf will change in version 2.6.See https://github.com/scikit-learn-contrib/category_encoders/issues/327\n",
            "  category=FutureWarning)\n",
            "/usr/local/lib/python3.7/dist-packages/category_encoders/target_encoder.py:99: FutureWarning: Default parameter smoothing will change in version 2.6.See https://github.com/scikit-learn-contrib/category_encoders/issues/327\n",
            "  category=FutureWarning)\n",
            "/usr/local/lib/python3.7/dist-packages/category_encoders/target_encoder.py:94: FutureWarning: Default parameter min_samples_leaf will change in version 2.6.See https://github.com/scikit-learn-contrib/category_encoders/issues/327\n",
            "  category=FutureWarning)\n",
            "/usr/local/lib/python3.7/dist-packages/category_encoders/target_encoder.py:99: FutureWarning: Default parameter smoothing will change in version 2.6.See https://github.com/scikit-learn-contrib/category_encoders/issues/327\n",
            "  category=FutureWarning)\n",
            "/usr/local/lib/python3.7/dist-packages/category_encoders/target_encoder.py:94: FutureWarning: Default parameter min_samples_leaf will change in version 2.6.See https://github.com/scikit-learn-contrib/category_encoders/issues/327\n",
            "  category=FutureWarning)\n",
            "/usr/local/lib/python3.7/dist-packages/category_encoders/target_encoder.py:99: FutureWarning: Default parameter smoothing will change in version 2.6.See https://github.com/scikit-learn-contrib/category_encoders/issues/327\n",
            "  category=FutureWarning)\n",
            "/usr/local/lib/python3.7/dist-packages/category_encoders/target_encoder.py:94: FutureWarning: Default parameter min_samples_leaf will change in version 2.6.See https://github.com/scikit-learn-contrib/category_encoders/issues/327\n",
            "  category=FutureWarning)\n",
            "/usr/local/lib/python3.7/dist-packages/category_encoders/target_encoder.py:99: FutureWarning: Default parameter smoothing will change in version 2.6.See https://github.com/scikit-learn-contrib/category_encoders/issues/327\n",
            "  category=FutureWarning)\n",
            "/usr/local/lib/python3.7/dist-packages/category_encoders/target_encoder.py:94: FutureWarning: Default parameter min_samples_leaf will change in version 2.6.See https://github.com/scikit-learn-contrib/category_encoders/issues/327\n",
            "  category=FutureWarning)\n",
            "/usr/local/lib/python3.7/dist-packages/category_encoders/target_encoder.py:99: FutureWarning: Default parameter smoothing will change in version 2.6.See https://github.com/scikit-learn-contrib/category_encoders/issues/327\n",
            "  category=FutureWarning)\n",
            "/usr/local/lib/python3.7/dist-packages/category_encoders/target_encoder.py:94: FutureWarning: Default parameter min_samples_leaf will change in version 2.6.See https://github.com/scikit-learn-contrib/category_encoders/issues/327\n",
            "  category=FutureWarning)\n",
            "/usr/local/lib/python3.7/dist-packages/category_encoders/target_encoder.py:99: FutureWarning: Default parameter smoothing will change in version 2.6.See https://github.com/scikit-learn-contrib/category_encoders/issues/327\n",
            "  category=FutureWarning)\n",
            "/usr/local/lib/python3.7/dist-packages/category_encoders/target_encoder.py:94: FutureWarning: Default parameter min_samples_leaf will change in version 2.6.See https://github.com/scikit-learn-contrib/category_encoders/issues/327\n",
            "  category=FutureWarning)\n",
            "/usr/local/lib/python3.7/dist-packages/category_encoders/target_encoder.py:99: FutureWarning: Default parameter smoothing will change in version 2.6.See https://github.com/scikit-learn-contrib/category_encoders/issues/327\n",
            "  category=FutureWarning)\n",
            "/usr/local/lib/python3.7/dist-packages/category_encoders/target_encoder.py:94: FutureWarning: Default parameter min_samples_leaf will change in version 2.6.See https://github.com/scikit-learn-contrib/category_encoders/issues/327\n",
            "  category=FutureWarning)\n",
            "/usr/local/lib/python3.7/dist-packages/category_encoders/target_encoder.py:99: FutureWarning: Default parameter smoothing will change in version 2.6.See https://github.com/scikit-learn-contrib/category_encoders/issues/327\n",
            "  category=FutureWarning)\n",
            "/usr/local/lib/python3.7/dist-packages/category_encoders/target_encoder.py:94: FutureWarning: Default parameter min_samples_leaf will change in version 2.6.See https://github.com/scikit-learn-contrib/category_encoders/issues/327\n",
            "  category=FutureWarning)\n",
            "/usr/local/lib/python3.7/dist-packages/category_encoders/target_encoder.py:99: FutureWarning: Default parameter smoothing will change in version 2.6.See https://github.com/scikit-learn-contrib/category_encoders/issues/327\n",
            "  category=FutureWarning)\n",
            "/usr/local/lib/python3.7/dist-packages/category_encoders/target_encoder.py:94: FutureWarning: Default parameter min_samples_leaf will change in version 2.6.See https://github.com/scikit-learn-contrib/category_encoders/issues/327\n",
            "  category=FutureWarning)\n",
            "/usr/local/lib/python3.7/dist-packages/category_encoders/target_encoder.py:99: FutureWarning: Default parameter smoothing will change in version 2.6.See https://github.com/scikit-learn-contrib/category_encoders/issues/327\n",
            "  category=FutureWarning)\n",
            "/usr/local/lib/python3.7/dist-packages/category_encoders/target_encoder.py:94: FutureWarning: Default parameter min_samples_leaf will change in version 2.6.See https://github.com/scikit-learn-contrib/category_encoders/issues/327\n",
            "  category=FutureWarning)\n",
            "/usr/local/lib/python3.7/dist-packages/category_encoders/target_encoder.py:99: FutureWarning: Default parameter smoothing will change in version 2.6.See https://github.com/scikit-learn-contrib/category_encoders/issues/327\n",
            "  category=FutureWarning)\n",
            "/usr/local/lib/python3.7/dist-packages/category_encoders/target_encoder.py:94: FutureWarning: Default parameter min_samples_leaf will change in version 2.6.See https://github.com/scikit-learn-contrib/category_encoders/issues/327\n",
            "  category=FutureWarning)\n",
            "/usr/local/lib/python3.7/dist-packages/category_encoders/target_encoder.py:99: FutureWarning: Default parameter smoothing will change in version 2.6.See https://github.com/scikit-learn-contrib/category_encoders/issues/327\n",
            "  category=FutureWarning)\n",
            "/usr/local/lib/python3.7/dist-packages/category_encoders/target_encoder.py:94: FutureWarning: Default parameter min_samples_leaf will change in version 2.6.See https://github.com/scikit-learn-contrib/category_encoders/issues/327\n",
            "  category=FutureWarning)\n",
            "/usr/local/lib/python3.7/dist-packages/category_encoders/target_encoder.py:99: FutureWarning: Default parameter smoothing will change in version 2.6.See https://github.com/scikit-learn-contrib/category_encoders/issues/327\n",
            "  category=FutureWarning)\n",
            "/usr/local/lib/python3.7/dist-packages/category_encoders/target_encoder.py:94: FutureWarning: Default parameter min_samples_leaf will change in version 2.6.See https://github.com/scikit-learn-contrib/category_encoders/issues/327\n",
            "  category=FutureWarning)\n",
            "/usr/local/lib/python3.7/dist-packages/category_encoders/target_encoder.py:99: FutureWarning: Default parameter smoothing will change in version 2.6.See https://github.com/scikit-learn-contrib/category_encoders/issues/327\n",
            "  category=FutureWarning)\n",
            "/usr/local/lib/python3.7/dist-packages/category_encoders/target_encoder.py:94: FutureWarning: Default parameter min_samples_leaf will change in version 2.6.See https://github.com/scikit-learn-contrib/category_encoders/issues/327\n",
            "  category=FutureWarning)\n",
            "/usr/local/lib/python3.7/dist-packages/category_encoders/target_encoder.py:99: FutureWarning: Default parameter smoothing will change in version 2.6.See https://github.com/scikit-learn-contrib/category_encoders/issues/327\n",
            "  category=FutureWarning)\n",
            "/usr/local/lib/python3.7/dist-packages/category_encoders/target_encoder.py:94: FutureWarning: Default parameter min_samples_leaf will change in version 2.6.See https://github.com/scikit-learn-contrib/category_encoders/issues/327\n",
            "  category=FutureWarning)\n",
            "/usr/local/lib/python3.7/dist-packages/category_encoders/target_encoder.py:99: FutureWarning: Default parameter smoothing will change in version 2.6.See https://github.com/scikit-learn-contrib/category_encoders/issues/327\n",
            "  category=FutureWarning)\n",
            "/usr/local/lib/python3.7/dist-packages/category_encoders/target_encoder.py:94: FutureWarning: Default parameter min_samples_leaf will change in version 2.6.See https://github.com/scikit-learn-contrib/category_encoders/issues/327\n",
            "  category=FutureWarning)\n",
            "/usr/local/lib/python3.7/dist-packages/category_encoders/target_encoder.py:99: FutureWarning: Default parameter smoothing will change in version 2.6.See https://github.com/scikit-learn-contrib/category_encoders/issues/327\n",
            "  category=FutureWarning)\n",
            "/usr/local/lib/python3.7/dist-packages/category_encoders/target_encoder.py:94: FutureWarning: Default parameter min_samples_leaf will change in version 2.6.See https://github.com/scikit-learn-contrib/category_encoders/issues/327\n",
            "  category=FutureWarning)\n",
            "/usr/local/lib/python3.7/dist-packages/category_encoders/target_encoder.py:99: FutureWarning: Default parameter smoothing will change in version 2.6.See https://github.com/scikit-learn-contrib/category_encoders/issues/327\n",
            "  category=FutureWarning)\n",
            "/usr/local/lib/python3.7/dist-packages/category_encoders/target_encoder.py:94: FutureWarning: Default parameter min_samples_leaf will change in version 2.6.See https://github.com/scikit-learn-contrib/category_encoders/issues/327\n",
            "  category=FutureWarning)\n",
            "/usr/local/lib/python3.7/dist-packages/category_encoders/target_encoder.py:99: FutureWarning: Default parameter smoothing will change in version 2.6.See https://github.com/scikit-learn-contrib/category_encoders/issues/327\n",
            "  category=FutureWarning)\n",
            "/usr/local/lib/python3.7/dist-packages/category_encoders/target_encoder.py:94: FutureWarning: Default parameter min_samples_leaf will change in version 2.6.See https://github.com/scikit-learn-contrib/category_encoders/issues/327\n",
            "  category=FutureWarning)\n",
            "/usr/local/lib/python3.7/dist-packages/category_encoders/target_encoder.py:99: FutureWarning: Default parameter smoothing will change in version 2.6.See https://github.com/scikit-learn-contrib/category_encoders/issues/327\n",
            "  category=FutureWarning)\n",
            "/usr/local/lib/python3.7/dist-packages/category_encoders/target_encoder.py:94: FutureWarning: Default parameter min_samples_leaf will change in version 2.6.See https://github.com/scikit-learn-contrib/category_encoders/issues/327\n",
            "  category=FutureWarning)\n",
            "/usr/local/lib/python3.7/dist-packages/category_encoders/target_encoder.py:99: FutureWarning: Default parameter smoothing will change in version 2.6.See https://github.com/scikit-learn-contrib/category_encoders/issues/327\n",
            "  category=FutureWarning)\n",
            "/usr/local/lib/python3.7/dist-packages/category_encoders/target_encoder.py:94: FutureWarning: Default parameter min_samples_leaf will change in version 2.6.See https://github.com/scikit-learn-contrib/category_encoders/issues/327\n",
            "  category=FutureWarning)\n",
            "/usr/local/lib/python3.7/dist-packages/category_encoders/target_encoder.py:99: FutureWarning: Default parameter smoothing will change in version 2.6.See https://github.com/scikit-learn-contrib/category_encoders/issues/327\n",
            "  category=FutureWarning)\n",
            "/usr/local/lib/python3.7/dist-packages/category_encoders/target_encoder.py:94: FutureWarning: Default parameter min_samples_leaf will change in version 2.6.See https://github.com/scikit-learn-contrib/category_encoders/issues/327\n",
            "  category=FutureWarning)\n",
            "/usr/local/lib/python3.7/dist-packages/category_encoders/target_encoder.py:99: FutureWarning: Default parameter smoothing will change in version 2.6.See https://github.com/scikit-learn-contrib/category_encoders/issues/327\n",
            "  category=FutureWarning)\n",
            "/usr/local/lib/python3.7/dist-packages/category_encoders/target_encoder.py:94: FutureWarning: Default parameter min_samples_leaf will change in version 2.6.See https://github.com/scikit-learn-contrib/category_encoders/issues/327\n",
            "  category=FutureWarning)\n",
            "/usr/local/lib/python3.7/dist-packages/category_encoders/target_encoder.py:99: FutureWarning: Default parameter smoothing will change in version 2.6.See https://github.com/scikit-learn-contrib/category_encoders/issues/327\n",
            "  category=FutureWarning)\n",
            "/usr/local/lib/python3.7/dist-packages/category_encoders/target_encoder.py:94: FutureWarning: Default parameter min_samples_leaf will change in version 2.6.See https://github.com/scikit-learn-contrib/category_encoders/issues/327\n",
            "  category=FutureWarning)\n",
            "/usr/local/lib/python3.7/dist-packages/category_encoders/target_encoder.py:99: FutureWarning: Default parameter smoothing will change in version 2.6.See https://github.com/scikit-learn-contrib/category_encoders/issues/327\n",
            "  category=FutureWarning)\n",
            "/usr/local/lib/python3.7/dist-packages/category_encoders/target_encoder.py:94: FutureWarning: Default parameter min_samples_leaf will change in version 2.6.See https://github.com/scikit-learn-contrib/category_encoders/issues/327\n",
            "  category=FutureWarning)\n",
            "/usr/local/lib/python3.7/dist-packages/category_encoders/target_encoder.py:99: FutureWarning: Default parameter smoothing will change in version 2.6.See https://github.com/scikit-learn-contrib/category_encoders/issues/327\n",
            "  category=FutureWarning)\n",
            "/usr/local/lib/python3.7/dist-packages/category_encoders/target_encoder.py:94: FutureWarning: Default parameter min_samples_leaf will change in version 2.6.See https://github.com/scikit-learn-contrib/category_encoders/issues/327\n",
            "  category=FutureWarning)\n",
            "/usr/local/lib/python3.7/dist-packages/category_encoders/target_encoder.py:99: FutureWarning: Default parameter smoothing will change in version 2.6.See https://github.com/scikit-learn-contrib/category_encoders/issues/327\n",
            "  category=FutureWarning)\n",
            "/usr/local/lib/python3.7/dist-packages/category_encoders/target_encoder.py:94: FutureWarning: Default parameter min_samples_leaf will change in version 2.6.See https://github.com/scikit-learn-contrib/category_encoders/issues/327\n",
            "  category=FutureWarning)\n",
            "/usr/local/lib/python3.7/dist-packages/category_encoders/target_encoder.py:99: FutureWarning: Default parameter smoothing will change in version 2.6.See https://github.com/scikit-learn-contrib/category_encoders/issues/327\n",
            "  category=FutureWarning)\n",
            "/usr/local/lib/python3.7/dist-packages/category_encoders/target_encoder.py:94: FutureWarning: Default parameter min_samples_leaf will change in version 2.6.See https://github.com/scikit-learn-contrib/category_encoders/issues/327\n",
            "  category=FutureWarning)\n",
            "/usr/local/lib/python3.7/dist-packages/category_encoders/target_encoder.py:99: FutureWarning: Default parameter smoothing will change in version 2.6.See https://github.com/scikit-learn-contrib/category_encoders/issues/327\n",
            "  category=FutureWarning)\n",
            "/usr/local/lib/python3.7/dist-packages/category_encoders/target_encoder.py:94: FutureWarning: Default parameter min_samples_leaf will change in version 2.6.See https://github.com/scikit-learn-contrib/category_encoders/issues/327\n",
            "  category=FutureWarning)\n",
            "/usr/local/lib/python3.7/dist-packages/category_encoders/target_encoder.py:99: FutureWarning: Default parameter smoothing will change in version 2.6.See https://github.com/scikit-learn-contrib/category_encoders/issues/327\n",
            "  category=FutureWarning)\n",
            "/usr/local/lib/python3.7/dist-packages/category_encoders/target_encoder.py:94: FutureWarning: Default parameter min_samples_leaf will change in version 2.6.See https://github.com/scikit-learn-contrib/category_encoders/issues/327\n",
            "  category=FutureWarning)\n",
            "/usr/local/lib/python3.7/dist-packages/category_encoders/target_encoder.py:99: FutureWarning: Default parameter smoothing will change in version 2.6.See https://github.com/scikit-learn-contrib/category_encoders/issues/327\n",
            "  category=FutureWarning)\n",
            "/usr/local/lib/python3.7/dist-packages/category_encoders/target_encoder.py:94: FutureWarning: Default parameter min_samples_leaf will change in version 2.6.See https://github.com/scikit-learn-contrib/category_encoders/issues/327\n",
            "  category=FutureWarning)\n",
            "/usr/local/lib/python3.7/dist-packages/category_encoders/target_encoder.py:99: FutureWarning: Default parameter smoothing will change in version 2.6.See https://github.com/scikit-learn-contrib/category_encoders/issues/327\n",
            "  category=FutureWarning)\n",
            "/usr/local/lib/python3.7/dist-packages/category_encoders/target_encoder.py:94: FutureWarning: Default parameter min_samples_leaf will change in version 2.6.See https://github.com/scikit-learn-contrib/category_encoders/issues/327\n",
            "  category=FutureWarning)\n",
            "/usr/local/lib/python3.7/dist-packages/category_encoders/target_encoder.py:99: FutureWarning: Default parameter smoothing will change in version 2.6.See https://github.com/scikit-learn-contrib/category_encoders/issues/327\n",
            "  category=FutureWarning)\n",
            "/usr/local/lib/python3.7/dist-packages/category_encoders/target_encoder.py:94: FutureWarning: Default parameter min_samples_leaf will change in version 2.6.See https://github.com/scikit-learn-contrib/category_encoders/issues/327\n",
            "  category=FutureWarning)\n",
            "/usr/local/lib/python3.7/dist-packages/category_encoders/target_encoder.py:99: FutureWarning: Default parameter smoothing will change in version 2.6.See https://github.com/scikit-learn-contrib/category_encoders/issues/327\n",
            "  category=FutureWarning)\n",
            "/usr/local/lib/python3.7/dist-packages/category_encoders/target_encoder.py:94: FutureWarning: Default parameter min_samples_leaf will change in version 2.6.See https://github.com/scikit-learn-contrib/category_encoders/issues/327\n",
            "  category=FutureWarning)\n",
            "/usr/local/lib/python3.7/dist-packages/category_encoders/target_encoder.py:99: FutureWarning: Default parameter smoothing will change in version 2.6.See https://github.com/scikit-learn-contrib/category_encoders/issues/327\n",
            "  category=FutureWarning)\n",
            "/usr/local/lib/python3.7/dist-packages/category_encoders/target_encoder.py:94: FutureWarning: Default parameter min_samples_leaf will change in version 2.6.See https://github.com/scikit-learn-contrib/category_encoders/issues/327\n",
            "  category=FutureWarning)\n",
            "/usr/local/lib/python3.7/dist-packages/category_encoders/target_encoder.py:99: FutureWarning: Default parameter smoothing will change in version 2.6.See https://github.com/scikit-learn-contrib/category_encoders/issues/327\n",
            "  category=FutureWarning)\n",
            "/usr/local/lib/python3.7/dist-packages/category_encoders/target_encoder.py:94: FutureWarning: Default parameter min_samples_leaf will change in version 2.6.See https://github.com/scikit-learn-contrib/category_encoders/issues/327\n",
            "  category=FutureWarning)\n",
            "/usr/local/lib/python3.7/dist-packages/category_encoders/target_encoder.py:99: FutureWarning: Default parameter smoothing will change in version 2.6.See https://github.com/scikit-learn-contrib/category_encoders/issues/327\n",
            "  category=FutureWarning)\n",
            "/usr/local/lib/python3.7/dist-packages/category_encoders/target_encoder.py:94: FutureWarning: Default parameter min_samples_leaf will change in version 2.6.See https://github.com/scikit-learn-contrib/category_encoders/issues/327\n",
            "  category=FutureWarning)\n",
            "/usr/local/lib/python3.7/dist-packages/category_encoders/target_encoder.py:99: FutureWarning: Default parameter smoothing will change in version 2.6.See https://github.com/scikit-learn-contrib/category_encoders/issues/327\n",
            "  category=FutureWarning)\n",
            "/usr/local/lib/python3.7/dist-packages/category_encoders/target_encoder.py:94: FutureWarning: Default parameter min_samples_leaf will change in version 2.6.See https://github.com/scikit-learn-contrib/category_encoders/issues/327\n",
            "  category=FutureWarning)\n",
            "/usr/local/lib/python3.7/dist-packages/category_encoders/target_encoder.py:99: FutureWarning: Default parameter smoothing will change in version 2.6.See https://github.com/scikit-learn-contrib/category_encoders/issues/327\n",
            "  category=FutureWarning)\n",
            "/usr/local/lib/python3.7/dist-packages/category_encoders/target_encoder.py:94: FutureWarning: Default parameter min_samples_leaf will change in version 2.6.See https://github.com/scikit-learn-contrib/category_encoders/issues/327\n",
            "  category=FutureWarning)\n",
            "/usr/local/lib/python3.7/dist-packages/category_encoders/target_encoder.py:99: FutureWarning: Default parameter smoothing will change in version 2.6.See https://github.com/scikit-learn-contrib/category_encoders/issues/327\n",
            "  category=FutureWarning)\n",
            "/usr/local/lib/python3.7/dist-packages/category_encoders/target_encoder.py:94: FutureWarning: Default parameter min_samples_leaf will change in version 2.6.See https://github.com/scikit-learn-contrib/category_encoders/issues/327\n",
            "  category=FutureWarning)\n",
            "/usr/local/lib/python3.7/dist-packages/category_encoders/target_encoder.py:99: FutureWarning: Default parameter smoothing will change in version 2.6.See https://github.com/scikit-learn-contrib/category_encoders/issues/327\n",
            "  category=FutureWarning)\n",
            "/usr/local/lib/python3.7/dist-packages/category_encoders/target_encoder.py:94: FutureWarning: Default parameter min_samples_leaf will change in version 2.6.See https://github.com/scikit-learn-contrib/category_encoders/issues/327\n",
            "  category=FutureWarning)\n",
            "/usr/local/lib/python3.7/dist-packages/category_encoders/target_encoder.py:99: FutureWarning: Default parameter smoothing will change in version 2.6.See https://github.com/scikit-learn-contrib/category_encoders/issues/327\n",
            "  category=FutureWarning)\n",
            "/usr/local/lib/python3.7/dist-packages/category_encoders/target_encoder.py:94: FutureWarning: Default parameter min_samples_leaf will change in version 2.6.See https://github.com/scikit-learn-contrib/category_encoders/issues/327\n",
            "  category=FutureWarning)\n",
            "/usr/local/lib/python3.7/dist-packages/category_encoders/target_encoder.py:99: FutureWarning: Default parameter smoothing will change in version 2.6.See https://github.com/scikit-learn-contrib/category_encoders/issues/327\n",
            "  category=FutureWarning)\n",
            "/usr/local/lib/python3.7/dist-packages/category_encoders/target_encoder.py:94: FutureWarning: Default parameter min_samples_leaf will change in version 2.6.See https://github.com/scikit-learn-contrib/category_encoders/issues/327\n",
            "  category=FutureWarning)\n",
            "/usr/local/lib/python3.7/dist-packages/category_encoders/target_encoder.py:99: FutureWarning: Default parameter smoothing will change in version 2.6.See https://github.com/scikit-learn-contrib/category_encoders/issues/327\n",
            "  category=FutureWarning)\n",
            "/usr/local/lib/python3.7/dist-packages/category_encoders/target_encoder.py:94: FutureWarning: Default parameter min_samples_leaf will change in version 2.6.See https://github.com/scikit-learn-contrib/category_encoders/issues/327\n",
            "  category=FutureWarning)\n",
            "/usr/local/lib/python3.7/dist-packages/category_encoders/target_encoder.py:99: FutureWarning: Default parameter smoothing will change in version 2.6.See https://github.com/scikit-learn-contrib/category_encoders/issues/327\n",
            "  category=FutureWarning)\n",
            "/usr/local/lib/python3.7/dist-packages/category_encoders/target_encoder.py:94: FutureWarning: Default parameter min_samples_leaf will change in version 2.6.See https://github.com/scikit-learn-contrib/category_encoders/issues/327\n",
            "  category=FutureWarning)\n",
            "/usr/local/lib/python3.7/dist-packages/category_encoders/target_encoder.py:99: FutureWarning: Default parameter smoothing will change in version 2.6.See https://github.com/scikit-learn-contrib/category_encoders/issues/327\n",
            "  category=FutureWarning)\n",
            "/usr/local/lib/python3.7/dist-packages/category_encoders/target_encoder.py:94: FutureWarning: Default parameter min_samples_leaf will change in version 2.6.See https://github.com/scikit-learn-contrib/category_encoders/issues/327\n",
            "  category=FutureWarning)\n",
            "/usr/local/lib/python3.7/dist-packages/category_encoders/target_encoder.py:99: FutureWarning: Default parameter smoothing will change in version 2.6.See https://github.com/scikit-learn-contrib/category_encoders/issues/327\n",
            "  category=FutureWarning)\n",
            "/usr/local/lib/python3.7/dist-packages/category_encoders/target_encoder.py:94: FutureWarning: Default parameter min_samples_leaf will change in version 2.6.See https://github.com/scikit-learn-contrib/category_encoders/issues/327\n",
            "  category=FutureWarning)\n",
            "/usr/local/lib/python3.7/dist-packages/category_encoders/target_encoder.py:99: FutureWarning: Default parameter smoothing will change in version 2.6.See https://github.com/scikit-learn-contrib/category_encoders/issues/327\n",
            "  category=FutureWarning)\n",
            "/usr/local/lib/python3.7/dist-packages/category_encoders/target_encoder.py:94: FutureWarning: Default parameter min_samples_leaf will change in version 2.6.See https://github.com/scikit-learn-contrib/category_encoders/issues/327\n",
            "  category=FutureWarning)\n",
            "/usr/local/lib/python3.7/dist-packages/category_encoders/target_encoder.py:99: FutureWarning: Default parameter smoothing will change in version 2.6.See https://github.com/scikit-learn-contrib/category_encoders/issues/327\n",
            "  category=FutureWarning)\n",
            "/usr/local/lib/python3.7/dist-packages/category_encoders/target_encoder.py:94: FutureWarning: Default parameter min_samples_leaf will change in version 2.6.See https://github.com/scikit-learn-contrib/category_encoders/issues/327\n",
            "  category=FutureWarning)\n",
            "/usr/local/lib/python3.7/dist-packages/category_encoders/target_encoder.py:99: FutureWarning: Default parameter smoothing will change in version 2.6.See https://github.com/scikit-learn-contrib/category_encoders/issues/327\n",
            "  category=FutureWarning)\n",
            "/usr/local/lib/python3.7/dist-packages/category_encoders/target_encoder.py:94: FutureWarning: Default parameter min_samples_leaf will change in version 2.6.See https://github.com/scikit-learn-contrib/category_encoders/issues/327\n",
            "  category=FutureWarning)\n",
            "/usr/local/lib/python3.7/dist-packages/category_encoders/target_encoder.py:99: FutureWarning: Default parameter smoothing will change in version 2.6.See https://github.com/scikit-learn-contrib/category_encoders/issues/327\n",
            "  category=FutureWarning)\n",
            "/usr/local/lib/python3.7/dist-packages/category_encoders/target_encoder.py:94: FutureWarning: Default parameter min_samples_leaf will change in version 2.6.See https://github.com/scikit-learn-contrib/category_encoders/issues/327\n",
            "  category=FutureWarning)\n",
            "/usr/local/lib/python3.7/dist-packages/category_encoders/target_encoder.py:99: FutureWarning: Default parameter smoothing will change in version 2.6.See https://github.com/scikit-learn-contrib/category_encoders/issues/327\n",
            "  category=FutureWarning)\n",
            "/usr/local/lib/python3.7/dist-packages/category_encoders/target_encoder.py:94: FutureWarning: Default parameter min_samples_leaf will change in version 2.6.See https://github.com/scikit-learn-contrib/category_encoders/issues/327\n",
            "  category=FutureWarning)\n",
            "/usr/local/lib/python3.7/dist-packages/category_encoders/target_encoder.py:99: FutureWarning: Default parameter smoothing will change in version 2.6.See https://github.com/scikit-learn-contrib/category_encoders/issues/327\n",
            "  category=FutureWarning)\n"
          ]
        },
        {
          "output_type": "stream",
          "name": "stdout",
          "text": [
            "[00:00:00] WARNING: /workspace/src/objective/regression_obj.cu:152: reg:linear is now deprecated in favor of reg:squarederror.\n"
          ]
        },
        {
          "output_type": "stream",
          "name": "stderr",
          "text": [
            "/usr/local/lib/python3.7/dist-packages/category_encoders/target_encoder.py:94: FutureWarning: Default parameter min_samples_leaf will change in version 2.6.See https://github.com/scikit-learn-contrib/category_encoders/issues/327\n",
            "  category=FutureWarning)\n",
            "/usr/local/lib/python3.7/dist-packages/category_encoders/target_encoder.py:99: FutureWarning: Default parameter smoothing will change in version 2.6.See https://github.com/scikit-learn-contrib/category_encoders/issues/327\n",
            "  category=FutureWarning)\n"
          ]
        },
        {
          "output_type": "stream",
          "name": "stdout",
          "text": [
            "[00:00:01] WARNING: /workspace/src/objective/regression_obj.cu:152: reg:linear is now deprecated in favor of reg:squarederror.\n"
          ]
        },
        {
          "output_type": "stream",
          "name": "stderr",
          "text": [
            "/usr/local/lib/python3.7/dist-packages/category_encoders/target_encoder.py:94: FutureWarning: Default parameter min_samples_leaf will change in version 2.6.See https://github.com/scikit-learn-contrib/category_encoders/issues/327\n",
            "  category=FutureWarning)\n",
            "/usr/local/lib/python3.7/dist-packages/category_encoders/target_encoder.py:99: FutureWarning: Default parameter smoothing will change in version 2.6.See https://github.com/scikit-learn-contrib/category_encoders/issues/327\n",
            "  category=FutureWarning)\n"
          ]
        },
        {
          "output_type": "stream",
          "name": "stdout",
          "text": [
            "[00:00:01] WARNING: /workspace/src/objective/regression_obj.cu:152: reg:linear is now deprecated in favor of reg:squarederror.\n"
          ]
        },
        {
          "output_type": "stream",
          "name": "stderr",
          "text": [
            "/usr/local/lib/python3.7/dist-packages/category_encoders/target_encoder.py:94: FutureWarning: Default parameter min_samples_leaf will change in version 2.6.See https://github.com/scikit-learn-contrib/category_encoders/issues/327\n",
            "  category=FutureWarning)\n",
            "/usr/local/lib/python3.7/dist-packages/category_encoders/target_encoder.py:99: FutureWarning: Default parameter smoothing will change in version 2.6.See https://github.com/scikit-learn-contrib/category_encoders/issues/327\n",
            "  category=FutureWarning)\n"
          ]
        },
        {
          "output_type": "stream",
          "name": "stdout",
          "text": [
            "[00:00:02] WARNING: /workspace/src/objective/regression_obj.cu:152: reg:linear is now deprecated in favor of reg:squarederror.\n"
          ]
        },
        {
          "output_type": "stream",
          "name": "stderr",
          "text": [
            "/usr/local/lib/python3.7/dist-packages/category_encoders/target_encoder.py:94: FutureWarning: Default parameter min_samples_leaf will change in version 2.6.See https://github.com/scikit-learn-contrib/category_encoders/issues/327\n",
            "  category=FutureWarning)\n",
            "/usr/local/lib/python3.7/dist-packages/category_encoders/target_encoder.py:99: FutureWarning: Default parameter smoothing will change in version 2.6.See https://github.com/scikit-learn-contrib/category_encoders/issues/327\n",
            "  category=FutureWarning)\n"
          ]
        },
        {
          "output_type": "stream",
          "name": "stdout",
          "text": [
            "[00:00:02] WARNING: /workspace/src/objective/regression_obj.cu:152: reg:linear is now deprecated in favor of reg:squarederror.\n"
          ]
        },
        {
          "output_type": "stream",
          "name": "stderr",
          "text": [
            "/usr/local/lib/python3.7/dist-packages/category_encoders/target_encoder.py:94: FutureWarning: Default parameter min_samples_leaf will change in version 2.6.See https://github.com/scikit-learn-contrib/category_encoders/issues/327\n",
            "  category=FutureWarning)\n",
            "/usr/local/lib/python3.7/dist-packages/category_encoders/target_encoder.py:99: FutureWarning: Default parameter smoothing will change in version 2.6.See https://github.com/scikit-learn-contrib/category_encoders/issues/327\n",
            "  category=FutureWarning)\n"
          ]
        },
        {
          "output_type": "stream",
          "name": "stdout",
          "text": [
            "[00:00:02] WARNING: /workspace/src/objective/regression_obj.cu:152: reg:linear is now deprecated in favor of reg:squarederror.\n"
          ]
        },
        {
          "output_type": "stream",
          "name": "stderr",
          "text": [
            "/usr/local/lib/python3.7/dist-packages/category_encoders/target_encoder.py:94: FutureWarning: Default parameter min_samples_leaf will change in version 2.6.See https://github.com/scikit-learn-contrib/category_encoders/issues/327\n",
            "  category=FutureWarning)\n",
            "/usr/local/lib/python3.7/dist-packages/category_encoders/target_encoder.py:99: FutureWarning: Default parameter smoothing will change in version 2.6.See https://github.com/scikit-learn-contrib/category_encoders/issues/327\n",
            "  category=FutureWarning)\n"
          ]
        },
        {
          "output_type": "stream",
          "name": "stdout",
          "text": [
            "[00:00:03] WARNING: /workspace/src/objective/regression_obj.cu:152: reg:linear is now deprecated in favor of reg:squarederror.\n"
          ]
        },
        {
          "output_type": "stream",
          "name": "stderr",
          "text": [
            "/usr/local/lib/python3.7/dist-packages/category_encoders/target_encoder.py:94: FutureWarning: Default parameter min_samples_leaf will change in version 2.6.See https://github.com/scikit-learn-contrib/category_encoders/issues/327\n",
            "  category=FutureWarning)\n",
            "/usr/local/lib/python3.7/dist-packages/category_encoders/target_encoder.py:99: FutureWarning: Default parameter smoothing will change in version 2.6.See https://github.com/scikit-learn-contrib/category_encoders/issues/327\n",
            "  category=FutureWarning)\n"
          ]
        },
        {
          "output_type": "stream",
          "name": "stdout",
          "text": [
            "[00:00:03] WARNING: /workspace/src/objective/regression_obj.cu:152: reg:linear is now deprecated in favor of reg:squarederror.\n"
          ]
        },
        {
          "output_type": "stream",
          "name": "stderr",
          "text": [
            "/usr/local/lib/python3.7/dist-packages/category_encoders/target_encoder.py:94: FutureWarning: Default parameter min_samples_leaf will change in version 2.6.See https://github.com/scikit-learn-contrib/category_encoders/issues/327\n",
            "  category=FutureWarning)\n",
            "/usr/local/lib/python3.7/dist-packages/category_encoders/target_encoder.py:99: FutureWarning: Default parameter smoothing will change in version 2.6.See https://github.com/scikit-learn-contrib/category_encoders/issues/327\n",
            "  category=FutureWarning)\n"
          ]
        },
        {
          "output_type": "stream",
          "name": "stdout",
          "text": [
            "[00:00:04] WARNING: /workspace/src/objective/regression_obj.cu:152: reg:linear is now deprecated in favor of reg:squarederror.\n"
          ]
        },
        {
          "output_type": "stream",
          "name": "stderr",
          "text": [
            "/usr/local/lib/python3.7/dist-packages/category_encoders/target_encoder.py:94: FutureWarning: Default parameter min_samples_leaf will change in version 2.6.See https://github.com/scikit-learn-contrib/category_encoders/issues/327\n",
            "  category=FutureWarning)\n",
            "/usr/local/lib/python3.7/dist-packages/category_encoders/target_encoder.py:99: FutureWarning: Default parameter smoothing will change in version 2.6.See https://github.com/scikit-learn-contrib/category_encoders/issues/327\n",
            "  category=FutureWarning)\n"
          ]
        },
        {
          "output_type": "stream",
          "name": "stdout",
          "text": [
            "[00:00:04] WARNING: /workspace/src/objective/regression_obj.cu:152: reg:linear is now deprecated in favor of reg:squarederror.\n"
          ]
        },
        {
          "output_type": "stream",
          "name": "stderr",
          "text": [
            "/usr/local/lib/python3.7/dist-packages/category_encoders/target_encoder.py:94: FutureWarning: Default parameter min_samples_leaf will change in version 2.6.See https://github.com/scikit-learn-contrib/category_encoders/issues/327\n",
            "  category=FutureWarning)\n",
            "/usr/local/lib/python3.7/dist-packages/category_encoders/target_encoder.py:99: FutureWarning: Default parameter smoothing will change in version 2.6.See https://github.com/scikit-learn-contrib/category_encoders/issues/327\n",
            "  category=FutureWarning)\n"
          ]
        },
        {
          "output_type": "stream",
          "name": "stdout",
          "text": [
            "[00:00:05] WARNING: /workspace/src/objective/regression_obj.cu:152: reg:linear is now deprecated in favor of reg:squarederror.\n"
          ]
        },
        {
          "output_type": "stream",
          "name": "stderr",
          "text": [
            "/usr/local/lib/python3.7/dist-packages/category_encoders/target_encoder.py:94: FutureWarning: Default parameter min_samples_leaf will change in version 2.6.See https://github.com/scikit-learn-contrib/category_encoders/issues/327\n",
            "  category=FutureWarning)\n",
            "/usr/local/lib/python3.7/dist-packages/category_encoders/target_encoder.py:99: FutureWarning: Default parameter smoothing will change in version 2.6.See https://github.com/scikit-learn-contrib/category_encoders/issues/327\n",
            "  category=FutureWarning)\n"
          ]
        },
        {
          "output_type": "stream",
          "name": "stdout",
          "text": [
            "[00:00:05] WARNING: /workspace/src/objective/regression_obj.cu:152: reg:linear is now deprecated in favor of reg:squarederror.\n"
          ]
        },
        {
          "output_type": "stream",
          "name": "stderr",
          "text": [
            "/usr/local/lib/python3.7/dist-packages/category_encoders/target_encoder.py:94: FutureWarning: Default parameter min_samples_leaf will change in version 2.6.See https://github.com/scikit-learn-contrib/category_encoders/issues/327\n",
            "  category=FutureWarning)\n",
            "/usr/local/lib/python3.7/dist-packages/category_encoders/target_encoder.py:99: FutureWarning: Default parameter smoothing will change in version 2.6.See https://github.com/scikit-learn-contrib/category_encoders/issues/327\n",
            "  category=FutureWarning)\n"
          ]
        },
        {
          "output_type": "stream",
          "name": "stdout",
          "text": [
            "[00:00:06] WARNING: /workspace/src/objective/regression_obj.cu:152: reg:linear is now deprecated in favor of reg:squarederror.\n"
          ]
        },
        {
          "output_type": "stream",
          "name": "stderr",
          "text": [
            "/usr/local/lib/python3.7/dist-packages/category_encoders/target_encoder.py:94: FutureWarning: Default parameter min_samples_leaf will change in version 2.6.See https://github.com/scikit-learn-contrib/category_encoders/issues/327\n",
            "  category=FutureWarning)\n",
            "/usr/local/lib/python3.7/dist-packages/category_encoders/target_encoder.py:99: FutureWarning: Default parameter smoothing will change in version 2.6.See https://github.com/scikit-learn-contrib/category_encoders/issues/327\n",
            "  category=FutureWarning)\n"
          ]
        },
        {
          "output_type": "stream",
          "name": "stdout",
          "text": [
            "[00:00:06] WARNING: /workspace/src/objective/regression_obj.cu:152: reg:linear is now deprecated in favor of reg:squarederror.\n"
          ]
        },
        {
          "output_type": "stream",
          "name": "stderr",
          "text": [
            "/usr/local/lib/python3.7/dist-packages/category_encoders/target_encoder.py:94: FutureWarning: Default parameter min_samples_leaf will change in version 2.6.See https://github.com/scikit-learn-contrib/category_encoders/issues/327\n",
            "  category=FutureWarning)\n",
            "/usr/local/lib/python3.7/dist-packages/category_encoders/target_encoder.py:99: FutureWarning: Default parameter smoothing will change in version 2.6.See https://github.com/scikit-learn-contrib/category_encoders/issues/327\n",
            "  category=FutureWarning)\n"
          ]
        },
        {
          "output_type": "stream",
          "name": "stdout",
          "text": [
            "[00:00:06] WARNING: /workspace/src/objective/regression_obj.cu:152: reg:linear is now deprecated in favor of reg:squarederror.\n"
          ]
        },
        {
          "output_type": "stream",
          "name": "stderr",
          "text": [
            "/usr/local/lib/python3.7/dist-packages/category_encoders/target_encoder.py:94: FutureWarning: Default parameter min_samples_leaf will change in version 2.6.See https://github.com/scikit-learn-contrib/category_encoders/issues/327\n",
            "  category=FutureWarning)\n",
            "/usr/local/lib/python3.7/dist-packages/category_encoders/target_encoder.py:99: FutureWarning: Default parameter smoothing will change in version 2.6.See https://github.com/scikit-learn-contrib/category_encoders/issues/327\n",
            "  category=FutureWarning)\n"
          ]
        },
        {
          "output_type": "stream",
          "name": "stdout",
          "text": [
            "[00:00:07] WARNING: /workspace/src/objective/regression_obj.cu:152: reg:linear is now deprecated in favor of reg:squarederror.\n"
          ]
        },
        {
          "output_type": "stream",
          "name": "stderr",
          "text": [
            "/usr/local/lib/python3.7/dist-packages/category_encoders/target_encoder.py:94: FutureWarning: Default parameter min_samples_leaf will change in version 2.6.See https://github.com/scikit-learn-contrib/category_encoders/issues/327\n",
            "  category=FutureWarning)\n",
            "/usr/local/lib/python3.7/dist-packages/category_encoders/target_encoder.py:99: FutureWarning: Default parameter smoothing will change in version 2.6.See https://github.com/scikit-learn-contrib/category_encoders/issues/327\n",
            "  category=FutureWarning)\n"
          ]
        },
        {
          "output_type": "stream",
          "name": "stdout",
          "text": [
            "[00:00:07] WARNING: /workspace/src/objective/regression_obj.cu:152: reg:linear is now deprecated in favor of reg:squarederror.\n"
          ]
        },
        {
          "output_type": "stream",
          "name": "stderr",
          "text": [
            "/usr/local/lib/python3.7/dist-packages/category_encoders/target_encoder.py:94: FutureWarning: Default parameter min_samples_leaf will change in version 2.6.See https://github.com/scikit-learn-contrib/category_encoders/issues/327\n",
            "  category=FutureWarning)\n",
            "/usr/local/lib/python3.7/dist-packages/category_encoders/target_encoder.py:99: FutureWarning: Default parameter smoothing will change in version 2.6.See https://github.com/scikit-learn-contrib/category_encoders/issues/327\n",
            "  category=FutureWarning)\n"
          ]
        },
        {
          "output_type": "stream",
          "name": "stdout",
          "text": [
            "[00:00:08] WARNING: /workspace/src/objective/regression_obj.cu:152: reg:linear is now deprecated in favor of reg:squarederror.\n"
          ]
        },
        {
          "output_type": "stream",
          "name": "stderr",
          "text": [
            "/usr/local/lib/python3.7/dist-packages/category_encoders/target_encoder.py:94: FutureWarning: Default parameter min_samples_leaf will change in version 2.6.See https://github.com/scikit-learn-contrib/category_encoders/issues/327\n",
            "  category=FutureWarning)\n",
            "/usr/local/lib/python3.7/dist-packages/category_encoders/target_encoder.py:99: FutureWarning: Default parameter smoothing will change in version 2.6.See https://github.com/scikit-learn-contrib/category_encoders/issues/327\n",
            "  category=FutureWarning)\n"
          ]
        },
        {
          "output_type": "stream",
          "name": "stdout",
          "text": [
            "[00:00:08] WARNING: /workspace/src/objective/regression_obj.cu:152: reg:linear is now deprecated in favor of reg:squarederror.\n"
          ]
        },
        {
          "output_type": "stream",
          "name": "stderr",
          "text": [
            "/usr/local/lib/python3.7/dist-packages/category_encoders/target_encoder.py:94: FutureWarning: Default parameter min_samples_leaf will change in version 2.6.See https://github.com/scikit-learn-contrib/category_encoders/issues/327\n",
            "  category=FutureWarning)\n",
            "/usr/local/lib/python3.7/dist-packages/category_encoders/target_encoder.py:99: FutureWarning: Default parameter smoothing will change in version 2.6.See https://github.com/scikit-learn-contrib/category_encoders/issues/327\n",
            "  category=FutureWarning)\n"
          ]
        },
        {
          "output_type": "stream",
          "name": "stdout",
          "text": [
            "[00:00:09] WARNING: /workspace/src/objective/regression_obj.cu:152: reg:linear is now deprecated in favor of reg:squarederror.\n"
          ]
        },
        {
          "output_type": "stream",
          "name": "stderr",
          "text": [
            "/usr/local/lib/python3.7/dist-packages/category_encoders/target_encoder.py:94: FutureWarning: Default parameter min_samples_leaf will change in version 2.6.See https://github.com/scikit-learn-contrib/category_encoders/issues/327\n",
            "  category=FutureWarning)\n",
            "/usr/local/lib/python3.7/dist-packages/category_encoders/target_encoder.py:99: FutureWarning: Default parameter smoothing will change in version 2.6.See https://github.com/scikit-learn-contrib/category_encoders/issues/327\n",
            "  category=FutureWarning)\n"
          ]
        },
        {
          "output_type": "stream",
          "name": "stdout",
          "text": [
            "[00:00:09] WARNING: /workspace/src/objective/regression_obj.cu:152: reg:linear is now deprecated in favor of reg:squarederror.\n"
          ]
        },
        {
          "output_type": "stream",
          "name": "stderr",
          "text": [
            "/usr/local/lib/python3.7/dist-packages/category_encoders/target_encoder.py:94: FutureWarning: Default parameter min_samples_leaf will change in version 2.6.See https://github.com/scikit-learn-contrib/category_encoders/issues/327\n",
            "  category=FutureWarning)\n",
            "/usr/local/lib/python3.7/dist-packages/category_encoders/target_encoder.py:99: FutureWarning: Default parameter smoothing will change in version 2.6.See https://github.com/scikit-learn-contrib/category_encoders/issues/327\n",
            "  category=FutureWarning)\n"
          ]
        },
        {
          "output_type": "stream",
          "name": "stdout",
          "text": [
            "[00:00:10] WARNING: /workspace/src/objective/regression_obj.cu:152: reg:linear is now deprecated in favor of reg:squarederror.\n"
          ]
        },
        {
          "output_type": "stream",
          "name": "stderr",
          "text": [
            "/usr/local/lib/python3.7/dist-packages/category_encoders/target_encoder.py:94: FutureWarning: Default parameter min_samples_leaf will change in version 2.6.See https://github.com/scikit-learn-contrib/category_encoders/issues/327\n",
            "  category=FutureWarning)\n",
            "/usr/local/lib/python3.7/dist-packages/category_encoders/target_encoder.py:99: FutureWarning: Default parameter smoothing will change in version 2.6.See https://github.com/scikit-learn-contrib/category_encoders/issues/327\n",
            "  category=FutureWarning)\n"
          ]
        },
        {
          "output_type": "stream",
          "name": "stdout",
          "text": [
            "[00:00:10] WARNING: /workspace/src/objective/regression_obj.cu:152: reg:linear is now deprecated in favor of reg:squarederror.\n"
          ]
        },
        {
          "output_type": "stream",
          "name": "stderr",
          "text": [
            "/usr/local/lib/python3.7/dist-packages/category_encoders/target_encoder.py:94: FutureWarning: Default parameter min_samples_leaf will change in version 2.6.See https://github.com/scikit-learn-contrib/category_encoders/issues/327\n",
            "  category=FutureWarning)\n",
            "/usr/local/lib/python3.7/dist-packages/category_encoders/target_encoder.py:99: FutureWarning: Default parameter smoothing will change in version 2.6.See https://github.com/scikit-learn-contrib/category_encoders/issues/327\n",
            "  category=FutureWarning)\n"
          ]
        },
        {
          "output_type": "stream",
          "name": "stdout",
          "text": [
            "[00:00:11] WARNING: /workspace/src/objective/regression_obj.cu:152: reg:linear is now deprecated in favor of reg:squarederror.\n"
          ]
        },
        {
          "output_type": "stream",
          "name": "stderr",
          "text": [
            "/usr/local/lib/python3.7/dist-packages/category_encoders/target_encoder.py:94: FutureWarning: Default parameter min_samples_leaf will change in version 2.6.See https://github.com/scikit-learn-contrib/category_encoders/issues/327\n",
            "  category=FutureWarning)\n",
            "/usr/local/lib/python3.7/dist-packages/category_encoders/target_encoder.py:99: FutureWarning: Default parameter smoothing will change in version 2.6.See https://github.com/scikit-learn-contrib/category_encoders/issues/327\n",
            "  category=FutureWarning)\n"
          ]
        },
        {
          "output_type": "stream",
          "name": "stdout",
          "text": [
            "[00:00:11] WARNING: /workspace/src/objective/regression_obj.cu:152: reg:linear is now deprecated in favor of reg:squarederror.\n"
          ]
        },
        {
          "output_type": "stream",
          "name": "stderr",
          "text": [
            "/usr/local/lib/python3.7/dist-packages/category_encoders/target_encoder.py:94: FutureWarning: Default parameter min_samples_leaf will change in version 2.6.See https://github.com/scikit-learn-contrib/category_encoders/issues/327\n",
            "  category=FutureWarning)\n",
            "/usr/local/lib/python3.7/dist-packages/category_encoders/target_encoder.py:99: FutureWarning: Default parameter smoothing will change in version 2.6.See https://github.com/scikit-learn-contrib/category_encoders/issues/327\n",
            "  category=FutureWarning)\n"
          ]
        },
        {
          "output_type": "stream",
          "name": "stdout",
          "text": [
            "[00:00:12] WARNING: /workspace/src/objective/regression_obj.cu:152: reg:linear is now deprecated in favor of reg:squarederror.\n"
          ]
        },
        {
          "output_type": "stream",
          "name": "stderr",
          "text": [
            "/usr/local/lib/python3.7/dist-packages/category_encoders/target_encoder.py:94: FutureWarning: Default parameter min_samples_leaf will change in version 2.6.See https://github.com/scikit-learn-contrib/category_encoders/issues/327\n",
            "  category=FutureWarning)\n",
            "/usr/local/lib/python3.7/dist-packages/category_encoders/target_encoder.py:99: FutureWarning: Default parameter smoothing will change in version 2.6.See https://github.com/scikit-learn-contrib/category_encoders/issues/327\n",
            "  category=FutureWarning)\n"
          ]
        },
        {
          "output_type": "stream",
          "name": "stdout",
          "text": [
            "[00:00:12] WARNING: /workspace/src/objective/regression_obj.cu:152: reg:linear is now deprecated in favor of reg:squarederror.\n"
          ]
        },
        {
          "output_type": "stream",
          "name": "stderr",
          "text": [
            "/usr/local/lib/python3.7/dist-packages/category_encoders/target_encoder.py:94: FutureWarning: Default parameter min_samples_leaf will change in version 2.6.See https://github.com/scikit-learn-contrib/category_encoders/issues/327\n",
            "  category=FutureWarning)\n",
            "/usr/local/lib/python3.7/dist-packages/category_encoders/target_encoder.py:99: FutureWarning: Default parameter smoothing will change in version 2.6.See https://github.com/scikit-learn-contrib/category_encoders/issues/327\n",
            "  category=FutureWarning)\n"
          ]
        },
        {
          "output_type": "stream",
          "name": "stdout",
          "text": [
            "[00:00:12] WARNING: /workspace/src/objective/regression_obj.cu:152: reg:linear is now deprecated in favor of reg:squarederror.\n"
          ]
        },
        {
          "output_type": "stream",
          "name": "stderr",
          "text": [
            "/usr/local/lib/python3.7/dist-packages/category_encoders/target_encoder.py:94: FutureWarning: Default parameter min_samples_leaf will change in version 2.6.See https://github.com/scikit-learn-contrib/category_encoders/issues/327\n",
            "  category=FutureWarning)\n",
            "/usr/local/lib/python3.7/dist-packages/category_encoders/target_encoder.py:99: FutureWarning: Default parameter smoothing will change in version 2.6.See https://github.com/scikit-learn-contrib/category_encoders/issues/327\n",
            "  category=FutureWarning)\n"
          ]
        },
        {
          "output_type": "stream",
          "name": "stdout",
          "text": [
            "[00:00:13] WARNING: /workspace/src/objective/regression_obj.cu:152: reg:linear is now deprecated in favor of reg:squarederror.\n"
          ]
        },
        {
          "output_type": "stream",
          "name": "stderr",
          "text": [
            "/usr/local/lib/python3.7/dist-packages/category_encoders/target_encoder.py:94: FutureWarning: Default parameter min_samples_leaf will change in version 2.6.See https://github.com/scikit-learn-contrib/category_encoders/issues/327\n",
            "  category=FutureWarning)\n",
            "/usr/local/lib/python3.7/dist-packages/category_encoders/target_encoder.py:99: FutureWarning: Default parameter smoothing will change in version 2.6.See https://github.com/scikit-learn-contrib/category_encoders/issues/327\n",
            "  category=FutureWarning)\n"
          ]
        },
        {
          "output_type": "stream",
          "name": "stdout",
          "text": [
            "[00:00:13] WARNING: /workspace/src/objective/regression_obj.cu:152: reg:linear is now deprecated in favor of reg:squarederror.\n"
          ]
        },
        {
          "output_type": "stream",
          "name": "stderr",
          "text": [
            "/usr/local/lib/python3.7/dist-packages/category_encoders/target_encoder.py:94: FutureWarning: Default parameter min_samples_leaf will change in version 2.6.See https://github.com/scikit-learn-contrib/category_encoders/issues/327\n",
            "  category=FutureWarning)\n",
            "/usr/local/lib/python3.7/dist-packages/category_encoders/target_encoder.py:99: FutureWarning: Default parameter smoothing will change in version 2.6.See https://github.com/scikit-learn-contrib/category_encoders/issues/327\n",
            "  category=FutureWarning)\n"
          ]
        },
        {
          "output_type": "stream",
          "name": "stdout",
          "text": [
            "[00:00:14] WARNING: /workspace/src/objective/regression_obj.cu:152: reg:linear is now deprecated in favor of reg:squarederror.\n"
          ]
        },
        {
          "output_type": "stream",
          "name": "stderr",
          "text": [
            "/usr/local/lib/python3.7/dist-packages/category_encoders/target_encoder.py:94: FutureWarning: Default parameter min_samples_leaf will change in version 2.6.See https://github.com/scikit-learn-contrib/category_encoders/issues/327\n",
            "  category=FutureWarning)\n",
            "/usr/local/lib/python3.7/dist-packages/category_encoders/target_encoder.py:99: FutureWarning: Default parameter smoothing will change in version 2.6.See https://github.com/scikit-learn-contrib/category_encoders/issues/327\n",
            "  category=FutureWarning)\n"
          ]
        },
        {
          "output_type": "stream",
          "name": "stdout",
          "text": [
            "[00:00:14] WARNING: /workspace/src/objective/regression_obj.cu:152: reg:linear is now deprecated in favor of reg:squarederror.\n"
          ]
        },
        {
          "output_type": "stream",
          "name": "stderr",
          "text": [
            "/usr/local/lib/python3.7/dist-packages/category_encoders/target_encoder.py:94: FutureWarning: Default parameter min_samples_leaf will change in version 2.6.See https://github.com/scikit-learn-contrib/category_encoders/issues/327\n",
            "  category=FutureWarning)\n",
            "/usr/local/lib/python3.7/dist-packages/category_encoders/target_encoder.py:99: FutureWarning: Default parameter smoothing will change in version 2.6.See https://github.com/scikit-learn-contrib/category_encoders/issues/327\n",
            "  category=FutureWarning)\n"
          ]
        },
        {
          "output_type": "stream",
          "name": "stdout",
          "text": [
            "[00:00:15] WARNING: /workspace/src/objective/regression_obj.cu:152: reg:linear is now deprecated in favor of reg:squarederror.\n"
          ]
        },
        {
          "output_type": "stream",
          "name": "stderr",
          "text": [
            "/usr/local/lib/python3.7/dist-packages/category_encoders/target_encoder.py:94: FutureWarning: Default parameter min_samples_leaf will change in version 2.6.See https://github.com/scikit-learn-contrib/category_encoders/issues/327\n",
            "  category=FutureWarning)\n",
            "/usr/local/lib/python3.7/dist-packages/category_encoders/target_encoder.py:99: FutureWarning: Default parameter smoothing will change in version 2.6.See https://github.com/scikit-learn-contrib/category_encoders/issues/327\n",
            "  category=FutureWarning)\n"
          ]
        },
        {
          "output_type": "stream",
          "name": "stdout",
          "text": [
            "[00:00:15] WARNING: /workspace/src/objective/regression_obj.cu:152: reg:linear is now deprecated in favor of reg:squarederror.\n"
          ]
        },
        {
          "output_type": "stream",
          "name": "stderr",
          "text": [
            "/usr/local/lib/python3.7/dist-packages/category_encoders/target_encoder.py:94: FutureWarning: Default parameter min_samples_leaf will change in version 2.6.See https://github.com/scikit-learn-contrib/category_encoders/issues/327\n",
            "  category=FutureWarning)\n",
            "/usr/local/lib/python3.7/dist-packages/category_encoders/target_encoder.py:99: FutureWarning: Default parameter smoothing will change in version 2.6.See https://github.com/scikit-learn-contrib/category_encoders/issues/327\n",
            "  category=FutureWarning)\n"
          ]
        },
        {
          "output_type": "stream",
          "name": "stdout",
          "text": [
            "[00:00:16] WARNING: /workspace/src/objective/regression_obj.cu:152: reg:linear is now deprecated in favor of reg:squarederror.\n"
          ]
        },
        {
          "output_type": "stream",
          "name": "stderr",
          "text": [
            "/usr/local/lib/python3.7/dist-packages/category_encoders/target_encoder.py:94: FutureWarning: Default parameter min_samples_leaf will change in version 2.6.See https://github.com/scikit-learn-contrib/category_encoders/issues/327\n",
            "  category=FutureWarning)\n",
            "/usr/local/lib/python3.7/dist-packages/category_encoders/target_encoder.py:99: FutureWarning: Default parameter smoothing will change in version 2.6.See https://github.com/scikit-learn-contrib/category_encoders/issues/327\n",
            "  category=FutureWarning)\n"
          ]
        },
        {
          "output_type": "stream",
          "name": "stdout",
          "text": [
            "[00:00:16] WARNING: /workspace/src/objective/regression_obj.cu:152: reg:linear is now deprecated in favor of reg:squarederror.\n"
          ]
        },
        {
          "output_type": "stream",
          "name": "stderr",
          "text": [
            "/usr/local/lib/python3.7/dist-packages/category_encoders/target_encoder.py:94: FutureWarning: Default parameter min_samples_leaf will change in version 2.6.See https://github.com/scikit-learn-contrib/category_encoders/issues/327\n",
            "  category=FutureWarning)\n",
            "/usr/local/lib/python3.7/dist-packages/category_encoders/target_encoder.py:99: FutureWarning: Default parameter smoothing will change in version 2.6.See https://github.com/scikit-learn-contrib/category_encoders/issues/327\n",
            "  category=FutureWarning)\n"
          ]
        },
        {
          "output_type": "stream",
          "name": "stdout",
          "text": [
            "[00:00:17] WARNING: /workspace/src/objective/regression_obj.cu:152: reg:linear is now deprecated in favor of reg:squarederror.\n"
          ]
        },
        {
          "output_type": "stream",
          "name": "stderr",
          "text": [
            "/usr/local/lib/python3.7/dist-packages/category_encoders/target_encoder.py:94: FutureWarning: Default parameter min_samples_leaf will change in version 2.6.See https://github.com/scikit-learn-contrib/category_encoders/issues/327\n",
            "  category=FutureWarning)\n",
            "/usr/local/lib/python3.7/dist-packages/category_encoders/target_encoder.py:99: FutureWarning: Default parameter smoothing will change in version 2.6.See https://github.com/scikit-learn-contrib/category_encoders/issues/327\n",
            "  category=FutureWarning)\n"
          ]
        },
        {
          "output_type": "stream",
          "name": "stdout",
          "text": [
            "[00:00:17] WARNING: /workspace/src/objective/regression_obj.cu:152: reg:linear is now deprecated in favor of reg:squarederror.\n"
          ]
        },
        {
          "output_type": "stream",
          "name": "stderr",
          "text": [
            "/usr/local/lib/python3.7/dist-packages/category_encoders/target_encoder.py:94: FutureWarning: Default parameter min_samples_leaf will change in version 2.6.See https://github.com/scikit-learn-contrib/category_encoders/issues/327\n",
            "  category=FutureWarning)\n",
            "/usr/local/lib/python3.7/dist-packages/category_encoders/target_encoder.py:99: FutureWarning: Default parameter smoothing will change in version 2.6.See https://github.com/scikit-learn-contrib/category_encoders/issues/327\n",
            "  category=FutureWarning)\n"
          ]
        },
        {
          "output_type": "stream",
          "name": "stdout",
          "text": [
            "[00:00:18] WARNING: /workspace/src/objective/regression_obj.cu:152: reg:linear is now deprecated in favor of reg:squarederror.\n"
          ]
        },
        {
          "output_type": "stream",
          "name": "stderr",
          "text": [
            "/usr/local/lib/python3.7/dist-packages/category_encoders/target_encoder.py:94: FutureWarning: Default parameter min_samples_leaf will change in version 2.6.See https://github.com/scikit-learn-contrib/category_encoders/issues/327\n",
            "  category=FutureWarning)\n",
            "/usr/local/lib/python3.7/dist-packages/category_encoders/target_encoder.py:99: FutureWarning: Default parameter smoothing will change in version 2.6.See https://github.com/scikit-learn-contrib/category_encoders/issues/327\n",
            "  category=FutureWarning)\n"
          ]
        },
        {
          "output_type": "stream",
          "name": "stdout",
          "text": [
            "[00:00:18] WARNING: /workspace/src/objective/regression_obj.cu:152: reg:linear is now deprecated in favor of reg:squarederror.\n"
          ]
        },
        {
          "output_type": "stream",
          "name": "stderr",
          "text": [
            "/usr/local/lib/python3.7/dist-packages/category_encoders/target_encoder.py:94: FutureWarning: Default parameter min_samples_leaf will change in version 2.6.See https://github.com/scikit-learn-contrib/category_encoders/issues/327\n",
            "  category=FutureWarning)\n",
            "/usr/local/lib/python3.7/dist-packages/category_encoders/target_encoder.py:99: FutureWarning: Default parameter smoothing will change in version 2.6.See https://github.com/scikit-learn-contrib/category_encoders/issues/327\n",
            "  category=FutureWarning)\n"
          ]
        },
        {
          "output_type": "stream",
          "name": "stdout",
          "text": [
            "[00:00:19] WARNING: /workspace/src/objective/regression_obj.cu:152: reg:linear is now deprecated in favor of reg:squarederror.\n"
          ]
        },
        {
          "output_type": "stream",
          "name": "stderr",
          "text": [
            "/usr/local/lib/python3.7/dist-packages/category_encoders/target_encoder.py:94: FutureWarning: Default parameter min_samples_leaf will change in version 2.6.See https://github.com/scikit-learn-contrib/category_encoders/issues/327\n",
            "  category=FutureWarning)\n",
            "/usr/local/lib/python3.7/dist-packages/category_encoders/target_encoder.py:99: FutureWarning: Default parameter smoothing will change in version 2.6.See https://github.com/scikit-learn-contrib/category_encoders/issues/327\n",
            "  category=FutureWarning)\n"
          ]
        },
        {
          "output_type": "stream",
          "name": "stdout",
          "text": [
            "[00:00:19] WARNING: /workspace/src/objective/regression_obj.cu:152: reg:linear is now deprecated in favor of reg:squarederror.\n"
          ]
        },
        {
          "output_type": "stream",
          "name": "stderr",
          "text": [
            "/usr/local/lib/python3.7/dist-packages/category_encoders/target_encoder.py:94: FutureWarning: Default parameter min_samples_leaf will change in version 2.6.See https://github.com/scikit-learn-contrib/category_encoders/issues/327\n",
            "  category=FutureWarning)\n",
            "/usr/local/lib/python3.7/dist-packages/category_encoders/target_encoder.py:99: FutureWarning: Default parameter smoothing will change in version 2.6.See https://github.com/scikit-learn-contrib/category_encoders/issues/327\n",
            "  category=FutureWarning)\n"
          ]
        },
        {
          "output_type": "stream",
          "name": "stdout",
          "text": [
            "[00:00:20] WARNING: /workspace/src/objective/regression_obj.cu:152: reg:linear is now deprecated in favor of reg:squarederror.\n"
          ]
        },
        {
          "output_type": "stream",
          "name": "stderr",
          "text": [
            "/usr/local/lib/python3.7/dist-packages/category_encoders/target_encoder.py:94: FutureWarning: Default parameter min_samples_leaf will change in version 2.6.See https://github.com/scikit-learn-contrib/category_encoders/issues/327\n",
            "  category=FutureWarning)\n",
            "/usr/local/lib/python3.7/dist-packages/category_encoders/target_encoder.py:99: FutureWarning: Default parameter smoothing will change in version 2.6.See https://github.com/scikit-learn-contrib/category_encoders/issues/327\n",
            "  category=FutureWarning)\n"
          ]
        },
        {
          "output_type": "stream",
          "name": "stdout",
          "text": [
            "[00:00:20] WARNING: /workspace/src/objective/regression_obj.cu:152: reg:linear is now deprecated in favor of reg:squarederror.\n"
          ]
        },
        {
          "output_type": "stream",
          "name": "stderr",
          "text": [
            "/usr/local/lib/python3.7/dist-packages/category_encoders/target_encoder.py:94: FutureWarning: Default parameter min_samples_leaf will change in version 2.6.See https://github.com/scikit-learn-contrib/category_encoders/issues/327\n",
            "  category=FutureWarning)\n",
            "/usr/local/lib/python3.7/dist-packages/category_encoders/target_encoder.py:99: FutureWarning: Default parameter smoothing will change in version 2.6.See https://github.com/scikit-learn-contrib/category_encoders/issues/327\n",
            "  category=FutureWarning)\n"
          ]
        },
        {
          "output_type": "stream",
          "name": "stdout",
          "text": [
            "[00:00:21] WARNING: /workspace/src/objective/regression_obj.cu:152: reg:linear is now deprecated in favor of reg:squarederror.\n"
          ]
        },
        {
          "output_type": "stream",
          "name": "stderr",
          "text": [
            "/usr/local/lib/python3.7/dist-packages/category_encoders/target_encoder.py:94: FutureWarning: Default parameter min_samples_leaf will change in version 2.6.See https://github.com/scikit-learn-contrib/category_encoders/issues/327\n",
            "  category=FutureWarning)\n",
            "/usr/local/lib/python3.7/dist-packages/category_encoders/target_encoder.py:99: FutureWarning: Default parameter smoothing will change in version 2.6.See https://github.com/scikit-learn-contrib/category_encoders/issues/327\n",
            "  category=FutureWarning)\n"
          ]
        },
        {
          "output_type": "stream",
          "name": "stdout",
          "text": [
            "[00:00:21] WARNING: /workspace/src/objective/regression_obj.cu:152: reg:linear is now deprecated in favor of reg:squarederror.\n"
          ]
        },
        {
          "output_type": "stream",
          "name": "stderr",
          "text": [
            "/usr/local/lib/python3.7/dist-packages/category_encoders/target_encoder.py:94: FutureWarning: Default parameter min_samples_leaf will change in version 2.6.See https://github.com/scikit-learn-contrib/category_encoders/issues/327\n",
            "  category=FutureWarning)\n",
            "/usr/local/lib/python3.7/dist-packages/category_encoders/target_encoder.py:99: FutureWarning: Default parameter smoothing will change in version 2.6.See https://github.com/scikit-learn-contrib/category_encoders/issues/327\n",
            "  category=FutureWarning)\n"
          ]
        },
        {
          "output_type": "stream",
          "name": "stdout",
          "text": [
            "[00:00:22] WARNING: /workspace/src/objective/regression_obj.cu:152: reg:linear is now deprecated in favor of reg:squarederror.\n"
          ]
        },
        {
          "output_type": "stream",
          "name": "stderr",
          "text": [
            "/usr/local/lib/python3.7/dist-packages/category_encoders/target_encoder.py:94: FutureWarning: Default parameter min_samples_leaf will change in version 2.6.See https://github.com/scikit-learn-contrib/category_encoders/issues/327\n",
            "  category=FutureWarning)\n",
            "/usr/local/lib/python3.7/dist-packages/category_encoders/target_encoder.py:99: FutureWarning: Default parameter smoothing will change in version 2.6.See https://github.com/scikit-learn-contrib/category_encoders/issues/327\n",
            "  category=FutureWarning)\n"
          ]
        },
        {
          "output_type": "stream",
          "name": "stdout",
          "text": [
            "[00:00:22] WARNING: /workspace/src/objective/regression_obj.cu:152: reg:linear is now deprecated in favor of reg:squarederror.\n"
          ]
        },
        {
          "output_type": "stream",
          "name": "stderr",
          "text": [
            "/usr/local/lib/python3.7/dist-packages/category_encoders/target_encoder.py:94: FutureWarning: Default parameter min_samples_leaf will change in version 2.6.See https://github.com/scikit-learn-contrib/category_encoders/issues/327\n",
            "  category=FutureWarning)\n",
            "/usr/local/lib/python3.7/dist-packages/category_encoders/target_encoder.py:99: FutureWarning: Default parameter smoothing will change in version 2.6.See https://github.com/scikit-learn-contrib/category_encoders/issues/327\n",
            "  category=FutureWarning)\n"
          ]
        },
        {
          "output_type": "stream",
          "name": "stdout",
          "text": [
            "[00:00:23] WARNING: /workspace/src/objective/regression_obj.cu:152: reg:linear is now deprecated in favor of reg:squarederror.\n"
          ]
        },
        {
          "output_type": "stream",
          "name": "stderr",
          "text": [
            "/usr/local/lib/python3.7/dist-packages/category_encoders/target_encoder.py:94: FutureWarning: Default parameter min_samples_leaf will change in version 2.6.See https://github.com/scikit-learn-contrib/category_encoders/issues/327\n",
            "  category=FutureWarning)\n",
            "/usr/local/lib/python3.7/dist-packages/category_encoders/target_encoder.py:99: FutureWarning: Default parameter smoothing will change in version 2.6.See https://github.com/scikit-learn-contrib/category_encoders/issues/327\n",
            "  category=FutureWarning)\n"
          ]
        },
        {
          "output_type": "stream",
          "name": "stdout",
          "text": [
            "[00:00:23] WARNING: /workspace/src/objective/regression_obj.cu:152: reg:linear is now deprecated in favor of reg:squarederror.\n"
          ]
        },
        {
          "output_type": "stream",
          "name": "stderr",
          "text": [
            "/usr/local/lib/python3.7/dist-packages/category_encoders/target_encoder.py:94: FutureWarning: Default parameter min_samples_leaf will change in version 2.6.See https://github.com/scikit-learn-contrib/category_encoders/issues/327\n",
            "  category=FutureWarning)\n",
            "/usr/local/lib/python3.7/dist-packages/category_encoders/target_encoder.py:99: FutureWarning: Default parameter smoothing will change in version 2.6.See https://github.com/scikit-learn-contrib/category_encoders/issues/327\n",
            "  category=FutureWarning)\n"
          ]
        },
        {
          "output_type": "stream",
          "name": "stdout",
          "text": [
            "[00:00:24] WARNING: /workspace/src/objective/regression_obj.cu:152: reg:linear is now deprecated in favor of reg:squarederror.\n"
          ]
        },
        {
          "output_type": "stream",
          "name": "stderr",
          "text": [
            "/usr/local/lib/python3.7/dist-packages/category_encoders/target_encoder.py:94: FutureWarning: Default parameter min_samples_leaf will change in version 2.6.See https://github.com/scikit-learn-contrib/category_encoders/issues/327\n",
            "  category=FutureWarning)\n",
            "/usr/local/lib/python3.7/dist-packages/category_encoders/target_encoder.py:99: FutureWarning: Default parameter smoothing will change in version 2.6.See https://github.com/scikit-learn-contrib/category_encoders/issues/327\n",
            "  category=FutureWarning)\n"
          ]
        },
        {
          "output_type": "stream",
          "name": "stdout",
          "text": [
            "[00:00:24] WARNING: /workspace/src/objective/regression_obj.cu:152: reg:linear is now deprecated in favor of reg:squarederror.\n"
          ]
        },
        {
          "output_type": "stream",
          "name": "stderr",
          "text": [
            "/usr/local/lib/python3.7/dist-packages/category_encoders/target_encoder.py:94: FutureWarning: Default parameter min_samples_leaf will change in version 2.6.See https://github.com/scikit-learn-contrib/category_encoders/issues/327\n",
            "  category=FutureWarning)\n",
            "/usr/local/lib/python3.7/dist-packages/category_encoders/target_encoder.py:99: FutureWarning: Default parameter smoothing will change in version 2.6.See https://github.com/scikit-learn-contrib/category_encoders/issues/327\n",
            "  category=FutureWarning)\n"
          ]
        },
        {
          "output_type": "stream",
          "name": "stdout",
          "text": [
            "[00:00:25] WARNING: /workspace/src/objective/regression_obj.cu:152: reg:linear is now deprecated in favor of reg:squarederror.\n"
          ]
        },
        {
          "output_type": "stream",
          "name": "stderr",
          "text": [
            "/usr/local/lib/python3.7/dist-packages/category_encoders/target_encoder.py:94: FutureWarning: Default parameter min_samples_leaf will change in version 2.6.See https://github.com/scikit-learn-contrib/category_encoders/issues/327\n",
            "  category=FutureWarning)\n",
            "/usr/local/lib/python3.7/dist-packages/category_encoders/target_encoder.py:99: FutureWarning: Default parameter smoothing will change in version 2.6.See https://github.com/scikit-learn-contrib/category_encoders/issues/327\n",
            "  category=FutureWarning)\n"
          ]
        },
        {
          "output_type": "stream",
          "name": "stdout",
          "text": [
            "[00:00:25] WARNING: /workspace/src/objective/regression_obj.cu:152: reg:linear is now deprecated in favor of reg:squarederror.\n"
          ]
        },
        {
          "output_type": "stream",
          "name": "stderr",
          "text": [
            "/usr/local/lib/python3.7/dist-packages/category_encoders/target_encoder.py:94: FutureWarning: Default parameter min_samples_leaf will change in version 2.6.See https://github.com/scikit-learn-contrib/category_encoders/issues/327\n",
            "  category=FutureWarning)\n",
            "/usr/local/lib/python3.7/dist-packages/category_encoders/target_encoder.py:99: FutureWarning: Default parameter smoothing will change in version 2.6.See https://github.com/scikit-learn-contrib/category_encoders/issues/327\n",
            "  category=FutureWarning)\n"
          ]
        },
        {
          "output_type": "stream",
          "name": "stdout",
          "text": [
            "[00:00:26] WARNING: /workspace/src/objective/regression_obj.cu:152: reg:linear is now deprecated in favor of reg:squarederror.\n"
          ]
        },
        {
          "output_type": "stream",
          "name": "stderr",
          "text": [
            "/usr/local/lib/python3.7/dist-packages/category_encoders/target_encoder.py:94: FutureWarning: Default parameter min_samples_leaf will change in version 2.6.See https://github.com/scikit-learn-contrib/category_encoders/issues/327\n",
            "  category=FutureWarning)\n",
            "/usr/local/lib/python3.7/dist-packages/category_encoders/target_encoder.py:99: FutureWarning: Default parameter smoothing will change in version 2.6.See https://github.com/scikit-learn-contrib/category_encoders/issues/327\n",
            "  category=FutureWarning)\n"
          ]
        },
        {
          "output_type": "stream",
          "name": "stdout",
          "text": [
            "[00:00:26] WARNING: /workspace/src/objective/regression_obj.cu:152: reg:linear is now deprecated in favor of reg:squarederror.\n"
          ]
        },
        {
          "output_type": "stream",
          "name": "stderr",
          "text": [
            "/usr/local/lib/python3.7/dist-packages/category_encoders/target_encoder.py:94: FutureWarning: Default parameter min_samples_leaf will change in version 2.6.See https://github.com/scikit-learn-contrib/category_encoders/issues/327\n",
            "  category=FutureWarning)\n",
            "/usr/local/lib/python3.7/dist-packages/category_encoders/target_encoder.py:99: FutureWarning: Default parameter smoothing will change in version 2.6.See https://github.com/scikit-learn-contrib/category_encoders/issues/327\n",
            "  category=FutureWarning)\n"
          ]
        },
        {
          "output_type": "stream",
          "name": "stdout",
          "text": [
            "[00:00:26] WARNING: /workspace/src/objective/regression_obj.cu:152: reg:linear is now deprecated in favor of reg:squarederror.\n"
          ]
        },
        {
          "output_type": "stream",
          "name": "stderr",
          "text": [
            "/usr/local/lib/python3.7/dist-packages/category_encoders/target_encoder.py:94: FutureWarning: Default parameter min_samples_leaf will change in version 2.6.See https://github.com/scikit-learn-contrib/category_encoders/issues/327\n",
            "  category=FutureWarning)\n",
            "/usr/local/lib/python3.7/dist-packages/category_encoders/target_encoder.py:99: FutureWarning: Default parameter smoothing will change in version 2.6.See https://github.com/scikit-learn-contrib/category_encoders/issues/327\n",
            "  category=FutureWarning)\n"
          ]
        },
        {
          "output_type": "stream",
          "name": "stdout",
          "text": [
            "[00:00:27] WARNING: /workspace/src/objective/regression_obj.cu:152: reg:linear is now deprecated in favor of reg:squarederror.\n"
          ]
        },
        {
          "output_type": "stream",
          "name": "stderr",
          "text": [
            "/usr/local/lib/python3.7/dist-packages/category_encoders/target_encoder.py:94: FutureWarning: Default parameter min_samples_leaf will change in version 2.6.See https://github.com/scikit-learn-contrib/category_encoders/issues/327\n",
            "  category=FutureWarning)\n",
            "/usr/local/lib/python3.7/dist-packages/category_encoders/target_encoder.py:99: FutureWarning: Default parameter smoothing will change in version 2.6.See https://github.com/scikit-learn-contrib/category_encoders/issues/327\n",
            "  category=FutureWarning)\n"
          ]
        },
        {
          "output_type": "stream",
          "name": "stdout",
          "text": [
            "[00:00:27] WARNING: /workspace/src/objective/regression_obj.cu:152: reg:linear is now deprecated in favor of reg:squarederror.\n"
          ]
        },
        {
          "output_type": "stream",
          "name": "stderr",
          "text": [
            "/usr/local/lib/python3.7/dist-packages/category_encoders/target_encoder.py:94: FutureWarning: Default parameter min_samples_leaf will change in version 2.6.See https://github.com/scikit-learn-contrib/category_encoders/issues/327\n",
            "  category=FutureWarning)\n",
            "/usr/local/lib/python3.7/dist-packages/category_encoders/target_encoder.py:99: FutureWarning: Default parameter smoothing will change in version 2.6.See https://github.com/scikit-learn-contrib/category_encoders/issues/327\n",
            "  category=FutureWarning)\n"
          ]
        },
        {
          "output_type": "stream",
          "name": "stdout",
          "text": [
            "[00:00:28] WARNING: /workspace/src/objective/regression_obj.cu:152: reg:linear is now deprecated in favor of reg:squarederror.\n"
          ]
        },
        {
          "output_type": "stream",
          "name": "stderr",
          "text": [
            "/usr/local/lib/python3.7/dist-packages/category_encoders/target_encoder.py:94: FutureWarning: Default parameter min_samples_leaf will change in version 2.6.See https://github.com/scikit-learn-contrib/category_encoders/issues/327\n",
            "  category=FutureWarning)\n",
            "/usr/local/lib/python3.7/dist-packages/category_encoders/target_encoder.py:99: FutureWarning: Default parameter smoothing will change in version 2.6.See https://github.com/scikit-learn-contrib/category_encoders/issues/327\n",
            "  category=FutureWarning)\n"
          ]
        },
        {
          "output_type": "stream",
          "name": "stdout",
          "text": [
            "[00:00:28] WARNING: /workspace/src/objective/regression_obj.cu:152: reg:linear is now deprecated in favor of reg:squarederror.\n"
          ]
        },
        {
          "output_type": "stream",
          "name": "stderr",
          "text": [
            "/usr/local/lib/python3.7/dist-packages/category_encoders/target_encoder.py:94: FutureWarning: Default parameter min_samples_leaf will change in version 2.6.See https://github.com/scikit-learn-contrib/category_encoders/issues/327\n",
            "  category=FutureWarning)\n",
            "/usr/local/lib/python3.7/dist-packages/category_encoders/target_encoder.py:99: FutureWarning: Default parameter smoothing will change in version 2.6.See https://github.com/scikit-learn-contrib/category_encoders/issues/327\n",
            "  category=FutureWarning)\n"
          ]
        },
        {
          "output_type": "stream",
          "name": "stdout",
          "text": [
            "[00:00:29] WARNING: /workspace/src/objective/regression_obj.cu:152: reg:linear is now deprecated in favor of reg:squarederror.\n"
          ]
        },
        {
          "output_type": "stream",
          "name": "stderr",
          "text": [
            "/usr/local/lib/python3.7/dist-packages/category_encoders/target_encoder.py:94: FutureWarning: Default parameter min_samples_leaf will change in version 2.6.See https://github.com/scikit-learn-contrib/category_encoders/issues/327\n",
            "  category=FutureWarning)\n",
            "/usr/local/lib/python3.7/dist-packages/category_encoders/target_encoder.py:99: FutureWarning: Default parameter smoothing will change in version 2.6.See https://github.com/scikit-learn-contrib/category_encoders/issues/327\n",
            "  category=FutureWarning)\n"
          ]
        },
        {
          "output_type": "stream",
          "name": "stdout",
          "text": [
            "[00:00:29] WARNING: /workspace/src/objective/regression_obj.cu:152: reg:linear is now deprecated in favor of reg:squarederror.\n"
          ]
        },
        {
          "output_type": "stream",
          "name": "stderr",
          "text": [
            "/usr/local/lib/python3.7/dist-packages/category_encoders/target_encoder.py:94: FutureWarning: Default parameter min_samples_leaf will change in version 2.6.See https://github.com/scikit-learn-contrib/category_encoders/issues/327\n",
            "  category=FutureWarning)\n",
            "/usr/local/lib/python3.7/dist-packages/category_encoders/target_encoder.py:99: FutureWarning: Default parameter smoothing will change in version 2.6.See https://github.com/scikit-learn-contrib/category_encoders/issues/327\n",
            "  category=FutureWarning)\n"
          ]
        },
        {
          "output_type": "stream",
          "name": "stdout",
          "text": [
            "[00:00:30] WARNING: /workspace/src/objective/regression_obj.cu:152: reg:linear is now deprecated in favor of reg:squarederror.\n"
          ]
        },
        {
          "output_type": "stream",
          "name": "stderr",
          "text": [
            "/usr/local/lib/python3.7/dist-packages/category_encoders/target_encoder.py:94: FutureWarning: Default parameter min_samples_leaf will change in version 2.6.See https://github.com/scikit-learn-contrib/category_encoders/issues/327\n",
            "  category=FutureWarning)\n",
            "/usr/local/lib/python3.7/dist-packages/category_encoders/target_encoder.py:99: FutureWarning: Default parameter smoothing will change in version 2.6.See https://github.com/scikit-learn-contrib/category_encoders/issues/327\n",
            "  category=FutureWarning)\n"
          ]
        },
        {
          "output_type": "stream",
          "name": "stdout",
          "text": [
            "[00:00:30] WARNING: /workspace/src/objective/regression_obj.cu:152: reg:linear is now deprecated in favor of reg:squarederror.\n"
          ]
        },
        {
          "output_type": "stream",
          "name": "stderr",
          "text": [
            "/usr/local/lib/python3.7/dist-packages/category_encoders/target_encoder.py:94: FutureWarning: Default parameter min_samples_leaf will change in version 2.6.See https://github.com/scikit-learn-contrib/category_encoders/issues/327\n",
            "  category=FutureWarning)\n",
            "/usr/local/lib/python3.7/dist-packages/category_encoders/target_encoder.py:99: FutureWarning: Default parameter smoothing will change in version 2.6.See https://github.com/scikit-learn-contrib/category_encoders/issues/327\n",
            "  category=FutureWarning)\n"
          ]
        },
        {
          "output_type": "stream",
          "name": "stdout",
          "text": [
            "[00:00:31] WARNING: /workspace/src/objective/regression_obj.cu:152: reg:linear is now deprecated in favor of reg:squarederror.\n"
          ]
        },
        {
          "output_type": "stream",
          "name": "stderr",
          "text": [
            "/usr/local/lib/python3.7/dist-packages/category_encoders/target_encoder.py:94: FutureWarning: Default parameter min_samples_leaf will change in version 2.6.See https://github.com/scikit-learn-contrib/category_encoders/issues/327\n",
            "  category=FutureWarning)\n",
            "/usr/local/lib/python3.7/dist-packages/category_encoders/target_encoder.py:99: FutureWarning: Default parameter smoothing will change in version 2.6.See https://github.com/scikit-learn-contrib/category_encoders/issues/327\n",
            "  category=FutureWarning)\n"
          ]
        },
        {
          "output_type": "stream",
          "name": "stdout",
          "text": [
            "[00:00:32] WARNING: /workspace/src/objective/regression_obj.cu:152: reg:linear is now deprecated in favor of reg:squarederror.\n"
          ]
        },
        {
          "output_type": "stream",
          "name": "stderr",
          "text": [
            "/usr/local/lib/python3.7/dist-packages/category_encoders/target_encoder.py:94: FutureWarning: Default parameter min_samples_leaf will change in version 2.6.See https://github.com/scikit-learn-contrib/category_encoders/issues/327\n",
            "  category=FutureWarning)\n",
            "/usr/local/lib/python3.7/dist-packages/category_encoders/target_encoder.py:99: FutureWarning: Default parameter smoothing will change in version 2.6.See https://github.com/scikit-learn-contrib/category_encoders/issues/327\n",
            "  category=FutureWarning)\n"
          ]
        },
        {
          "output_type": "stream",
          "name": "stdout",
          "text": [
            "[00:00:33] WARNING: /workspace/src/objective/regression_obj.cu:152: reg:linear is now deprecated in favor of reg:squarederror.\n"
          ]
        },
        {
          "output_type": "stream",
          "name": "stderr",
          "text": [
            "/usr/local/lib/python3.7/dist-packages/category_encoders/target_encoder.py:94: FutureWarning: Default parameter min_samples_leaf will change in version 2.6.See https://github.com/scikit-learn-contrib/category_encoders/issues/327\n",
            "  category=FutureWarning)\n",
            "/usr/local/lib/python3.7/dist-packages/category_encoders/target_encoder.py:99: FutureWarning: Default parameter smoothing will change in version 2.6.See https://github.com/scikit-learn-contrib/category_encoders/issues/327\n",
            "  category=FutureWarning)\n"
          ]
        },
        {
          "output_type": "stream",
          "name": "stdout",
          "text": [
            "[00:00:33] WARNING: /workspace/src/objective/regression_obj.cu:152: reg:linear is now deprecated in favor of reg:squarederror.\n"
          ]
        },
        {
          "output_type": "stream",
          "name": "stderr",
          "text": [
            "/usr/local/lib/python3.7/dist-packages/category_encoders/target_encoder.py:94: FutureWarning: Default parameter min_samples_leaf will change in version 2.6.See https://github.com/scikit-learn-contrib/category_encoders/issues/327\n",
            "  category=FutureWarning)\n",
            "/usr/local/lib/python3.7/dist-packages/category_encoders/target_encoder.py:99: FutureWarning: Default parameter smoothing will change in version 2.6.See https://github.com/scikit-learn-contrib/category_encoders/issues/327\n",
            "  category=FutureWarning)\n"
          ]
        },
        {
          "output_type": "stream",
          "name": "stdout",
          "text": [
            "[00:00:34] WARNING: /workspace/src/objective/regression_obj.cu:152: reg:linear is now deprecated in favor of reg:squarederror.\n"
          ]
        },
        {
          "output_type": "stream",
          "name": "stderr",
          "text": [
            "/usr/local/lib/python3.7/dist-packages/category_encoders/target_encoder.py:94: FutureWarning: Default parameter min_samples_leaf will change in version 2.6.See https://github.com/scikit-learn-contrib/category_encoders/issues/327\n",
            "  category=FutureWarning)\n",
            "/usr/local/lib/python3.7/dist-packages/category_encoders/target_encoder.py:99: FutureWarning: Default parameter smoothing will change in version 2.6.See https://github.com/scikit-learn-contrib/category_encoders/issues/327\n",
            "  category=FutureWarning)\n"
          ]
        },
        {
          "output_type": "stream",
          "name": "stdout",
          "text": [
            "[00:00:34] WARNING: /workspace/src/objective/regression_obj.cu:152: reg:linear is now deprecated in favor of reg:squarederror.\n"
          ]
        },
        {
          "output_type": "stream",
          "name": "stderr",
          "text": [
            "/usr/local/lib/python3.7/dist-packages/category_encoders/target_encoder.py:94: FutureWarning: Default parameter min_samples_leaf will change in version 2.6.See https://github.com/scikit-learn-contrib/category_encoders/issues/327\n",
            "  category=FutureWarning)\n",
            "/usr/local/lib/python3.7/dist-packages/category_encoders/target_encoder.py:99: FutureWarning: Default parameter smoothing will change in version 2.6.See https://github.com/scikit-learn-contrib/category_encoders/issues/327\n",
            "  category=FutureWarning)\n"
          ]
        },
        {
          "output_type": "stream",
          "name": "stdout",
          "text": [
            "[00:00:35] WARNING: /workspace/src/objective/regression_obj.cu:152: reg:linear is now deprecated in favor of reg:squarederror.\n"
          ]
        },
        {
          "output_type": "stream",
          "name": "stderr",
          "text": [
            "/usr/local/lib/python3.7/dist-packages/category_encoders/target_encoder.py:94: FutureWarning: Default parameter min_samples_leaf will change in version 2.6.See https://github.com/scikit-learn-contrib/category_encoders/issues/327\n",
            "  category=FutureWarning)\n",
            "/usr/local/lib/python3.7/dist-packages/category_encoders/target_encoder.py:99: FutureWarning: Default parameter smoothing will change in version 2.6.See https://github.com/scikit-learn-contrib/category_encoders/issues/327\n",
            "  category=FutureWarning)\n"
          ]
        },
        {
          "output_type": "stream",
          "name": "stdout",
          "text": [
            "[00:00:35] WARNING: /workspace/src/objective/regression_obj.cu:152: reg:linear is now deprecated in favor of reg:squarederror.\n"
          ]
        },
        {
          "output_type": "stream",
          "name": "stderr",
          "text": [
            "/usr/local/lib/python3.7/dist-packages/category_encoders/target_encoder.py:94: FutureWarning: Default parameter min_samples_leaf will change in version 2.6.See https://github.com/scikit-learn-contrib/category_encoders/issues/327\n",
            "  category=FutureWarning)\n",
            "/usr/local/lib/python3.7/dist-packages/category_encoders/target_encoder.py:99: FutureWarning: Default parameter smoothing will change in version 2.6.See https://github.com/scikit-learn-contrib/category_encoders/issues/327\n",
            "  category=FutureWarning)\n"
          ]
        },
        {
          "output_type": "stream",
          "name": "stdout",
          "text": [
            "[00:00:36] WARNING: /workspace/src/objective/regression_obj.cu:152: reg:linear is now deprecated in favor of reg:squarederror.\n"
          ]
        },
        {
          "output_type": "stream",
          "name": "stderr",
          "text": [
            "/usr/local/lib/python3.7/dist-packages/category_encoders/target_encoder.py:94: FutureWarning: Default parameter min_samples_leaf will change in version 2.6.See https://github.com/scikit-learn-contrib/category_encoders/issues/327\n",
            "  category=FutureWarning)\n",
            "/usr/local/lib/python3.7/dist-packages/category_encoders/target_encoder.py:99: FutureWarning: Default parameter smoothing will change in version 2.6.See https://github.com/scikit-learn-contrib/category_encoders/issues/327\n",
            "  category=FutureWarning)\n"
          ]
        },
        {
          "output_type": "stream",
          "name": "stdout",
          "text": [
            "[00:00:36] WARNING: /workspace/src/objective/regression_obj.cu:152: reg:linear is now deprecated in favor of reg:squarederror.\n"
          ]
        },
        {
          "output_type": "stream",
          "name": "stderr",
          "text": [
            "/usr/local/lib/python3.7/dist-packages/category_encoders/target_encoder.py:94: FutureWarning: Default parameter min_samples_leaf will change in version 2.6.See https://github.com/scikit-learn-contrib/category_encoders/issues/327\n",
            "  category=FutureWarning)\n",
            "/usr/local/lib/python3.7/dist-packages/category_encoders/target_encoder.py:99: FutureWarning: Default parameter smoothing will change in version 2.6.See https://github.com/scikit-learn-contrib/category_encoders/issues/327\n",
            "  category=FutureWarning)\n"
          ]
        },
        {
          "output_type": "stream",
          "name": "stdout",
          "text": [
            "[00:00:37] WARNING: /workspace/src/objective/regression_obj.cu:152: reg:linear is now deprecated in favor of reg:squarederror.\n"
          ]
        },
        {
          "output_type": "stream",
          "name": "stderr",
          "text": [
            "/usr/local/lib/python3.7/dist-packages/category_encoders/target_encoder.py:94: FutureWarning: Default parameter min_samples_leaf will change in version 2.6.See https://github.com/scikit-learn-contrib/category_encoders/issues/327\n",
            "  category=FutureWarning)\n",
            "/usr/local/lib/python3.7/dist-packages/category_encoders/target_encoder.py:99: FutureWarning: Default parameter smoothing will change in version 2.6.See https://github.com/scikit-learn-contrib/category_encoders/issues/327\n",
            "  category=FutureWarning)\n"
          ]
        },
        {
          "output_type": "stream",
          "name": "stdout",
          "text": [
            "[00:00:37] WARNING: /workspace/src/objective/regression_obj.cu:152: reg:linear is now deprecated in favor of reg:squarederror.\n"
          ]
        },
        {
          "output_type": "stream",
          "name": "stderr",
          "text": [
            "/usr/local/lib/python3.7/dist-packages/category_encoders/target_encoder.py:94: FutureWarning: Default parameter min_samples_leaf will change in version 2.6.See https://github.com/scikit-learn-contrib/category_encoders/issues/327\n",
            "  category=FutureWarning)\n",
            "/usr/local/lib/python3.7/dist-packages/category_encoders/target_encoder.py:99: FutureWarning: Default parameter smoothing will change in version 2.6.See https://github.com/scikit-learn-contrib/category_encoders/issues/327\n",
            "  category=FutureWarning)\n"
          ]
        },
        {
          "output_type": "stream",
          "name": "stdout",
          "text": [
            "[00:00:38] WARNING: /workspace/src/objective/regression_obj.cu:152: reg:linear is now deprecated in favor of reg:squarederror.\n"
          ]
        },
        {
          "output_type": "stream",
          "name": "stderr",
          "text": [
            "/usr/local/lib/python3.7/dist-packages/category_encoders/target_encoder.py:94: FutureWarning: Default parameter min_samples_leaf will change in version 2.6.See https://github.com/scikit-learn-contrib/category_encoders/issues/327\n",
            "  category=FutureWarning)\n",
            "/usr/local/lib/python3.7/dist-packages/category_encoders/target_encoder.py:99: FutureWarning: Default parameter smoothing will change in version 2.6.See https://github.com/scikit-learn-contrib/category_encoders/issues/327\n",
            "  category=FutureWarning)\n"
          ]
        },
        {
          "output_type": "stream",
          "name": "stdout",
          "text": [
            "[00:00:38] WARNING: /workspace/src/objective/regression_obj.cu:152: reg:linear is now deprecated in favor of reg:squarederror.\n"
          ]
        },
        {
          "output_type": "stream",
          "name": "stderr",
          "text": [
            "/usr/local/lib/python3.7/dist-packages/category_encoders/target_encoder.py:94: FutureWarning: Default parameter min_samples_leaf will change in version 2.6.See https://github.com/scikit-learn-contrib/category_encoders/issues/327\n",
            "  category=FutureWarning)\n",
            "/usr/local/lib/python3.7/dist-packages/category_encoders/target_encoder.py:99: FutureWarning: Default parameter smoothing will change in version 2.6.See https://github.com/scikit-learn-contrib/category_encoders/issues/327\n",
            "  category=FutureWarning)\n"
          ]
        },
        {
          "output_type": "stream",
          "name": "stdout",
          "text": [
            "[00:00:39] WARNING: /workspace/src/objective/regression_obj.cu:152: reg:linear is now deprecated in favor of reg:squarederror.\n"
          ]
        },
        {
          "output_type": "stream",
          "name": "stderr",
          "text": [
            "/usr/local/lib/python3.7/dist-packages/category_encoders/target_encoder.py:94: FutureWarning: Default parameter min_samples_leaf will change in version 2.6.See https://github.com/scikit-learn-contrib/category_encoders/issues/327\n",
            "  category=FutureWarning)\n",
            "/usr/local/lib/python3.7/dist-packages/category_encoders/target_encoder.py:99: FutureWarning: Default parameter smoothing will change in version 2.6.See https://github.com/scikit-learn-contrib/category_encoders/issues/327\n",
            "  category=FutureWarning)\n"
          ]
        },
        {
          "output_type": "stream",
          "name": "stdout",
          "text": [
            "[00:00:39] WARNING: /workspace/src/objective/regression_obj.cu:152: reg:linear is now deprecated in favor of reg:squarederror.\n"
          ]
        },
        {
          "output_type": "stream",
          "name": "stderr",
          "text": [
            "/usr/local/lib/python3.7/dist-packages/category_encoders/target_encoder.py:94: FutureWarning: Default parameter min_samples_leaf will change in version 2.6.See https://github.com/scikit-learn-contrib/category_encoders/issues/327\n",
            "  category=FutureWarning)\n",
            "/usr/local/lib/python3.7/dist-packages/category_encoders/target_encoder.py:99: FutureWarning: Default parameter smoothing will change in version 2.6.See https://github.com/scikit-learn-contrib/category_encoders/issues/327\n",
            "  category=FutureWarning)\n"
          ]
        },
        {
          "output_type": "stream",
          "name": "stdout",
          "text": [
            "[00:00:40] WARNING: /workspace/src/objective/regression_obj.cu:152: reg:linear is now deprecated in favor of reg:squarederror.\n"
          ]
        },
        {
          "output_type": "stream",
          "name": "stderr",
          "text": [
            "/usr/local/lib/python3.7/dist-packages/category_encoders/target_encoder.py:94: FutureWarning: Default parameter min_samples_leaf will change in version 2.6.See https://github.com/scikit-learn-contrib/category_encoders/issues/327\n",
            "  category=FutureWarning)\n",
            "/usr/local/lib/python3.7/dist-packages/category_encoders/target_encoder.py:99: FutureWarning: Default parameter smoothing will change in version 2.6.See https://github.com/scikit-learn-contrib/category_encoders/issues/327\n",
            "  category=FutureWarning)\n"
          ]
        },
        {
          "output_type": "stream",
          "name": "stdout",
          "text": [
            "[00:00:40] WARNING: /workspace/src/objective/regression_obj.cu:152: reg:linear is now deprecated in favor of reg:squarederror.\n"
          ]
        },
        {
          "output_type": "stream",
          "name": "stderr",
          "text": [
            "/usr/local/lib/python3.7/dist-packages/category_encoders/target_encoder.py:94: FutureWarning: Default parameter min_samples_leaf will change in version 2.6.See https://github.com/scikit-learn-contrib/category_encoders/issues/327\n",
            "  category=FutureWarning)\n",
            "/usr/local/lib/python3.7/dist-packages/category_encoders/target_encoder.py:99: FutureWarning: Default parameter smoothing will change in version 2.6.See https://github.com/scikit-learn-contrib/category_encoders/issues/327\n",
            "  category=FutureWarning)\n"
          ]
        },
        {
          "output_type": "stream",
          "name": "stdout",
          "text": [
            "[00:00:41] WARNING: /workspace/src/objective/regression_obj.cu:152: reg:linear is now deprecated in favor of reg:squarederror.\n"
          ]
        },
        {
          "output_type": "stream",
          "name": "stderr",
          "text": [
            "/usr/local/lib/python3.7/dist-packages/category_encoders/target_encoder.py:94: FutureWarning: Default parameter min_samples_leaf will change in version 2.6.See https://github.com/scikit-learn-contrib/category_encoders/issues/327\n",
            "  category=FutureWarning)\n",
            "/usr/local/lib/python3.7/dist-packages/category_encoders/target_encoder.py:99: FutureWarning: Default parameter smoothing will change in version 2.6.See https://github.com/scikit-learn-contrib/category_encoders/issues/327\n",
            "  category=FutureWarning)\n"
          ]
        },
        {
          "output_type": "stream",
          "name": "stdout",
          "text": [
            "[00:00:41] WARNING: /workspace/src/objective/regression_obj.cu:152: reg:linear is now deprecated in favor of reg:squarederror.\n"
          ]
        },
        {
          "output_type": "stream",
          "name": "stderr",
          "text": [
            "/usr/local/lib/python3.7/dist-packages/category_encoders/target_encoder.py:94: FutureWarning: Default parameter min_samples_leaf will change in version 2.6.See https://github.com/scikit-learn-contrib/category_encoders/issues/327\n",
            "  category=FutureWarning)\n",
            "/usr/local/lib/python3.7/dist-packages/category_encoders/target_encoder.py:99: FutureWarning: Default parameter smoothing will change in version 2.6.See https://github.com/scikit-learn-contrib/category_encoders/issues/327\n",
            "  category=FutureWarning)\n"
          ]
        },
        {
          "output_type": "stream",
          "name": "stdout",
          "text": [
            "[00:00:42] WARNING: /workspace/src/objective/regression_obj.cu:152: reg:linear is now deprecated in favor of reg:squarederror.\n"
          ]
        },
        {
          "output_type": "stream",
          "name": "stderr",
          "text": [
            "/usr/local/lib/python3.7/dist-packages/category_encoders/target_encoder.py:94: FutureWarning: Default parameter min_samples_leaf will change in version 2.6.See https://github.com/scikit-learn-contrib/category_encoders/issues/327\n",
            "  category=FutureWarning)\n",
            "/usr/local/lib/python3.7/dist-packages/category_encoders/target_encoder.py:99: FutureWarning: Default parameter smoothing will change in version 2.6.See https://github.com/scikit-learn-contrib/category_encoders/issues/327\n",
            "  category=FutureWarning)\n"
          ]
        },
        {
          "output_type": "stream",
          "name": "stdout",
          "text": [
            "[00:00:42] WARNING: /workspace/src/objective/regression_obj.cu:152: reg:linear is now deprecated in favor of reg:squarederror.\n"
          ]
        },
        {
          "output_type": "stream",
          "name": "stderr",
          "text": [
            "/usr/local/lib/python3.7/dist-packages/category_encoders/target_encoder.py:94: FutureWarning: Default parameter min_samples_leaf will change in version 2.6.See https://github.com/scikit-learn-contrib/category_encoders/issues/327\n",
            "  category=FutureWarning)\n",
            "/usr/local/lib/python3.7/dist-packages/category_encoders/target_encoder.py:99: FutureWarning: Default parameter smoothing will change in version 2.6.See https://github.com/scikit-learn-contrib/category_encoders/issues/327\n",
            "  category=FutureWarning)\n"
          ]
        },
        {
          "output_type": "stream",
          "name": "stdout",
          "text": [
            "[00:00:43] WARNING: /workspace/src/objective/regression_obj.cu:152: reg:linear is now deprecated in favor of reg:squarederror.\n"
          ]
        },
        {
          "output_type": "stream",
          "name": "stderr",
          "text": [
            "/usr/local/lib/python3.7/dist-packages/category_encoders/target_encoder.py:94: FutureWarning: Default parameter min_samples_leaf will change in version 2.6.See https://github.com/scikit-learn-contrib/category_encoders/issues/327\n",
            "  category=FutureWarning)\n",
            "/usr/local/lib/python3.7/dist-packages/category_encoders/target_encoder.py:99: FutureWarning: Default parameter smoothing will change in version 2.6.See https://github.com/scikit-learn-contrib/category_encoders/issues/327\n",
            "  category=FutureWarning)\n"
          ]
        },
        {
          "output_type": "stream",
          "name": "stdout",
          "text": [
            "[00:00:43] WARNING: /workspace/src/objective/regression_obj.cu:152: reg:linear is now deprecated in favor of reg:squarederror.\n"
          ]
        },
        {
          "output_type": "stream",
          "name": "stderr",
          "text": [
            "/usr/local/lib/python3.7/dist-packages/category_encoders/target_encoder.py:94: FutureWarning: Default parameter min_samples_leaf will change in version 2.6.See https://github.com/scikit-learn-contrib/category_encoders/issues/327\n",
            "  category=FutureWarning)\n",
            "/usr/local/lib/python3.7/dist-packages/category_encoders/target_encoder.py:99: FutureWarning: Default parameter smoothing will change in version 2.6.See https://github.com/scikit-learn-contrib/category_encoders/issues/327\n",
            "  category=FutureWarning)\n"
          ]
        },
        {
          "output_type": "stream",
          "name": "stdout",
          "text": [
            "[00:00:44] WARNING: /workspace/src/objective/regression_obj.cu:152: reg:linear is now deprecated in favor of reg:squarederror.\n"
          ]
        },
        {
          "output_type": "stream",
          "name": "stderr",
          "text": [
            "/usr/local/lib/python3.7/dist-packages/category_encoders/target_encoder.py:94: FutureWarning: Default parameter min_samples_leaf will change in version 2.6.See https://github.com/scikit-learn-contrib/category_encoders/issues/327\n",
            "  category=FutureWarning)\n",
            "/usr/local/lib/python3.7/dist-packages/category_encoders/target_encoder.py:99: FutureWarning: Default parameter smoothing will change in version 2.6.See https://github.com/scikit-learn-contrib/category_encoders/issues/327\n",
            "  category=FutureWarning)\n"
          ]
        },
        {
          "output_type": "stream",
          "name": "stdout",
          "text": [
            "[00:00:44] WARNING: /workspace/src/objective/regression_obj.cu:152: reg:linear is now deprecated in favor of reg:squarederror.\n"
          ]
        },
        {
          "output_type": "stream",
          "name": "stderr",
          "text": [
            "/usr/local/lib/python3.7/dist-packages/category_encoders/target_encoder.py:94: FutureWarning: Default parameter min_samples_leaf will change in version 2.6.See https://github.com/scikit-learn-contrib/category_encoders/issues/327\n",
            "  category=FutureWarning)\n",
            "/usr/local/lib/python3.7/dist-packages/category_encoders/target_encoder.py:99: FutureWarning: Default parameter smoothing will change in version 2.6.See https://github.com/scikit-learn-contrib/category_encoders/issues/327\n",
            "  category=FutureWarning)\n"
          ]
        },
        {
          "output_type": "stream",
          "name": "stdout",
          "text": [
            "[00:00:45] WARNING: /workspace/src/objective/regression_obj.cu:152: reg:linear is now deprecated in favor of reg:squarederror.\n"
          ]
        },
        {
          "output_type": "stream",
          "name": "stderr",
          "text": [
            "/usr/local/lib/python3.7/dist-packages/category_encoders/target_encoder.py:94: FutureWarning: Default parameter min_samples_leaf will change in version 2.6.See https://github.com/scikit-learn-contrib/category_encoders/issues/327\n",
            "  category=FutureWarning)\n",
            "/usr/local/lib/python3.7/dist-packages/category_encoders/target_encoder.py:99: FutureWarning: Default parameter smoothing will change in version 2.6.See https://github.com/scikit-learn-contrib/category_encoders/issues/327\n",
            "  category=FutureWarning)\n"
          ]
        },
        {
          "output_type": "stream",
          "name": "stdout",
          "text": [
            "[00:00:45] WARNING: /workspace/src/objective/regression_obj.cu:152: reg:linear is now deprecated in favor of reg:squarederror.\n"
          ]
        },
        {
          "output_type": "stream",
          "name": "stderr",
          "text": [
            "/usr/local/lib/python3.7/dist-packages/category_encoders/target_encoder.py:94: FutureWarning: Default parameter min_samples_leaf will change in version 2.6.See https://github.com/scikit-learn-contrib/category_encoders/issues/327\n",
            "  category=FutureWarning)\n",
            "/usr/local/lib/python3.7/dist-packages/category_encoders/target_encoder.py:99: FutureWarning: Default parameter smoothing will change in version 2.6.See https://github.com/scikit-learn-contrib/category_encoders/issues/327\n",
            "  category=FutureWarning)\n"
          ]
        },
        {
          "output_type": "stream",
          "name": "stdout",
          "text": [
            "[00:00:46] WARNING: /workspace/src/objective/regression_obj.cu:152: reg:linear is now deprecated in favor of reg:squarederror.\n"
          ]
        },
        {
          "output_type": "stream",
          "name": "stderr",
          "text": [
            "/usr/local/lib/python3.7/dist-packages/category_encoders/target_encoder.py:94: FutureWarning: Default parameter min_samples_leaf will change in version 2.6.See https://github.com/scikit-learn-contrib/category_encoders/issues/327\n",
            "  category=FutureWarning)\n",
            "/usr/local/lib/python3.7/dist-packages/category_encoders/target_encoder.py:99: FutureWarning: Default parameter smoothing will change in version 2.6.See https://github.com/scikit-learn-contrib/category_encoders/issues/327\n",
            "  category=FutureWarning)\n"
          ]
        },
        {
          "output_type": "stream",
          "name": "stdout",
          "text": [
            "[00:00:46] WARNING: /workspace/src/objective/regression_obj.cu:152: reg:linear is now deprecated in favor of reg:squarederror.\n"
          ]
        },
        {
          "output_type": "stream",
          "name": "stderr",
          "text": [
            "/usr/local/lib/python3.7/dist-packages/category_encoders/target_encoder.py:94: FutureWarning: Default parameter min_samples_leaf will change in version 2.6.See https://github.com/scikit-learn-contrib/category_encoders/issues/327\n",
            "  category=FutureWarning)\n",
            "/usr/local/lib/python3.7/dist-packages/category_encoders/target_encoder.py:99: FutureWarning: Default parameter smoothing will change in version 2.6.See https://github.com/scikit-learn-contrib/category_encoders/issues/327\n",
            "  category=FutureWarning)\n"
          ]
        },
        {
          "output_type": "stream",
          "name": "stdout",
          "text": [
            "[00:00:47] WARNING: /workspace/src/objective/regression_obj.cu:152: reg:linear is now deprecated in favor of reg:squarederror.\n"
          ]
        },
        {
          "output_type": "stream",
          "name": "stderr",
          "text": [
            "/usr/local/lib/python3.7/dist-packages/category_encoders/target_encoder.py:94: FutureWarning: Default parameter min_samples_leaf will change in version 2.6.See https://github.com/scikit-learn-contrib/category_encoders/issues/327\n",
            "  category=FutureWarning)\n",
            "/usr/local/lib/python3.7/dist-packages/category_encoders/target_encoder.py:99: FutureWarning: Default parameter smoothing will change in version 2.6.See https://github.com/scikit-learn-contrib/category_encoders/issues/327\n",
            "  category=FutureWarning)\n"
          ]
        },
        {
          "output_type": "stream",
          "name": "stdout",
          "text": [
            "[00:00:47] WARNING: /workspace/src/objective/regression_obj.cu:152: reg:linear is now deprecated in favor of reg:squarederror.\n"
          ]
        },
        {
          "output_type": "stream",
          "name": "stderr",
          "text": [
            "/usr/local/lib/python3.7/dist-packages/category_encoders/target_encoder.py:94: FutureWarning: Default parameter min_samples_leaf will change in version 2.6.See https://github.com/scikit-learn-contrib/category_encoders/issues/327\n",
            "  category=FutureWarning)\n",
            "/usr/local/lib/python3.7/dist-packages/category_encoders/target_encoder.py:99: FutureWarning: Default parameter smoothing will change in version 2.6.See https://github.com/scikit-learn-contrib/category_encoders/issues/327\n",
            "  category=FutureWarning)\n"
          ]
        },
        {
          "output_type": "stream",
          "name": "stdout",
          "text": [
            "[00:00:48] WARNING: /workspace/src/objective/regression_obj.cu:152: reg:linear is now deprecated in favor of reg:squarederror.\n"
          ]
        },
        {
          "output_type": "stream",
          "name": "stderr",
          "text": [
            "/usr/local/lib/python3.7/dist-packages/category_encoders/target_encoder.py:94: FutureWarning: Default parameter min_samples_leaf will change in version 2.6.See https://github.com/scikit-learn-contrib/category_encoders/issues/327\n",
            "  category=FutureWarning)\n",
            "/usr/local/lib/python3.7/dist-packages/category_encoders/target_encoder.py:99: FutureWarning: Default parameter smoothing will change in version 2.6.See https://github.com/scikit-learn-contrib/category_encoders/issues/327\n",
            "  category=FutureWarning)\n"
          ]
        },
        {
          "output_type": "stream",
          "name": "stdout",
          "text": [
            "[00:00:48] WARNING: /workspace/src/objective/regression_obj.cu:152: reg:linear is now deprecated in favor of reg:squarederror.\n"
          ]
        },
        {
          "output_type": "stream",
          "name": "stderr",
          "text": [
            "/usr/local/lib/python3.7/dist-packages/category_encoders/target_encoder.py:94: FutureWarning: Default parameter min_samples_leaf will change in version 2.6.See https://github.com/scikit-learn-contrib/category_encoders/issues/327\n",
            "  category=FutureWarning)\n",
            "/usr/local/lib/python3.7/dist-packages/category_encoders/target_encoder.py:99: FutureWarning: Default parameter smoothing will change in version 2.6.See https://github.com/scikit-learn-contrib/category_encoders/issues/327\n",
            "  category=FutureWarning)\n"
          ]
        },
        {
          "output_type": "stream",
          "name": "stdout",
          "text": [
            "[00:00:49] WARNING: /workspace/src/objective/regression_obj.cu:152: reg:linear is now deprecated in favor of reg:squarederror.\n"
          ]
        },
        {
          "output_type": "stream",
          "name": "stderr",
          "text": [
            "/usr/local/lib/python3.7/dist-packages/category_encoders/target_encoder.py:94: FutureWarning: Default parameter min_samples_leaf will change in version 2.6.See https://github.com/scikit-learn-contrib/category_encoders/issues/327\n",
            "  category=FutureWarning)\n",
            "/usr/local/lib/python3.7/dist-packages/category_encoders/target_encoder.py:99: FutureWarning: Default parameter smoothing will change in version 2.6.See https://github.com/scikit-learn-contrib/category_encoders/issues/327\n",
            "  category=FutureWarning)\n"
          ]
        },
        {
          "output_type": "stream",
          "name": "stdout",
          "text": [
            "[00:00:49] WARNING: /workspace/src/objective/regression_obj.cu:152: reg:linear is now deprecated in favor of reg:squarederror.\n"
          ]
        },
        {
          "output_type": "stream",
          "name": "stderr",
          "text": [
            "/usr/local/lib/python3.7/dist-packages/category_encoders/target_encoder.py:94: FutureWarning: Default parameter min_samples_leaf will change in version 2.6.See https://github.com/scikit-learn-contrib/category_encoders/issues/327\n",
            "  category=FutureWarning)\n",
            "/usr/local/lib/python3.7/dist-packages/category_encoders/target_encoder.py:99: FutureWarning: Default parameter smoothing will change in version 2.6.See https://github.com/scikit-learn-contrib/category_encoders/issues/327\n",
            "  category=FutureWarning)\n"
          ]
        },
        {
          "output_type": "stream",
          "name": "stdout",
          "text": [
            "[00:00:50] WARNING: /workspace/src/objective/regression_obj.cu:152: reg:linear is now deprecated in favor of reg:squarederror.\n"
          ]
        },
        {
          "output_type": "stream",
          "name": "stderr",
          "text": [
            "/usr/local/lib/python3.7/dist-packages/category_encoders/target_encoder.py:94: FutureWarning: Default parameter min_samples_leaf will change in version 2.6.See https://github.com/scikit-learn-contrib/category_encoders/issues/327\n",
            "  category=FutureWarning)\n",
            "/usr/local/lib/python3.7/dist-packages/category_encoders/target_encoder.py:99: FutureWarning: Default parameter smoothing will change in version 2.6.See https://github.com/scikit-learn-contrib/category_encoders/issues/327\n",
            "  category=FutureWarning)\n"
          ]
        },
        {
          "output_type": "stream",
          "name": "stdout",
          "text": [
            "[00:00:50] WARNING: /workspace/src/objective/regression_obj.cu:152: reg:linear is now deprecated in favor of reg:squarederror.\n"
          ]
        },
        {
          "output_type": "stream",
          "name": "stderr",
          "text": [
            "/usr/local/lib/python3.7/dist-packages/category_encoders/target_encoder.py:94: FutureWarning: Default parameter min_samples_leaf will change in version 2.6.See https://github.com/scikit-learn-contrib/category_encoders/issues/327\n",
            "  category=FutureWarning)\n",
            "/usr/local/lib/python3.7/dist-packages/category_encoders/target_encoder.py:99: FutureWarning: Default parameter smoothing will change in version 2.6.See https://github.com/scikit-learn-contrib/category_encoders/issues/327\n",
            "  category=FutureWarning)\n"
          ]
        },
        {
          "output_type": "stream",
          "name": "stdout",
          "text": [
            "[00:00:51] WARNING: /workspace/src/objective/regression_obj.cu:152: reg:linear is now deprecated in favor of reg:squarederror.\n"
          ]
        },
        {
          "output_type": "stream",
          "name": "stderr",
          "text": [
            "/usr/local/lib/python3.7/dist-packages/category_encoders/target_encoder.py:94: FutureWarning: Default parameter min_samples_leaf will change in version 2.6.See https://github.com/scikit-learn-contrib/category_encoders/issues/327\n",
            "  category=FutureWarning)\n",
            "/usr/local/lib/python3.7/dist-packages/category_encoders/target_encoder.py:99: FutureWarning: Default parameter smoothing will change in version 2.6.See https://github.com/scikit-learn-contrib/category_encoders/issues/327\n",
            "  category=FutureWarning)\n"
          ]
        },
        {
          "output_type": "stream",
          "name": "stdout",
          "text": [
            "[00:00:51] WARNING: /workspace/src/objective/regression_obj.cu:152: reg:linear is now deprecated in favor of reg:squarederror.\n"
          ]
        },
        {
          "output_type": "stream",
          "name": "stderr",
          "text": [
            "/usr/local/lib/python3.7/dist-packages/category_encoders/target_encoder.py:94: FutureWarning: Default parameter min_samples_leaf will change in version 2.6.See https://github.com/scikit-learn-contrib/category_encoders/issues/327\n",
            "  category=FutureWarning)\n",
            "/usr/local/lib/python3.7/dist-packages/category_encoders/target_encoder.py:99: FutureWarning: Default parameter smoothing will change in version 2.6.See https://github.com/scikit-learn-contrib/category_encoders/issues/327\n",
            "  category=FutureWarning)\n"
          ]
        },
        {
          "output_type": "stream",
          "name": "stdout",
          "text": [
            "[00:00:52] WARNING: /workspace/src/objective/regression_obj.cu:152: reg:linear is now deprecated in favor of reg:squarederror.\n"
          ]
        },
        {
          "output_type": "stream",
          "name": "stderr",
          "text": [
            "/usr/local/lib/python3.7/dist-packages/category_encoders/target_encoder.py:94: FutureWarning: Default parameter min_samples_leaf will change in version 2.6.See https://github.com/scikit-learn-contrib/category_encoders/issues/327\n",
            "  category=FutureWarning)\n",
            "/usr/local/lib/python3.7/dist-packages/category_encoders/target_encoder.py:99: FutureWarning: Default parameter smoothing will change in version 2.6.See https://github.com/scikit-learn-contrib/category_encoders/issues/327\n",
            "  category=FutureWarning)\n"
          ]
        },
        {
          "output_type": "stream",
          "name": "stdout",
          "text": [
            "[00:00:52] WARNING: /workspace/src/objective/regression_obj.cu:152: reg:linear is now deprecated in favor of reg:squarederror.\n"
          ]
        },
        {
          "output_type": "stream",
          "name": "stderr",
          "text": [
            "/usr/local/lib/python3.7/dist-packages/category_encoders/target_encoder.py:94: FutureWarning: Default parameter min_samples_leaf will change in version 2.6.See https://github.com/scikit-learn-contrib/category_encoders/issues/327\n",
            "  category=FutureWarning)\n",
            "/usr/local/lib/python3.7/dist-packages/category_encoders/target_encoder.py:99: FutureWarning: Default parameter smoothing will change in version 2.6.See https://github.com/scikit-learn-contrib/category_encoders/issues/327\n",
            "  category=FutureWarning)\n"
          ]
        },
        {
          "output_type": "stream",
          "name": "stdout",
          "text": [
            "[00:00:53] WARNING: /workspace/src/objective/regression_obj.cu:152: reg:linear is now deprecated in favor of reg:squarederror.\n"
          ]
        },
        {
          "output_type": "stream",
          "name": "stderr",
          "text": [
            "/usr/local/lib/python3.7/dist-packages/category_encoders/target_encoder.py:94: FutureWarning: Default parameter min_samples_leaf will change in version 2.6.See https://github.com/scikit-learn-contrib/category_encoders/issues/327\n",
            "  category=FutureWarning)\n",
            "/usr/local/lib/python3.7/dist-packages/category_encoders/target_encoder.py:99: FutureWarning: Default parameter smoothing will change in version 2.6.See https://github.com/scikit-learn-contrib/category_encoders/issues/327\n",
            "  category=FutureWarning)\n"
          ]
        },
        {
          "output_type": "stream",
          "name": "stdout",
          "text": [
            "[00:00:53] WARNING: /workspace/src/objective/regression_obj.cu:152: reg:linear is now deprecated in favor of reg:squarederror.\n"
          ]
        },
        {
          "output_type": "stream",
          "name": "stderr",
          "text": [
            "/usr/local/lib/python3.7/dist-packages/category_encoders/target_encoder.py:94: FutureWarning: Default parameter min_samples_leaf will change in version 2.6.See https://github.com/scikit-learn-contrib/category_encoders/issues/327\n",
            "  category=FutureWarning)\n",
            "/usr/local/lib/python3.7/dist-packages/category_encoders/target_encoder.py:99: FutureWarning: Default parameter smoothing will change in version 2.6.See https://github.com/scikit-learn-contrib/category_encoders/issues/327\n",
            "  category=FutureWarning)\n"
          ]
        },
        {
          "output_type": "stream",
          "name": "stdout",
          "text": [
            "[00:00:54] WARNING: /workspace/src/objective/regression_obj.cu:152: reg:linear is now deprecated in favor of reg:squarederror.\n"
          ]
        },
        {
          "output_type": "stream",
          "name": "stderr",
          "text": [
            "/usr/local/lib/python3.7/dist-packages/category_encoders/target_encoder.py:94: FutureWarning: Default parameter min_samples_leaf will change in version 2.6.See https://github.com/scikit-learn-contrib/category_encoders/issues/327\n",
            "  category=FutureWarning)\n",
            "/usr/local/lib/python3.7/dist-packages/category_encoders/target_encoder.py:99: FutureWarning: Default parameter smoothing will change in version 2.6.See https://github.com/scikit-learn-contrib/category_encoders/issues/327\n",
            "  category=FutureWarning)\n"
          ]
        },
        {
          "output_type": "stream",
          "name": "stdout",
          "text": [
            "[00:00:54] WARNING: /workspace/src/objective/regression_obj.cu:152: reg:linear is now deprecated in favor of reg:squarederror.\n"
          ]
        },
        {
          "output_type": "stream",
          "name": "stderr",
          "text": [
            "/usr/local/lib/python3.7/dist-packages/category_encoders/target_encoder.py:94: FutureWarning: Default parameter min_samples_leaf will change in version 2.6.See https://github.com/scikit-learn-contrib/category_encoders/issues/327\n",
            "  category=FutureWarning)\n",
            "/usr/local/lib/python3.7/dist-packages/category_encoders/target_encoder.py:99: FutureWarning: Default parameter smoothing will change in version 2.6.See https://github.com/scikit-learn-contrib/category_encoders/issues/327\n",
            "  category=FutureWarning)\n"
          ]
        },
        {
          "output_type": "stream",
          "name": "stdout",
          "text": [
            "[00:00:55] WARNING: /workspace/src/objective/regression_obj.cu:152: reg:linear is now deprecated in favor of reg:squarederror.\n"
          ]
        },
        {
          "output_type": "stream",
          "name": "stderr",
          "text": [
            "/usr/local/lib/python3.7/dist-packages/category_encoders/target_encoder.py:94: FutureWarning: Default parameter min_samples_leaf will change in version 2.6.See https://github.com/scikit-learn-contrib/category_encoders/issues/327\n",
            "  category=FutureWarning)\n",
            "/usr/local/lib/python3.7/dist-packages/category_encoders/target_encoder.py:99: FutureWarning: Default parameter smoothing will change in version 2.6.See https://github.com/scikit-learn-contrib/category_encoders/issues/327\n",
            "  category=FutureWarning)\n"
          ]
        },
        {
          "output_type": "stream",
          "name": "stdout",
          "text": [
            "[00:00:55] WARNING: /workspace/src/objective/regression_obj.cu:152: reg:linear is now deprecated in favor of reg:squarederror.\n"
          ]
        },
        {
          "output_type": "stream",
          "name": "stderr",
          "text": [
            "/usr/local/lib/python3.7/dist-packages/category_encoders/target_encoder.py:94: FutureWarning: Default parameter min_samples_leaf will change in version 2.6.See https://github.com/scikit-learn-contrib/category_encoders/issues/327\n",
            "  category=FutureWarning)\n",
            "/usr/local/lib/python3.7/dist-packages/category_encoders/target_encoder.py:99: FutureWarning: Default parameter smoothing will change in version 2.6.See https://github.com/scikit-learn-contrib/category_encoders/issues/327\n",
            "  category=FutureWarning)\n"
          ]
        },
        {
          "output_type": "stream",
          "name": "stdout",
          "text": [
            "[00:00:56] WARNING: /workspace/src/objective/regression_obj.cu:152: reg:linear is now deprecated in favor of reg:squarederror.\n"
          ]
        },
        {
          "output_type": "stream",
          "name": "stderr",
          "text": [
            "/usr/local/lib/python3.7/dist-packages/category_encoders/target_encoder.py:94: FutureWarning: Default parameter min_samples_leaf will change in version 2.6.See https://github.com/scikit-learn-contrib/category_encoders/issues/327\n",
            "  category=FutureWarning)\n",
            "/usr/local/lib/python3.7/dist-packages/category_encoders/target_encoder.py:99: FutureWarning: Default parameter smoothing will change in version 2.6.See https://github.com/scikit-learn-contrib/category_encoders/issues/327\n",
            "  category=FutureWarning)\n"
          ]
        },
        {
          "output_type": "stream",
          "name": "stdout",
          "text": [
            "[00:00:56] WARNING: /workspace/src/objective/regression_obj.cu:152: reg:linear is now deprecated in favor of reg:squarederror.\n"
          ]
        },
        {
          "output_type": "stream",
          "name": "stderr",
          "text": [
            "/usr/local/lib/python3.7/dist-packages/category_encoders/target_encoder.py:94: FutureWarning: Default parameter min_samples_leaf will change in version 2.6.See https://github.com/scikit-learn-contrib/category_encoders/issues/327\n",
            "  category=FutureWarning)\n",
            "/usr/local/lib/python3.7/dist-packages/category_encoders/target_encoder.py:99: FutureWarning: Default parameter smoothing will change in version 2.6.See https://github.com/scikit-learn-contrib/category_encoders/issues/327\n",
            "  category=FutureWarning)\n"
          ]
        },
        {
          "output_type": "stream",
          "name": "stdout",
          "text": [
            "[00:00:57] WARNING: /workspace/src/objective/regression_obj.cu:152: reg:linear is now deprecated in favor of reg:squarederror.\n"
          ]
        },
        {
          "output_type": "stream",
          "name": "stderr",
          "text": [
            "/usr/local/lib/python3.7/dist-packages/category_encoders/target_encoder.py:94: FutureWarning: Default parameter min_samples_leaf will change in version 2.6.See https://github.com/scikit-learn-contrib/category_encoders/issues/327\n",
            "  category=FutureWarning)\n",
            "/usr/local/lib/python3.7/dist-packages/category_encoders/target_encoder.py:99: FutureWarning: Default parameter smoothing will change in version 2.6.See https://github.com/scikit-learn-contrib/category_encoders/issues/327\n",
            "  category=FutureWarning)\n"
          ]
        },
        {
          "output_type": "stream",
          "name": "stdout",
          "text": [
            "[00:00:57] WARNING: /workspace/src/objective/regression_obj.cu:152: reg:linear is now deprecated in favor of reg:squarederror.\n"
          ]
        },
        {
          "output_type": "stream",
          "name": "stderr",
          "text": [
            "/usr/local/lib/python3.7/dist-packages/category_encoders/target_encoder.py:94: FutureWarning: Default parameter min_samples_leaf will change in version 2.6.See https://github.com/scikit-learn-contrib/category_encoders/issues/327\n",
            "  category=FutureWarning)\n",
            "/usr/local/lib/python3.7/dist-packages/category_encoders/target_encoder.py:99: FutureWarning: Default parameter smoothing will change in version 2.6.See https://github.com/scikit-learn-contrib/category_encoders/issues/327\n",
            "  category=FutureWarning)\n"
          ]
        },
        {
          "output_type": "stream",
          "name": "stdout",
          "text": [
            "[00:00:58] WARNING: /workspace/src/objective/regression_obj.cu:152: reg:linear is now deprecated in favor of reg:squarederror.\n"
          ]
        },
        {
          "output_type": "stream",
          "name": "stderr",
          "text": [
            "/usr/local/lib/python3.7/dist-packages/category_encoders/target_encoder.py:94: FutureWarning: Default parameter min_samples_leaf will change in version 2.6.See https://github.com/scikit-learn-contrib/category_encoders/issues/327\n",
            "  category=FutureWarning)\n",
            "/usr/local/lib/python3.7/dist-packages/category_encoders/target_encoder.py:99: FutureWarning: Default parameter smoothing will change in version 2.6.See https://github.com/scikit-learn-contrib/category_encoders/issues/327\n",
            "  category=FutureWarning)\n"
          ]
        },
        {
          "output_type": "stream",
          "name": "stdout",
          "text": [
            "[00:00:58] WARNING: /workspace/src/objective/regression_obj.cu:152: reg:linear is now deprecated in favor of reg:squarederror.\n"
          ]
        },
        {
          "output_type": "stream",
          "name": "stderr",
          "text": [
            "/usr/local/lib/python3.7/dist-packages/category_encoders/target_encoder.py:94: FutureWarning: Default parameter min_samples_leaf will change in version 2.6.See https://github.com/scikit-learn-contrib/category_encoders/issues/327\n",
            "  category=FutureWarning)\n",
            "/usr/local/lib/python3.7/dist-packages/category_encoders/target_encoder.py:99: FutureWarning: Default parameter smoothing will change in version 2.6.See https://github.com/scikit-learn-contrib/category_encoders/issues/327\n",
            "  category=FutureWarning)\n"
          ]
        },
        {
          "output_type": "stream",
          "name": "stdout",
          "text": [
            "[00:00:59] WARNING: /workspace/src/objective/regression_obj.cu:152: reg:linear is now deprecated in favor of reg:squarederror.\n"
          ]
        },
        {
          "output_type": "stream",
          "name": "stderr",
          "text": [
            "/usr/local/lib/python3.7/dist-packages/category_encoders/target_encoder.py:94: FutureWarning: Default parameter min_samples_leaf will change in version 2.6.See https://github.com/scikit-learn-contrib/category_encoders/issues/327\n",
            "  category=FutureWarning)\n",
            "/usr/local/lib/python3.7/dist-packages/category_encoders/target_encoder.py:99: FutureWarning: Default parameter smoothing will change in version 2.6.See https://github.com/scikit-learn-contrib/category_encoders/issues/327\n",
            "  category=FutureWarning)\n"
          ]
        },
        {
          "output_type": "stream",
          "name": "stdout",
          "text": [
            "[00:00:59] WARNING: /workspace/src/objective/regression_obj.cu:152: reg:linear is now deprecated in favor of reg:squarederror.\n"
          ]
        },
        {
          "output_type": "stream",
          "name": "stderr",
          "text": [
            "/usr/local/lib/python3.7/dist-packages/category_encoders/target_encoder.py:94: FutureWarning: Default parameter min_samples_leaf will change in version 2.6.See https://github.com/scikit-learn-contrib/category_encoders/issues/327\n",
            "  category=FutureWarning)\n",
            "/usr/local/lib/python3.7/dist-packages/category_encoders/target_encoder.py:99: FutureWarning: Default parameter smoothing will change in version 2.6.See https://github.com/scikit-learn-contrib/category_encoders/issues/327\n",
            "  category=FutureWarning)\n"
          ]
        },
        {
          "output_type": "stream",
          "name": "stdout",
          "text": [
            "[00:01:00] WARNING: /workspace/src/objective/regression_obj.cu:152: reg:linear is now deprecated in favor of reg:squarederror.\n"
          ]
        },
        {
          "output_type": "stream",
          "name": "stderr",
          "text": [
            "/usr/local/lib/python3.7/dist-packages/category_encoders/target_encoder.py:94: FutureWarning: Default parameter min_samples_leaf will change in version 2.6.See https://github.com/scikit-learn-contrib/category_encoders/issues/327\n",
            "  category=FutureWarning)\n",
            "/usr/local/lib/python3.7/dist-packages/category_encoders/target_encoder.py:99: FutureWarning: Default parameter smoothing will change in version 2.6.See https://github.com/scikit-learn-contrib/category_encoders/issues/327\n",
            "  category=FutureWarning)\n"
          ]
        },
        {
          "output_type": "stream",
          "name": "stdout",
          "text": [
            "[00:01:00] WARNING: /workspace/src/objective/regression_obj.cu:152: reg:linear is now deprecated in favor of reg:squarederror.\n"
          ]
        },
        {
          "output_type": "stream",
          "name": "stderr",
          "text": [
            "/usr/local/lib/python3.7/dist-packages/category_encoders/target_encoder.py:94: FutureWarning: Default parameter min_samples_leaf will change in version 2.6.See https://github.com/scikit-learn-contrib/category_encoders/issues/327\n",
            "  category=FutureWarning)\n",
            "/usr/local/lib/python3.7/dist-packages/category_encoders/target_encoder.py:99: FutureWarning: Default parameter smoothing will change in version 2.6.See https://github.com/scikit-learn-contrib/category_encoders/issues/327\n",
            "  category=FutureWarning)\n"
          ]
        },
        {
          "output_type": "stream",
          "name": "stdout",
          "text": [
            "[00:01:01] WARNING: /workspace/src/objective/regression_obj.cu:152: reg:linear is now deprecated in favor of reg:squarederror.\n"
          ]
        },
        {
          "output_type": "stream",
          "name": "stderr",
          "text": [
            "/usr/local/lib/python3.7/dist-packages/category_encoders/target_encoder.py:94: FutureWarning: Default parameter min_samples_leaf will change in version 2.6.See https://github.com/scikit-learn-contrib/category_encoders/issues/327\n",
            "  category=FutureWarning)\n",
            "/usr/local/lib/python3.7/dist-packages/category_encoders/target_encoder.py:99: FutureWarning: Default parameter smoothing will change in version 2.6.See https://github.com/scikit-learn-contrib/category_encoders/issues/327\n",
            "  category=FutureWarning)\n"
          ]
        },
        {
          "output_type": "stream",
          "name": "stdout",
          "text": [
            "[00:01:01] WARNING: /workspace/src/objective/regression_obj.cu:152: reg:linear is now deprecated in favor of reg:squarederror.\n"
          ]
        },
        {
          "output_type": "stream",
          "name": "stderr",
          "text": [
            "/usr/local/lib/python3.7/dist-packages/category_encoders/target_encoder.py:94: FutureWarning: Default parameter min_samples_leaf will change in version 2.6.See https://github.com/scikit-learn-contrib/category_encoders/issues/327\n",
            "  category=FutureWarning)\n",
            "/usr/local/lib/python3.7/dist-packages/category_encoders/target_encoder.py:99: FutureWarning: Default parameter smoothing will change in version 2.6.See https://github.com/scikit-learn-contrib/category_encoders/issues/327\n",
            "  category=FutureWarning)\n"
          ]
        },
        {
          "output_type": "stream",
          "name": "stdout",
          "text": [
            "[00:01:02] WARNING: /workspace/src/objective/regression_obj.cu:152: reg:linear is now deprecated in favor of reg:squarederror.\n"
          ]
        },
        {
          "output_type": "stream",
          "name": "stderr",
          "text": [
            "/usr/local/lib/python3.7/dist-packages/category_encoders/target_encoder.py:94: FutureWarning: Default parameter min_samples_leaf will change in version 2.6.See https://github.com/scikit-learn-contrib/category_encoders/issues/327\n",
            "  category=FutureWarning)\n",
            "/usr/local/lib/python3.7/dist-packages/category_encoders/target_encoder.py:99: FutureWarning: Default parameter smoothing will change in version 2.6.See https://github.com/scikit-learn-contrib/category_encoders/issues/327\n",
            "  category=FutureWarning)\n"
          ]
        },
        {
          "output_type": "stream",
          "name": "stdout",
          "text": [
            "[00:01:02] WARNING: /workspace/src/objective/regression_obj.cu:152: reg:linear is now deprecated in favor of reg:squarederror.\n"
          ]
        },
        {
          "output_type": "stream",
          "name": "stderr",
          "text": [
            "/usr/local/lib/python3.7/dist-packages/category_encoders/target_encoder.py:94: FutureWarning: Default parameter min_samples_leaf will change in version 2.6.See https://github.com/scikit-learn-contrib/category_encoders/issues/327\n",
            "  category=FutureWarning)\n",
            "/usr/local/lib/python3.7/dist-packages/category_encoders/target_encoder.py:99: FutureWarning: Default parameter smoothing will change in version 2.6.See https://github.com/scikit-learn-contrib/category_encoders/issues/327\n",
            "  category=FutureWarning)\n"
          ]
        },
        {
          "output_type": "stream",
          "name": "stdout",
          "text": [
            "[00:01:03] WARNING: /workspace/src/objective/regression_obj.cu:152: reg:linear is now deprecated in favor of reg:squarederror.\n"
          ]
        },
        {
          "output_type": "stream",
          "name": "stderr",
          "text": [
            "/usr/local/lib/python3.7/dist-packages/category_encoders/target_encoder.py:94: FutureWarning: Default parameter min_samples_leaf will change in version 2.6.See https://github.com/scikit-learn-contrib/category_encoders/issues/327\n",
            "  category=FutureWarning)\n",
            "/usr/local/lib/python3.7/dist-packages/category_encoders/target_encoder.py:99: FutureWarning: Default parameter smoothing will change in version 2.6.See https://github.com/scikit-learn-contrib/category_encoders/issues/327\n",
            "  category=FutureWarning)\n"
          ]
        },
        {
          "output_type": "stream",
          "name": "stdout",
          "text": [
            "[00:01:03] WARNING: /workspace/src/objective/regression_obj.cu:152: reg:linear is now deprecated in favor of reg:squarederror.\n"
          ]
        },
        {
          "output_type": "stream",
          "name": "stderr",
          "text": [
            "/usr/local/lib/python3.7/dist-packages/category_encoders/target_encoder.py:94: FutureWarning: Default parameter min_samples_leaf will change in version 2.6.See https://github.com/scikit-learn-contrib/category_encoders/issues/327\n",
            "  category=FutureWarning)\n",
            "/usr/local/lib/python3.7/dist-packages/category_encoders/target_encoder.py:99: FutureWarning: Default parameter smoothing will change in version 2.6.See https://github.com/scikit-learn-contrib/category_encoders/issues/327\n",
            "  category=FutureWarning)\n"
          ]
        },
        {
          "output_type": "stream",
          "name": "stdout",
          "text": [
            "[00:01:04] WARNING: /workspace/src/objective/regression_obj.cu:152: reg:linear is now deprecated in favor of reg:squarederror.\n"
          ]
        },
        {
          "output_type": "stream",
          "name": "stderr",
          "text": [
            "/usr/local/lib/python3.7/dist-packages/category_encoders/target_encoder.py:94: FutureWarning: Default parameter min_samples_leaf will change in version 2.6.See https://github.com/scikit-learn-contrib/category_encoders/issues/327\n",
            "  category=FutureWarning)\n",
            "/usr/local/lib/python3.7/dist-packages/category_encoders/target_encoder.py:99: FutureWarning: Default parameter smoothing will change in version 2.6.See https://github.com/scikit-learn-contrib/category_encoders/issues/327\n",
            "  category=FutureWarning)\n"
          ]
        },
        {
          "output_type": "stream",
          "name": "stdout",
          "text": [
            "[00:01:04] WARNING: /workspace/src/objective/regression_obj.cu:152: reg:linear is now deprecated in favor of reg:squarederror.\n"
          ]
        },
        {
          "output_type": "stream",
          "name": "stderr",
          "text": [
            "/usr/local/lib/python3.7/dist-packages/category_encoders/target_encoder.py:94: FutureWarning: Default parameter min_samples_leaf will change in version 2.6.See https://github.com/scikit-learn-contrib/category_encoders/issues/327\n",
            "  category=FutureWarning)\n",
            "/usr/local/lib/python3.7/dist-packages/category_encoders/target_encoder.py:99: FutureWarning: Default parameter smoothing will change in version 2.6.See https://github.com/scikit-learn-contrib/category_encoders/issues/327\n",
            "  category=FutureWarning)\n"
          ]
        },
        {
          "output_type": "stream",
          "name": "stdout",
          "text": [
            "[00:01:05] WARNING: /workspace/src/objective/regression_obj.cu:152: reg:linear is now deprecated in favor of reg:squarederror.\n"
          ]
        },
        {
          "output_type": "stream",
          "name": "stderr",
          "text": [
            "/usr/local/lib/python3.7/dist-packages/category_encoders/target_encoder.py:94: FutureWarning: Default parameter min_samples_leaf will change in version 2.6.See https://github.com/scikit-learn-contrib/category_encoders/issues/327\n",
            "  category=FutureWarning)\n",
            "/usr/local/lib/python3.7/dist-packages/category_encoders/target_encoder.py:99: FutureWarning: Default parameter smoothing will change in version 2.6.See https://github.com/scikit-learn-contrib/category_encoders/issues/327\n",
            "  category=FutureWarning)\n"
          ]
        },
        {
          "output_type": "stream",
          "name": "stdout",
          "text": [
            "[00:01:05] WARNING: /workspace/src/objective/regression_obj.cu:152: reg:linear is now deprecated in favor of reg:squarederror.\n"
          ]
        },
        {
          "output_type": "stream",
          "name": "stderr",
          "text": [
            "/usr/local/lib/python3.7/dist-packages/category_encoders/target_encoder.py:94: FutureWarning: Default parameter min_samples_leaf will change in version 2.6.See https://github.com/scikit-learn-contrib/category_encoders/issues/327\n",
            "  category=FutureWarning)\n",
            "/usr/local/lib/python3.7/dist-packages/category_encoders/target_encoder.py:99: FutureWarning: Default parameter smoothing will change in version 2.6.See https://github.com/scikit-learn-contrib/category_encoders/issues/327\n",
            "  category=FutureWarning)\n"
          ]
        },
        {
          "output_type": "stream",
          "name": "stdout",
          "text": [
            "[00:01:06] WARNING: /workspace/src/objective/regression_obj.cu:152: reg:linear is now deprecated in favor of reg:squarederror.\n"
          ]
        },
        {
          "output_type": "stream",
          "name": "stderr",
          "text": [
            "/usr/local/lib/python3.7/dist-packages/category_encoders/target_encoder.py:94: FutureWarning: Default parameter min_samples_leaf will change in version 2.6.See https://github.com/scikit-learn-contrib/category_encoders/issues/327\n",
            "  category=FutureWarning)\n",
            "/usr/local/lib/python3.7/dist-packages/category_encoders/target_encoder.py:99: FutureWarning: Default parameter smoothing will change in version 2.6.See https://github.com/scikit-learn-contrib/category_encoders/issues/327\n",
            "  category=FutureWarning)\n"
          ]
        },
        {
          "output_type": "stream",
          "name": "stdout",
          "text": [
            "[00:01:06] WARNING: /workspace/src/objective/regression_obj.cu:152: reg:linear is now deprecated in favor of reg:squarederror.\n"
          ]
        },
        {
          "output_type": "stream",
          "name": "stderr",
          "text": [
            "/usr/local/lib/python3.7/dist-packages/category_encoders/target_encoder.py:94: FutureWarning: Default parameter min_samples_leaf will change in version 2.6.See https://github.com/scikit-learn-contrib/category_encoders/issues/327\n",
            "  category=FutureWarning)\n",
            "/usr/local/lib/python3.7/dist-packages/category_encoders/target_encoder.py:99: FutureWarning: Default parameter smoothing will change in version 2.6.See https://github.com/scikit-learn-contrib/category_encoders/issues/327\n",
            "  category=FutureWarning)\n"
          ]
        },
        {
          "output_type": "stream",
          "name": "stdout",
          "text": [
            "[00:01:07] WARNING: /workspace/src/objective/regression_obj.cu:152: reg:linear is now deprecated in favor of reg:squarederror.\n"
          ]
        },
        {
          "output_type": "stream",
          "name": "stderr",
          "text": [
            "/usr/local/lib/python3.7/dist-packages/category_encoders/target_encoder.py:94: FutureWarning: Default parameter min_samples_leaf will change in version 2.6.See https://github.com/scikit-learn-contrib/category_encoders/issues/327\n",
            "  category=FutureWarning)\n",
            "/usr/local/lib/python3.7/dist-packages/category_encoders/target_encoder.py:99: FutureWarning: Default parameter smoothing will change in version 2.6.See https://github.com/scikit-learn-contrib/category_encoders/issues/327\n",
            "  category=FutureWarning)\n"
          ]
        },
        {
          "output_type": "stream",
          "name": "stdout",
          "text": [
            "[00:01:07] WARNING: /workspace/src/objective/regression_obj.cu:152: reg:linear is now deprecated in favor of reg:squarederror.\n"
          ]
        },
        {
          "output_type": "stream",
          "name": "stderr",
          "text": [
            "/usr/local/lib/python3.7/dist-packages/category_encoders/target_encoder.py:94: FutureWarning: Default parameter min_samples_leaf will change in version 2.6.See https://github.com/scikit-learn-contrib/category_encoders/issues/327\n",
            "  category=FutureWarning)\n",
            "/usr/local/lib/python3.7/dist-packages/category_encoders/target_encoder.py:99: FutureWarning: Default parameter smoothing will change in version 2.6.See https://github.com/scikit-learn-contrib/category_encoders/issues/327\n",
            "  category=FutureWarning)\n"
          ]
        },
        {
          "output_type": "stream",
          "name": "stdout",
          "text": [
            "[00:01:08] WARNING: /workspace/src/objective/regression_obj.cu:152: reg:linear is now deprecated in favor of reg:squarederror.\n"
          ]
        },
        {
          "output_type": "stream",
          "name": "stderr",
          "text": [
            "/usr/local/lib/python3.7/dist-packages/category_encoders/target_encoder.py:94: FutureWarning: Default parameter min_samples_leaf will change in version 2.6.See https://github.com/scikit-learn-contrib/category_encoders/issues/327\n",
            "  category=FutureWarning)\n",
            "/usr/local/lib/python3.7/dist-packages/category_encoders/target_encoder.py:99: FutureWarning: Default parameter smoothing will change in version 2.6.See https://github.com/scikit-learn-contrib/category_encoders/issues/327\n",
            "  category=FutureWarning)\n"
          ]
        },
        {
          "output_type": "stream",
          "name": "stdout",
          "text": [
            "[00:01:08] WARNING: /workspace/src/objective/regression_obj.cu:152: reg:linear is now deprecated in favor of reg:squarederror.\n"
          ]
        },
        {
          "output_type": "stream",
          "name": "stderr",
          "text": [
            "/usr/local/lib/python3.7/dist-packages/category_encoders/target_encoder.py:94: FutureWarning: Default parameter min_samples_leaf will change in version 2.6.See https://github.com/scikit-learn-contrib/category_encoders/issues/327\n",
            "  category=FutureWarning)\n",
            "/usr/local/lib/python3.7/dist-packages/category_encoders/target_encoder.py:99: FutureWarning: Default parameter smoothing will change in version 2.6.See https://github.com/scikit-learn-contrib/category_encoders/issues/327\n",
            "  category=FutureWarning)\n"
          ]
        },
        {
          "output_type": "stream",
          "name": "stdout",
          "text": [
            "[00:01:09] WARNING: /workspace/src/objective/regression_obj.cu:152: reg:linear is now deprecated in favor of reg:squarederror.\n"
          ]
        },
        {
          "output_type": "stream",
          "name": "stderr",
          "text": [
            "/usr/local/lib/python3.7/dist-packages/category_encoders/target_encoder.py:94: FutureWarning: Default parameter min_samples_leaf will change in version 2.6.See https://github.com/scikit-learn-contrib/category_encoders/issues/327\n",
            "  category=FutureWarning)\n",
            "/usr/local/lib/python3.7/dist-packages/category_encoders/target_encoder.py:99: FutureWarning: Default parameter smoothing will change in version 2.6.See https://github.com/scikit-learn-contrib/category_encoders/issues/327\n",
            "  category=FutureWarning)\n"
          ]
        },
        {
          "output_type": "stream",
          "name": "stdout",
          "text": [
            "[00:01:09] WARNING: /workspace/src/objective/regression_obj.cu:152: reg:linear is now deprecated in favor of reg:squarederror.\n"
          ]
        },
        {
          "output_type": "stream",
          "name": "stderr",
          "text": [
            "/usr/local/lib/python3.7/dist-packages/category_encoders/target_encoder.py:94: FutureWarning: Default parameter min_samples_leaf will change in version 2.6.See https://github.com/scikit-learn-contrib/category_encoders/issues/327\n",
            "  category=FutureWarning)\n",
            "/usr/local/lib/python3.7/dist-packages/category_encoders/target_encoder.py:99: FutureWarning: Default parameter smoothing will change in version 2.6.See https://github.com/scikit-learn-contrib/category_encoders/issues/327\n",
            "  category=FutureWarning)\n"
          ]
        },
        {
          "output_type": "stream",
          "name": "stdout",
          "text": [
            "[00:01:10] WARNING: /workspace/src/objective/regression_obj.cu:152: reg:linear is now deprecated in favor of reg:squarederror.\n"
          ]
        },
        {
          "output_type": "stream",
          "name": "stderr",
          "text": [
            "/usr/local/lib/python3.7/dist-packages/category_encoders/target_encoder.py:94: FutureWarning: Default parameter min_samples_leaf will change in version 2.6.See https://github.com/scikit-learn-contrib/category_encoders/issues/327\n",
            "  category=FutureWarning)\n",
            "/usr/local/lib/python3.7/dist-packages/category_encoders/target_encoder.py:99: FutureWarning: Default parameter smoothing will change in version 2.6.See https://github.com/scikit-learn-contrib/category_encoders/issues/327\n",
            "  category=FutureWarning)\n"
          ]
        },
        {
          "output_type": "stream",
          "name": "stdout",
          "text": [
            "[00:01:10] WARNING: /workspace/src/objective/regression_obj.cu:152: reg:linear is now deprecated in favor of reg:squarederror.\n"
          ]
        },
        {
          "output_type": "stream",
          "name": "stderr",
          "text": [
            "/usr/local/lib/python3.7/dist-packages/category_encoders/target_encoder.py:94: FutureWarning: Default parameter min_samples_leaf will change in version 2.6.See https://github.com/scikit-learn-contrib/category_encoders/issues/327\n",
            "  category=FutureWarning)\n",
            "/usr/local/lib/python3.7/dist-packages/category_encoders/target_encoder.py:99: FutureWarning: Default parameter smoothing will change in version 2.6.See https://github.com/scikit-learn-contrib/category_encoders/issues/327\n",
            "  category=FutureWarning)\n"
          ]
        },
        {
          "output_type": "stream",
          "name": "stdout",
          "text": [
            "[00:01:11] WARNING: /workspace/src/objective/regression_obj.cu:152: reg:linear is now deprecated in favor of reg:squarederror.\n"
          ]
        },
        {
          "output_type": "stream",
          "name": "stderr",
          "text": [
            "/usr/local/lib/python3.7/dist-packages/category_encoders/target_encoder.py:94: FutureWarning: Default parameter min_samples_leaf will change in version 2.6.See https://github.com/scikit-learn-contrib/category_encoders/issues/327\n",
            "  category=FutureWarning)\n",
            "/usr/local/lib/python3.7/dist-packages/category_encoders/target_encoder.py:99: FutureWarning: Default parameter smoothing will change in version 2.6.See https://github.com/scikit-learn-contrib/category_encoders/issues/327\n",
            "  category=FutureWarning)\n"
          ]
        },
        {
          "output_type": "stream",
          "name": "stdout",
          "text": [
            "[00:01:11] WARNING: /workspace/src/objective/regression_obj.cu:152: reg:linear is now deprecated in favor of reg:squarederror.\n"
          ]
        },
        {
          "output_type": "stream",
          "name": "stderr",
          "text": [
            "/usr/local/lib/python3.7/dist-packages/category_encoders/target_encoder.py:94: FutureWarning: Default parameter min_samples_leaf will change in version 2.6.See https://github.com/scikit-learn-contrib/category_encoders/issues/327\n",
            "  category=FutureWarning)\n",
            "/usr/local/lib/python3.7/dist-packages/category_encoders/target_encoder.py:99: FutureWarning: Default parameter smoothing will change in version 2.6.See https://github.com/scikit-learn-contrib/category_encoders/issues/327\n",
            "  category=FutureWarning)\n"
          ]
        },
        {
          "output_type": "stream",
          "name": "stdout",
          "text": [
            "[00:01:12] WARNING: /workspace/src/objective/regression_obj.cu:152: reg:linear is now deprecated in favor of reg:squarederror.\n"
          ]
        },
        {
          "output_type": "stream",
          "name": "stderr",
          "text": [
            "/usr/local/lib/python3.7/dist-packages/category_encoders/target_encoder.py:94: FutureWarning: Default parameter min_samples_leaf will change in version 2.6.See https://github.com/scikit-learn-contrib/category_encoders/issues/327\n",
            "  category=FutureWarning)\n",
            "/usr/local/lib/python3.7/dist-packages/category_encoders/target_encoder.py:99: FutureWarning: Default parameter smoothing will change in version 2.6.See https://github.com/scikit-learn-contrib/category_encoders/issues/327\n",
            "  category=FutureWarning)\n"
          ]
        },
        {
          "output_type": "stream",
          "name": "stdout",
          "text": [
            "[00:01:12] WARNING: /workspace/src/objective/regression_obj.cu:152: reg:linear is now deprecated in favor of reg:squarederror.\n"
          ]
        },
        {
          "output_type": "stream",
          "name": "stderr",
          "text": [
            "/usr/local/lib/python3.7/dist-packages/category_encoders/target_encoder.py:94: FutureWarning: Default parameter min_samples_leaf will change in version 2.6.See https://github.com/scikit-learn-contrib/category_encoders/issues/327\n",
            "  category=FutureWarning)\n",
            "/usr/local/lib/python3.7/dist-packages/category_encoders/target_encoder.py:99: FutureWarning: Default parameter smoothing will change in version 2.6.See https://github.com/scikit-learn-contrib/category_encoders/issues/327\n",
            "  category=FutureWarning)\n"
          ]
        },
        {
          "output_type": "stream",
          "name": "stdout",
          "text": [
            "[00:01:13] WARNING: /workspace/src/objective/regression_obj.cu:152: reg:linear is now deprecated in favor of reg:squarederror.\n"
          ]
        },
        {
          "output_type": "stream",
          "name": "stderr",
          "text": [
            "/usr/local/lib/python3.7/dist-packages/category_encoders/target_encoder.py:94: FutureWarning: Default parameter min_samples_leaf will change in version 2.6.See https://github.com/scikit-learn-contrib/category_encoders/issues/327\n",
            "  category=FutureWarning)\n",
            "/usr/local/lib/python3.7/dist-packages/category_encoders/target_encoder.py:99: FutureWarning: Default parameter smoothing will change in version 2.6.See https://github.com/scikit-learn-contrib/category_encoders/issues/327\n",
            "  category=FutureWarning)\n"
          ]
        },
        {
          "output_type": "stream",
          "name": "stdout",
          "text": [
            "[00:01:13] WARNING: /workspace/src/objective/regression_obj.cu:152: reg:linear is now deprecated in favor of reg:squarederror.\n"
          ]
        },
        {
          "output_type": "stream",
          "name": "stderr",
          "text": [
            "/usr/local/lib/python3.7/dist-packages/category_encoders/target_encoder.py:94: FutureWarning: Default parameter min_samples_leaf will change in version 2.6.See https://github.com/scikit-learn-contrib/category_encoders/issues/327\n",
            "  category=FutureWarning)\n",
            "/usr/local/lib/python3.7/dist-packages/category_encoders/target_encoder.py:99: FutureWarning: Default parameter smoothing will change in version 2.6.See https://github.com/scikit-learn-contrib/category_encoders/issues/327\n",
            "  category=FutureWarning)\n"
          ]
        },
        {
          "output_type": "stream",
          "name": "stdout",
          "text": [
            "[00:01:14] WARNING: /workspace/src/objective/regression_obj.cu:152: reg:linear is now deprecated in favor of reg:squarederror.\n"
          ]
        },
        {
          "output_type": "stream",
          "name": "stderr",
          "text": [
            "/usr/local/lib/python3.7/dist-packages/category_encoders/target_encoder.py:94: FutureWarning: Default parameter min_samples_leaf will change in version 2.6.See https://github.com/scikit-learn-contrib/category_encoders/issues/327\n",
            "  category=FutureWarning)\n",
            "/usr/local/lib/python3.7/dist-packages/category_encoders/target_encoder.py:99: FutureWarning: Default parameter smoothing will change in version 2.6.See https://github.com/scikit-learn-contrib/category_encoders/issues/327\n",
            "  category=FutureWarning)\n"
          ]
        },
        {
          "output_type": "stream",
          "name": "stdout",
          "text": [
            "[00:01:14] WARNING: /workspace/src/objective/regression_obj.cu:152: reg:linear is now deprecated in favor of reg:squarederror.\n"
          ]
        },
        {
          "output_type": "stream",
          "name": "stderr",
          "text": [
            "/usr/local/lib/python3.7/dist-packages/category_encoders/target_encoder.py:94: FutureWarning: Default parameter min_samples_leaf will change in version 2.6.See https://github.com/scikit-learn-contrib/category_encoders/issues/327\n",
            "  category=FutureWarning)\n",
            "/usr/local/lib/python3.7/dist-packages/category_encoders/target_encoder.py:99: FutureWarning: Default parameter smoothing will change in version 2.6.See https://github.com/scikit-learn-contrib/category_encoders/issues/327\n",
            "  category=FutureWarning)\n"
          ]
        },
        {
          "output_type": "stream",
          "name": "stdout",
          "text": [
            "[00:01:15] WARNING: /workspace/src/objective/regression_obj.cu:152: reg:linear is now deprecated in favor of reg:squarederror.\n"
          ]
        },
        {
          "output_type": "stream",
          "name": "stderr",
          "text": [
            "/usr/local/lib/python3.7/dist-packages/category_encoders/target_encoder.py:94: FutureWarning: Default parameter min_samples_leaf will change in version 2.6.See https://github.com/scikit-learn-contrib/category_encoders/issues/327\n",
            "  category=FutureWarning)\n",
            "/usr/local/lib/python3.7/dist-packages/category_encoders/target_encoder.py:99: FutureWarning: Default parameter smoothing will change in version 2.6.See https://github.com/scikit-learn-contrib/category_encoders/issues/327\n",
            "  category=FutureWarning)\n"
          ]
        },
        {
          "output_type": "stream",
          "name": "stdout",
          "text": [
            "[00:01:15] WARNING: /workspace/src/objective/regression_obj.cu:152: reg:linear is now deprecated in favor of reg:squarederror.\n"
          ]
        },
        {
          "output_type": "stream",
          "name": "stderr",
          "text": [
            "/usr/local/lib/python3.7/dist-packages/category_encoders/target_encoder.py:94: FutureWarning: Default parameter min_samples_leaf will change in version 2.6.See https://github.com/scikit-learn-contrib/category_encoders/issues/327\n",
            "  category=FutureWarning)\n",
            "/usr/local/lib/python3.7/dist-packages/category_encoders/target_encoder.py:99: FutureWarning: Default parameter smoothing will change in version 2.6.See https://github.com/scikit-learn-contrib/category_encoders/issues/327\n",
            "  category=FutureWarning)\n"
          ]
        },
        {
          "output_type": "stream",
          "name": "stdout",
          "text": [
            "[00:01:16] WARNING: /workspace/src/objective/regression_obj.cu:152: reg:linear is now deprecated in favor of reg:squarederror.\n"
          ]
        },
        {
          "output_type": "stream",
          "name": "stderr",
          "text": [
            "/usr/local/lib/python3.7/dist-packages/category_encoders/target_encoder.py:94: FutureWarning: Default parameter min_samples_leaf will change in version 2.6.See https://github.com/scikit-learn-contrib/category_encoders/issues/327\n",
            "  category=FutureWarning)\n",
            "/usr/local/lib/python3.7/dist-packages/category_encoders/target_encoder.py:99: FutureWarning: Default parameter smoothing will change in version 2.6.See https://github.com/scikit-learn-contrib/category_encoders/issues/327\n",
            "  category=FutureWarning)\n"
          ]
        },
        {
          "output_type": "stream",
          "name": "stdout",
          "text": [
            "[00:01:16] WARNING: /workspace/src/objective/regression_obj.cu:152: reg:linear is now deprecated in favor of reg:squarederror.\n"
          ]
        },
        {
          "output_type": "stream",
          "name": "stderr",
          "text": [
            "/usr/local/lib/python3.7/dist-packages/category_encoders/target_encoder.py:94: FutureWarning: Default parameter min_samples_leaf will change in version 2.6.See https://github.com/scikit-learn-contrib/category_encoders/issues/327\n",
            "  category=FutureWarning)\n",
            "/usr/local/lib/python3.7/dist-packages/category_encoders/target_encoder.py:99: FutureWarning: Default parameter smoothing will change in version 2.6.See https://github.com/scikit-learn-contrib/category_encoders/issues/327\n",
            "  category=FutureWarning)\n"
          ]
        },
        {
          "output_type": "stream",
          "name": "stdout",
          "text": [
            "[00:01:17] WARNING: /workspace/src/objective/regression_obj.cu:152: reg:linear is now deprecated in favor of reg:squarederror.\n"
          ]
        },
        {
          "output_type": "stream",
          "name": "stderr",
          "text": [
            "/usr/local/lib/python3.7/dist-packages/category_encoders/target_encoder.py:94: FutureWarning: Default parameter min_samples_leaf will change in version 2.6.See https://github.com/scikit-learn-contrib/category_encoders/issues/327\n",
            "  category=FutureWarning)\n",
            "/usr/local/lib/python3.7/dist-packages/category_encoders/target_encoder.py:99: FutureWarning: Default parameter smoothing will change in version 2.6.See https://github.com/scikit-learn-contrib/category_encoders/issues/327\n",
            "  category=FutureWarning)\n"
          ]
        },
        {
          "output_type": "stream",
          "name": "stdout",
          "text": [
            "[00:01:17] WARNING: /workspace/src/objective/regression_obj.cu:152: reg:linear is now deprecated in favor of reg:squarederror.\n"
          ]
        },
        {
          "output_type": "stream",
          "name": "stderr",
          "text": [
            "/usr/local/lib/python3.7/dist-packages/category_encoders/target_encoder.py:94: FutureWarning: Default parameter min_samples_leaf will change in version 2.6.See https://github.com/scikit-learn-contrib/category_encoders/issues/327\n",
            "  category=FutureWarning)\n",
            "/usr/local/lib/python3.7/dist-packages/category_encoders/target_encoder.py:99: FutureWarning: Default parameter smoothing will change in version 2.6.See https://github.com/scikit-learn-contrib/category_encoders/issues/327\n",
            "  category=FutureWarning)\n"
          ]
        },
        {
          "output_type": "stream",
          "name": "stdout",
          "text": [
            "[00:01:18] WARNING: /workspace/src/objective/regression_obj.cu:152: reg:linear is now deprecated in favor of reg:squarederror.\n"
          ]
        },
        {
          "output_type": "stream",
          "name": "stderr",
          "text": [
            "/usr/local/lib/python3.7/dist-packages/category_encoders/target_encoder.py:94: FutureWarning: Default parameter min_samples_leaf will change in version 2.6.See https://github.com/scikit-learn-contrib/category_encoders/issues/327\n",
            "  category=FutureWarning)\n",
            "/usr/local/lib/python3.7/dist-packages/category_encoders/target_encoder.py:99: FutureWarning: Default parameter smoothing will change in version 2.6.See https://github.com/scikit-learn-contrib/category_encoders/issues/327\n",
            "  category=FutureWarning)\n"
          ]
        },
        {
          "output_type": "stream",
          "name": "stdout",
          "text": [
            "[00:01:18] WARNING: /workspace/src/objective/regression_obj.cu:152: reg:linear is now deprecated in favor of reg:squarederror.\n"
          ]
        },
        {
          "output_type": "stream",
          "name": "stderr",
          "text": [
            "/usr/local/lib/python3.7/dist-packages/category_encoders/target_encoder.py:94: FutureWarning: Default parameter min_samples_leaf will change in version 2.6.See https://github.com/scikit-learn-contrib/category_encoders/issues/327\n",
            "  category=FutureWarning)\n",
            "/usr/local/lib/python3.7/dist-packages/category_encoders/target_encoder.py:99: FutureWarning: Default parameter smoothing will change in version 2.6.See https://github.com/scikit-learn-contrib/category_encoders/issues/327\n",
            "  category=FutureWarning)\n"
          ]
        },
        {
          "output_type": "stream",
          "name": "stdout",
          "text": [
            "[00:01:19] WARNING: /workspace/src/objective/regression_obj.cu:152: reg:linear is now deprecated in favor of reg:squarederror.\n"
          ]
        },
        {
          "output_type": "stream",
          "name": "stderr",
          "text": [
            "/usr/local/lib/python3.7/dist-packages/category_encoders/target_encoder.py:94: FutureWarning: Default parameter min_samples_leaf will change in version 2.6.See https://github.com/scikit-learn-contrib/category_encoders/issues/327\n",
            "  category=FutureWarning)\n",
            "/usr/local/lib/python3.7/dist-packages/category_encoders/target_encoder.py:99: FutureWarning: Default parameter smoothing will change in version 2.6.See https://github.com/scikit-learn-contrib/category_encoders/issues/327\n",
            "  category=FutureWarning)\n"
          ]
        },
        {
          "output_type": "stream",
          "name": "stdout",
          "text": [
            "[00:01:19] WARNING: /workspace/src/objective/regression_obj.cu:152: reg:linear is now deprecated in favor of reg:squarederror.\n"
          ]
        },
        {
          "output_type": "stream",
          "name": "stderr",
          "text": [
            "/usr/local/lib/python3.7/dist-packages/category_encoders/target_encoder.py:94: FutureWarning: Default parameter min_samples_leaf will change in version 2.6.See https://github.com/scikit-learn-contrib/category_encoders/issues/327\n",
            "  category=FutureWarning)\n",
            "/usr/local/lib/python3.7/dist-packages/category_encoders/target_encoder.py:99: FutureWarning: Default parameter smoothing will change in version 2.6.See https://github.com/scikit-learn-contrib/category_encoders/issues/327\n",
            "  category=FutureWarning)\n"
          ]
        },
        {
          "output_type": "stream",
          "name": "stdout",
          "text": [
            "[00:01:20] WARNING: /workspace/src/objective/regression_obj.cu:152: reg:linear is now deprecated in favor of reg:squarederror.\n"
          ]
        },
        {
          "output_type": "stream",
          "name": "stderr",
          "text": [
            "/usr/local/lib/python3.7/dist-packages/category_encoders/target_encoder.py:94: FutureWarning: Default parameter min_samples_leaf will change in version 2.6.See https://github.com/scikit-learn-contrib/category_encoders/issues/327\n",
            "  category=FutureWarning)\n",
            "/usr/local/lib/python3.7/dist-packages/category_encoders/target_encoder.py:99: FutureWarning: Default parameter smoothing will change in version 2.6.See https://github.com/scikit-learn-contrib/category_encoders/issues/327\n",
            "  category=FutureWarning)\n"
          ]
        },
        {
          "output_type": "stream",
          "name": "stdout",
          "text": [
            "[00:01:20] WARNING: /workspace/src/objective/regression_obj.cu:152: reg:linear is now deprecated in favor of reg:squarederror.\n"
          ]
        },
        {
          "output_type": "stream",
          "name": "stderr",
          "text": [
            "/usr/local/lib/python3.7/dist-packages/category_encoders/target_encoder.py:94: FutureWarning: Default parameter min_samples_leaf will change in version 2.6.See https://github.com/scikit-learn-contrib/category_encoders/issues/327\n",
            "  category=FutureWarning)\n",
            "/usr/local/lib/python3.7/dist-packages/category_encoders/target_encoder.py:99: FutureWarning: Default parameter smoothing will change in version 2.6.See https://github.com/scikit-learn-contrib/category_encoders/issues/327\n",
            "  category=FutureWarning)\n"
          ]
        },
        {
          "output_type": "stream",
          "name": "stdout",
          "text": [
            "[00:01:21] WARNING: /workspace/src/objective/regression_obj.cu:152: reg:linear is now deprecated in favor of reg:squarederror.\n"
          ]
        },
        {
          "output_type": "stream",
          "name": "stderr",
          "text": [
            "/usr/local/lib/python3.7/dist-packages/category_encoders/target_encoder.py:94: FutureWarning: Default parameter min_samples_leaf will change in version 2.6.See https://github.com/scikit-learn-contrib/category_encoders/issues/327\n",
            "  category=FutureWarning)\n",
            "/usr/local/lib/python3.7/dist-packages/category_encoders/target_encoder.py:99: FutureWarning: Default parameter smoothing will change in version 2.6.See https://github.com/scikit-learn-contrib/category_encoders/issues/327\n",
            "  category=FutureWarning)\n"
          ]
        },
        {
          "output_type": "stream",
          "name": "stdout",
          "text": [
            "[00:01:21] WARNING: /workspace/src/objective/regression_obj.cu:152: reg:linear is now deprecated in favor of reg:squarederror.\n"
          ]
        },
        {
          "output_type": "stream",
          "name": "stderr",
          "text": [
            "/usr/local/lib/python3.7/dist-packages/category_encoders/target_encoder.py:94: FutureWarning: Default parameter min_samples_leaf will change in version 2.6.See https://github.com/scikit-learn-contrib/category_encoders/issues/327\n",
            "  category=FutureWarning)\n",
            "/usr/local/lib/python3.7/dist-packages/category_encoders/target_encoder.py:99: FutureWarning: Default parameter smoothing will change in version 2.6.See https://github.com/scikit-learn-contrib/category_encoders/issues/327\n",
            "  category=FutureWarning)\n"
          ]
        },
        {
          "output_type": "stream",
          "name": "stdout",
          "text": [
            "[00:01:22] WARNING: /workspace/src/objective/regression_obj.cu:152: reg:linear is now deprecated in favor of reg:squarederror.\n"
          ]
        },
        {
          "output_type": "stream",
          "name": "stderr",
          "text": [
            "/usr/local/lib/python3.7/dist-packages/category_encoders/target_encoder.py:94: FutureWarning: Default parameter min_samples_leaf will change in version 2.6.See https://github.com/scikit-learn-contrib/category_encoders/issues/327\n",
            "  category=FutureWarning)\n",
            "/usr/local/lib/python3.7/dist-packages/category_encoders/target_encoder.py:99: FutureWarning: Default parameter smoothing will change in version 2.6.See https://github.com/scikit-learn-contrib/category_encoders/issues/327\n",
            "  category=FutureWarning)\n"
          ]
        },
        {
          "output_type": "stream",
          "name": "stdout",
          "text": [
            "[00:01:22] WARNING: /workspace/src/objective/regression_obj.cu:152: reg:linear is now deprecated in favor of reg:squarederror.\n"
          ]
        },
        {
          "output_type": "stream",
          "name": "stderr",
          "text": [
            "/usr/local/lib/python3.7/dist-packages/category_encoders/target_encoder.py:94: FutureWarning: Default parameter min_samples_leaf will change in version 2.6.See https://github.com/scikit-learn-contrib/category_encoders/issues/327\n",
            "  category=FutureWarning)\n",
            "/usr/local/lib/python3.7/dist-packages/category_encoders/target_encoder.py:99: FutureWarning: Default parameter smoothing will change in version 2.6.See https://github.com/scikit-learn-contrib/category_encoders/issues/327\n",
            "  category=FutureWarning)\n"
          ]
        },
        {
          "output_type": "stream",
          "name": "stdout",
          "text": [
            "[00:01:23] WARNING: /workspace/src/objective/regression_obj.cu:152: reg:linear is now deprecated in favor of reg:squarederror.\n"
          ]
        },
        {
          "output_type": "stream",
          "name": "stderr",
          "text": [
            "/usr/local/lib/python3.7/dist-packages/category_encoders/target_encoder.py:94: FutureWarning: Default parameter min_samples_leaf will change in version 2.6.See https://github.com/scikit-learn-contrib/category_encoders/issues/327\n",
            "  category=FutureWarning)\n",
            "/usr/local/lib/python3.7/dist-packages/category_encoders/target_encoder.py:99: FutureWarning: Default parameter smoothing will change in version 2.6.See https://github.com/scikit-learn-contrib/category_encoders/issues/327\n",
            "  category=FutureWarning)\n"
          ]
        },
        {
          "output_type": "stream",
          "name": "stdout",
          "text": [
            "[00:01:23] WARNING: /workspace/src/objective/regression_obj.cu:152: reg:linear is now deprecated in favor of reg:squarederror.\n"
          ]
        },
        {
          "output_type": "stream",
          "name": "stderr",
          "text": [
            "/usr/local/lib/python3.7/dist-packages/category_encoders/target_encoder.py:94: FutureWarning: Default parameter min_samples_leaf will change in version 2.6.See https://github.com/scikit-learn-contrib/category_encoders/issues/327\n",
            "  category=FutureWarning)\n",
            "/usr/local/lib/python3.7/dist-packages/category_encoders/target_encoder.py:99: FutureWarning: Default parameter smoothing will change in version 2.6.See https://github.com/scikit-learn-contrib/category_encoders/issues/327\n",
            "  category=FutureWarning)\n"
          ]
        },
        {
          "output_type": "stream",
          "name": "stdout",
          "text": [
            "[00:01:24] WARNING: /workspace/src/objective/regression_obj.cu:152: reg:linear is now deprecated in favor of reg:squarederror.\n"
          ]
        },
        {
          "output_type": "stream",
          "name": "stderr",
          "text": [
            "/usr/local/lib/python3.7/dist-packages/category_encoders/target_encoder.py:94: FutureWarning: Default parameter min_samples_leaf will change in version 2.6.See https://github.com/scikit-learn-contrib/category_encoders/issues/327\n",
            "  category=FutureWarning)\n",
            "/usr/local/lib/python3.7/dist-packages/category_encoders/target_encoder.py:99: FutureWarning: Default parameter smoothing will change in version 2.6.See https://github.com/scikit-learn-contrib/category_encoders/issues/327\n",
            "  category=FutureWarning)\n"
          ]
        },
        {
          "output_type": "stream",
          "name": "stdout",
          "text": [
            "[00:01:24] WARNING: /workspace/src/objective/regression_obj.cu:152: reg:linear is now deprecated in favor of reg:squarederror.\n"
          ]
        },
        {
          "output_type": "stream",
          "name": "stderr",
          "text": [
            "/usr/local/lib/python3.7/dist-packages/category_encoders/target_encoder.py:94: FutureWarning: Default parameter min_samples_leaf will change in version 2.6.See https://github.com/scikit-learn-contrib/category_encoders/issues/327\n",
            "  category=FutureWarning)\n",
            "/usr/local/lib/python3.7/dist-packages/category_encoders/target_encoder.py:99: FutureWarning: Default parameter smoothing will change in version 2.6.See https://github.com/scikit-learn-contrib/category_encoders/issues/327\n",
            "  category=FutureWarning)\n"
          ]
        },
        {
          "output_type": "stream",
          "name": "stdout",
          "text": [
            "[00:01:25] WARNING: /workspace/src/objective/regression_obj.cu:152: reg:linear is now deprecated in favor of reg:squarederror.\n"
          ]
        },
        {
          "output_type": "stream",
          "name": "stderr",
          "text": [
            "/usr/local/lib/python3.7/dist-packages/category_encoders/target_encoder.py:94: FutureWarning: Default parameter min_samples_leaf will change in version 2.6.See https://github.com/scikit-learn-contrib/category_encoders/issues/327\n",
            "  category=FutureWarning)\n",
            "/usr/local/lib/python3.7/dist-packages/category_encoders/target_encoder.py:99: FutureWarning: Default parameter smoothing will change in version 2.6.See https://github.com/scikit-learn-contrib/category_encoders/issues/327\n",
            "  category=FutureWarning)\n"
          ]
        },
        {
          "output_type": "stream",
          "name": "stdout",
          "text": [
            "[00:01:25] WARNING: /workspace/src/objective/regression_obj.cu:152: reg:linear is now deprecated in favor of reg:squarederror.\n"
          ]
        },
        {
          "output_type": "stream",
          "name": "stderr",
          "text": [
            "/usr/local/lib/python3.7/dist-packages/category_encoders/target_encoder.py:94: FutureWarning: Default parameter min_samples_leaf will change in version 2.6.See https://github.com/scikit-learn-contrib/category_encoders/issues/327\n",
            "  category=FutureWarning)\n",
            "/usr/local/lib/python3.7/dist-packages/category_encoders/target_encoder.py:99: FutureWarning: Default parameter smoothing will change in version 2.6.See https://github.com/scikit-learn-contrib/category_encoders/issues/327\n",
            "  category=FutureWarning)\n"
          ]
        },
        {
          "output_type": "stream",
          "name": "stdout",
          "text": [
            "[00:01:26] WARNING: /workspace/src/objective/regression_obj.cu:152: reg:linear is now deprecated in favor of reg:squarederror.\n"
          ]
        },
        {
          "output_type": "stream",
          "name": "stderr",
          "text": [
            "/usr/local/lib/python3.7/dist-packages/category_encoders/target_encoder.py:94: FutureWarning: Default parameter min_samples_leaf will change in version 2.6.See https://github.com/scikit-learn-contrib/category_encoders/issues/327\n",
            "  category=FutureWarning)\n",
            "/usr/local/lib/python3.7/dist-packages/category_encoders/target_encoder.py:99: FutureWarning: Default parameter smoothing will change in version 2.6.See https://github.com/scikit-learn-contrib/category_encoders/issues/327\n",
            "  category=FutureWarning)\n"
          ]
        },
        {
          "output_type": "stream",
          "name": "stdout",
          "text": [
            "[00:01:26] WARNING: /workspace/src/objective/regression_obj.cu:152: reg:linear is now deprecated in favor of reg:squarederror.\n"
          ]
        },
        {
          "output_type": "stream",
          "name": "stderr",
          "text": [
            "/usr/local/lib/python3.7/dist-packages/category_encoders/target_encoder.py:94: FutureWarning: Default parameter min_samples_leaf will change in version 2.6.See https://github.com/scikit-learn-contrib/category_encoders/issues/327\n",
            "  category=FutureWarning)\n",
            "/usr/local/lib/python3.7/dist-packages/category_encoders/target_encoder.py:99: FutureWarning: Default parameter smoothing will change in version 2.6.See https://github.com/scikit-learn-contrib/category_encoders/issues/327\n",
            "  category=FutureWarning)\n"
          ]
        },
        {
          "output_type": "stream",
          "name": "stdout",
          "text": [
            "[00:01:27] WARNING: /workspace/src/objective/regression_obj.cu:152: reg:linear is now deprecated in favor of reg:squarederror.\n"
          ]
        },
        {
          "output_type": "stream",
          "name": "stderr",
          "text": [
            "/usr/local/lib/python3.7/dist-packages/category_encoders/target_encoder.py:94: FutureWarning: Default parameter min_samples_leaf will change in version 2.6.See https://github.com/scikit-learn-contrib/category_encoders/issues/327\n",
            "  category=FutureWarning)\n",
            "/usr/local/lib/python3.7/dist-packages/category_encoders/target_encoder.py:99: FutureWarning: Default parameter smoothing will change in version 2.6.See https://github.com/scikit-learn-contrib/category_encoders/issues/327\n",
            "  category=FutureWarning)\n"
          ]
        },
        {
          "output_type": "stream",
          "name": "stdout",
          "text": [
            "[00:01:27] WARNING: /workspace/src/objective/regression_obj.cu:152: reg:linear is now deprecated in favor of reg:squarederror.\n"
          ]
        },
        {
          "output_type": "stream",
          "name": "stderr",
          "text": [
            "/usr/local/lib/python3.7/dist-packages/category_encoders/target_encoder.py:94: FutureWarning: Default parameter min_samples_leaf will change in version 2.6.See https://github.com/scikit-learn-contrib/category_encoders/issues/327\n",
            "  category=FutureWarning)\n",
            "/usr/local/lib/python3.7/dist-packages/category_encoders/target_encoder.py:99: FutureWarning: Default parameter smoothing will change in version 2.6.See https://github.com/scikit-learn-contrib/category_encoders/issues/327\n",
            "  category=FutureWarning)\n"
          ]
        },
        {
          "output_type": "stream",
          "name": "stdout",
          "text": [
            "[00:01:28] WARNING: /workspace/src/objective/regression_obj.cu:152: reg:linear is now deprecated in favor of reg:squarederror.\n"
          ]
        },
        {
          "output_type": "stream",
          "name": "stderr",
          "text": [
            "/usr/local/lib/python3.7/dist-packages/category_encoders/target_encoder.py:94: FutureWarning: Default parameter min_samples_leaf will change in version 2.6.See https://github.com/scikit-learn-contrib/category_encoders/issues/327\n",
            "  category=FutureWarning)\n",
            "/usr/local/lib/python3.7/dist-packages/category_encoders/target_encoder.py:99: FutureWarning: Default parameter smoothing will change in version 2.6.See https://github.com/scikit-learn-contrib/category_encoders/issues/327\n",
            "  category=FutureWarning)\n"
          ]
        },
        {
          "output_type": "stream",
          "name": "stdout",
          "text": [
            "[00:01:28] WARNING: /workspace/src/objective/regression_obj.cu:152: reg:linear is now deprecated in favor of reg:squarederror.\n"
          ]
        },
        {
          "output_type": "stream",
          "name": "stderr",
          "text": [
            "/usr/local/lib/python3.7/dist-packages/category_encoders/target_encoder.py:94: FutureWarning: Default parameter min_samples_leaf will change in version 2.6.See https://github.com/scikit-learn-contrib/category_encoders/issues/327\n",
            "  category=FutureWarning)\n",
            "/usr/local/lib/python3.7/dist-packages/category_encoders/target_encoder.py:99: FutureWarning: Default parameter smoothing will change in version 2.6.See https://github.com/scikit-learn-contrib/category_encoders/issues/327\n",
            "  category=FutureWarning)\n"
          ]
        },
        {
          "output_type": "stream",
          "name": "stdout",
          "text": [
            "[00:01:29] WARNING: /workspace/src/objective/regression_obj.cu:152: reg:linear is now deprecated in favor of reg:squarederror.\n"
          ]
        },
        {
          "output_type": "stream",
          "name": "stderr",
          "text": [
            "/usr/local/lib/python3.7/dist-packages/category_encoders/target_encoder.py:94: FutureWarning: Default parameter min_samples_leaf will change in version 2.6.See https://github.com/scikit-learn-contrib/category_encoders/issues/327\n",
            "  category=FutureWarning)\n",
            "/usr/local/lib/python3.7/dist-packages/category_encoders/target_encoder.py:99: FutureWarning: Default parameter smoothing will change in version 2.6.See https://github.com/scikit-learn-contrib/category_encoders/issues/327\n",
            "  category=FutureWarning)\n"
          ]
        },
        {
          "output_type": "stream",
          "name": "stdout",
          "text": [
            "[00:01:29] WARNING: /workspace/src/objective/regression_obj.cu:152: reg:linear is now deprecated in favor of reg:squarederror.\n"
          ]
        },
        {
          "output_type": "stream",
          "name": "stderr",
          "text": [
            "/usr/local/lib/python3.7/dist-packages/category_encoders/target_encoder.py:94: FutureWarning: Default parameter min_samples_leaf will change in version 2.6.See https://github.com/scikit-learn-contrib/category_encoders/issues/327\n",
            "  category=FutureWarning)\n",
            "/usr/local/lib/python3.7/dist-packages/category_encoders/target_encoder.py:99: FutureWarning: Default parameter smoothing will change in version 2.6.See https://github.com/scikit-learn-contrib/category_encoders/issues/327\n",
            "  category=FutureWarning)\n"
          ]
        },
        {
          "output_type": "stream",
          "name": "stdout",
          "text": [
            "[00:01:30] WARNING: /workspace/src/objective/regression_obj.cu:152: reg:linear is now deprecated in favor of reg:squarederror.\n"
          ]
        },
        {
          "output_type": "stream",
          "name": "stderr",
          "text": [
            "/usr/local/lib/python3.7/dist-packages/category_encoders/target_encoder.py:94: FutureWarning: Default parameter min_samples_leaf will change in version 2.6.See https://github.com/scikit-learn-contrib/category_encoders/issues/327\n",
            "  category=FutureWarning)\n",
            "/usr/local/lib/python3.7/dist-packages/category_encoders/target_encoder.py:99: FutureWarning: Default parameter smoothing will change in version 2.6.See https://github.com/scikit-learn-contrib/category_encoders/issues/327\n",
            "  category=FutureWarning)\n"
          ]
        },
        {
          "output_type": "stream",
          "name": "stdout",
          "text": [
            "[00:01:30] WARNING: /workspace/src/objective/regression_obj.cu:152: reg:linear is now deprecated in favor of reg:squarederror.\n"
          ]
        },
        {
          "output_type": "stream",
          "name": "stderr",
          "text": [
            "/usr/local/lib/python3.7/dist-packages/category_encoders/target_encoder.py:94: FutureWarning: Default parameter min_samples_leaf will change in version 2.6.See https://github.com/scikit-learn-contrib/category_encoders/issues/327\n",
            "  category=FutureWarning)\n",
            "/usr/local/lib/python3.7/dist-packages/category_encoders/target_encoder.py:99: FutureWarning: Default parameter smoothing will change in version 2.6.See https://github.com/scikit-learn-contrib/category_encoders/issues/327\n",
            "  category=FutureWarning)\n"
          ]
        },
        {
          "output_type": "stream",
          "name": "stdout",
          "text": [
            "[00:01:31] WARNING: /workspace/src/objective/regression_obj.cu:152: reg:linear is now deprecated in favor of reg:squarederror.\n"
          ]
        },
        {
          "output_type": "stream",
          "name": "stderr",
          "text": [
            "/usr/local/lib/python3.7/dist-packages/category_encoders/target_encoder.py:94: FutureWarning: Default parameter min_samples_leaf will change in version 2.6.See https://github.com/scikit-learn-contrib/category_encoders/issues/327\n",
            "  category=FutureWarning)\n",
            "/usr/local/lib/python3.7/dist-packages/category_encoders/target_encoder.py:99: FutureWarning: Default parameter smoothing will change in version 2.6.See https://github.com/scikit-learn-contrib/category_encoders/issues/327\n",
            "  category=FutureWarning)\n"
          ]
        },
        {
          "output_type": "stream",
          "name": "stdout",
          "text": [
            "[00:01:31] WARNING: /workspace/src/objective/regression_obj.cu:152: reg:linear is now deprecated in favor of reg:squarederror.\n"
          ]
        },
        {
          "output_type": "stream",
          "name": "stderr",
          "text": [
            "/usr/local/lib/python3.7/dist-packages/category_encoders/target_encoder.py:94: FutureWarning: Default parameter min_samples_leaf will change in version 2.6.See https://github.com/scikit-learn-contrib/category_encoders/issues/327\n",
            "  category=FutureWarning)\n",
            "/usr/local/lib/python3.7/dist-packages/category_encoders/target_encoder.py:99: FutureWarning: Default parameter smoothing will change in version 2.6.See https://github.com/scikit-learn-contrib/category_encoders/issues/327\n",
            "  category=FutureWarning)\n"
          ]
        },
        {
          "output_type": "stream",
          "name": "stdout",
          "text": [
            "[00:01:32] WARNING: /workspace/src/objective/regression_obj.cu:152: reg:linear is now deprecated in favor of reg:squarederror.\n"
          ]
        },
        {
          "output_type": "stream",
          "name": "stderr",
          "text": [
            "/usr/local/lib/python3.7/dist-packages/category_encoders/target_encoder.py:94: FutureWarning: Default parameter min_samples_leaf will change in version 2.6.See https://github.com/scikit-learn-contrib/category_encoders/issues/327\n",
            "  category=FutureWarning)\n",
            "/usr/local/lib/python3.7/dist-packages/category_encoders/target_encoder.py:99: FutureWarning: Default parameter smoothing will change in version 2.6.See https://github.com/scikit-learn-contrib/category_encoders/issues/327\n",
            "  category=FutureWarning)\n"
          ]
        },
        {
          "output_type": "stream",
          "name": "stdout",
          "text": [
            "[00:01:32] WARNING: /workspace/src/objective/regression_obj.cu:152: reg:linear is now deprecated in favor of reg:squarederror.\n"
          ]
        },
        {
          "output_type": "display_data",
          "data": {
            "text/plain": [
              "<Figure size 432x288 with 1 Axes>"
            ],
            "image/png": "[encoded data removed]"
          },
          "metadata": {
            "needs_background": "light"
          }
        },
        {
          "output_type": "stream",
          "name": "stdout",
          "text": [
            "CPU times: user 9min 2s, sys: 2.08 s, total: 9min 4s\n",
            "Wall time: 9min 4s\n"
          ]
        }
      ]
    },
    {
      "cell_type": "code",
      "source": [
        "#가설 2.randomforest target vs ordinal\n",
        "\n",
        "#target\n",
        "from sklearn.ensemble import RandomForestRegressor\n",
        "from category_encoders import TargetEncoder\n",
        "\n",
        "preprocessing = make_pipeline(TargetEncoder(), SimpleImputer(), StandardScaler())\n",
        "rf = RandomForestRegressor()\n",
        "pipe_rf = Pipeline([('pre', preprocessing), ('rf', rf)])\n",
        "\n",
        "pipe_rf.fit(X_train, y_train)\n",
        "print('\\nval data')\n",
        "print('score:', pipe_rf.score(X_val, y_val))\n",
        "print('mae:', mean_absolute_error(y_val, pipe_rf.predict(X_val)))"
      ],
      "metadata": {
        "colab": {
          "base_uri": "https://localhost:8080/"
        },
        "id": "DJf2rM7R72y_",
        "outputId": "193cfcbd-e216-41ed-dba4-1095a01944fc"
      },
      "execution_count": null,
      "outputs": [
        {
          "output_type": "stream",
          "name": "stderr",
          "text": [
            "/usr/local/lib/python3.7/dist-packages/category_encoders/target_encoder.py:94: FutureWarning: Default parameter min_samples_leaf will change in version 2.6.See https://github.com/scikit-learn-contrib/category_encoders/issues/327\n",
            "  category=FutureWarning)\n",
            "/usr/local/lib/python3.7/dist-packages/category_encoders/target_encoder.py:99: FutureWarning: Default parameter smoothing will change in version 2.6.See https://github.com/scikit-learn-contrib/category_encoders/issues/327\n",
            "  category=FutureWarning)\n"
          ]
        },
        {
          "output_type": "stream",
          "name": "stdout",
          "text": [
            "\n",
            "val data\n",
            "score: 0.5992055624536348\n",
            "mae: 6.422985990602054\n"
          ]
        }
      ]
    },
    {
      "cell_type": "code",
      "source": [
        "#ordinal\n",
        "from sklearn.ensemble import RandomForestRegressor\n",
        "from category_encoders import OrdinalEncoder\n",
        "\n",
        "preprocessing = make_pipeline(OrdinalEncoder(), SimpleImputer(), StandardScaler())\n",
        "rf = RandomForestRegressor()\n",
        "pipe_rf = Pipeline([('pre', preprocessing), ('rf', rf)])\n",
        "\n",
        "pipe_rf.fit(X_train, y_train)\n",
        "print('\\nval data')\n",
        "print('score:', pipe_rf.score(X_val, y_val))\n",
        "print('mae:', mean_absolute_error(y_val, pipe_rf.predict(X_val)))"
      ],
      "metadata": {
        "colab": {
          "base_uri": "https://localhost:8080/"
        },
        "id": "WSgErgdC8YWb",
        "outputId": "41b901d8-094d-42ab-d426-74f5a19bb346"
      },
      "execution_count": null,
      "outputs": [
        {
          "output_type": "stream",
          "name": "stdout",
          "text": [
            "\n",
            "val data\n",
            "score: 0.548238431670293\n",
            "mae: 6.989478407178913\n"
          ]
        }
      ]
    },
    {
      "cell_type": "code",
      "source": [
        "pipe_rf = make_pipeline(\n",
        "    TargetEncoder(), \n",
        "    SimpleImputer(),\n",
        "    StandardScaler(),\n",
        "    RandomForestRegressor(random_state=2)\n",
        ")\n",
        "\n",
        "dists = {\n",
        "    'targetencoder__smoothing': [2.,4., 6., 8., 10., 20.,50.,60.,100.], \n",
        "    'targetencoder__min_samples_leaf': randint(1, 50),\n",
        "    'randomforestregressor__n_estimators': randint(100, 1000), \n",
        "    'randomforestregressor__min_samples_leaf': randint(1, 100), \n",
        "    'randomforestregressor__max_depth': randint(5, 25), \n",
        "    'randomforestregressor__max_features': uniform(0, 1) \n",
        "}\n",
        "\n",
        "\n",
        "clf = RandomizedSearchCV(\n",
        "    pipe_rf, \n",
        "    param_distributions=dists, \n",
        "    n_iter=100, \n",
        "    cv=20, \n",
        "    scoring='r2',  \n",
        "    verbose=1,\n",
        "    n_jobs=-1\n",
        ")\n",
        "\n",
        "clf.fit(X_train, y_train);"
      ],
      "metadata": {
        "colab": {
          "base_uri": "https://localhost:8080/"
        },
        "id": "ZpcZtJy_wzsU",
        "outputId": "a55fc1aa-d245-49d7-d884-73366ac019e7"
      },
      "execution_count": null,
      "outputs": [
        {
          "output_type": "stream",
          "name": "stdout",
          "text": [
            "Fitting 20 folds for each of 100 candidates, totalling 2000 fits\n"
          ]
        },
        {
          "output_type": "stream",
          "name": "stderr",
          "text": [
            "/usr/local/lib/python3.7/dist-packages/category_encoders/target_encoder.py:94: FutureWarning: Default parameter min_samples_leaf will change in version 2.6.See https://github.com/scikit-learn-contrib/category_encoders/issues/327\n",
            "  category=FutureWarning)\n",
            "/usr/local/lib/python3.7/dist-packages/category_encoders/target_encoder.py:99: FutureWarning: Default parameter smoothing will change in version 2.6.See https://github.com/scikit-learn-contrib/category_encoders/issues/327\n",
            "  category=FutureWarning)\n"
          ]
        }
      ]
    },
    {
      "cell_type": "code",
      "source": [
        "clf.best_params_"
      ],
      "metadata": {
        "colab": {
          "base_uri": "https://localhost:8080/"
        },
        "id": "3-Ax50igx5XF",
        "outputId": "36c04f6b-5bd8-4235-d2e9-af98a27bef94"
      },
      "execution_count": null,
      "outputs": [
        {
          "output_type": "execute_result",
          "data": {
            "text/plain": [
              "{'randomforestregressor__max_depth': 22,\n",
              " 'randomforestregressor__max_features': 0.7454830102662034,\n",
              " 'randomforestregressor__min_samples_leaf': 3,\n",
              " 'randomforestregressor__n_estimators': 745,\n",
              " 'targetencoder__min_samples_leaf': 28,\n",
              " 'targetencoder__smoothing': 6.0}"
            ]
          },
          "metadata": {},
          "execution_count": 30
        }
      ]
    },
    {
      "cell_type": "code",
      "source": [
        "clf.score(X_val, y_val)"
      ],
      "metadata": {
        "colab": {
          "base_uri": "https://localhost:8080/"
        },
        "id": "GLJEO1yw3PnN",
        "outputId": "86e92043-2461-415b-a9ec-65fdf2bc2fe5"
      },
      "execution_count": null,
      "outputs": [
        {
          "output_type": "execute_result",
          "data": {
            "text/plain": [
              "0.6092081722445295"
            ]
          },
          "metadata": {},
          "execution_count": 31
        }
      ]
    },
    {
      "cell_type": "code",
      "source": [
        "clf.best_estimator_"
      ],
      "metadata": {
        "colab": {
          "base_uri": "https://localhost:8080/"
        },
        "id": "85xshJ3M3Q3h",
        "outputId": "6e513460-d78f-43da-ef09-8916811c5683"
      },
      "execution_count": null,
      "outputs": [
        {
          "output_type": "execute_result",
          "data": {
            "text/plain": [
              "Pipeline(steps=[('targetencoder',\n",
              "                 TargetEncoder(cols=['Title', 'Directors', 'Genres', 'Country',\n",
              "                                     'Language'],\n",
              "                               min_samples_leaf=28, smoothing=6.0)),\n",
              "                ('simpleimputer', SimpleImputer()),\n",
              "                ('standardscaler', StandardScaler()),\n",
              "                ('randomforestregressor',\n",
              "                 RandomForestRegressor(max_depth=22,\n",
              "                                       max_features=0.7454830102662034,\n",
              "                                       min_samples_leaf=3, n_estimators=745,\n",
              "                                       random_state=2))])"
            ]
          },
          "metadata": {},
          "execution_count": 32
        }
      ]
    },
    {
      "cell_type": "code",
      "source": [
        "rf_random_estimator = clf.best_estimator_\n",
        "rf_random_estimator.fit(X_train_final, y_train_final)"
      ],
      "metadata": {
        "colab": {
          "base_uri": "https://localhost:8080/"
        },
        "id": "xDIkb6y33ShU",
        "outputId": "6ccbf709-7f6a-4ff4-84c3-607ab10a55bc"
      },
      "execution_count": null,
      "outputs": [
        {
          "output_type": "execute_result",
          "data": {
            "text/plain": [
              "Pipeline(steps=[('targetencoder',\n",
              "                 TargetEncoder(cols=['Title', 'Directors', 'Genres', 'Country',\n",
              "                                     'Language'],\n",
              "                               min_samples_leaf=28, smoothing=6.0)),\n",
              "                ('simpleimputer', SimpleImputer()),\n",
              "                ('standardscaler', StandardScaler()),\n",
              "                ('randomforestregressor',\n",
              "                 RandomForestRegressor(max_depth=22,\n",
              "                                       max_features=0.7454830102662034,\n",
              "                                       min_samples_leaf=3, n_estimators=745,\n",
              "                                       random_state=2))])"
            ]
          },
          "metadata": {},
          "execution_count": 33
        }
      ]
    },
    {
      "cell_type": "code",
      "source": [
        "rf_random_estimator.score(X_test, y_test)"
      ],
      "metadata": {
        "colab": {
          "base_uri": "https://localhost:8080/"
        },
        "id": "cK6vHBqT3W8M",
        "outputId": "f4ec9b53-c838-493f-ef85-b11be754dc9b"
      },
      "execution_count": null,
      "outputs": [
        {
          "output_type": "execute_result",
          "data": {
            "text/plain": [
              "0.6020783093132435"
            ]
          },
          "metadata": {},
          "execution_count": 34
        }
      ]
    },
    {
      "cell_type": "markdown",
      "source": [
        "# XGB"
      ],
      "metadata": {
        "id": "IcwZVM4g3a49"
      }
    },
    {
      "cell_type": "code",
      "source": [
        "#xgb target vs oridinal\n",
        "#target\n",
        "\n",
        "from xgboost import XGBRegressor\n",
        "from category_encoders import TargetEncoder\n",
        "\n",
        "preprocessing = make_pipeline(TargetEncoder(), SimpleImputer(), StandardScaler())\n",
        "rf = XGBRegressor()\n",
        "pipe_rf = Pipeline([('pre', preprocessing), ('rf', rf)])\n",
        "\n",
        "pipe_rf.fit(X_train, y_train)\n",
        "print('\\nval data')\n",
        "print('score:', pipe_rf.score(X_val, y_val))\n",
        "print('mae:', mean_absolute_error(y_val, pipe_rf.predict(X_val)))"
      ],
      "metadata": {
        "colab": {
          "base_uri": "https://localhost:8080/"
        },
        "id": "KmcFAEvL3bQe",
        "outputId": "073661ac-0b4d-4996-e734-c6c77bac39db"
      },
      "execution_count": null,
      "outputs": [
        {
          "output_type": "stream",
          "name": "stderr",
          "text": [
            "/usr/local/lib/python3.7/dist-packages/category_encoders/target_encoder.py:94: FutureWarning: Default parameter min_samples_leaf will change in version 2.6.See https://github.com/scikit-learn-contrib/category_encoders/issues/327\n",
            "  category=FutureWarning)\n",
            "/usr/local/lib/python3.7/dist-packages/category_encoders/target_encoder.py:99: FutureWarning: Default parameter smoothing will change in version 2.6.See https://github.com/scikit-learn-contrib/category_encoders/issues/327\n",
            "  category=FutureWarning)\n"
          ]
        },
        {
          "output_type": "stream",
          "name": "stdout",
          "text": [
            "[01:39:06] WARNING: /workspace/src/objective/regression_obj.cu:152: reg:linear is now deprecated in favor of reg:squarederror.\n",
            "\n",
            "val data\n",
            "score: 0.5902406067225556\n",
            "mae: 6.527936476505812\n"
          ]
        }
      ]
    },
    {
      "cell_type": "code",
      "source": [
        "#ordinal\n",
        "from xgboost import XGBRegressor\n",
        "from category_encoders import OrdinalEncoder\n",
        "\n",
        "preprocessing = make_pipeline(OrdinalEncoder(), SimpleImputer(), StandardScaler())\n",
        "rf = XGBRegressor()\n",
        "pipe_rf = Pipeline([('pre', preprocessing), ('rf', rf)])\n",
        "\n",
        "pipe_rf.fit(X_train, y_train)\n",
        "print('\\nval data')\n",
        "print('score:', pipe_rf.score(X_val, y_val))\n",
        "print('mae:', mean_absolute_error(y_val, pipe_rf.predict(X_val)))"
      ],
      "metadata": {
        "colab": {
          "base_uri": "https://localhost:8080/"
        },
        "id": "7sS5UUwM3sCV",
        "outputId": "3da5e276-6b6b-4477-8c15-258cb10dcdd9"
      },
      "execution_count": null,
      "outputs": [
        {
          "output_type": "stream",
          "name": "stdout",
          "text": [
            "[01:39:08] WARNING: /workspace/src/objective/regression_obj.cu:152: reg:linear is now deprecated in favor of reg:squarederror.\n",
            "\n",
            "val data\n",
            "score: 0.48698805793766575\n",
            "mae: 7.3888904274145135\n"
          ]
        }
      ]
    },
    {
      "cell_type": "markdown",
      "source": [
        "xgb + randomized search cv"
      ],
      "metadata": {
        "id": "Vv5SDBAp31FU"
      }
    },
    {
      "cell_type": "code",
      "source": [
        "%%time\n",
        "\n",
        "pipe_rf = make_pipeline(\n",
        "    TargetEncoder(), \n",
        "    StandardScaler(),\n",
        "    XGBRegressor(n_estimators = 100, random_state=2)\n",
        ")\n",
        "\n",
        "dists = {\n",
        "    'targetencoder__smoothing': [2.,4., 6., 8., 10., 20.,50.,60.,100.], \n",
        "    'targetencoder__min_samples_leaf': randint(1, 50),\n",
        "    'xgbregressor__max_depth': randint(5, 20), \n",
        "    'xgbregressor__learning_rate': list(np.arange(0, 1, 0.001)),\n",
        "    'xgbregressor__gamma': list(np.arange(0,5,0.5)), \n",
        "    'xgbregressor__reg_alpha:': list(np.arange(0,1,0.001)),\n",
        "    'xgbregressor__reg_lambda': list(np.arange(0,1,0.001))\n",
        "}\n",
        "\n",
        "xgb_random = RandomizedSearchCV(\n",
        "    pipe_rf, \n",
        "    param_distributions=dists, \n",
        "    n_iter=100, \n",
        "    cv=20, \n",
        "    scoring='r2', \n",
        "    verbose=1,\n",
        "    n_jobs=-1\n",
        ")\n",
        "\n",
        "xgb_random.fit(X_train, y_train);"
      ],
      "metadata": {
        "colab": {
          "base_uri": "https://localhost:8080/"
        },
        "id": "9GnnNX_w30uZ",
        "outputId": "cda37dfd-dff1-4cc6-d99f-c786fa09a33e"
      },
      "execution_count": null,
      "outputs": [
        {
          "output_type": "stream",
          "name": "stderr",
          "text": [
            "/usr/local/lib/python3.7/dist-packages/category_encoders/target_encoder.py:94: FutureWarning: Default parameter min_samples_leaf will change in version 2.6.See https://github.com/scikit-learn-contrib/category_encoders/issues/327\n",
            "  category=FutureWarning)\n",
            "/usr/local/lib/python3.7/dist-packages/category_encoders/target_encoder.py:99: FutureWarning: Default parameter smoothing will change in version 2.6.See https://github.com/scikit-learn-contrib/category_encoders/issues/327\n",
            "  category=FutureWarning)\n"
          ]
        },
        {
          "output_type": "stream",
          "name": "stdout",
          "text": [
            "Fitting 20 folds for each of 100 candidates, totalling 2000 fits\n",
            "[02:25:07] WARNING: /workspace/src/objective/regression_obj.cu:152: reg:linear is now deprecated in favor of reg:squarederror.\n",
            "CPU times: user 42 s, sys: 2.7 s, total: 44.7 s\n",
            "Wall time: 45min 56s\n"
          ]
        }
      ]
    },
    {
      "cell_type": "code",
      "source": [
        "xgb_random.best_params_"
      ],
      "metadata": {
        "id": "IXxYp_-d38Ck",
        "colab": {
          "base_uri": "https://localhost:8080/"
        },
        "outputId": "560f3291-6311-4c92-ca3e-783564128382"
      },
      "execution_count": null,
      "outputs": [
        {
          "output_type": "execute_result",
          "data": {
            "text/plain": [
              "{'targetencoder__min_samples_leaf': 17,\n",
              " 'targetencoder__smoothing': 100.0,\n",
              " 'xgbregressor__gamma': 4.5,\n",
              " 'xgbregressor__learning_rate': 0.14400000000000002,\n",
              " 'xgbregressor__max_depth': 5,\n",
              " 'xgbregressor__reg_alpha:': 0.262,\n",
              " 'xgbregressor__reg_lambda': 0.97}"
            ]
          },
          "metadata": {},
          "execution_count": 38
        }
      ]
    },
    {
      "cell_type": "code",
      "source": [
        "xgb_random.score(X_val, y_val)"
      ],
      "metadata": {
        "id": "jJaqwN6l39kL",
        "colab": {
          "base_uri": "https://localhost:8080/"
        },
        "outputId": "61703ec4-026a-4c38-8c37-55268a112c9d"
      },
      "execution_count": null,
      "outputs": [
        {
          "output_type": "execute_result",
          "data": {
            "text/plain": [
              "0.6295128837428698"
            ]
          },
          "metadata": {},
          "execution_count": 39
        }
      ]
    },
    {
      "cell_type": "code",
      "source": [
        "mean_absolute_error(y_val, xgb_random.predict(X_val))"
      ],
      "metadata": {
        "id": "C2B69ysI3_dU",
        "colab": {
          "base_uri": "https://localhost:8080/"
        },
        "outputId": "5804eaf7-d4fa-4f3f-cdae-cb34f6029062"
      },
      "execution_count": null,
      "outputs": [
        {
          "output_type": "execute_result",
          "data": {
            "text/plain": [
              "6.194697432483239"
            ]
          },
          "metadata": {},
          "execution_count": 40
        }
      ]
    },
    {
      "cell_type": "code",
      "source": [
        "xgb_random.best_estimator_.fit(X_train_final, y_train_final)\n",
        "xgb_random.best_estimator_.score(X_test, y_test)"
      ],
      "metadata": {
        "id": "NaAhmifp4AdH",
        "colab": {
          "base_uri": "https://localhost:8080/"
        },
        "outputId": "8a769177-5a2b-481f-c314-63983b0672a4"
      },
      "execution_count": null,
      "outputs": [
        {
          "output_type": "stream",
          "name": "stdout",
          "text": [
            "[02:35:15] WARNING: /workspace/src/objective/regression_obj.cu:152: reg:linear is now deprecated in favor of reg:squarederror.\n"
          ]
        },
        {
          "output_type": "execute_result",
          "data": {
            "text/plain": [
              "0.6319964911023984"
            ]
          },
          "metadata": {},
          "execution_count": 41
        }
      ]
    },
    {
      "cell_type": "markdown",
      "source": [
        "xgb + randomized search cv로 최적의 파라미터 찾기"
      ],
      "metadata": {
        "id": "4oiTR_mE4LOw"
      }
    },
    {
      "cell_type": "code",
      "source": [
        "preprocessing = make_pipeline(TargetEncoder(min_samples_leaf = 2, smoothing = 50),StandardScaler()) \n",
        "X_train_ready = preprocessing.fit_transform(X_train, y_train)\n",
        "X_val_ready = preprocessing.transform(X_val)\n",
        "X_test_ready = preprocessing.transform(X_test)\n",
        "\n",
        "xgb_earlystopping = XGBRegressor(random_state=2, learning_rate = 0.115, max_depth = 6, reg_alpha = 0.10400000000000001, gamma = 2, reg_lambda = 0.9470000000000001, n_estimators = 1000, n_jobs=-1)\n",
        "\n",
        "eval_set = [(X_train_ready, y_train), \n",
        "            (X_val_ready, y_val)]\n",
        "\n",
        "xgb_earlystopping.fit(X_train_ready, y_train,\n",
        "        eval_set = eval_set,\n",
        "        eval_metric = 'mae',\n",
        "        early_stopping_rounds=50);"
      ],
      "metadata": {
        "id": "4GoDN-sk4Jwy",
        "colab": {
          "base_uri": "https://localhost:8080/"
        },
        "outputId": "24b72ccc-4f99-4433-98b9-49702f6cc86c"
      },
      "execution_count": null,
      "outputs": [
        {
          "output_type": "stream",
          "name": "stdout",
          "text": [
            "[03:16:24] WARNING: /workspace/src/objective/regression_obj.cu:152: reg:linear is now deprecated in favor of reg:squarederror.\n",
            "[0]\tvalidation_0-mae:46.9496\tvalidation_1-mae:47.2359\n",
            "Multiple eval metrics have been passed: 'validation_1-mae' will be used for early stopping.\n",
            "\n",
            "Will train until validation_1-mae hasn't improved in 50 rounds.\n",
            "[1]\tvalidation_0-mae:41.5727\tvalidation_1-mae:41.9135\n",
            "[2]\tvalidation_0-mae:36.8157\tvalidation_1-mae:37.2074\n",
            "[3]\tvalidation_0-mae:32.6042\tvalidation_1-mae:33.0484\n",
            "[4]\tvalidation_0-mae:28.8759\tvalidation_1-mae:29.3553\n",
            "[5]\tvalidation_0-mae:25.5799\tvalidation_1-mae:26.1108\n",
            "[6]\tvalidation_0-mae:22.6656\tvalidation_1-mae:23.2332\n",
            "[7]\tvalidation_0-mae:20.0963\tvalidation_1-mae:20.6615\n",
            "[8]\tvalidation_0-mae:17.8324\tvalidation_1-mae:18.4386\n",
            "[9]\tvalidation_0-mae:15.8431\tvalidation_1-mae:16.5071\n",
            "[10]\tvalidation_0-mae:14.1132\tvalidation_1-mae:14.8312\n",
            "[11]\tvalidation_0-mae:12.6232\tvalidation_1-mae:13.3922\n",
            "[12]\tvalidation_0-mae:11.3564\tvalidation_1-mae:12.186\n",
            "[13]\tvalidation_0-mae:10.2791\tvalidation_1-mae:11.1545\n",
            "[14]\tvalidation_0-mae:9.37241\tvalidation_1-mae:10.3001\n",
            "[15]\tvalidation_0-mae:8.619\tvalidation_1-mae:9.59167\n",
            "[16]\tvalidation_0-mae:7.99275\tvalidation_1-mae:9.0022\n",
            "[17]\tvalidation_0-mae:7.47353\tvalidation_1-mae:8.53626\n",
            "[18]\tvalidation_0-mae:7.03409\tvalidation_1-mae:8.14156\n",
            "[19]\tvalidation_0-mae:6.68261\tvalidation_1-mae:7.83223\n",
            "[20]\tvalidation_0-mae:6.3923\tvalidation_1-mae:7.58048\n",
            "[21]\tvalidation_0-mae:6.13989\tvalidation_1-mae:7.35639\n",
            "[22]\tvalidation_0-mae:5.93361\tvalidation_1-mae:7.16921\n",
            "[23]\tvalidation_0-mae:5.76318\tvalidation_1-mae:7.02107\n",
            "[24]\tvalidation_0-mae:5.63696\tvalidation_1-mae:6.90077\n",
            "[25]\tvalidation_0-mae:5.5238\tvalidation_1-mae:6.80294\n",
            "[26]\tvalidation_0-mae:5.42718\tvalidation_1-mae:6.7166\n",
            "[27]\tvalidation_0-mae:5.33968\tvalidation_1-mae:6.64079\n",
            "[28]\tvalidation_0-mae:5.27491\tvalidation_1-mae:6.59273\n",
            "[29]\tvalidation_0-mae:5.20882\tvalidation_1-mae:6.54159\n",
            "[30]\tvalidation_0-mae:5.14887\tvalidation_1-mae:6.50461\n",
            "[31]\tvalidation_0-mae:5.097\tvalidation_1-mae:6.46615\n",
            "[32]\tvalidation_0-mae:5.04761\tvalidation_1-mae:6.43746\n",
            "[33]\tvalidation_0-mae:5.01645\tvalidation_1-mae:6.41523\n",
            "[34]\tvalidation_0-mae:4.97889\tvalidation_1-mae:6.39452\n",
            "[35]\tvalidation_0-mae:4.94656\tvalidation_1-mae:6.37585\n",
            "[36]\tvalidation_0-mae:4.92363\tvalidation_1-mae:6.35998\n",
            "[37]\tvalidation_0-mae:4.89234\tvalidation_1-mae:6.34443\n",
            "[38]\tvalidation_0-mae:4.87916\tvalidation_1-mae:6.33817\n",
            "[39]\tvalidation_0-mae:4.86527\tvalidation_1-mae:6.32872\n",
            "[40]\tvalidation_0-mae:4.83936\tvalidation_1-mae:6.32277\n",
            "[41]\tvalidation_0-mae:4.81512\tvalidation_1-mae:6.3102\n",
            "[42]\tvalidation_0-mae:4.79082\tvalidation_1-mae:6.30095\n",
            "[43]\tvalidation_0-mae:4.77038\tvalidation_1-mae:6.28968\n",
            "[44]\tvalidation_0-mae:4.74698\tvalidation_1-mae:6.28221\n",
            "[45]\tvalidation_0-mae:4.72656\tvalidation_1-mae:6.27547\n",
            "[46]\tvalidation_0-mae:4.71413\tvalidation_1-mae:6.26624\n",
            "[47]\tvalidation_0-mae:4.69512\tvalidation_1-mae:6.25901\n",
            "[48]\tvalidation_0-mae:4.6812\tvalidation_1-mae:6.25597\n",
            "[49]\tvalidation_0-mae:4.66106\tvalidation_1-mae:6.24704\n",
            "[50]\tvalidation_0-mae:4.64306\tvalidation_1-mae:6.23815\n",
            "[51]\tvalidation_0-mae:4.62465\tvalidation_1-mae:6.23388\n",
            "[52]\tvalidation_0-mae:4.61317\tvalidation_1-mae:6.23306\n",
            "[53]\tvalidation_0-mae:4.59068\tvalidation_1-mae:6.2229\n",
            "[54]\tvalidation_0-mae:4.57961\tvalidation_1-mae:6.21931\n",
            "[55]\tvalidation_0-mae:4.56281\tvalidation_1-mae:6.21523\n",
            "[56]\tvalidation_0-mae:4.5517\tvalidation_1-mae:6.21471\n",
            "[57]\tvalidation_0-mae:4.53034\tvalidation_1-mae:6.20882\n",
            "[58]\tvalidation_0-mae:4.51659\tvalidation_1-mae:6.20417\n",
            "[59]\tvalidation_0-mae:4.49536\tvalidation_1-mae:6.1929\n",
            "[60]\tvalidation_0-mae:4.48886\tvalidation_1-mae:6.19428\n",
            "[61]\tvalidation_0-mae:4.47261\tvalidation_1-mae:6.19266\n",
            "[62]\tvalidation_0-mae:4.44838\tvalidation_1-mae:6.18463\n",
            "[63]\tvalidation_0-mae:4.43984\tvalidation_1-mae:6.18434\n",
            "[64]\tvalidation_0-mae:4.41887\tvalidation_1-mae:6.17941\n",
            "[65]\tvalidation_0-mae:4.40916\tvalidation_1-mae:6.17364\n",
            "[66]\tvalidation_0-mae:4.39748\tvalidation_1-mae:6.1716\n",
            "[67]\tvalidation_0-mae:4.39083\tvalidation_1-mae:6.17319\n",
            "[68]\tvalidation_0-mae:4.37436\tvalidation_1-mae:6.17101\n",
            "[69]\tvalidation_0-mae:4.36036\tvalidation_1-mae:6.16337\n",
            "[70]\tvalidation_0-mae:4.34756\tvalidation_1-mae:6.16164\n",
            "[71]\tvalidation_0-mae:4.34101\tvalidation_1-mae:6.1629\n",
            "[72]\tvalidation_0-mae:4.32171\tvalidation_1-mae:6.16655\n",
            "[73]\tvalidation_0-mae:4.31773\tvalidation_1-mae:6.1652\n",
            "[74]\tvalidation_0-mae:4.31146\tvalidation_1-mae:6.16658\n",
            "[75]\tvalidation_0-mae:4.29652\tvalidation_1-mae:6.16413\n",
            "[76]\tvalidation_0-mae:4.29247\tvalidation_1-mae:6.16172\n",
            "[77]\tvalidation_0-mae:4.27294\tvalidation_1-mae:6.1622\n",
            "[78]\tvalidation_0-mae:4.26175\tvalidation_1-mae:6.16256\n",
            "[79]\tvalidation_0-mae:4.2507\tvalidation_1-mae:6.16008\n",
            "[80]\tvalidation_0-mae:4.24277\tvalidation_1-mae:6.15741\n",
            "[81]\tvalidation_0-mae:4.22737\tvalidation_1-mae:6.15293\n",
            "[82]\tvalidation_0-mae:4.22117\tvalidation_1-mae:6.15462\n",
            "[83]\tvalidation_0-mae:4.21017\tvalidation_1-mae:6.15017\n",
            "[84]\tvalidation_0-mae:4.20419\tvalidation_1-mae:6.14907\n",
            "[85]\tvalidation_0-mae:4.19439\tvalidation_1-mae:6.15\n",
            "[86]\tvalidation_0-mae:4.18915\tvalidation_1-mae:6.14846\n",
            "[87]\tvalidation_0-mae:4.17741\tvalidation_1-mae:6.1472\n",
            "[88]\tvalidation_0-mae:4.16551\tvalidation_1-mae:6.14594\n",
            "[89]\tvalidation_0-mae:4.16204\tvalidation_1-mae:6.14712\n",
            "[90]\tvalidation_0-mae:4.15383\tvalidation_1-mae:6.14754\n",
            "[91]\tvalidation_0-mae:4.1378\tvalidation_1-mae:6.15201\n",
            "[92]\tvalidation_0-mae:4.13035\tvalidation_1-mae:6.15064\n",
            "[93]\tvalidation_0-mae:4.12254\tvalidation_1-mae:6.15017\n",
            "[94]\tvalidation_0-mae:4.11913\tvalidation_1-mae:6.15101\n",
            "[95]\tvalidation_0-mae:4.11441\tvalidation_1-mae:6.15016\n",
            "[96]\tvalidation_0-mae:4.10973\tvalidation_1-mae:6.14863\n",
            "[97]\tvalidation_0-mae:4.09077\tvalidation_1-mae:6.14424\n",
            "[98]\tvalidation_0-mae:4.07761\tvalidation_1-mae:6.14485\n",
            "[99]\tvalidation_0-mae:4.07183\tvalidation_1-mae:6.14518\n",
            "[100]\tvalidation_0-mae:4.06235\tvalidation_1-mae:6.14479\n",
            "[101]\tvalidation_0-mae:4.05401\tvalidation_1-mae:6.14524\n",
            "[102]\tvalidation_0-mae:4.04502\tvalidation_1-mae:6.14775\n",
            "[103]\tvalidation_0-mae:4.03914\tvalidation_1-mae:6.14911\n",
            "[104]\tvalidation_0-mae:4.0332\tvalidation_1-mae:6.14721\n",
            "[105]\tvalidation_0-mae:4.02991\tvalidation_1-mae:6.14735\n",
            "[106]\tvalidation_0-mae:4.02639\tvalidation_1-mae:6.14675\n",
            "[107]\tvalidation_0-mae:4.02173\tvalidation_1-mae:6.14551\n",
            "[108]\tvalidation_0-mae:4.01283\tvalidation_1-mae:6.14465\n",
            "[109]\tvalidation_0-mae:4.00241\tvalidation_1-mae:6.13943\n",
            "[110]\tvalidation_0-mae:3.99202\tvalidation_1-mae:6.13774\n",
            "[111]\tvalidation_0-mae:3.98545\tvalidation_1-mae:6.14079\n",
            "[112]\tvalidation_0-mae:3.97865\tvalidation_1-mae:6.13947\n",
            "[113]\tvalidation_0-mae:3.97113\tvalidation_1-mae:6.13744\n",
            "[114]\tvalidation_0-mae:3.96108\tvalidation_1-mae:6.13919\n",
            "[115]\tvalidation_0-mae:3.95714\tvalidation_1-mae:6.13648\n",
            "[116]\tvalidation_0-mae:3.94547\tvalidation_1-mae:6.13525\n",
            "[117]\tvalidation_0-mae:3.93309\tvalidation_1-mae:6.13329\n",
            "[118]\tvalidation_0-mae:3.92951\tvalidation_1-mae:6.13236\n",
            "[119]\tvalidation_0-mae:3.91272\tvalidation_1-mae:6.12979\n",
            "[120]\tvalidation_0-mae:3.90896\tvalidation_1-mae:6.13031\n",
            "[121]\tvalidation_0-mae:3.90673\tvalidation_1-mae:6.13055\n",
            "[122]\tvalidation_0-mae:3.89853\tvalidation_1-mae:6.1331\n",
            "[123]\tvalidation_0-mae:3.88492\tvalidation_1-mae:6.128\n",
            "[124]\tvalidation_0-mae:3.87305\tvalidation_1-mae:6.12775\n",
            "[125]\tvalidation_0-mae:3.86993\tvalidation_1-mae:6.12712\n",
            "[126]\tvalidation_0-mae:3.86432\tvalidation_1-mae:6.13052\n",
            "[127]\tvalidation_0-mae:3.85931\tvalidation_1-mae:6.12991\n",
            "[128]\tvalidation_0-mae:3.85294\tvalidation_1-mae:6.13133\n",
            "[129]\tvalidation_0-mae:3.84417\tvalidation_1-mae:6.13077\n",
            "[130]\tvalidation_0-mae:3.83513\tvalidation_1-mae:6.13017\n",
            "[131]\tvalidation_0-mae:3.82308\tvalidation_1-mae:6.1283\n",
            "[132]\tvalidation_0-mae:3.81461\tvalidation_1-mae:6.12843\n",
            "[133]\tvalidation_0-mae:3.80979\tvalidation_1-mae:6.13097\n",
            "[134]\tvalidation_0-mae:3.79997\tvalidation_1-mae:6.13485\n",
            "[135]\tvalidation_0-mae:3.78956\tvalidation_1-mae:6.13314\n",
            "[136]\tvalidation_0-mae:3.78358\tvalidation_1-mae:6.13117\n",
            "[137]\tvalidation_0-mae:3.78185\tvalidation_1-mae:6.13098\n",
            "[138]\tvalidation_0-mae:3.77173\tvalidation_1-mae:6.12798\n",
            "[139]\tvalidation_0-mae:3.75903\tvalidation_1-mae:6.12717\n",
            "[140]\tvalidation_0-mae:3.7383\tvalidation_1-mae:6.12344\n",
            "[141]\tvalidation_0-mae:3.73236\tvalidation_1-mae:6.12402\n",
            "[142]\tvalidation_0-mae:3.72046\tvalidation_1-mae:6.12182\n",
            "[143]\tvalidation_0-mae:3.71545\tvalidation_1-mae:6.12229\n",
            "[144]\tvalidation_0-mae:3.70788\tvalidation_1-mae:6.12294\n",
            "[145]\tvalidation_0-mae:3.70408\tvalidation_1-mae:6.12183\n",
            "[146]\tvalidation_0-mae:3.69647\tvalidation_1-mae:6.12044\n",
            "[147]\tvalidation_0-mae:3.69206\tvalidation_1-mae:6.12459\n",
            "[148]\tvalidation_0-mae:3.68779\tvalidation_1-mae:6.12496\n",
            "[149]\tvalidation_0-mae:3.68543\tvalidation_1-mae:6.12529\n",
            "[150]\tvalidation_0-mae:3.68079\tvalidation_1-mae:6.12412\n",
            "[151]\tvalidation_0-mae:3.6764\tvalidation_1-mae:6.12572\n",
            "[152]\tvalidation_0-mae:3.67237\tvalidation_1-mae:6.12605\n",
            "[153]\tvalidation_0-mae:3.6683\tvalidation_1-mae:6.12542\n",
            "[154]\tvalidation_0-mae:3.6638\tvalidation_1-mae:6.12558\n",
            "[155]\tvalidation_0-mae:3.66106\tvalidation_1-mae:6.12551\n",
            "[156]\tvalidation_0-mae:3.64869\tvalidation_1-mae:6.12927\n",
            "[157]\tvalidation_0-mae:3.64455\tvalidation_1-mae:6.1288\n",
            "[158]\tvalidation_0-mae:3.64152\tvalidation_1-mae:6.12909\n",
            "[159]\tvalidation_0-mae:3.63551\tvalidation_1-mae:6.12864\n",
            "[160]\tvalidation_0-mae:3.62693\tvalidation_1-mae:6.12645\n",
            "[161]\tvalidation_0-mae:3.62241\tvalidation_1-mae:6.12619\n",
            "[162]\tvalidation_0-mae:3.61674\tvalidation_1-mae:6.12814\n",
            "[163]\tvalidation_0-mae:3.60623\tvalidation_1-mae:6.12574\n",
            "[164]\tvalidation_0-mae:3.59452\tvalidation_1-mae:6.12255\n",
            "[165]\tvalidation_0-mae:3.58375\tvalidation_1-mae:6.12165\n",
            "[166]\tvalidation_0-mae:3.58059\tvalidation_1-mae:6.12279\n",
            "[167]\tvalidation_0-mae:3.57318\tvalidation_1-mae:6.12275\n",
            "[168]\tvalidation_0-mae:3.56704\tvalidation_1-mae:6.12197\n",
            "[169]\tvalidation_0-mae:3.55615\tvalidation_1-mae:6.11871\n",
            "[170]\tvalidation_0-mae:3.55025\tvalidation_1-mae:6.11884\n",
            "[171]\tvalidation_0-mae:3.53689\tvalidation_1-mae:6.11899\n",
            "[172]\tvalidation_0-mae:3.52918\tvalidation_1-mae:6.11752\n",
            "[173]\tvalidation_0-mae:3.52228\tvalidation_1-mae:6.11791\n",
            "[174]\tvalidation_0-mae:3.5167\tvalidation_1-mae:6.11737\n",
            "[175]\tvalidation_0-mae:3.51484\tvalidation_1-mae:6.11834\n",
            "[176]\tvalidation_0-mae:3.50871\tvalidation_1-mae:6.11571\n",
            "[177]\tvalidation_0-mae:3.50143\tvalidation_1-mae:6.1158\n",
            "[178]\tvalidation_0-mae:3.49794\tvalidation_1-mae:6.114\n",
            "[179]\tvalidation_0-mae:3.49262\tvalidation_1-mae:6.11204\n",
            "[180]\tvalidation_0-mae:3.48728\tvalidation_1-mae:6.11193\n",
            "[181]\tvalidation_0-mae:3.48187\tvalidation_1-mae:6.11294\n",
            "[182]\tvalidation_0-mae:3.47825\tvalidation_1-mae:6.11332\n",
            "[183]\tvalidation_0-mae:3.47669\tvalidation_1-mae:6.11287\n",
            "[184]\tvalidation_0-mae:3.46928\tvalidation_1-mae:6.11053\n",
            "[185]\tvalidation_0-mae:3.46123\tvalidation_1-mae:6.11031\n",
            "[186]\tvalidation_0-mae:3.45859\tvalidation_1-mae:6.1123\n",
            "[187]\tvalidation_0-mae:3.44634\tvalidation_1-mae:6.11253\n",
            "[188]\tvalidation_0-mae:3.43584\tvalidation_1-mae:6.10827\n",
            "[189]\tvalidation_0-mae:3.42544\tvalidation_1-mae:6.10985\n",
            "[190]\tvalidation_0-mae:3.41474\tvalidation_1-mae:6.11057\n",
            "[191]\tvalidation_0-mae:3.40888\tvalidation_1-mae:6.10902\n",
            "[192]\tvalidation_0-mae:3.39599\tvalidation_1-mae:6.10822\n",
            "[193]\tvalidation_0-mae:3.38742\tvalidation_1-mae:6.10372\n",
            "[194]\tvalidation_0-mae:3.38197\tvalidation_1-mae:6.1041\n",
            "[195]\tvalidation_0-mae:3.37392\tvalidation_1-mae:6.10587\n",
            "[196]\tvalidation_0-mae:3.36621\tvalidation_1-mae:6.1079\n",
            "[197]\tvalidation_0-mae:3.35929\tvalidation_1-mae:6.10917\n",
            "[198]\tvalidation_0-mae:3.35393\tvalidation_1-mae:6.11019\n",
            "[199]\tvalidation_0-mae:3.34731\tvalidation_1-mae:6.11131\n",
            "[200]\tvalidation_0-mae:3.34509\tvalidation_1-mae:6.11177\n",
            "[201]\tvalidation_0-mae:3.33657\tvalidation_1-mae:6.11413\n",
            "[202]\tvalidation_0-mae:3.33248\tvalidation_1-mae:6.11559\n",
            "[203]\tvalidation_0-mae:3.32785\tvalidation_1-mae:6.11607\n",
            "[204]\tvalidation_0-mae:3.32439\tvalidation_1-mae:6.11452\n",
            "[205]\tvalidation_0-mae:3.32244\tvalidation_1-mae:6.11515\n",
            "[206]\tvalidation_0-mae:3.31835\tvalidation_1-mae:6.11325\n",
            "[207]\tvalidation_0-mae:3.30911\tvalidation_1-mae:6.11403\n",
            "[208]\tvalidation_0-mae:3.30056\tvalidation_1-mae:6.1165\n",
            "[209]\tvalidation_0-mae:3.29621\tvalidation_1-mae:6.11653\n",
            "[210]\tvalidation_0-mae:3.29155\tvalidation_1-mae:6.11703\n",
            "[211]\tvalidation_0-mae:3.28748\tvalidation_1-mae:6.1163\n",
            "[212]\tvalidation_0-mae:3.28112\tvalidation_1-mae:6.11476\n",
            "[213]\tvalidation_0-mae:3.27615\tvalidation_1-mae:6.11484\n",
            "[214]\tvalidation_0-mae:3.26746\tvalidation_1-mae:6.11323\n",
            "[215]\tvalidation_0-mae:3.25686\tvalidation_1-mae:6.11183\n",
            "[216]\tvalidation_0-mae:3.24837\tvalidation_1-mae:6.11112\n",
            "[217]\tvalidation_0-mae:3.23861\tvalidation_1-mae:6.11061\n",
            "[218]\tvalidation_0-mae:3.22926\tvalidation_1-mae:6.11342\n",
            "[219]\tvalidation_0-mae:3.21946\tvalidation_1-mae:6.11011\n",
            "[220]\tvalidation_0-mae:3.21458\tvalidation_1-mae:6.11234\n",
            "[221]\tvalidation_0-mae:3.21091\tvalidation_1-mae:6.11136\n",
            "[222]\tvalidation_0-mae:3.20275\tvalidation_1-mae:6.11334\n",
            "[223]\tvalidation_0-mae:3.19919\tvalidation_1-mae:6.11317\n",
            "[224]\tvalidation_0-mae:3.19643\tvalidation_1-mae:6.11074\n",
            "[225]\tvalidation_0-mae:3.1891\tvalidation_1-mae:6.11239\n",
            "[226]\tvalidation_0-mae:3.18414\tvalidation_1-mae:6.11299\n",
            "[227]\tvalidation_0-mae:3.17985\tvalidation_1-mae:6.11361\n",
            "[228]\tvalidation_0-mae:3.16876\tvalidation_1-mae:6.11275\n",
            "[229]\tvalidation_0-mae:3.15944\tvalidation_1-mae:6.11413\n",
            "[230]\tvalidation_0-mae:3.15462\tvalidation_1-mae:6.1141\n",
            "[231]\tvalidation_0-mae:3.15114\tvalidation_1-mae:6.1137\n",
            "[232]\tvalidation_0-mae:3.1413\tvalidation_1-mae:6.11409\n",
            "[233]\tvalidation_0-mae:3.13794\tvalidation_1-mae:6.11506\n",
            "[234]\tvalidation_0-mae:3.13245\tvalidation_1-mae:6.11596\n",
            "[235]\tvalidation_0-mae:3.12939\tvalidation_1-mae:6.11584\n",
            "[236]\tvalidation_0-mae:3.1283\tvalidation_1-mae:6.11666\n",
            "[237]\tvalidation_0-mae:3.11882\tvalidation_1-mae:6.11314\n",
            "[238]\tvalidation_0-mae:3.11533\tvalidation_1-mae:6.11431\n",
            "[239]\tvalidation_0-mae:3.11172\tvalidation_1-mae:6.11528\n",
            "[240]\tvalidation_0-mae:3.11084\tvalidation_1-mae:6.11556\n",
            "[241]\tvalidation_0-mae:3.10819\tvalidation_1-mae:6.11576\n",
            "[242]\tvalidation_0-mae:3.10274\tvalidation_1-mae:6.116\n",
            "[243]\tvalidation_0-mae:3.09913\tvalidation_1-mae:6.11692\n",
            "Stopping. Best iteration:\n",
            "[193]\tvalidation_0-mae:3.38742\tvalidation_1-mae:6.10372\n",
            "\n"
          ]
        }
      ]
    },
    {
      "cell_type": "code",
      "source": [
        "xgb_earlystopping.best_score"
      ],
      "metadata": {
        "id": "aGCJvF9J4O2Z",
        "colab": {
          "base_uri": "https://localhost:8080/"
        },
        "outputId": "b4a26694-b708-46ba-b9f9-60fe0ae07182"
      },
      "execution_count": null,
      "outputs": [
        {
          "output_type": "execute_result",
          "data": {
            "text/plain": [
              "6.10372"
            ]
          },
          "metadata": {},
          "execution_count": 52
        }
      ]
    },
    {
      "cell_type": "code",
      "source": [
        "xgb_earlystopping.score(X_val_ready, y_val)"
      ],
      "metadata": {
        "id": "qthaZzLI4RL4",
        "colab": {
          "base_uri": "https://localhost:8080/"
        },
        "outputId": "e66a0089-7966-4e70-95f5-93c7a8e86eec"
      },
      "execution_count": null,
      "outputs": [
        {
          "output_type": "execute_result",
          "data": {
            "text/plain": [
              "0.632930981459342"
            ]
          },
          "metadata": {},
          "execution_count": 53
        }
      ]
    },
    {
      "cell_type": "code",
      "source": [
        "xgb_earlystopping.fit(X_train_ready, y_train)\n",
        "xgb_earlystopping.score(X_test_ready, y_test)"
      ],
      "metadata": {
        "id": "A6r4kYuk4Sdb",
        "colab": {
          "base_uri": "https://localhost:8080/"
        },
        "outputId": "436f7965-f242-4599-ca57-5bf7169e25e5"
      },
      "execution_count": null,
      "outputs": [
        {
          "output_type": "stream",
          "name": "stdout",
          "text": [
            "[03:16:41] WARNING: /workspace/src/objective/regression_obj.cu:152: reg:linear is now deprecated in favor of reg:squarederror.\n"
          ]
        },
        {
          "output_type": "execute_result",
          "data": {
            "text/plain": [
              "0.6110852102073954"
            ]
          },
          "metadata": {},
          "execution_count": 54
        }
      ]
    },
    {
      "cell_type": "markdown",
      "source": [
        "모델 해석하기"
      ],
      "metadata": {
        "id": "7dT9Fei_4nrn"
      }
    },
    {
      "cell_type": "code",
      "source": [
        "preprocessing = make_pipeline(TargetEncoder(min_samples_leaf = 2, smoothing = 50)) \n",
        "X_train_final_ready = preprocessing.fit_transform(X_train_final, y_train_final)\n",
        "X_test_ready = preprocessing.transform(X_test)\n",
        "\n",
        "final = XGBRegressor(base_score=0.5, booster='gbtree', colsample_bylevel=1,\n",
        "             colsample_bynode=1, colsample_bytree=1, gamma=2,\n",
        "             importance_type='gain', learning_rate=0.115, max_delta_step=0,\n",
        "             max_depth=6, min_child_weight=1, missing=None, n_estimators=118,\n",
        "             n_jobs=-1, nthread=None, objective='reg:linear', random_state=2,\n",
        "             reg_alpha=0.10400000000000001, reg_lambda=0.9470000000000001,\n",
        "             scale_pos_weight=1, seed=None, silent=None, subsample=1,\n",
        "             verbosity=1)\n",
        "\n",
        "final.fit(X_train_final_ready, y_train_final)\n",
        "final.score(X_test_ready, y_test)"
      ],
      "metadata": {
        "id": "ev31WfR84o2k",
        "colab": {
          "base_uri": "https://localhost:8080/"
        },
        "outputId": "90b62ae2-efe5-4c5f-e591-cd4145dfa6f2"
      },
      "execution_count": null,
      "outputs": [
        {
          "output_type": "stream",
          "name": "stdout",
          "text": [
            "[03:17:04] WARNING: /workspace/src/objective/regression_obj.cu:152: reg:linear is now deprecated in favor of reg:squarederror.\n"
          ]
        },
        {
          "output_type": "execute_result",
          "data": {
            "text/plain": [
              "0.6316876342073503"
            ]
          },
          "metadata": {},
          "execution_count": 55
        }
      ]
    },
    {
      "cell_type": "code",
      "source": [
        "pip install eli5"
      ],
      "metadata": {
        "id": "fX37G8si4wDV",
        "colab": {
          "base_uri": "https://localhost:8080/"
        },
        "outputId": "6fddfbff-a277-4d59-ab1a-e6e155bb15bf"
      },
      "execution_count": null,
      "outputs": [
        {
          "output_type": "stream",
          "name": "stdout",
          "text": [
            "Looking in indexes: https://pypi.org/simple, https://us-python.pkg.dev/colab-wheels/public/simple/\n",
            "Collecting eli5\n",
            "  Downloading eli5-0.13.0.tar.gz (216 kB)\n",
            "\u001b[K     |████████████████████████████████| 216 kB 4.9 MB/s \n",
            "\u001b[?25hRequirement already satisfied: attrs>17.1.0 in /usr/local/lib/python3.7/dist-packages (from eli5) (21.4.0)\n",
            "Collecting jinja2>=3.0.0\n",
            "  Downloading Jinja2-3.1.2-py3-none-any.whl (133 kB)\n",
            "\u001b[K     |████████████████████████████████| 133 kB 56.0 MB/s \n",
            "\u001b[?25hRequirement already satisfied: numpy>=1.9.0 in /usr/local/lib/python3.7/dist-packages (from eli5) (1.21.6)\n",
            "Requirement already satisfied: scipy in /usr/local/lib/python3.7/dist-packages (from eli5) (1.7.3)\n",
            "Requirement already satisfied: six in /usr/local/lib/python3.7/dist-packages (from eli5) (1.15.0)\n",
            "Requirement already satisfied: scikit-learn>=0.20 in /usr/local/lib/python3.7/dist-packages (from eli5) (1.0.2)\n",
            "Requirement already satisfied: graphviz in /usr/local/lib/python3.7/dist-packages (from eli5) (0.10.1)\n",
            "Requirement already satisfied: tabulate>=0.7.7 in /usr/local/lib/python3.7/dist-packages (from eli5) (0.8.10)\n",
            "Requirement already satisfied: MarkupSafe>=2.0 in /usr/local/lib/python3.7/dist-packages (from jinja2>=3.0.0->eli5) (2.0.1)\n",
            "Requirement already satisfied: threadpoolctl>=2.0.0 in /usr/local/lib/python3.7/dist-packages (from scikit-learn>=0.20->eli5) (3.1.0)\n",
            "Requirement already satisfied: joblib>=0.11 in /usr/local/lib/python3.7/dist-packages (from scikit-learn>=0.20->eli5) (1.1.0)\n",
            "Building wheels for collected packages: eli5\n",
            "  Building wheel for eli5 (setup.py) ... \u001b[?25l\u001b[?25hdone\n",
            "  Created wheel for eli5: filename=eli5-0.13.0-py2.py3-none-any.whl size=107748 sha256=5cfa251e506b5801ae68018a43b64e9cdd34fe6f1c83c339cb168ef510df3bd7\n",
            "  Stored in directory: /root/.cache/pip/wheels/cc/3c/96/3ead31a8e6c20fc0f1a707fde2e05d49a80b1b4b30096573be\n",
            "Successfully built eli5\n",
            "Installing collected packages: jinja2, eli5\n",
            "  Attempting uninstall: jinja2\n",
            "    Found existing installation: Jinja2 2.11.3\n",
            "    Uninstalling Jinja2-2.11.3:\n",
            "      Successfully uninstalled Jinja2-2.11.3\n",
            "\u001b[31mERROR: pip's dependency resolver does not currently take into account all the packages that are installed. This behaviour is the source of the following dependency conflicts.\n",
            "flask 1.1.4 requires Jinja2<3.0,>=2.10.1, but you have jinja2 3.1.2 which is incompatible.\n",
            "datascience 0.10.6 requires folium==0.2.1, but you have folium 0.8.3 which is incompatible.\u001b[0m\n",
            "Successfully installed eli5-0.13.0 jinja2-3.1.2\n"
          ]
        }
      ]
    },
    {
      "cell_type": "code",
      "source": [
        "import eli5\n",
        "from eli5.sklearn import PermutationImportance\n",
        "permuter = PermutationImportance(final,\n",
        "                                  scoring='r2',\n",
        "                                  n_iter=5, #다른 random seed를 사용하여 5번 반복\n",
        "                                  random_state=2)\n",
        "permuter.fit(X_test_ready, y_test);"
      ],
      "metadata": {
        "id": "L2IQBDRE4xpu"
      },
      "execution_count": null,
      "outputs": []
    },
    {
      "cell_type": "code",
      "source": [
        "feature_names = X_test.columns.tolist()\n",
        "pd.Series(permuter.feature_importances_, feature_names).sort_values()\n",
        "eli5.show_weights(\n",
        "    permuter, \n",
        "    top=None, \n",
        "    feature_names=feature_names\n",
        ")"
      ],
      "metadata": {
        "id": "39mCGJns4ynT",
        "colab": {
          "base_uri": "https://localhost:8080/",
          "height": 381
        },
        "outputId": "fdac8d98-1b79-4084-b31a-8452415f6298"
      },
      "execution_count": null,
      "outputs": [
        {
          "output_type": "execute_result",
          "data": {
            "text/plain": [
              "<IPython.core.display.HTML object>"
            ],
            "text/html": [
              "\n",
              "    <style>\n",
              "    table.eli5-weights tr:hover {\n",
              "        filter: brightness(85%);\n",
              "    }\n",
              "</style>\n",
              "\n",
              "\n",
              "\n",
              "    \n",
              "\n",
              "    \n",
              "\n",
              "    \n",
              "\n",
              "    \n",
              "\n",
              "    \n",
              "\n",
              "    \n",
              "\n",
              "\n",
              "    \n",
              "\n",
              "    \n",
              "\n",
              "    \n",
              "\n",
              "    \n",
              "\n",
              "    \n",
              "\n",
              "    \n",
              "\n",
              "\n",
              "    \n",
              "\n",
              "    \n",
              "\n",
              "    \n",
              "\n",
              "    \n",
              "\n",
              "    \n",
              "        <table class=\"eli5-weights eli5-feature-importances\" style=\"border-collapse: collapse; border: none; margin-top: 0em; table-layout: auto;\">\n",
              "    <thead>\n",
              "    <tr style=\"border: none;\">\n",
              "        <th style=\"padding: 0 1em 0 0.5em; text-align: right; border: none;\">Weight</th>\n",
              "        <th style=\"padding: 0 0.5em 0 0.5em; text-align: left; border: none;\">Feature</th>\n",
              "    </tr>\n",
              "    </thead>\n",
              "    <tbody>\n",
              "    \n",
              "        <tr style=\"background-color: hsl(120, 100.00%, 80.00%); border: none;\">\n",
              "            <td style=\"padding: 0 1em 0 0.5em; text-align: right; border: none;\">\n",
              "                0.5822\n",
              "                \n",
              "                    &plusmn; 0.0445\n",
              "                \n",
              "            </td>\n",
              "            <td style=\"padding: 0 0.5em 0 0.5em; text-align: left; border: none;\">\n",
              "                IMDb\n",
              "            </td>\n",
              "        </tr>\n",
              "    \n",
              "        <tr style=\"background-color: hsl(120, 100.00%, 94.48%); border: none;\">\n",
              "            <td style=\"padding: 0 1em 0 0.5em; text-align: right; border: none;\">\n",
              "                0.0925\n",
              "                \n",
              "                    &plusmn; 0.0148\n",
              "                \n",
              "            </td>\n",
              "            <td style=\"padding: 0 0.5em 0 0.5em; text-align: left; border: none;\">\n",
              "                Runtime\n",
              "            </td>\n",
              "        </tr>\n",
              "    \n",
              "        <tr style=\"background-color: hsl(120, 100.00%, 94.70%); border: none;\">\n",
              "            <td style=\"padding: 0 1em 0 0.5em; text-align: right; border: none;\">\n",
              "                0.0872\n",
              "                \n",
              "                    &plusmn; 0.0229\n",
              "                \n",
              "            </td>\n",
              "            <td style=\"padding: 0 0.5em 0 0.5em; text-align: left; border: none;\">\n",
              "                Genres\n",
              "            </td>\n",
              "        </tr>\n",
              "    \n",
              "        <tr style=\"background-color: hsl(120, 100.00%, 95.63%); border: none;\">\n",
              "            <td style=\"padding: 0 1em 0 0.5em; text-align: right; border: none;\">\n",
              "                0.0663\n",
              "                \n",
              "                    &plusmn; 0.0083\n",
              "                \n",
              "            </td>\n",
              "            <td style=\"padding: 0 0.5em 0 0.5em; text-align: left; border: none;\">\n",
              "                Country\n",
              "            </td>\n",
              "        </tr>\n",
              "    \n",
              "        <tr style=\"background-color: hsl(120, 100.00%, 95.97%); border: none;\">\n",
              "            <td style=\"padding: 0 1em 0 0.5em; text-align: right; border: none;\">\n",
              "                0.0590\n",
              "                \n",
              "                    &plusmn; 0.0058\n",
              "                \n",
              "            </td>\n",
              "            <td style=\"padding: 0 0.5em 0 0.5em; text-align: left; border: none;\">\n",
              "                Directors\n",
              "            </td>\n",
              "        </tr>\n",
              "    \n",
              "        <tr style=\"background-color: hsl(120, 100.00%, 97.07%); border: none;\">\n",
              "            <td style=\"padding: 0 1em 0 0.5em; text-align: right; border: none;\">\n",
              "                0.0374\n",
              "                \n",
              "                    &plusmn; 0.0056\n",
              "                \n",
              "            </td>\n",
              "            <td style=\"padding: 0 0.5em 0 0.5em; text-align: left; border: none;\">\n",
              "                Prime Video\n",
              "            </td>\n",
              "        </tr>\n",
              "    \n",
              "        <tr style=\"background-color: hsl(120, 100.00%, 97.15%); border: none;\">\n",
              "            <td style=\"padding: 0 1em 0 0.5em; text-align: right; border: none;\">\n",
              "                0.0359\n",
              "                \n",
              "                    &plusmn; 0.0061\n",
              "                \n",
              "            </td>\n",
              "            <td style=\"padding: 0 0.5em 0 0.5em; text-align: left; border: none;\">\n",
              "                Year\n",
              "            </td>\n",
              "        </tr>\n",
              "    \n",
              "        <tr style=\"background-color: hsl(120, 100.00%, 97.53%); border: none;\">\n",
              "            <td style=\"padding: 0 1em 0 0.5em; text-align: right; border: none;\">\n",
              "                0.0293\n",
              "                \n",
              "                    &plusmn; 0.0039\n",
              "                \n",
              "            </td>\n",
              "            <td style=\"padding: 0 0.5em 0 0.5em; text-align: left; border: none;\">\n",
              "                Language\n",
              "            </td>\n",
              "        </tr>\n",
              "    \n",
              "        <tr style=\"background-color: hsl(120, 100.00%, 98.42%); border: none;\">\n",
              "            <td style=\"padding: 0 1em 0 0.5em; text-align: right; border: none;\">\n",
              "                0.0155\n",
              "                \n",
              "                    &plusmn; 0.0029\n",
              "                \n",
              "            </td>\n",
              "            <td style=\"padding: 0 0.5em 0 0.5em; text-align: left; border: none;\">\n",
              "                genre_imdb_top5\n",
              "            </td>\n",
              "        </tr>\n",
              "    \n",
              "        <tr style=\"background-color: hsl(120, 100.00%, 98.99%); border: none;\">\n",
              "            <td style=\"padding: 0 1em 0 0.5em; text-align: right; border: none;\">\n",
              "                0.0082\n",
              "                \n",
              "                    &plusmn; 0.0022\n",
              "                \n",
              "            </td>\n",
              "            <td style=\"padding: 0 0.5em 0 0.5em; text-align: left; border: none;\">\n",
              "                country_count_top5\n",
              "            </td>\n",
              "        </tr>\n",
              "    \n",
              "        <tr style=\"background-color: hsl(120, 100.00%, 99.07%); border: none;\">\n",
              "            <td style=\"padding: 0 1em 0 0.5em; text-align: right; border: none;\">\n",
              "                0.0073\n",
              "                \n",
              "                    &plusmn; 0.0027\n",
              "                \n",
              "            </td>\n",
              "            <td style=\"padding: 0 0.5em 0 0.5em; text-align: left; border: none;\">\n",
              "                Hulu\n",
              "            </td>\n",
              "        </tr>\n",
              "    \n",
              "        <tr style=\"background-color: hsl(120, 100.00%, 99.20%); border: none;\">\n",
              "            <td style=\"padding: 0 1em 0 0.5em; text-align: right; border: none;\">\n",
              "                0.0058\n",
              "                \n",
              "                    &plusmn; 0.0019\n",
              "                \n",
              "            </td>\n",
              "            <td style=\"padding: 0 0.5em 0 0.5em; text-align: left; border: none;\">\n",
              "                Netflix\n",
              "            </td>\n",
              "        </tr>\n",
              "    \n",
              "        <tr style=\"background-color: hsl(120, 100.00%, 99.22%); border: none;\">\n",
              "            <td style=\"padding: 0 1em 0 0.5em; text-align: right; border: none;\">\n",
              "                0.0056\n",
              "                \n",
              "                    &plusmn; 0.0013\n",
              "                \n",
              "            </td>\n",
              "            <td style=\"padding: 0 0.5em 0 0.5em; text-align: left; border: none;\">\n",
              "                genre_count_top5\n",
              "            </td>\n",
              "        </tr>\n",
              "    \n",
              "        <tr style=\"background-color: hsl(120, 100.00%, 99.46%); border: none;\">\n",
              "            <td style=\"padding: 0 1em 0 0.5em; text-align: right; border: none;\">\n",
              "                0.0034\n",
              "                \n",
              "                    &plusmn; 0.0015\n",
              "                \n",
              "            </td>\n",
              "            <td style=\"padding: 0 0.5em 0 0.5em; text-align: left; border: none;\">\n",
              "                Disney+\n",
              "            </td>\n",
              "        </tr>\n",
              "    \n",
              "        <tr style=\"background-color: hsl(120, 100.00%, 99.47%); border: none;\">\n",
              "            <td style=\"padding: 0 1em 0 0.5em; text-align: right; border: none;\">\n",
              "                0.0033\n",
              "                \n",
              "                    &plusmn; 0.0022\n",
              "                \n",
              "            </td>\n",
              "            <td style=\"padding: 0 0.5em 0 0.5em; text-align: left; border: none;\">\n",
              "                language_count_top5\n",
              "            </td>\n",
              "        </tr>\n",
              "    \n",
              "        <tr style=\"background-color: hsl(120, 100.00%, 99.96%); border: none;\">\n",
              "            <td style=\"padding: 0 1em 0 0.5em; text-align: right; border: none;\">\n",
              "                0.0001\n",
              "                \n",
              "                    &plusmn; 0.0003\n",
              "                \n",
              "            </td>\n",
              "            <td style=\"padding: 0 0.5em 0 0.5em; text-align: left; border: none;\">\n",
              "                director_count_top10\n",
              "            </td>\n",
              "        </tr>\n",
              "    \n",
              "        <tr style=\"background-color: hsl(0, 100.00%, 100.00%); border: none;\">\n",
              "            <td style=\"padding: 0 1em 0 0.5em; text-align: right; border: none;\">\n",
              "                0\n",
              "                \n",
              "                    &plusmn; 0.0000\n",
              "                \n",
              "            </td>\n",
              "            <td style=\"padding: 0 0.5em 0 0.5em; text-align: left; border: none;\">\n",
              "                language_imdb_top5\n",
              "            </td>\n",
              "        </tr>\n",
              "    \n",
              "        <tr style=\"background-color: hsl(0, 100.00%, 100.00%); border: none;\">\n",
              "            <td style=\"padding: 0 1em 0 0.5em; text-align: right; border: none;\">\n",
              "                0\n",
              "                \n",
              "                    &plusmn; 0.0000\n",
              "                \n",
              "            </td>\n",
              "            <td style=\"padding: 0 0.5em 0 0.5em; text-align: left; border: none;\">\n",
              "                director_imdb_top10\n",
              "            </td>\n",
              "        </tr>\n",
              "    \n",
              "        <tr style=\"background-color: hsl(0, 100.00%, 100.00%); border: none;\">\n",
              "            <td style=\"padding: 0 1em 0 0.5em; text-align: right; border: none;\">\n",
              "                0\n",
              "                \n",
              "                    &plusmn; 0.0000\n",
              "                \n",
              "            </td>\n",
              "            <td style=\"padding: 0 0.5em 0 0.5em; text-align: left; border: none;\">\n",
              "                country_imdb_top5\n",
              "            </td>\n",
              "        </tr>\n",
              "    \n",
              "        <tr style=\"background-color: hsl(0, 100.00%, 100.00%); border: none;\">\n",
              "            <td style=\"padding: 0 1em 0 0.5em; text-align: right; border: none;\">\n",
              "                0\n",
              "                \n",
              "                    &plusmn; 0.0000\n",
              "                \n",
              "            </td>\n",
              "            <td style=\"padding: 0 0.5em 0 0.5em; text-align: left; border: none;\">\n",
              "                Title\n",
              "            </td>\n",
              "        </tr>\n",
              "    \n",
              "    \n",
              "    </tbody>\n",
              "</table>\n",
              "    \n",
              "\n",
              "    \n",
              "\n",
              "\n",
              "    \n",
              "\n",
              "    \n",
              "\n",
              "    \n",
              "\n",
              "    \n",
              "\n",
              "    \n",
              "\n",
              "    \n",
              "\n",
              "\n",
              "\n"
            ]
          },
          "metadata": {},
          "execution_count": 58
        }
      ]
    },
    {
      "cell_type": "code",
      "source": [
        "pip install pdpbox"
      ],
      "metadata": {
        "id": "_L4IiH9w41Sm",
        "colab": {
          "base_uri": "https://localhost:8080/",
          "height": 746
        },
        "outputId": "0d8948dc-44cf-41f2-8c7d-4c03af67d6be"
      },
      "execution_count": null,
      "outputs": [
        {
          "output_type": "stream",
          "name": "stdout",
          "text": [
            "Looking in indexes: https://pypi.org/simple, https://us-python.pkg.dev/colab-wheels/public/simple/\n",
            "Collecting pdpbox\n",
            "  Downloading PDPbox-0.2.1.tar.gz (34.0 MB)\n",
            "\u001b[K     |████████████████████████████████| 34.0 MB 194 kB/s \n",
            "\u001b[?25hRequirement already satisfied: pandas in /usr/local/lib/python3.7/dist-packages (from pdpbox) (1.3.5)\n",
            "Requirement already satisfied: numpy in /usr/local/lib/python3.7/dist-packages (from pdpbox) (1.21.6)\n",
            "Requirement already satisfied: scipy in /usr/local/lib/python3.7/dist-packages (from pdpbox) (1.7.3)\n",
            "Requirement already satisfied: joblib in /usr/local/lib/python3.7/dist-packages (from pdpbox) (1.1.0)\n",
            "Requirement already satisfied: psutil in /usr/local/lib/python3.7/dist-packages (from pdpbox) (5.4.8)\n",
            "Collecting matplotlib==3.1.1\n",
            "  Downloading matplotlib-3.1.1-cp37-cp37m-manylinux1_x86_64.whl (13.1 MB)\n",
            "\u001b[K     |████████████████████████████████| 13.1 MB 11.0 MB/s \n",
            "\u001b[?25hRequirement already satisfied: sklearn in /usr/local/lib/python3.7/dist-packages (from pdpbox) (0.0)\n",
            "Requirement already satisfied: python-dateutil>=2.1 in /usr/local/lib/python3.7/dist-packages (from matplotlib==3.1.1->pdpbox) (2.8.2)\n",
            "Requirement already satisfied: cycler>=0.10 in /usr/local/lib/python3.7/dist-packages (from matplotlib==3.1.1->pdpbox) (0.11.0)\n",
            "Requirement already satisfied: kiwisolver>=1.0.1 in /usr/local/lib/python3.7/dist-packages (from matplotlib==3.1.1->pdpbox) (1.4.4)\n",
            "Requirement already satisfied: pyparsing!=2.0.4,!=2.1.2,!=2.1.6,>=2.0.1 in /usr/local/lib/python3.7/dist-packages (from matplotlib==3.1.1->pdpbox) (3.0.9)\n",
            "Requirement already satisfied: typing-extensions in /usr/local/lib/python3.7/dist-packages (from kiwisolver>=1.0.1->matplotlib==3.1.1->pdpbox) (4.1.1)\n",
            "Requirement already satisfied: six>=1.5 in /usr/local/lib/python3.7/dist-packages (from python-dateutil>=2.1->matplotlib==3.1.1->pdpbox) (1.15.0)\n",
            "Requirement already satisfied: pytz>=2017.3 in /usr/local/lib/python3.7/dist-packages (from pandas->pdpbox) (2022.1)\n",
            "Requirement already satisfied: scikit-learn in /usr/local/lib/python3.7/dist-packages (from sklearn->pdpbox) (1.0.2)\n",
            "Requirement already satisfied: threadpoolctl>=2.0.0 in /usr/local/lib/python3.7/dist-packages (from scikit-learn->sklearn->pdpbox) (3.1.0)\n",
            "Building wheels for collected packages: pdpbox\n",
            "  Building wheel for pdpbox (setup.py) ... \u001b[?25l\u001b[?25hdone\n",
            "  Created wheel for pdpbox: filename=PDPbox-0.2.1-py3-none-any.whl size=35758224 sha256=b612471c8fbf23fe2f16c627eaf443694d1711080380df78ef1b4d27ca894f80\n",
            "  Stored in directory: /root/.cache/pip/wheels/f4/d0/1a/b80035625c53131f52906a6fc4dd690d8efd2bf8af6a4015eb\n",
            "Successfully built pdpbox\n",
            "Installing collected packages: matplotlib, pdpbox\n",
            "  Attempting uninstall: matplotlib\n",
            "    Found existing installation: matplotlib 3.2.2\n",
            "    Uninstalling matplotlib-3.2.2:\n",
            "      Successfully uninstalled matplotlib-3.2.2\n",
            "\u001b[31mERROR: pip's dependency resolver does not currently take into account all the packages that are installed. This behaviour is the source of the following dependency conflicts.\n",
            "albumentations 0.1.12 requires imgaug<0.2.7,>=0.2.5, but you have imgaug 0.2.9 which is incompatible.\u001b[0m\n",
            "Successfully installed matplotlib-3.1.1 pdpbox-0.2.1\n"
          ]
        },
        {
          "output_type": "display_data",
          "data": {
            "application/vnd.colab-display-data+json": {
              "pip_warning": {
                "packages": [
                  "matplotlib",
                  "mpl_toolkits"
                ]
              }
            }
          },
          "metadata": {}
        }
      ]
    },
    {
      "cell_type": "code",
      "source": [
        "from pdpbox.pdp import pdp_isolate, pdp_plot\n",
        "import matplotlib.pyplot as plt\n",
        "X_test_ready.fillna(X_test_ready.mean(), inplace=True)\n",
        "feature = 'IMDb'\n",
        "isolated = pdp_isolate(\n",
        "    model=final, \n",
        "    dataset=X_test_ready, \n",
        "    model_features=X_test_ready.columns, \n",
        "    feature=feature,\n",
        "    grid_type='percentile', # default='percentile', or 'equal'\n",
        "    num_grid_points=10 # default=10\n",
        ")\n",
        "\n",
        "pdp_plot(isolated, feature_name=feature);"
      ],
      "metadata": {
        "id": "Q0NE9YgO43hZ",
        "colab": {
          "base_uri": "https://localhost:8080/",
          "height": 651
        },
        "outputId": "4f4053e2-8f4f-4db4-c882-640f54fb3185"
      },
      "execution_count": null,
      "outputs": [
        {
          "output_type": "stream",
          "name": "stderr",
          "text": [
            "findfont: Font family ['Arial'] not found. Falling back to DejaVu Sans.\n",
            "findfont: Font family ['Arial'] not found. Falling back to DejaVu Sans.\n",
            "findfont: Font family ['Arial'] not found. Falling back to DejaVu Sans.\n",
            "findfont: Font family ['Arial'] not found. Falling back to DejaVu Sans.\n"
          ]
        },
        {
          "output_type": "display_data",
          "data": {
            "text/plain": [
              "<Figure size 1080x684 with 2 Axes>"
            ],
            "image/png": "[encoded data removed]"
          },
          "metadata": {
            "needs_background": "light"
          }
        }
      ]
    }
  ]
}